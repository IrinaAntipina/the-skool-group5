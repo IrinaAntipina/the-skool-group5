{
 "cells": [
  {
   "cell_type": "markdown",
   "id": "ea1dcdb9",
   "metadata": {},
   "source": [
    "# Map with 2022 - 2023 - 2024"
   ]
  },
  {
   "cell_type": "code",
   "execution_count": null,
   "id": "613b3e31",
   "metadata": {
    "vscode": {
     "languageId": "plaintext"
    }
   },
   "outputs": [],
   "source": []
  }
 ],
 "metadata": {
  "language_info": {
   "name": "python"
  }
 },
 "nbformat": 4,
 "nbformat_minor": 5
}
