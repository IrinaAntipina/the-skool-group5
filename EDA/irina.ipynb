{
 "cells": [
  {
   "cell_type": "code",
   "execution_count": 2,
   "id": "fe7d9978",
   "metadata": {},
   "outputs": [
    {
     "data": {
      "text/html": [
       "<div>\n",
       "<style scoped>\n",
       "    .dataframe tbody tr th:only-of-type {\n",
       "        vertical-align: middle;\n",
       "    }\n",
       "\n",
       "    .dataframe tbody tr th {\n",
       "        vertical-align: top;\n",
       "    }\n",
       "\n",
       "    .dataframe thead th {\n",
       "        text-align: right;\n",
       "    }\n",
       "</style>\n",
       "<table border=\"1\" class=\"dataframe\">\n",
       "  <thead>\n",
       "    <tr style=\"text-align: right;\">\n",
       "      <th></th>\n",
       "      <th>Diarienummer</th>\n",
       "      <th>Beslut</th>\n",
       "      <th>Anordnare namn</th>\n",
       "      <th>Utbildningsnamn</th>\n",
       "      <th>Utbildningsområde</th>\n",
       "      <th>Antal beviljade platser start 2024</th>\n",
       "      <th>Antal beviljade platser start och slut 2024</th>\n",
       "      <th>Antal beviljade platser start 2025</th>\n",
       "      <th>Totalt antal beviljade platser</th>\n",
       "      <th>YH-poäng</th>\n",
       "      <th>Kommun</th>\n",
       "      <th>Län</th>\n",
       "      <th>FA-region</th>\n",
       "      <th>Antal kommuner</th>\n",
       "      <th>Antal län</th>\n",
       "      <th>Antal FA-regioner</th>\n",
       "    </tr>\n",
       "  </thead>\n",
       "  <tbody>\n",
       "    <tr>\n",
       "      <th>0</th>\n",
       "      <td>MYH 2024/1000</td>\n",
       "      <td>Avslag</td>\n",
       "      <td>Changemaker Educations AB</td>\n",
       "      <td>Futuregames Accessible Game Production</td>\n",
       "      <td>Juridik</td>\n",
       "      <td>0</td>\n",
       "      <td>0</td>\n",
       "      <td>0</td>\n",
       "      <td>0</td>\n",
       "      <td>25</td>\n",
       "      <td>Se \"Lista flera kommuner\"</td>\n",
       "      <td>Se \"Lista flera kommuner\"</td>\n",
       "      <td>Se \"Lista flera kommuner\"</td>\n",
       "      <td>3</td>\n",
       "      <td>3</td>\n",
       "      <td>3</td>\n",
       "    </tr>\n",
       "    <tr>\n",
       "      <th>1</th>\n",
       "      <td>MYH 2024/1001</td>\n",
       "      <td>Avslag</td>\n",
       "      <td>Changemaker Educations AB</td>\n",
       "      <td>Futuregames Inclusive Game Development</td>\n",
       "      <td>Ekonomi, administration och försäljning</td>\n",
       "      <td>0</td>\n",
       "      <td>0</td>\n",
       "      <td>0</td>\n",
       "      <td>0</td>\n",
       "      <td>25</td>\n",
       "      <td>Se \"Lista flera kommuner\"</td>\n",
       "      <td>Se \"Lista flera kommuner\"</td>\n",
       "      <td>Se \"Lista flera kommuner\"</td>\n",
       "      <td>3</td>\n",
       "      <td>3</td>\n",
       "      <td>3</td>\n",
       "    </tr>\n",
       "    <tr>\n",
       "      <th>2</th>\n",
       "      <td>MYH 2024/1002</td>\n",
       "      <td>Avslag</td>\n",
       "      <td>Båstads kommun Akademi Båstad</td>\n",
       "      <td>Ekosystemtjänster i praktiken</td>\n",
       "      <td>Lantbruk, djurvård, trädgård, skog och fiske</td>\n",
       "      <td>0</td>\n",
       "      <td>0</td>\n",
       "      <td>0</td>\n",
       "      <td>0</td>\n",
       "      <td>50</td>\n",
       "      <td>Båstad</td>\n",
       "      <td>Skåne</td>\n",
       "      <td>Malmö-Lund</td>\n",
       "      <td>1</td>\n",
       "      <td>1</td>\n",
       "      <td>1</td>\n",
       "    </tr>\n",
       "    <tr>\n",
       "      <th>3</th>\n",
       "      <td>MYH 2024/1003</td>\n",
       "      <td>Avslag</td>\n",
       "      <td>Båstads kommun Akademi Båstad</td>\n",
       "      <td>Hållbar dagvattenhantering i praktiken</td>\n",
       "      <td>Lantbruk, djurvård, trädgård, skog och fiske</td>\n",
       "      <td>0</td>\n",
       "      <td>0</td>\n",
       "      <td>0</td>\n",
       "      <td>0</td>\n",
       "      <td>50</td>\n",
       "      <td>Båstad</td>\n",
       "      <td>Skåne</td>\n",
       "      <td>Malmö-Lund</td>\n",
       "      <td>1</td>\n",
       "      <td>1</td>\n",
       "      <td>1</td>\n",
       "    </tr>\n",
       "    <tr>\n",
       "      <th>4</th>\n",
       "      <td>MYH 2024/1004</td>\n",
       "      <td>Avslag</td>\n",
       "      <td>Båstads kommun Akademi Båstad</td>\n",
       "      <td>Invasiva växter i utemiljöer</td>\n",
       "      <td>Lantbruk, djurvård, trädgård, skog och fiske</td>\n",
       "      <td>0</td>\n",
       "      <td>0</td>\n",
       "      <td>0</td>\n",
       "      <td>0</td>\n",
       "      <td>25</td>\n",
       "      <td>Båstad</td>\n",
       "      <td>Skåne</td>\n",
       "      <td>Malmö-Lund</td>\n",
       "      <td>1</td>\n",
       "      <td>1</td>\n",
       "      <td>1</td>\n",
       "    </tr>\n",
       "    <tr>\n",
       "      <th>5</th>\n",
       "      <td>MYH 2024/1006</td>\n",
       "      <td>Avslag</td>\n",
       "      <td>Stiftelsen Stockholms Tekniska Institut</td>\n",
       "      <td>Infrastrukturplanering och strategi</td>\n",
       "      <td>Samhällsbyggnad och byggteknik</td>\n",
       "      <td>0</td>\n",
       "      <td>0</td>\n",
       "      <td>0</td>\n",
       "      <td>0</td>\n",
       "      <td>50</td>\n",
       "      <td>Stockholm</td>\n",
       "      <td>Stockholm</td>\n",
       "      <td>Stockholm</td>\n",
       "      <td>1</td>\n",
       "      <td>1</td>\n",
       "      <td>1</td>\n",
       "    </tr>\n",
       "    <tr>\n",
       "      <th>6</th>\n",
       "      <td>MYH 2024/1007</td>\n",
       "      <td>Avslag</td>\n",
       "      <td>Plushögskolan AB - Affärshögskolan</td>\n",
       "      <td>Hållbara inköps- och upphandlingsprocesser</td>\n",
       "      <td>Ekonomi, administration och försäljning</td>\n",
       "      <td>0</td>\n",
       "      <td>0</td>\n",
       "      <td>0</td>\n",
       "      <td>0</td>\n",
       "      <td>45</td>\n",
       "      <td>Se \"Lista flera kommuner\"</td>\n",
       "      <td>Se \"Lista flera kommuner\"</td>\n",
       "      <td>Se \"Lista flera kommuner\"</td>\n",
       "      <td>5</td>\n",
       "      <td>5</td>\n",
       "      <td>5</td>\n",
       "    </tr>\n",
       "    <tr>\n",
       "      <th>7</th>\n",
       "      <td>MYH 2024/1009</td>\n",
       "      <td>Beviljad</td>\n",
       "      <td>Plushögskolan AB - Affärshögskolan</td>\n",
       "      <td>Strategisk hållbarhetsutveckling</td>\n",
       "      <td>Ekonomi, administration och försäljning</td>\n",
       "      <td>50</td>\n",
       "      <td>0</td>\n",
       "      <td>50</td>\n",
       "      <td>100</td>\n",
       "      <td>45</td>\n",
       "      <td>Se \"Lista flera kommuner\"</td>\n",
       "      <td>Se \"Lista flera kommuner\"</td>\n",
       "      <td>Se \"Lista flera kommuner\"</td>\n",
       "      <td>4</td>\n",
       "      <td>4</td>\n",
       "      <td>4</td>\n",
       "    </tr>\n",
       "    <tr>\n",
       "      <th>8</th>\n",
       "      <td>MYH 2024/1010</td>\n",
       "      <td>Beviljad</td>\n",
       "      <td>IHM Business School AB Göteborg</td>\n",
       "      <td>Social media marketing</td>\n",
       "      <td>Ekonomi, administration och försäljning</td>\n",
       "      <td>50</td>\n",
       "      <td>0</td>\n",
       "      <td>50</td>\n",
       "      <td>100</td>\n",
       "      <td>40</td>\n",
       "      <td>Göteborg</td>\n",
       "      <td>Västra Götaland</td>\n",
       "      <td>Göteborg</td>\n",
       "      <td>1</td>\n",
       "      <td>1</td>\n",
       "      <td>1</td>\n",
       "    </tr>\n",
       "    <tr>\n",
       "      <th>9</th>\n",
       "      <td>MYH 2024/1014</td>\n",
       "      <td>Avslag</td>\n",
       "      <td>Campus Varberg/Varbergs kommun</td>\n",
       "      <td>AI i praktiken</td>\n",
       "      <td>Data/IT</td>\n",
       "      <td>0</td>\n",
       "      <td>0</td>\n",
       "      <td>0</td>\n",
       "      <td>0</td>\n",
       "      <td>25</td>\n",
       "      <td>Varberg</td>\n",
       "      <td>Halland</td>\n",
       "      <td>Göteborg</td>\n",
       "      <td>1</td>\n",
       "      <td>1</td>\n",
       "      <td>1</td>\n",
       "    </tr>\n",
       "    <tr>\n",
       "      <th>10</th>\n",
       "      <td>MYH 2024/1015</td>\n",
       "      <td>Avslag</td>\n",
       "      <td>Västra Götalands läns landsting, Biologiska Yr...</td>\n",
       "      <td>Vattenhushållning i livsmedelsproduktionen.</td>\n",
       "      <td>Lantbruk, djurvård, trädgård, skog och fiske</td>\n",
       "      <td>0</td>\n",
       "      <td>0</td>\n",
       "      <td>0</td>\n",
       "      <td>0</td>\n",
       "      <td>40</td>\n",
       "      <td>Skara</td>\n",
       "      <td>Västra Götaland</td>\n",
       "      <td>Skövde-Skara</td>\n",
       "      <td>1</td>\n",
       "      <td>1</td>\n",
       "      <td>1</td>\n",
       "    </tr>\n",
       "    <tr>\n",
       "      <th>11</th>\n",
       "      <td>MYH 2024/1016</td>\n",
       "      <td>Beviljad</td>\n",
       "      <td>Plushögskolan AB - Vårdyrkeshögskolan</td>\n",
       "      <td>E-hälsa, digitalisering och välfärdsteknik ino...</td>\n",
       "      <td>Hälso- och sjukvård samt socialt arbete</td>\n",
       "      <td>0</td>\n",
       "      <td>50</td>\n",
       "      <td>0</td>\n",
       "      <td>50</td>\n",
       "      <td>50</td>\n",
       "      <td>Se \"Lista flera kommuner\"</td>\n",
       "      <td>Se \"Lista flera kommuner\"</td>\n",
       "      <td>Se \"Lista flera kommuner\"</td>\n",
       "      <td>5</td>\n",
       "      <td>4</td>\n",
       "      <td>5</td>\n",
       "    </tr>\n",
       "    <tr>\n",
       "      <th>12</th>\n",
       "      <td>MYH 2024/1017</td>\n",
       "      <td>Beviljad</td>\n",
       "      <td>Hyper Island Program AB - Karlskrona</td>\n",
       "      <td>Sustainability Change Leadership</td>\n",
       "      <td>Ekonomi, administration och försäljning</td>\n",
       "      <td>55</td>\n",
       "      <td>0</td>\n",
       "      <td>55</td>\n",
       "      <td>110</td>\n",
       "      <td>55</td>\n",
       "      <td>Se \"Lista flera kommuner\"</td>\n",
       "      <td>Se \"Lista flera kommuner\"</td>\n",
       "      <td>Se \"Lista flera kommuner\"</td>\n",
       "      <td>2</td>\n",
       "      <td>2</td>\n",
       "      <td>2</td>\n",
       "    </tr>\n",
       "    <tr>\n",
       "      <th>13</th>\n",
       "      <td>MYH 2024/1018</td>\n",
       "      <td>Beviljad</td>\n",
       "      <td>Plushögskolan AB - Affärshögskolan</td>\n",
       "      <td>Digitalisering och systemkunskap inom lön - Sp...</td>\n",
       "      <td>Ekonomi, administration och försäljning</td>\n",
       "      <td>50</td>\n",
       "      <td>0</td>\n",
       "      <td>50</td>\n",
       "      <td>100</td>\n",
       "      <td>30</td>\n",
       "      <td>Gävle</td>\n",
       "      <td>Gävleborg</td>\n",
       "      <td>Gävle</td>\n",
       "      <td>1</td>\n",
       "      <td>1</td>\n",
       "      <td>1</td>\n",
       "    </tr>\n",
       "    <tr>\n",
       "      <th>14</th>\n",
       "      <td>MYH 2024/1019</td>\n",
       "      <td>Beviljad</td>\n",
       "      <td>Plushögskolan AB - Vårdyrkeshögskolan</td>\n",
       "      <td>Psykisk hälsa och suicidprevention</td>\n",
       "      <td>Hälso- och sjukvård samt socialt arbete</td>\n",
       "      <td>0</td>\n",
       "      <td>50</td>\n",
       "      <td>0</td>\n",
       "      <td>50</td>\n",
       "      <td>30</td>\n",
       "      <td>Se \"Lista flera kommuner\"</td>\n",
       "      <td>Se \"Lista flera kommuner\"</td>\n",
       "      <td>Se \"Lista flera kommuner\"</td>\n",
       "      <td>5</td>\n",
       "      <td>5</td>\n",
       "      <td>5</td>\n",
       "    </tr>\n",
       "    <tr>\n",
       "      <th>15</th>\n",
       "      <td>MYH 2024/1020</td>\n",
       "      <td>Beviljad</td>\n",
       "      <td>Plushögskolan AB - Vårdyrkeshögskolan</td>\n",
       "      <td>Psykisk ohälsa hos äldre</td>\n",
       "      <td>Hälso- och sjukvård samt socialt arbete</td>\n",
       "      <td>50</td>\n",
       "      <td>0</td>\n",
       "      <td>50</td>\n",
       "      <td>100</td>\n",
       "      <td>60</td>\n",
       "      <td>Se \"Lista flera kommuner\"</td>\n",
       "      <td>Se \"Lista flera kommuner\"</td>\n",
       "      <td>Se \"Lista flera kommuner\"</td>\n",
       "      <td>5</td>\n",
       "      <td>5</td>\n",
       "      <td>5</td>\n",
       "    </tr>\n",
       "    <tr>\n",
       "      <th>16</th>\n",
       "      <td>MYH 2024/1021</td>\n",
       "      <td>Avslag</td>\n",
       "      <td>Plushögskolan AB - Vårdyrkeshögskolan</td>\n",
       "      <td>SRHR och funktionsnedsättning</td>\n",
       "      <td>Hälso- och sjukvård samt socialt arbete</td>\n",
       "      <td>0</td>\n",
       "      <td>0</td>\n",
       "      <td>0</td>\n",
       "      <td>0</td>\n",
       "      <td>50</td>\n",
       "      <td>Se \"Lista flera kommuner\"</td>\n",
       "      <td>Se \"Lista flera kommuner\"</td>\n",
       "      <td>Se \"Lista flera kommuner\"</td>\n",
       "      <td>3</td>\n",
       "      <td>3</td>\n",
       "      <td>3</td>\n",
       "    </tr>\n",
       "    <tr>\n",
       "      <th>17</th>\n",
       "      <td>MYH 2024/1022</td>\n",
       "      <td>Beviljad</td>\n",
       "      <td>Nackademin AB</td>\n",
       "      <td>BIM verktyg: Punktmolnsmodellering och Virtual...</td>\n",
       "      <td>Samhällsbyggnad och byggteknik</td>\n",
       "      <td>32</td>\n",
       "      <td>0</td>\n",
       "      <td>32</td>\n",
       "      <td>64</td>\n",
       "      <td>20</td>\n",
       "      <td>Solna</td>\n",
       "      <td>Stockholm</td>\n",
       "      <td>Stockholm</td>\n",
       "      <td>1</td>\n",
       "      <td>1</td>\n",
       "      <td>1</td>\n",
       "    </tr>\n",
       "    <tr>\n",
       "      <th>18</th>\n",
       "      <td>MYH 2024/1023</td>\n",
       "      <td>Beviljad</td>\n",
       "      <td>Plushögskolan AB - Vårdyrkeshögskolan</td>\n",
       "      <td>Funktionsnedsättningar och samsjuklighet</td>\n",
       "      <td>Hälso- och sjukvård samt socialt arbete</td>\n",
       "      <td>0</td>\n",
       "      <td>70</td>\n",
       "      <td>0</td>\n",
       "      <td>70</td>\n",
       "      <td>30</td>\n",
       "      <td>Se \"Lista flera kommuner\"</td>\n",
       "      <td>Se \"Lista flera kommuner\"</td>\n",
       "      <td>Se \"Lista flera kommuner\"</td>\n",
       "      <td>4</td>\n",
       "      <td>4</td>\n",
       "      <td>4</td>\n",
       "    </tr>\n",
       "    <tr>\n",
       "      <th>19</th>\n",
       "      <td>MYH 2024/1024</td>\n",
       "      <td>Beviljad</td>\n",
       "      <td>Plushögskolan AB - Vårdyrkeshögskolan</td>\n",
       "      <td>Missbruk och beroende</td>\n",
       "      <td>Hälso- och sjukvård samt socialt arbete</td>\n",
       "      <td>50</td>\n",
       "      <td>0</td>\n",
       "      <td>50</td>\n",
       "      <td>100</td>\n",
       "      <td>30</td>\n",
       "      <td>Se \"Lista flera kommuner\"</td>\n",
       "      <td>Se \"Lista flera kommuner\"</td>\n",
       "      <td>Se \"Lista flera kommuner\"</td>\n",
       "      <td>5</td>\n",
       "      <td>5</td>\n",
       "      <td>5</td>\n",
       "    </tr>\n",
       "    <tr>\n",
       "      <th>20</th>\n",
       "      <td>MYH 2024/1025</td>\n",
       "      <td>Beviljad</td>\n",
       "      <td>Nackademin AB</td>\n",
       "      <td>BIM-verktyg: Parametrisk design och programmer...</td>\n",
       "      <td>Samhällsbyggnad och byggteknik</td>\n",
       "      <td>32</td>\n",
       "      <td>0</td>\n",
       "      <td>32</td>\n",
       "      <td>64</td>\n",
       "      <td>20</td>\n",
       "      <td>Solna</td>\n",
       "      <td>Stockholm</td>\n",
       "      <td>Stockholm</td>\n",
       "      <td>1</td>\n",
       "      <td>1</td>\n",
       "      <td>1</td>\n",
       "    </tr>\n",
       "    <tr>\n",
       "      <th>21</th>\n",
       "      <td>MYH 2024/1026</td>\n",
       "      <td>Beviljad</td>\n",
       "      <td>Nackademin AB</td>\n",
       "      <td>Cirkulärt byggande och återbruk</td>\n",
       "      <td>Samhällsbyggnad och byggteknik</td>\n",
       "      <td>45</td>\n",
       "      <td>0</td>\n",
       "      <td>45</td>\n",
       "      <td>90</td>\n",
       "      <td>30</td>\n",
       "      <td>Solna</td>\n",
       "      <td>Stockholm</td>\n",
       "      <td>Stockholm</td>\n",
       "      <td>1</td>\n",
       "      <td>1</td>\n",
       "      <td>1</td>\n",
       "    </tr>\n",
       "    <tr>\n",
       "      <th>22</th>\n",
       "      <td>MYH 2024/1027</td>\n",
       "      <td>Beviljad</td>\n",
       "      <td>Plushögskolan AB - Vårdyrkeshögskolan</td>\n",
       "      <td>Mikrobiologi och vårdhygien</td>\n",
       "      <td>Hälso- och sjukvård samt socialt arbete</td>\n",
       "      <td>0</td>\n",
       "      <td>50</td>\n",
       "      <td>0</td>\n",
       "      <td>50</td>\n",
       "      <td>30</td>\n",
       "      <td>Se \"Lista flera kommuner\"</td>\n",
       "      <td>Se \"Lista flera kommuner\"</td>\n",
       "      <td>Se \"Lista flera kommuner\"</td>\n",
       "      <td>3</td>\n",
       "      <td>3</td>\n",
       "      <td>3</td>\n",
       "    </tr>\n",
       "    <tr>\n",
       "      <th>23</th>\n",
       "      <td>MYH 2024/1028</td>\n",
       "      <td>Avslag</td>\n",
       "      <td>Plushögskolan AB - Vårdyrkeshögskolan</td>\n",
       "      <td>Omvårdnad vid hjärt-kärlsjukdomar</td>\n",
       "      <td>Hälso- och sjukvård samt socialt arbete</td>\n",
       "      <td>0</td>\n",
       "      <td>0</td>\n",
       "      <td>0</td>\n",
       "      <td>0</td>\n",
       "      <td>50</td>\n",
       "      <td>Se \"Lista flera kommuner\"</td>\n",
       "      <td>Se \"Lista flera kommuner\"</td>\n",
       "      <td>Se \"Lista flera kommuner\"</td>\n",
       "      <td>4</td>\n",
       "      <td>4</td>\n",
       "      <td>4</td>\n",
       "    </tr>\n",
       "    <tr>\n",
       "      <th>24</th>\n",
       "      <td>MYH 2024/1029</td>\n",
       "      <td>Beviljad</td>\n",
       "      <td>Nackademin AB</td>\n",
       "      <td>Cloud Fundamentals</td>\n",
       "      <td>Data/IT</td>\n",
       "      <td>40</td>\n",
       "      <td>0</td>\n",
       "      <td>40</td>\n",
       "      <td>80</td>\n",
       "      <td>20</td>\n",
       "      <td>Solna</td>\n",
       "      <td>Stockholm</td>\n",
       "      <td>Stockholm</td>\n",
       "      <td>1</td>\n",
       "      <td>1</td>\n",
       "      <td>1</td>\n",
       "    </tr>\n",
       "    <tr>\n",
       "      <th>25</th>\n",
       "      <td>MYH 2024/1030</td>\n",
       "      <td>Beviljad</td>\n",
       "      <td>Nackademin AB</td>\n",
       "      <td>Cyber Security</td>\n",
       "      <td>Data/IT</td>\n",
       "      <td>40</td>\n",
       "      <td>0</td>\n",
       "      <td>40</td>\n",
       "      <td>80</td>\n",
       "      <td>30</td>\n",
       "      <td>Solna</td>\n",
       "      <td>Stockholm</td>\n",
       "      <td>Stockholm</td>\n",
       "      <td>1</td>\n",
       "      <td>1</td>\n",
       "      <td>1</td>\n",
       "    </tr>\n",
       "    <tr>\n",
       "      <th>26</th>\n",
       "      <td>MYH 2024/1031</td>\n",
       "      <td>Beviljad</td>\n",
       "      <td>Landskrona Stad, Yrkeshögskolan Landskrona</td>\n",
       "      <td>Funktionsnedsättningar i ett helhetsperspektiv</td>\n",
       "      <td>Hälso- och sjukvård samt socialt arbete</td>\n",
       "      <td>25</td>\n",
       "      <td>0</td>\n",
       "      <td>0</td>\n",
       "      <td>25</td>\n",
       "      <td>50</td>\n",
       "      <td>Landskrona</td>\n",
       "      <td>Skåne</td>\n",
       "      <td>Malmö-Lund</td>\n",
       "      <td>1</td>\n",
       "      <td>1</td>\n",
       "      <td>1</td>\n",
       "    </tr>\n",
       "    <tr>\n",
       "      <th>27</th>\n",
       "      <td>MYH 2024/1032</td>\n",
       "      <td>Beviljad</td>\n",
       "      <td>Nackademin AB</td>\n",
       "      <td>Energioptimering och förnybara energikällor</td>\n",
       "      <td>Samhällsbyggnad och byggteknik</td>\n",
       "      <td>0</td>\n",
       "      <td>35</td>\n",
       "      <td>0</td>\n",
       "      <td>35</td>\n",
       "      <td>30</td>\n",
       "      <td>Solna</td>\n",
       "      <td>Stockholm</td>\n",
       "      <td>Stockholm</td>\n",
       "      <td>1</td>\n",
       "      <td>1</td>\n",
       "      <td>1</td>\n",
       "    </tr>\n",
       "    <tr>\n",
       "      <th>28</th>\n",
       "      <td>MYH 2024/1033</td>\n",
       "      <td>Beviljad</td>\n",
       "      <td>Nackademin AB</td>\n",
       "      <td>Fördjupning i relationsdatabaser för utvecklare</td>\n",
       "      <td>Data/IT</td>\n",
       "      <td>0</td>\n",
       "      <td>30</td>\n",
       "      <td>0</td>\n",
       "      <td>30</td>\n",
       "      <td>25</td>\n",
       "      <td>Solna</td>\n",
       "      <td>Stockholm</td>\n",
       "      <td>Stockholm</td>\n",
       "      <td>1</td>\n",
       "      <td>1</td>\n",
       "      <td>1</td>\n",
       "    </tr>\n",
       "    <tr>\n",
       "      <th>29</th>\n",
       "      <td>MYH 2024/1034</td>\n",
       "      <td>Beviljad</td>\n",
       "      <td>Nackademin AB</td>\n",
       "      <td>Inkluderande UX-design</td>\n",
       "      <td>Data/IT</td>\n",
       "      <td>0</td>\n",
       "      <td>40</td>\n",
       "      <td>0</td>\n",
       "      <td>40</td>\n",
       "      <td>20</td>\n",
       "      <td>Solna</td>\n",
       "      <td>Stockholm</td>\n",
       "      <td>Stockholm</td>\n",
       "      <td>1</td>\n",
       "      <td>1</td>\n",
       "      <td>1</td>\n",
       "    </tr>\n",
       "  </tbody>\n",
       "</table>\n",
       "</div>"
      ],
      "text/plain": [
       "     Diarienummer    Beslut  \\\n",
       "0   MYH 2024/1000    Avslag   \n",
       "1   MYH 2024/1001    Avslag   \n",
       "2   MYH 2024/1002    Avslag   \n",
       "3   MYH 2024/1003    Avslag   \n",
       "4   MYH 2024/1004    Avslag   \n",
       "5   MYH 2024/1006    Avslag   \n",
       "6   MYH 2024/1007    Avslag   \n",
       "7   MYH 2024/1009  Beviljad   \n",
       "8   MYH 2024/1010  Beviljad   \n",
       "9   MYH 2024/1014    Avslag   \n",
       "10  MYH 2024/1015    Avslag   \n",
       "11  MYH 2024/1016  Beviljad   \n",
       "12  MYH 2024/1017  Beviljad   \n",
       "13  MYH 2024/1018  Beviljad   \n",
       "14  MYH 2024/1019  Beviljad   \n",
       "15  MYH 2024/1020  Beviljad   \n",
       "16  MYH 2024/1021    Avslag   \n",
       "17  MYH 2024/1022  Beviljad   \n",
       "18  MYH 2024/1023  Beviljad   \n",
       "19  MYH 2024/1024  Beviljad   \n",
       "20  MYH 2024/1025  Beviljad   \n",
       "21  MYH 2024/1026  Beviljad   \n",
       "22  MYH 2024/1027  Beviljad   \n",
       "23  MYH 2024/1028    Avslag   \n",
       "24  MYH 2024/1029  Beviljad   \n",
       "25  MYH 2024/1030  Beviljad   \n",
       "26  MYH 2024/1031  Beviljad   \n",
       "27  MYH 2024/1032  Beviljad   \n",
       "28  MYH 2024/1033  Beviljad   \n",
       "29  MYH 2024/1034  Beviljad   \n",
       "\n",
       "                                       Anordnare namn  \\\n",
       "0                           Changemaker Educations AB   \n",
       "1                           Changemaker Educations AB   \n",
       "2                       Båstads kommun Akademi Båstad   \n",
       "3                       Båstads kommun Akademi Båstad   \n",
       "4                       Båstads kommun Akademi Båstad   \n",
       "5             Stiftelsen Stockholms Tekniska Institut   \n",
       "6                  Plushögskolan AB - Affärshögskolan   \n",
       "7                  Plushögskolan AB - Affärshögskolan   \n",
       "8                     IHM Business School AB Göteborg   \n",
       "9                      Campus Varberg/Varbergs kommun   \n",
       "10  Västra Götalands läns landsting, Biologiska Yr...   \n",
       "11              Plushögskolan AB - Vårdyrkeshögskolan   \n",
       "12               Hyper Island Program AB - Karlskrona   \n",
       "13                 Plushögskolan AB - Affärshögskolan   \n",
       "14              Plushögskolan AB - Vårdyrkeshögskolan   \n",
       "15              Plushögskolan AB - Vårdyrkeshögskolan   \n",
       "16              Plushögskolan AB - Vårdyrkeshögskolan   \n",
       "17                                      Nackademin AB   \n",
       "18              Plushögskolan AB - Vårdyrkeshögskolan   \n",
       "19              Plushögskolan AB - Vårdyrkeshögskolan   \n",
       "20                                      Nackademin AB   \n",
       "21                                      Nackademin AB   \n",
       "22              Plushögskolan AB - Vårdyrkeshögskolan   \n",
       "23              Plushögskolan AB - Vårdyrkeshögskolan   \n",
       "24                                      Nackademin AB   \n",
       "25                                      Nackademin AB   \n",
       "26         Landskrona Stad, Yrkeshögskolan Landskrona   \n",
       "27                                      Nackademin AB   \n",
       "28                                      Nackademin AB   \n",
       "29                                      Nackademin AB   \n",
       "\n",
       "                                      Utbildningsnamn  \\\n",
       "0             Futuregames Accessible Game Production    \n",
       "1              Futuregames Inclusive Game Development   \n",
       "2                       Ekosystemtjänster i praktiken   \n",
       "3              Hållbar dagvattenhantering i praktiken   \n",
       "4                        Invasiva växter i utemiljöer   \n",
       "5                 Infrastrukturplanering och strategi   \n",
       "6          Hållbara inköps- och upphandlingsprocesser   \n",
       "7                    Strategisk hållbarhetsutveckling   \n",
       "8                              Social media marketing   \n",
       "9                                      AI i praktiken   \n",
       "10        Vattenhushållning i livsmedelsproduktionen.   \n",
       "11  E-hälsa, digitalisering och välfärdsteknik ino...   \n",
       "12                   Sustainability Change Leadership   \n",
       "13  Digitalisering och systemkunskap inom lön - Sp...   \n",
       "14                 Psykisk hälsa och suicidprevention   \n",
       "15                           Psykisk ohälsa hos äldre   \n",
       "16                      SRHR och funktionsnedsättning   \n",
       "17  BIM verktyg: Punktmolnsmodellering och Virtual...   \n",
       "18           Funktionsnedsättningar och samsjuklighet   \n",
       "19                              Missbruk och beroende   \n",
       "20  BIM-verktyg: Parametrisk design och programmer...   \n",
       "21                   Cirkulärt byggande och återbruk    \n",
       "22                        Mikrobiologi och vårdhygien   \n",
       "23                  Omvårdnad vid hjärt-kärlsjukdomar   \n",
       "24                                 Cloud Fundamentals   \n",
       "25                                     Cyber Security   \n",
       "26     Funktionsnedsättningar i ett helhetsperspektiv   \n",
       "27        Energioptimering och förnybara energikällor   \n",
       "28    Fördjupning i relationsdatabaser för utvecklare   \n",
       "29                             Inkluderande UX-design   \n",
       "\n",
       "                               Utbildningsområde  \\\n",
       "0                                        Juridik   \n",
       "1        Ekonomi, administration och försäljning   \n",
       "2   Lantbruk, djurvård, trädgård, skog och fiske   \n",
       "3   Lantbruk, djurvård, trädgård, skog och fiske   \n",
       "4   Lantbruk, djurvård, trädgård, skog och fiske   \n",
       "5                 Samhällsbyggnad och byggteknik   \n",
       "6        Ekonomi, administration och försäljning   \n",
       "7        Ekonomi, administration och försäljning   \n",
       "8        Ekonomi, administration och försäljning   \n",
       "9                                        Data/IT   \n",
       "10  Lantbruk, djurvård, trädgård, skog och fiske   \n",
       "11       Hälso- och sjukvård samt socialt arbete   \n",
       "12       Ekonomi, administration och försäljning   \n",
       "13       Ekonomi, administration och försäljning   \n",
       "14       Hälso- och sjukvård samt socialt arbete   \n",
       "15       Hälso- och sjukvård samt socialt arbete   \n",
       "16       Hälso- och sjukvård samt socialt arbete   \n",
       "17                Samhällsbyggnad och byggteknik   \n",
       "18       Hälso- och sjukvård samt socialt arbete   \n",
       "19       Hälso- och sjukvård samt socialt arbete   \n",
       "20                Samhällsbyggnad och byggteknik   \n",
       "21                Samhällsbyggnad och byggteknik   \n",
       "22       Hälso- och sjukvård samt socialt arbete   \n",
       "23       Hälso- och sjukvård samt socialt arbete   \n",
       "24                                       Data/IT   \n",
       "25                                       Data/IT   \n",
       "26       Hälso- och sjukvård samt socialt arbete   \n",
       "27                Samhällsbyggnad och byggteknik   \n",
       "28                                       Data/IT   \n",
       "29                                       Data/IT   \n",
       "\n",
       "    Antal beviljade platser start 2024  \\\n",
       "0                                    0   \n",
       "1                                    0   \n",
       "2                                    0   \n",
       "3                                    0   \n",
       "4                                    0   \n",
       "5                                    0   \n",
       "6                                    0   \n",
       "7                                   50   \n",
       "8                                   50   \n",
       "9                                    0   \n",
       "10                                   0   \n",
       "11                                   0   \n",
       "12                                  55   \n",
       "13                                  50   \n",
       "14                                   0   \n",
       "15                                  50   \n",
       "16                                   0   \n",
       "17                                  32   \n",
       "18                                   0   \n",
       "19                                  50   \n",
       "20                                  32   \n",
       "21                                  45   \n",
       "22                                   0   \n",
       "23                                   0   \n",
       "24                                  40   \n",
       "25                                  40   \n",
       "26                                  25   \n",
       "27                                   0   \n",
       "28                                   0   \n",
       "29                                   0   \n",
       "\n",
       "    Antal beviljade platser start och slut 2024  \\\n",
       "0                                             0   \n",
       "1                                             0   \n",
       "2                                             0   \n",
       "3                                             0   \n",
       "4                                             0   \n",
       "5                                             0   \n",
       "6                                             0   \n",
       "7                                             0   \n",
       "8                                             0   \n",
       "9                                             0   \n",
       "10                                            0   \n",
       "11                                           50   \n",
       "12                                            0   \n",
       "13                                            0   \n",
       "14                                           50   \n",
       "15                                            0   \n",
       "16                                            0   \n",
       "17                                            0   \n",
       "18                                           70   \n",
       "19                                            0   \n",
       "20                                            0   \n",
       "21                                            0   \n",
       "22                                           50   \n",
       "23                                            0   \n",
       "24                                            0   \n",
       "25                                            0   \n",
       "26                                            0   \n",
       "27                                           35   \n",
       "28                                           30   \n",
       "29                                           40   \n",
       "\n",
       "    Antal beviljade platser start 2025  Totalt antal beviljade platser  \\\n",
       "0                                    0                               0   \n",
       "1                                    0                               0   \n",
       "2                                    0                               0   \n",
       "3                                    0                               0   \n",
       "4                                    0                               0   \n",
       "5                                    0                               0   \n",
       "6                                    0                               0   \n",
       "7                                   50                             100   \n",
       "8                                   50                             100   \n",
       "9                                    0                               0   \n",
       "10                                   0                               0   \n",
       "11                                   0                              50   \n",
       "12                                  55                             110   \n",
       "13                                  50                             100   \n",
       "14                                   0                              50   \n",
       "15                                  50                             100   \n",
       "16                                   0                               0   \n",
       "17                                  32                              64   \n",
       "18                                   0                              70   \n",
       "19                                  50                             100   \n",
       "20                                  32                              64   \n",
       "21                                  45                              90   \n",
       "22                                   0                              50   \n",
       "23                                   0                               0   \n",
       "24                                  40                              80   \n",
       "25                                  40                              80   \n",
       "26                                   0                              25   \n",
       "27                                   0                              35   \n",
       "28                                   0                              30   \n",
       "29                                   0                              40   \n",
       "\n",
       "    YH-poäng                     Kommun                        Län  \\\n",
       "0         25  Se \"Lista flera kommuner\"  Se \"Lista flera kommuner\"   \n",
       "1         25  Se \"Lista flera kommuner\"  Se \"Lista flera kommuner\"   \n",
       "2         50                     Båstad                      Skåne   \n",
       "3         50                     Båstad                      Skåne   \n",
       "4         25                     Båstad                      Skåne   \n",
       "5         50                  Stockholm                  Stockholm   \n",
       "6         45  Se \"Lista flera kommuner\"  Se \"Lista flera kommuner\"   \n",
       "7         45  Se \"Lista flera kommuner\"  Se \"Lista flera kommuner\"   \n",
       "8         40                   Göteborg            Västra Götaland   \n",
       "9         25                    Varberg                    Halland   \n",
       "10        40                      Skara            Västra Götaland   \n",
       "11        50  Se \"Lista flera kommuner\"  Se \"Lista flera kommuner\"   \n",
       "12        55  Se \"Lista flera kommuner\"  Se \"Lista flera kommuner\"   \n",
       "13        30                      Gävle                  Gävleborg   \n",
       "14        30  Se \"Lista flera kommuner\"  Se \"Lista flera kommuner\"   \n",
       "15        60  Se \"Lista flera kommuner\"  Se \"Lista flera kommuner\"   \n",
       "16        50  Se \"Lista flera kommuner\"  Se \"Lista flera kommuner\"   \n",
       "17        20                      Solna                  Stockholm   \n",
       "18        30  Se \"Lista flera kommuner\"  Se \"Lista flera kommuner\"   \n",
       "19        30  Se \"Lista flera kommuner\"  Se \"Lista flera kommuner\"   \n",
       "20        20                      Solna                  Stockholm   \n",
       "21        30                      Solna                  Stockholm   \n",
       "22        30  Se \"Lista flera kommuner\"  Se \"Lista flera kommuner\"   \n",
       "23        50  Se \"Lista flera kommuner\"  Se \"Lista flera kommuner\"   \n",
       "24        20                      Solna                  Stockholm   \n",
       "25        30                      Solna                  Stockholm   \n",
       "26        50                 Landskrona                      Skåne   \n",
       "27        30                      Solna                  Stockholm   \n",
       "28        25                      Solna                  Stockholm   \n",
       "29        20                      Solna                  Stockholm   \n",
       "\n",
       "                    FA-region  Antal kommuner  Antal län  Antal FA-regioner  \n",
       "0   Se \"Lista flera kommuner\"               3          3                  3  \n",
       "1   Se \"Lista flera kommuner\"               3          3                  3  \n",
       "2                  Malmö-Lund               1          1                  1  \n",
       "3                  Malmö-Lund               1          1                  1  \n",
       "4                  Malmö-Lund               1          1                  1  \n",
       "5                   Stockholm               1          1                  1  \n",
       "6   Se \"Lista flera kommuner\"               5          5                  5  \n",
       "7   Se \"Lista flera kommuner\"               4          4                  4  \n",
       "8                    Göteborg               1          1                  1  \n",
       "9                    Göteborg               1          1                  1  \n",
       "10               Skövde-Skara               1          1                  1  \n",
       "11  Se \"Lista flera kommuner\"               5          4                  5  \n",
       "12  Se \"Lista flera kommuner\"               2          2                  2  \n",
       "13                      Gävle               1          1                  1  \n",
       "14  Se \"Lista flera kommuner\"               5          5                  5  \n",
       "15  Se \"Lista flera kommuner\"               5          5                  5  \n",
       "16  Se \"Lista flera kommuner\"               3          3                  3  \n",
       "17                  Stockholm               1          1                  1  \n",
       "18  Se \"Lista flera kommuner\"               4          4                  4  \n",
       "19  Se \"Lista flera kommuner\"               5          5                  5  \n",
       "20                  Stockholm               1          1                  1  \n",
       "21                  Stockholm               1          1                  1  \n",
       "22  Se \"Lista flera kommuner\"               3          3                  3  \n",
       "23  Se \"Lista flera kommuner\"               4          4                  4  \n",
       "24                  Stockholm               1          1                  1  \n",
       "25                  Stockholm               1          1                  1  \n",
       "26                 Malmö-Lund               1          1                  1  \n",
       "27                  Stockholm               1          1                  1  \n",
       "28                  Stockholm               1          1                  1  \n",
       "29                  Stockholm               1          1                  1  "
      ]
     },
     "execution_count": 2,
     "metadata": {},
     "output_type": "execute_result"
    }
   ],
   "source": [
    "import pandas as pd\n",
    "\n",
    "df = pd.read_excel(\"data/resultat-2024-for-kurser-inom-yh.xlsx\", sheet_name=\"Lista ansökningar\")\n",
    "df.head(30)"
   ]
  },
  {
   "cell_type": "code",
   "execution_count": 3,
   "id": "5864c7ea",
   "metadata": {},
   "outputs": [
    {
     "name": "stdout",
     "output_type": "stream",
     "text": [
      "<class 'pandas.core.frame.DataFrame'>\n",
      "RangeIndex: 880 entries, 0 to 879\n",
      "Data columns (total 16 columns):\n",
      " #   Column                                       Non-Null Count  Dtype \n",
      "---  ------                                       --------------  ----- \n",
      " 0   Diarienummer                                 880 non-null    object\n",
      " 1   Beslut                                       880 non-null    object\n",
      " 2   Anordnare namn                               880 non-null    object\n",
      " 3   Utbildningsnamn                              880 non-null    object\n",
      " 4   Utbildningsområde                            880 non-null    object\n",
      " 5   Antal beviljade platser start 2024           880 non-null    int64 \n",
      " 6   Antal beviljade platser start och slut 2024  880 non-null    int64 \n",
      " 7   Antal beviljade platser start 2025           880 non-null    int64 \n",
      " 8   Totalt antal beviljade platser               880 non-null    int64 \n",
      " 9   YH-poäng                                     880 non-null    int64 \n",
      " 10  Kommun                                       880 non-null    object\n",
      " 11  Län                                          880 non-null    object\n",
      " 12  FA-region                                    880 non-null    object\n",
      " 13  Antal kommuner                               880 non-null    int64 \n",
      " 14  Antal län                                    880 non-null    int64 \n",
      " 15  Antal FA-regioner                            880 non-null    int64 \n",
      "dtypes: int64(8), object(8)\n",
      "memory usage: 110.1+ KB\n"
     ]
    }
   ],
   "source": [
    "df_copy=df.copy()\n",
    "df_copy.head()\n",
    "df_copy.info()"
   ]
  },
  {
   "cell_type": "code",
   "execution_count": 4,
   "id": "43c04ee8",
   "metadata": {},
   "outputs": [
    {
     "data": {
      "text/plain": [
       "0                Changemaker Educations AB\n",
       "1                Changemaker Educations AB\n",
       "2            Båstads kommun Akademi Båstad\n",
       "3            Båstads kommun Akademi Båstad\n",
       "4            Båstads kommun Akademi Båstad\n",
       "                      ...                 \n",
       "875    Hyper Island Program AB - Stockholm\n",
       "876                                INSU AB\n",
       "877                                INSU AB\n",
       "878                        Campus Nyköping\n",
       "879              Changemaker Educations AB\n",
       "Name: Anordnare namn, Length: 880, dtype: object"
      ]
     },
     "execution_count": 4,
     "metadata": {},
     "output_type": "execute_result"
    }
   ],
   "source": [
    "df_copy[\"Anordnare namn\"]"
   ]
  },
  {
   "cell_type": "code",
   "execution_count": 5,
   "id": "5d4c76f0",
   "metadata": {},
   "outputs": [
    {
     "data": {
      "text/html": [
       "<div>\n",
       "<style scoped>\n",
       "    .dataframe tbody tr th:only-of-type {\n",
       "        vertical-align: middle;\n",
       "    }\n",
       "\n",
       "    .dataframe tbody tr th {\n",
       "        vertical-align: top;\n",
       "    }\n",
       "\n",
       "    .dataframe thead th {\n",
       "        text-align: right;\n",
       "    }\n",
       "</style>\n",
       "<table border=\"1\" class=\"dataframe\">\n",
       "  <thead>\n",
       "    <tr style=\"text-align: right;\">\n",
       "      <th></th>\n",
       "      <th>Anordnare namn</th>\n",
       "      <th>Utbildningsnamn</th>\n",
       "      <th>Utbildningsområde</th>\n",
       "      <th>Antal beviljade platser start 2024</th>\n",
       "      <th>Kommun</th>\n",
       "    </tr>\n",
       "  </thead>\n",
       "  <tbody>\n",
       "    <tr>\n",
       "      <th>7</th>\n",
       "      <td>Plushögskolan AB - Affärshögskolan</td>\n",
       "      <td>Strategisk hållbarhetsutveckling</td>\n",
       "      <td>Ekonomi, administration och försäljning</td>\n",
       "      <td>50</td>\n",
       "      <td>Se \"Lista flera kommuner\"</td>\n",
       "    </tr>\n",
       "    <tr>\n",
       "      <th>8</th>\n",
       "      <td>IHM Business School AB Göteborg</td>\n",
       "      <td>Social media marketing</td>\n",
       "      <td>Ekonomi, administration och försäljning</td>\n",
       "      <td>50</td>\n",
       "      <td>Göteborg</td>\n",
       "    </tr>\n",
       "    <tr>\n",
       "      <th>11</th>\n",
       "      <td>Plushögskolan AB - Vårdyrkeshögskolan</td>\n",
       "      <td>E-hälsa, digitalisering och välfärdsteknik ino...</td>\n",
       "      <td>Hälso- och sjukvård samt socialt arbete</td>\n",
       "      <td>0</td>\n",
       "      <td>Se \"Lista flera kommuner\"</td>\n",
       "    </tr>\n",
       "    <tr>\n",
       "      <th>12</th>\n",
       "      <td>Hyper Island Program AB - Karlskrona</td>\n",
       "      <td>Sustainability Change Leadership</td>\n",
       "      <td>Ekonomi, administration och försäljning</td>\n",
       "      <td>55</td>\n",
       "      <td>Se \"Lista flera kommuner\"</td>\n",
       "    </tr>\n",
       "    <tr>\n",
       "      <th>13</th>\n",
       "      <td>Plushögskolan AB - Affärshögskolan</td>\n",
       "      <td>Digitalisering och systemkunskap inom lön - Sp...</td>\n",
       "      <td>Ekonomi, administration och försäljning</td>\n",
       "      <td>50</td>\n",
       "      <td>Gävle</td>\n",
       "    </tr>\n",
       "  </tbody>\n",
       "</table>\n",
       "</div>"
      ],
      "text/plain": [
       "                           Anordnare namn  \\\n",
       "7      Plushögskolan AB - Affärshögskolan   \n",
       "8         IHM Business School AB Göteborg   \n",
       "11  Plushögskolan AB - Vårdyrkeshögskolan   \n",
       "12   Hyper Island Program AB - Karlskrona   \n",
       "13     Plushögskolan AB - Affärshögskolan   \n",
       "\n",
       "                                      Utbildningsnamn  \\\n",
       "7                    Strategisk hållbarhetsutveckling   \n",
       "8                              Social media marketing   \n",
       "11  E-hälsa, digitalisering och välfärdsteknik ino...   \n",
       "12                   Sustainability Change Leadership   \n",
       "13  Digitalisering och systemkunskap inom lön - Sp...   \n",
       "\n",
       "                          Utbildningsområde  \\\n",
       "7   Ekonomi, administration och försäljning   \n",
       "8   Ekonomi, administration och försäljning   \n",
       "11  Hälso- och sjukvård samt socialt arbete   \n",
       "12  Ekonomi, administration och försäljning   \n",
       "13  Ekonomi, administration och försäljning   \n",
       "\n",
       "    Antal beviljade platser start 2024                     Kommun  \n",
       "7                                   50  Se \"Lista flera kommuner\"  \n",
       "8                                   50                   Göteborg  \n",
       "11                                   0  Se \"Lista flera kommuner\"  \n",
       "12                                  55  Se \"Lista flera kommuner\"  \n",
       "13                                  50                      Gävle  "
      ]
     },
     "execution_count": 5,
     "metadata": {},
     "output_type": "execute_result"
    }
   ],
   "source": [
    "\n",
    "result_df = df[df['Beslut'] == 'Beviljad'][['Anordnare namn', 'Utbildningsnamn', 'Utbildningsområde', 'Antal beviljade platser start 2024', 'Kommun']]\n",
    "result_df.head()"
   ]
  },
  {
   "cell_type": "code",
   "execution_count": 6,
   "id": "0512e518",
   "metadata": {},
   "outputs": [
    {
     "name": "stdout",
     "output_type": "stream",
     "text": [
      "<class 'pandas.core.frame.DataFrame'>\n",
      "Index: 451 entries, 7 to 878\n",
      "Data columns (total 5 columns):\n",
      " #   Column                              Non-Null Count  Dtype \n",
      "---  ------                              --------------  ----- \n",
      " 0   Anordnare namn                      451 non-null    object\n",
      " 1   Utbildningsnamn                     451 non-null    object\n",
      " 2   Utbildningsområde                   451 non-null    object\n",
      " 3   Antal beviljade platser start 2024  451 non-null    int64 \n",
      " 4   Kommun                              451 non-null    object\n",
      "dtypes: int64(1), object(4)\n",
      "memory usage: 21.1+ KB\n"
     ]
    }
   ],
   "source": [
    "result_df.info()"
   ]
  },
  {
   "cell_type": "code",
   "execution_count": 7,
   "id": "334d1c3d",
   "metadata": {},
   "outputs": [
    {
     "data": {
      "text/html": [
       "<div>\n",
       "<style scoped>\n",
       "    .dataframe tbody tr th:only-of-type {\n",
       "        vertical-align: middle;\n",
       "    }\n",
       "\n",
       "    .dataframe tbody tr th {\n",
       "        vertical-align: top;\n",
       "    }\n",
       "\n",
       "    .dataframe thead th {\n",
       "        text-align: right;\n",
       "    }\n",
       "</style>\n",
       "<table border=\"1\" class=\"dataframe\">\n",
       "  <thead>\n",
       "    <tr style=\"text-align: right;\">\n",
       "      <th></th>\n",
       "      <th>Anordnare namn</th>\n",
       "      <th>Utbildningsnamn</th>\n",
       "      <th>Utbildningsområde</th>\n",
       "      <th>Antal beviljade platser start 2024</th>\n",
       "      <th>Kommun</th>\n",
       "    </tr>\n",
       "  </thead>\n",
       "  <tbody>\n",
       "    <tr>\n",
       "      <th>7</th>\n",
       "      <td>Plushögskolan AB - Affärshögskolan</td>\n",
       "      <td>Strategisk hållbarhetsutveckling</td>\n",
       "      <td>Ekonomi, administration och försäljning</td>\n",
       "      <td>50</td>\n",
       "      <td>Flera kommuner</td>\n",
       "    </tr>\n",
       "    <tr>\n",
       "      <th>8</th>\n",
       "      <td>IHM Business School AB Göteborg</td>\n",
       "      <td>Social media marketing</td>\n",
       "      <td>Ekonomi, administration och försäljning</td>\n",
       "      <td>50</td>\n",
       "      <td>Göteborg</td>\n",
       "    </tr>\n",
       "    <tr>\n",
       "      <th>11</th>\n",
       "      <td>Plushögskolan AB - Vårdyrkeshögskolan</td>\n",
       "      <td>E-hälsa, digitalisering och välfärdsteknik ino...</td>\n",
       "      <td>Hälso- och sjukvård samt socialt arbete</td>\n",
       "      <td>0</td>\n",
       "      <td>Flera kommuner</td>\n",
       "    </tr>\n",
       "    <tr>\n",
       "      <th>12</th>\n",
       "      <td>Hyper Island Program AB - Karlskrona</td>\n",
       "      <td>Sustainability Change Leadership</td>\n",
       "      <td>Ekonomi, administration och försäljning</td>\n",
       "      <td>55</td>\n",
       "      <td>Flera kommuner</td>\n",
       "    </tr>\n",
       "    <tr>\n",
       "      <th>13</th>\n",
       "      <td>Plushögskolan AB - Affärshögskolan</td>\n",
       "      <td>Digitalisering och systemkunskap inom lön - Sp...</td>\n",
       "      <td>Ekonomi, administration och försäljning</td>\n",
       "      <td>50</td>\n",
       "      <td>Gävle</td>\n",
       "    </tr>\n",
       "  </tbody>\n",
       "</table>\n",
       "</div>"
      ],
      "text/plain": [
       "                           Anordnare namn  \\\n",
       "7      Plushögskolan AB - Affärshögskolan   \n",
       "8         IHM Business School AB Göteborg   \n",
       "11  Plushögskolan AB - Vårdyrkeshögskolan   \n",
       "12   Hyper Island Program AB - Karlskrona   \n",
       "13     Plushögskolan AB - Affärshögskolan   \n",
       "\n",
       "                                      Utbildningsnamn  \\\n",
       "7                    Strategisk hållbarhetsutveckling   \n",
       "8                              Social media marketing   \n",
       "11  E-hälsa, digitalisering och välfärdsteknik ino...   \n",
       "12                   Sustainability Change Leadership   \n",
       "13  Digitalisering och systemkunskap inom lön - Sp...   \n",
       "\n",
       "                          Utbildningsområde  \\\n",
       "7   Ekonomi, administration och försäljning   \n",
       "8   Ekonomi, administration och försäljning   \n",
       "11  Hälso- och sjukvård samt socialt arbete   \n",
       "12  Ekonomi, administration och försäljning   \n",
       "13  Ekonomi, administration och försäljning   \n",
       "\n",
       "    Antal beviljade platser start 2024          Kommun  \n",
       "7                                   50  Flera kommuner  \n",
       "8                                   50        Göteborg  \n",
       "11                                   0  Flera kommuner  \n",
       "12                                  55  Flera kommuner  \n",
       "13                                  50           Gävle  "
      ]
     },
     "execution_count": 7,
     "metadata": {},
     "output_type": "execute_result"
    }
   ],
   "source": [
    "\n",
    "result_df['Kommun'] = result_df['Kommun'].replace('Se \"Lista flera kommuner\"', 'Flera kommuner')\n",
    "result_df.head()\n"
   ]
  },
  {
   "cell_type": "code",
   "execution_count": 8,
   "id": "2691b458",
   "metadata": {},
   "outputs": [
    {
     "data": {
      "text/html": [
       "<div>\n",
       "<style scoped>\n",
       "    .dataframe tbody tr th:only-of-type {\n",
       "        vertical-align: middle;\n",
       "    }\n",
       "\n",
       "    .dataframe tbody tr th {\n",
       "        vertical-align: top;\n",
       "    }\n",
       "\n",
       "    .dataframe thead th {\n",
       "        text-align: right;\n",
       "    }\n",
       "</style>\n",
       "<table border=\"1\" class=\"dataframe\">\n",
       "  <thead>\n",
       "    <tr style=\"text-align: right;\">\n",
       "      <th></th>\n",
       "      <th>Utbildningsområde</th>\n",
       "      <th>2012</th>\n",
       "      <th>2013</th>\n",
       "      <th>2014</th>\n",
       "      <th>2015</th>\n",
       "      <th>2016</th>\n",
       "      <th>2017</th>\n",
       "      <th>2018</th>\n",
       "      <th>2019</th>\n",
       "      <th>2020</th>\n",
       "      <th>2021</th>\n",
       "      <th>2022</th>\n",
       "      <th>2023</th>\n",
       "      <th>2024</th>\n",
       "    </tr>\n",
       "  </thead>\n",
       "  <tbody>\n",
       "    <tr>\n",
       "      <th>0</th>\n",
       "      <td>Data/IT</td>\n",
       "      <td>109.192749</td>\n",
       "      <td>136.592343</td>\n",
       "      <td>154.726348</td>\n",
       "      <td>192.765796</td>\n",
       "      <td>211.257113</td>\n",
       "      <td>198.036024</td>\n",
       "      <td>203.249950</td>\n",
       "      <td>246.098128</td>\n",
       "      <td>356.251492</td>\n",
       "      <td>499.505111</td>\n",
       "      <td>566.211689</td>\n",
       "      <td>600.542099</td>\n",
       "      <td>665.038880</td>\n",
       "    </tr>\n",
       "    <tr>\n",
       "      <th>1</th>\n",
       "      <td>Ekonomi, administration och försäljning</td>\n",
       "      <td>333.379221</td>\n",
       "      <td>373.196476</td>\n",
       "      <td>392.273449</td>\n",
       "      <td>397.432949</td>\n",
       "      <td>381.773874</td>\n",
       "      <td>406.235745</td>\n",
       "      <td>469.265158</td>\n",
       "      <td>549.522420</td>\n",
       "      <td>626.322157</td>\n",
       "      <td>677.605539</td>\n",
       "      <td>664.706433</td>\n",
       "      <td>645.379020</td>\n",
       "      <td>664.212939</td>\n",
       "    </tr>\n",
       "    <tr>\n",
       "      <th>2</th>\n",
       "      <td>Friskvård och kroppsvård</td>\n",
       "      <td>12.385036</td>\n",
       "      <td>12.129508</td>\n",
       "      <td>12.160803</td>\n",
       "      <td>11.943787</td>\n",
       "      <td>10.835978</td>\n",
       "      <td>7.151950</td>\n",
       "      <td>10.021599</td>\n",
       "      <td>12.640847</td>\n",
       "      <td>15.614295</td>\n",
       "      <td>18.105384</td>\n",
       "      <td>22.952224</td>\n",
       "      <td>23.312976</td>\n",
       "      <td>17.164001</td>\n",
       "    </tr>\n",
       "    <tr>\n",
       "      <th>3</th>\n",
       "      <td>Hotell, restaurang och turism</td>\n",
       "      <td>76.257076</td>\n",
       "      <td>78.752007</td>\n",
       "      <td>81.725028</td>\n",
       "      <td>81.591173</td>\n",
       "      <td>78.335025</td>\n",
       "      <td>79.393923</td>\n",
       "      <td>83.923865</td>\n",
       "      <td>89.100543</td>\n",
       "      <td>102.670911</td>\n",
       "      <td>115.716079</td>\n",
       "      <td>110.391271</td>\n",
       "      <td>95.516479</td>\n",
       "      <td>100.372505</td>\n",
       "    </tr>\n",
       "    <tr>\n",
       "      <th>4</th>\n",
       "      <td>Hälso- och sjukvård samt socialt arbete</td>\n",
       "      <td>118.890913</td>\n",
       "      <td>130.518945</td>\n",
       "      <td>148.016792</td>\n",
       "      <td>174.665651</td>\n",
       "      <td>177.475662</td>\n",
       "      <td>194.507055</td>\n",
       "      <td>219.279194</td>\n",
       "      <td>257.937313</td>\n",
       "      <td>310.385978</td>\n",
       "      <td>356.077126</td>\n",
       "      <td>377.270519</td>\n",
       "      <td>359.356705</td>\n",
       "      <td>340.306947</td>\n",
       "    </tr>\n",
       "    <tr>\n",
       "      <th>5</th>\n",
       "      <td>Journalistik och information</td>\n",
       "      <td>8.323028</td>\n",
       "      <td>11.691712</td>\n",
       "      <td>19.213199</td>\n",
       "      <td>21.328087</td>\n",
       "      <td>19.126495</td>\n",
       "      <td>20.104219</td>\n",
       "      <td>22.520929</td>\n",
       "      <td>28.415865</td>\n",
       "      <td>29.541782</td>\n",
       "      <td>28.698530</td>\n",
       "      <td>28.607127</td>\n",
       "      <td>25.851106</td>\n",
       "      <td>23.252844</td>\n",
       "    </tr>\n",
       "    <tr>\n",
       "      <th>6</th>\n",
       "      <td>Juridik</td>\n",
       "      <td>6.285412</td>\n",
       "      <td>9.027900</td>\n",
       "      <td>8.867318</td>\n",
       "      <td>9.763824</td>\n",
       "      <td>11.196000</td>\n",
       "      <td>13.153375</td>\n",
       "      <td>14.716194</td>\n",
       "      <td>14.735424</td>\n",
       "      <td>16.637735</td>\n",
       "      <td>17.341442</td>\n",
       "      <td>12.816581</td>\n",
       "      <td>11.423875</td>\n",
       "      <td>12.337662</td>\n",
       "    </tr>\n",
       "    <tr>\n",
       "      <th>7</th>\n",
       "      <td>Kultur, media och design</td>\n",
       "      <td>87.487106</td>\n",
       "      <td>96.421940</td>\n",
       "      <td>107.899579</td>\n",
       "      <td>118.131529</td>\n",
       "      <td>116.248464</td>\n",
       "      <td>123.081064</td>\n",
       "      <td>127.300040</td>\n",
       "      <td>131.276812</td>\n",
       "      <td>158.302460</td>\n",
       "      <td>185.625737</td>\n",
       "      <td>200.429775</td>\n",
       "      <td>213.685047</td>\n",
       "      <td>230.626209</td>\n",
       "    </tr>\n",
       "    <tr>\n",
       "      <th>8</th>\n",
       "      <td>Lantbruk, djurvård, trädgård, skog och fiske</td>\n",
       "      <td>51.798081</td>\n",
       "      <td>55.014831</td>\n",
       "      <td>48.989999</td>\n",
       "      <td>55.669332</td>\n",
       "      <td>64.264977</td>\n",
       "      <td>67.294657</td>\n",
       "      <td>65.009836</td>\n",
       "      <td>68.856857</td>\n",
       "      <td>82.730961</td>\n",
       "      <td>91.199354</td>\n",
       "      <td>103.753851</td>\n",
       "      <td>112.383832</td>\n",
       "      <td>126.912377</td>\n",
       "    </tr>\n",
       "    <tr>\n",
       "      <th>9</th>\n",
       "      <td>Pedagogik och undervisning</td>\n",
       "      <td>17.567920</td>\n",
       "      <td>17.970322</td>\n",
       "      <td>20.883172</td>\n",
       "      <td>19.929969</td>\n",
       "      <td>22.854123</td>\n",
       "      <td>28.460519</td>\n",
       "      <td>30.734559</td>\n",
       "      <td>45.013884</td>\n",
       "      <td>50.859064</td>\n",
       "      <td>66.792310</td>\n",
       "      <td>74.968297</td>\n",
       "      <td>63.687611</td>\n",
       "      <td>46.145875</td>\n",
       "    </tr>\n",
       "    <tr>\n",
       "      <th>10</th>\n",
       "      <td>Samhällsbyggnad och byggteknik</td>\n",
       "      <td>144.764251</td>\n",
       "      <td>180.390592</td>\n",
       "      <td>185.992527</td>\n",
       "      <td>198.195534</td>\n",
       "      <td>223.487924</td>\n",
       "      <td>247.733960</td>\n",
       "      <td>282.362259</td>\n",
       "      <td>331.770969</td>\n",
       "      <td>418.709777</td>\n",
       "      <td>518.062878</td>\n",
       "      <td>544.106976</td>\n",
       "      <td>513.145597</td>\n",
       "      <td>529.738844</td>\n",
       "    </tr>\n",
       "    <tr>\n",
       "      <th>11</th>\n",
       "      <td>Säkerhetstjänster</td>\n",
       "      <td>12.080525</td>\n",
       "      <td>11.843398</td>\n",
       "      <td>10.509850</td>\n",
       "      <td>9.998484</td>\n",
       "      <td>12.521000</td>\n",
       "      <td>8.570239</td>\n",
       "      <td>7.231494</td>\n",
       "      <td>12.350178</td>\n",
       "      <td>15.907922</td>\n",
       "      <td>21.932088</td>\n",
       "      <td>24.531988</td>\n",
       "      <td>28.235429</td>\n",
       "      <td>29.220064</td>\n",
       "    </tr>\n",
       "    <tr>\n",
       "      <th>12</th>\n",
       "      <td>Teknik och tillverkning</td>\n",
       "      <td>237.492378</td>\n",
       "      <td>270.176367</td>\n",
       "      <td>280.300634</td>\n",
       "      <td>293.485426</td>\n",
       "      <td>288.171444</td>\n",
       "      <td>290.249849</td>\n",
       "      <td>301.586753</td>\n",
       "      <td>342.140952</td>\n",
       "      <td>431.257185</td>\n",
       "      <td>521.676310</td>\n",
       "      <td>537.890182</td>\n",
       "      <td>541.447543</td>\n",
       "      <td>619.121294</td>\n",
       "    </tr>\n",
       "    <tr>\n",
       "      <th>13</th>\n",
       "      <td>Transporttjänster</td>\n",
       "      <td>56.769704</td>\n",
       "      <td>59.399747</td>\n",
       "      <td>55.568749</td>\n",
       "      <td>84.037502</td>\n",
       "      <td>111.879407</td>\n",
       "      <td>113.576079</td>\n",
       "      <td>113.884016</td>\n",
       "      <td>103.576663</td>\n",
       "      <td>106.558937</td>\n",
       "      <td>100.988215</td>\n",
       "      <td>102.928269</td>\n",
       "      <td>96.102330</td>\n",
       "      <td>95.759291</td>\n",
       "    </tr>\n",
       "    <tr>\n",
       "      <th>14</th>\n",
       "      <td>Övrigt</td>\n",
       "      <td>7.763576</td>\n",
       "      <td>13.136499</td>\n",
       "      <td>13.884000</td>\n",
       "      <td>10.416246</td>\n",
       "      <td>10.800998</td>\n",
       "      <td>14.592330</td>\n",
       "      <td>14.535402</td>\n",
       "      <td>21.721748</td>\n",
       "      <td>26.978567</td>\n",
       "      <td>30.952812</td>\n",
       "      <td>36.231579</td>\n",
       "      <td>32.072962</td>\n",
       "      <td>29.380400</td>\n",
       "    </tr>\n",
       "    <tr>\n",
       "      <th>15</th>\n",
       "      <td>Totalt</td>\n",
       "      <td>1280.436976</td>\n",
       "      <td>1456.262587</td>\n",
       "      <td>1541.011447</td>\n",
       "      <td>1679.355289</td>\n",
       "      <td>1740.228484</td>\n",
       "      <td>1812.140988</td>\n",
       "      <td>1965.621248</td>\n",
       "      <td>2255.158603</td>\n",
       "      <td>2748.729223</td>\n",
       "      <td>3250.278915</td>\n",
       "      <td>3407.796761</td>\n",
       "      <td>3362.142611</td>\n",
       "      <td>3529.590132</td>\n",
       "    </tr>\n",
       "    <tr>\n",
       "      <th>16</th>\n",
       "      <td>NaN</td>\n",
       "      <td>NaN</td>\n",
       "      <td>NaN</td>\n",
       "      <td>NaN</td>\n",
       "      <td>NaN</td>\n",
       "      <td>NaN</td>\n",
       "      <td>NaN</td>\n",
       "      <td>NaN</td>\n",
       "      <td>NaN</td>\n",
       "      <td>NaN</td>\n",
       "      <td>NaN</td>\n",
       "      <td>NaN</td>\n",
       "      <td>NaN</td>\n",
       "      <td>NaN</td>\n",
       "    </tr>\n",
       "    <tr>\n",
       "      <th>17</th>\n",
       "      <td>Notera: Avser endast program (YH-utbildningar ...</td>\n",
       "      <td>NaN</td>\n",
       "      <td>NaN</td>\n",
       "      <td>NaN</td>\n",
       "      <td>NaN</td>\n",
       "      <td>NaN</td>\n",
       "      <td>NaN</td>\n",
       "      <td>NaN</td>\n",
       "      <td>NaN</td>\n",
       "      <td>NaN</td>\n",
       "      <td>NaN</td>\n",
       "      <td>NaN</td>\n",
       "      <td>NaN</td>\n",
       "      <td>NaN</td>\n",
       "    </tr>\n",
       "    <tr>\n",
       "      <th>18</th>\n",
       "      <td>NaN</td>\n",
       "      <td>NaN</td>\n",
       "      <td>NaN</td>\n",
       "      <td>NaN</td>\n",
       "      <td>NaN</td>\n",
       "      <td>NaN</td>\n",
       "      <td>NaN</td>\n",
       "      <td>NaN</td>\n",
       "      <td>NaN</td>\n",
       "      <td>NaN</td>\n",
       "      <td>NaN</td>\n",
       "      <td>NaN</td>\n",
       "      <td>NaN</td>\n",
       "      <td>NaN</td>\n",
       "    </tr>\n",
       "    <tr>\n",
       "      <th>19</th>\n",
       "      <td>Källa: Myndigheten för yrkeshögskolan.</td>\n",
       "      <td>NaN</td>\n",
       "      <td>NaN</td>\n",
       "      <td>NaN</td>\n",
       "      <td>NaN</td>\n",
       "      <td>NaN</td>\n",
       "      <td>NaN</td>\n",
       "      <td>NaN</td>\n",
       "      <td>NaN</td>\n",
       "      <td>NaN</td>\n",
       "      <td>NaN</td>\n",
       "      <td>NaN</td>\n",
       "      <td>NaN</td>\n",
       "      <td>NaN</td>\n",
       "    </tr>\n",
       "  </tbody>\n",
       "</table>\n",
       "</div>"
      ],
      "text/plain": [
       "                                    Utbildningsområde         2012  \\\n",
       "0                                             Data/IT   109.192749   \n",
       "1             Ekonomi, administration och försäljning   333.379221   \n",
       "2                            Friskvård och kroppsvård    12.385036   \n",
       "3                       Hotell, restaurang och turism    76.257076   \n",
       "4             Hälso- och sjukvård samt socialt arbete   118.890913   \n",
       "5                        Journalistik och information     8.323028   \n",
       "6                                             Juridik     6.285412   \n",
       "7                            Kultur, media och design    87.487106   \n",
       "8        Lantbruk, djurvård, trädgård, skog och fiske    51.798081   \n",
       "9                          Pedagogik och undervisning    17.567920   \n",
       "10                     Samhällsbyggnad och byggteknik   144.764251   \n",
       "11                                  Säkerhetstjänster    12.080525   \n",
       "12                            Teknik och tillverkning   237.492378   \n",
       "13                                  Transporttjänster    56.769704   \n",
       "14                                             Övrigt     7.763576   \n",
       "15                                             Totalt  1280.436976   \n",
       "16                                                NaN          NaN   \n",
       "17  Notera: Avser endast program (YH-utbildningar ...          NaN   \n",
       "18                                                NaN          NaN   \n",
       "19             Källa: Myndigheten för yrkeshögskolan.          NaN   \n",
       "\n",
       "           2013         2014         2015         2016         2017  \\\n",
       "0    136.592343   154.726348   192.765796   211.257113   198.036024   \n",
       "1    373.196476   392.273449   397.432949   381.773874   406.235745   \n",
       "2     12.129508    12.160803    11.943787    10.835978     7.151950   \n",
       "3     78.752007    81.725028    81.591173    78.335025    79.393923   \n",
       "4    130.518945   148.016792   174.665651   177.475662   194.507055   \n",
       "5     11.691712    19.213199    21.328087    19.126495    20.104219   \n",
       "6      9.027900     8.867318     9.763824    11.196000    13.153375   \n",
       "7     96.421940   107.899579   118.131529   116.248464   123.081064   \n",
       "8     55.014831    48.989999    55.669332    64.264977    67.294657   \n",
       "9     17.970322    20.883172    19.929969    22.854123    28.460519   \n",
       "10   180.390592   185.992527   198.195534   223.487924   247.733960   \n",
       "11    11.843398    10.509850     9.998484    12.521000     8.570239   \n",
       "12   270.176367   280.300634   293.485426   288.171444   290.249849   \n",
       "13    59.399747    55.568749    84.037502   111.879407   113.576079   \n",
       "14    13.136499    13.884000    10.416246    10.800998    14.592330   \n",
       "15  1456.262587  1541.011447  1679.355289  1740.228484  1812.140988   \n",
       "16          NaN          NaN          NaN          NaN          NaN   \n",
       "17          NaN          NaN          NaN          NaN          NaN   \n",
       "18          NaN          NaN          NaN          NaN          NaN   \n",
       "19          NaN          NaN          NaN          NaN          NaN   \n",
       "\n",
       "           2018         2019         2020         2021         2022  \\\n",
       "0    203.249950   246.098128   356.251492   499.505111   566.211689   \n",
       "1    469.265158   549.522420   626.322157   677.605539   664.706433   \n",
       "2     10.021599    12.640847    15.614295    18.105384    22.952224   \n",
       "3     83.923865    89.100543   102.670911   115.716079   110.391271   \n",
       "4    219.279194   257.937313   310.385978   356.077126   377.270519   \n",
       "5     22.520929    28.415865    29.541782    28.698530    28.607127   \n",
       "6     14.716194    14.735424    16.637735    17.341442    12.816581   \n",
       "7    127.300040   131.276812   158.302460   185.625737   200.429775   \n",
       "8     65.009836    68.856857    82.730961    91.199354   103.753851   \n",
       "9     30.734559    45.013884    50.859064    66.792310    74.968297   \n",
       "10   282.362259   331.770969   418.709777   518.062878   544.106976   \n",
       "11     7.231494    12.350178    15.907922    21.932088    24.531988   \n",
       "12   301.586753   342.140952   431.257185   521.676310   537.890182   \n",
       "13   113.884016   103.576663   106.558937   100.988215   102.928269   \n",
       "14    14.535402    21.721748    26.978567    30.952812    36.231579   \n",
       "15  1965.621248  2255.158603  2748.729223  3250.278915  3407.796761   \n",
       "16          NaN          NaN          NaN          NaN          NaN   \n",
       "17          NaN          NaN          NaN          NaN          NaN   \n",
       "18          NaN          NaN          NaN          NaN          NaN   \n",
       "19          NaN          NaN          NaN          NaN          NaN   \n",
       "\n",
       "           2023         2024  \n",
       "0    600.542099   665.038880  \n",
       "1    645.379020   664.212939  \n",
       "2     23.312976    17.164001  \n",
       "3     95.516479   100.372505  \n",
       "4    359.356705   340.306947  \n",
       "5     25.851106    23.252844  \n",
       "6     11.423875    12.337662  \n",
       "7    213.685047   230.626209  \n",
       "8    112.383832   126.912377  \n",
       "9     63.687611    46.145875  \n",
       "10   513.145597   529.738844  \n",
       "11    28.235429    29.220064  \n",
       "12   541.447543   619.121294  \n",
       "13    96.102330    95.759291  \n",
       "14    32.072962    29.380400  \n",
       "15  3362.142611  3529.590132  \n",
       "16          NaN          NaN  \n",
       "17          NaN          NaN  \n",
       "18          NaN          NaN  \n",
       "19          NaN          NaN  "
      ]
     },
     "execution_count": 8,
     "metadata": {},
     "output_type": "execute_result"
    }
   ],
   "source": [
    "df = pd.read_excel(\"data/ek_1_utbet_statliga_medel_utbomr.xlsx\", sheet_name=\"Utbetalda statliga medel\", skiprows=5)\n",
    "df.head(30)\n"
   ]
  },
  {
   "cell_type": "code",
   "execution_count": 9,
   "id": "185cd7e7",
   "metadata": {},
   "outputs": [
    {
     "data": {
      "text/html": [
       "<div>\n",
       "<style scoped>\n",
       "    .dataframe tbody tr th:only-of-type {\n",
       "        vertical-align: middle;\n",
       "    }\n",
       "\n",
       "    .dataframe tbody tr th {\n",
       "        vertical-align: top;\n",
       "    }\n",
       "\n",
       "    .dataframe thead th {\n",
       "        text-align: right;\n",
       "    }\n",
       "</style>\n",
       "<table border=\"1\" class=\"dataframe\">\n",
       "  <thead>\n",
       "    <tr style=\"text-align: right;\">\n",
       "      <th></th>\n",
       "      <th>Utbildningsområde</th>\n",
       "      <th>2012</th>\n",
       "      <th>2013</th>\n",
       "      <th>2014</th>\n",
       "      <th>2015</th>\n",
       "      <th>2016</th>\n",
       "      <th>2017</th>\n",
       "      <th>2018</th>\n",
       "      <th>2019</th>\n",
       "      <th>2020</th>\n",
       "      <th>2021</th>\n",
       "      <th>2022</th>\n",
       "      <th>2023</th>\n",
       "      <th>2024</th>\n",
       "    </tr>\n",
       "  </thead>\n",
       "  <tbody>\n",
       "    <tr>\n",
       "      <th>0</th>\n",
       "      <td>Data/IT</td>\n",
       "      <td>109.192749</td>\n",
       "      <td>136.592343</td>\n",
       "      <td>154.726348</td>\n",
       "      <td>192.765796</td>\n",
       "      <td>211.257113</td>\n",
       "      <td>198.036024</td>\n",
       "      <td>203.249950</td>\n",
       "      <td>246.098128</td>\n",
       "      <td>356.251492</td>\n",
       "      <td>499.505111</td>\n",
       "      <td>566.211689</td>\n",
       "      <td>600.542099</td>\n",
       "      <td>665.038880</td>\n",
       "    </tr>\n",
       "    <tr>\n",
       "      <th>1</th>\n",
       "      <td>Ekonomi, administration och försäljning</td>\n",
       "      <td>333.379221</td>\n",
       "      <td>373.196476</td>\n",
       "      <td>392.273449</td>\n",
       "      <td>397.432949</td>\n",
       "      <td>381.773874</td>\n",
       "      <td>406.235745</td>\n",
       "      <td>469.265158</td>\n",
       "      <td>549.522420</td>\n",
       "      <td>626.322157</td>\n",
       "      <td>677.605539</td>\n",
       "      <td>664.706433</td>\n",
       "      <td>645.379020</td>\n",
       "      <td>664.212939</td>\n",
       "    </tr>\n",
       "    <tr>\n",
       "      <th>2</th>\n",
       "      <td>Friskvård och kroppsvård</td>\n",
       "      <td>12.385036</td>\n",
       "      <td>12.129508</td>\n",
       "      <td>12.160803</td>\n",
       "      <td>11.943787</td>\n",
       "      <td>10.835978</td>\n",
       "      <td>7.151950</td>\n",
       "      <td>10.021599</td>\n",
       "      <td>12.640847</td>\n",
       "      <td>15.614295</td>\n",
       "      <td>18.105384</td>\n",
       "      <td>22.952224</td>\n",
       "      <td>23.312976</td>\n",
       "      <td>17.164001</td>\n",
       "    </tr>\n",
       "    <tr>\n",
       "      <th>3</th>\n",
       "      <td>Hotell, restaurang och turism</td>\n",
       "      <td>76.257076</td>\n",
       "      <td>78.752007</td>\n",
       "      <td>81.725028</td>\n",
       "      <td>81.591173</td>\n",
       "      <td>78.335025</td>\n",
       "      <td>79.393923</td>\n",
       "      <td>83.923865</td>\n",
       "      <td>89.100543</td>\n",
       "      <td>102.670911</td>\n",
       "      <td>115.716079</td>\n",
       "      <td>110.391271</td>\n",
       "      <td>95.516479</td>\n",
       "      <td>100.372505</td>\n",
       "    </tr>\n",
       "    <tr>\n",
       "      <th>4</th>\n",
       "      <td>Hälso- och sjukvård samt socialt arbete</td>\n",
       "      <td>118.890913</td>\n",
       "      <td>130.518945</td>\n",
       "      <td>148.016792</td>\n",
       "      <td>174.665651</td>\n",
       "      <td>177.475662</td>\n",
       "      <td>194.507055</td>\n",
       "      <td>219.279194</td>\n",
       "      <td>257.937313</td>\n",
       "      <td>310.385978</td>\n",
       "      <td>356.077126</td>\n",
       "      <td>377.270519</td>\n",
       "      <td>359.356705</td>\n",
       "      <td>340.306947</td>\n",
       "    </tr>\n",
       "    <tr>\n",
       "      <th>5</th>\n",
       "      <td>Journalistik och information</td>\n",
       "      <td>8.323028</td>\n",
       "      <td>11.691712</td>\n",
       "      <td>19.213199</td>\n",
       "      <td>21.328087</td>\n",
       "      <td>19.126495</td>\n",
       "      <td>20.104219</td>\n",
       "      <td>22.520929</td>\n",
       "      <td>28.415865</td>\n",
       "      <td>29.541782</td>\n",
       "      <td>28.698530</td>\n",
       "      <td>28.607127</td>\n",
       "      <td>25.851106</td>\n",
       "      <td>23.252844</td>\n",
       "    </tr>\n",
       "    <tr>\n",
       "      <th>6</th>\n",
       "      <td>Juridik</td>\n",
       "      <td>6.285412</td>\n",
       "      <td>9.027900</td>\n",
       "      <td>8.867318</td>\n",
       "      <td>9.763824</td>\n",
       "      <td>11.196000</td>\n",
       "      <td>13.153375</td>\n",
       "      <td>14.716194</td>\n",
       "      <td>14.735424</td>\n",
       "      <td>16.637735</td>\n",
       "      <td>17.341442</td>\n",
       "      <td>12.816581</td>\n",
       "      <td>11.423875</td>\n",
       "      <td>12.337662</td>\n",
       "    </tr>\n",
       "    <tr>\n",
       "      <th>7</th>\n",
       "      <td>Kultur, media och design</td>\n",
       "      <td>87.487106</td>\n",
       "      <td>96.421940</td>\n",
       "      <td>107.899579</td>\n",
       "      <td>118.131529</td>\n",
       "      <td>116.248464</td>\n",
       "      <td>123.081064</td>\n",
       "      <td>127.300040</td>\n",
       "      <td>131.276812</td>\n",
       "      <td>158.302460</td>\n",
       "      <td>185.625737</td>\n",
       "      <td>200.429775</td>\n",
       "      <td>213.685047</td>\n",
       "      <td>230.626209</td>\n",
       "    </tr>\n",
       "    <tr>\n",
       "      <th>8</th>\n",
       "      <td>Lantbruk, djurvård, trädgård, skog och fiske</td>\n",
       "      <td>51.798081</td>\n",
       "      <td>55.014831</td>\n",
       "      <td>48.989999</td>\n",
       "      <td>55.669332</td>\n",
       "      <td>64.264977</td>\n",
       "      <td>67.294657</td>\n",
       "      <td>65.009836</td>\n",
       "      <td>68.856857</td>\n",
       "      <td>82.730961</td>\n",
       "      <td>91.199354</td>\n",
       "      <td>103.753851</td>\n",
       "      <td>112.383832</td>\n",
       "      <td>126.912377</td>\n",
       "    </tr>\n",
       "    <tr>\n",
       "      <th>9</th>\n",
       "      <td>Pedagogik och undervisning</td>\n",
       "      <td>17.567920</td>\n",
       "      <td>17.970322</td>\n",
       "      <td>20.883172</td>\n",
       "      <td>19.929969</td>\n",
       "      <td>22.854123</td>\n",
       "      <td>28.460519</td>\n",
       "      <td>30.734559</td>\n",
       "      <td>45.013884</td>\n",
       "      <td>50.859064</td>\n",
       "      <td>66.792310</td>\n",
       "      <td>74.968297</td>\n",
       "      <td>63.687611</td>\n",
       "      <td>46.145875</td>\n",
       "    </tr>\n",
       "    <tr>\n",
       "      <th>10</th>\n",
       "      <td>Samhällsbyggnad och byggteknik</td>\n",
       "      <td>144.764251</td>\n",
       "      <td>180.390592</td>\n",
       "      <td>185.992527</td>\n",
       "      <td>198.195534</td>\n",
       "      <td>223.487924</td>\n",
       "      <td>247.733960</td>\n",
       "      <td>282.362259</td>\n",
       "      <td>331.770969</td>\n",
       "      <td>418.709777</td>\n",
       "      <td>518.062878</td>\n",
       "      <td>544.106976</td>\n",
       "      <td>513.145597</td>\n",
       "      <td>529.738844</td>\n",
       "    </tr>\n",
       "    <tr>\n",
       "      <th>11</th>\n",
       "      <td>Säkerhetstjänster</td>\n",
       "      <td>12.080525</td>\n",
       "      <td>11.843398</td>\n",
       "      <td>10.509850</td>\n",
       "      <td>9.998484</td>\n",
       "      <td>12.521000</td>\n",
       "      <td>8.570239</td>\n",
       "      <td>7.231494</td>\n",
       "      <td>12.350178</td>\n",
       "      <td>15.907922</td>\n",
       "      <td>21.932088</td>\n",
       "      <td>24.531988</td>\n",
       "      <td>28.235429</td>\n",
       "      <td>29.220064</td>\n",
       "    </tr>\n",
       "    <tr>\n",
       "      <th>12</th>\n",
       "      <td>Teknik och tillverkning</td>\n",
       "      <td>237.492378</td>\n",
       "      <td>270.176367</td>\n",
       "      <td>280.300634</td>\n",
       "      <td>293.485426</td>\n",
       "      <td>288.171444</td>\n",
       "      <td>290.249849</td>\n",
       "      <td>301.586753</td>\n",
       "      <td>342.140952</td>\n",
       "      <td>431.257185</td>\n",
       "      <td>521.676310</td>\n",
       "      <td>537.890182</td>\n",
       "      <td>541.447543</td>\n",
       "      <td>619.121294</td>\n",
       "    </tr>\n",
       "    <tr>\n",
       "      <th>13</th>\n",
       "      <td>Transporttjänster</td>\n",
       "      <td>56.769704</td>\n",
       "      <td>59.399747</td>\n",
       "      <td>55.568749</td>\n",
       "      <td>84.037502</td>\n",
       "      <td>111.879407</td>\n",
       "      <td>113.576079</td>\n",
       "      <td>113.884016</td>\n",
       "      <td>103.576663</td>\n",
       "      <td>106.558937</td>\n",
       "      <td>100.988215</td>\n",
       "      <td>102.928269</td>\n",
       "      <td>96.102330</td>\n",
       "      <td>95.759291</td>\n",
       "    </tr>\n",
       "    <tr>\n",
       "      <th>14</th>\n",
       "      <td>Övrigt</td>\n",
       "      <td>7.763576</td>\n",
       "      <td>13.136499</td>\n",
       "      <td>13.884000</td>\n",
       "      <td>10.416246</td>\n",
       "      <td>10.800998</td>\n",
       "      <td>14.592330</td>\n",
       "      <td>14.535402</td>\n",
       "      <td>21.721748</td>\n",
       "      <td>26.978567</td>\n",
       "      <td>30.952812</td>\n",
       "      <td>36.231579</td>\n",
       "      <td>32.072962</td>\n",
       "      <td>29.380400</td>\n",
       "    </tr>\n",
       "    <tr>\n",
       "      <th>15</th>\n",
       "      <td>Totalt</td>\n",
       "      <td>1280.436976</td>\n",
       "      <td>1456.262587</td>\n",
       "      <td>1541.011447</td>\n",
       "      <td>1679.355289</td>\n",
       "      <td>1740.228484</td>\n",
       "      <td>1812.140988</td>\n",
       "      <td>1965.621248</td>\n",
       "      <td>2255.158603</td>\n",
       "      <td>2748.729223</td>\n",
       "      <td>3250.278915</td>\n",
       "      <td>3407.796761</td>\n",
       "      <td>3362.142611</td>\n",
       "      <td>3529.590132</td>\n",
       "    </tr>\n",
       "    <tr>\n",
       "      <th>16</th>\n",
       "      <td>NaN</td>\n",
       "      <td>NaN</td>\n",
       "      <td>NaN</td>\n",
       "      <td>NaN</td>\n",
       "      <td>NaN</td>\n",
       "      <td>NaN</td>\n",
       "      <td>NaN</td>\n",
       "      <td>NaN</td>\n",
       "      <td>NaN</td>\n",
       "      <td>NaN</td>\n",
       "      <td>NaN</td>\n",
       "      <td>NaN</td>\n",
       "      <td>NaN</td>\n",
       "      <td>NaN</td>\n",
       "    </tr>\n",
       "    <tr>\n",
       "      <th>17</th>\n",
       "      <td>Notera: Avser endast program (YH-utbildningar ...</td>\n",
       "      <td>NaN</td>\n",
       "      <td>NaN</td>\n",
       "      <td>NaN</td>\n",
       "      <td>NaN</td>\n",
       "      <td>NaN</td>\n",
       "      <td>NaN</td>\n",
       "      <td>NaN</td>\n",
       "      <td>NaN</td>\n",
       "      <td>NaN</td>\n",
       "      <td>NaN</td>\n",
       "      <td>NaN</td>\n",
       "      <td>NaN</td>\n",
       "      <td>NaN</td>\n",
       "    </tr>\n",
       "    <tr>\n",
       "      <th>18</th>\n",
       "      <td>NaN</td>\n",
       "      <td>NaN</td>\n",
       "      <td>NaN</td>\n",
       "      <td>NaN</td>\n",
       "      <td>NaN</td>\n",
       "      <td>NaN</td>\n",
       "      <td>NaN</td>\n",
       "      <td>NaN</td>\n",
       "      <td>NaN</td>\n",
       "      <td>NaN</td>\n",
       "      <td>NaN</td>\n",
       "      <td>NaN</td>\n",
       "      <td>NaN</td>\n",
       "      <td>NaN</td>\n",
       "    </tr>\n",
       "    <tr>\n",
       "      <th>19</th>\n",
       "      <td>Källa: Myndigheten för yrkeshögskolan.</td>\n",
       "      <td>NaN</td>\n",
       "      <td>NaN</td>\n",
       "      <td>NaN</td>\n",
       "      <td>NaN</td>\n",
       "      <td>NaN</td>\n",
       "      <td>NaN</td>\n",
       "      <td>NaN</td>\n",
       "      <td>NaN</td>\n",
       "      <td>NaN</td>\n",
       "      <td>NaN</td>\n",
       "      <td>NaN</td>\n",
       "      <td>NaN</td>\n",
       "      <td>NaN</td>\n",
       "    </tr>\n",
       "  </tbody>\n",
       "</table>\n",
       "</div>"
      ],
      "text/plain": [
       "                                    Utbildningsområde         2012  \\\n",
       "0                                             Data/IT   109.192749   \n",
       "1             Ekonomi, administration och försäljning   333.379221   \n",
       "2                            Friskvård och kroppsvård    12.385036   \n",
       "3                       Hotell, restaurang och turism    76.257076   \n",
       "4             Hälso- och sjukvård samt socialt arbete   118.890913   \n",
       "5                        Journalistik och information     8.323028   \n",
       "6                                             Juridik     6.285412   \n",
       "7                            Kultur, media och design    87.487106   \n",
       "8        Lantbruk, djurvård, trädgård, skog och fiske    51.798081   \n",
       "9                          Pedagogik och undervisning    17.567920   \n",
       "10                     Samhällsbyggnad och byggteknik   144.764251   \n",
       "11                                  Säkerhetstjänster    12.080525   \n",
       "12                            Teknik och tillverkning   237.492378   \n",
       "13                                  Transporttjänster    56.769704   \n",
       "14                                             Övrigt     7.763576   \n",
       "15                                             Totalt  1280.436976   \n",
       "16                                                NaN          NaN   \n",
       "17  Notera: Avser endast program (YH-utbildningar ...          NaN   \n",
       "18                                                NaN          NaN   \n",
       "19             Källa: Myndigheten för yrkeshögskolan.          NaN   \n",
       "\n",
       "           2013         2014         2015         2016         2017  \\\n",
       "0    136.592343   154.726348   192.765796   211.257113   198.036024   \n",
       "1    373.196476   392.273449   397.432949   381.773874   406.235745   \n",
       "2     12.129508    12.160803    11.943787    10.835978     7.151950   \n",
       "3     78.752007    81.725028    81.591173    78.335025    79.393923   \n",
       "4    130.518945   148.016792   174.665651   177.475662   194.507055   \n",
       "5     11.691712    19.213199    21.328087    19.126495    20.104219   \n",
       "6      9.027900     8.867318     9.763824    11.196000    13.153375   \n",
       "7     96.421940   107.899579   118.131529   116.248464   123.081064   \n",
       "8     55.014831    48.989999    55.669332    64.264977    67.294657   \n",
       "9     17.970322    20.883172    19.929969    22.854123    28.460519   \n",
       "10   180.390592   185.992527   198.195534   223.487924   247.733960   \n",
       "11    11.843398    10.509850     9.998484    12.521000     8.570239   \n",
       "12   270.176367   280.300634   293.485426   288.171444   290.249849   \n",
       "13    59.399747    55.568749    84.037502   111.879407   113.576079   \n",
       "14    13.136499    13.884000    10.416246    10.800998    14.592330   \n",
       "15  1456.262587  1541.011447  1679.355289  1740.228484  1812.140988   \n",
       "16          NaN          NaN          NaN          NaN          NaN   \n",
       "17          NaN          NaN          NaN          NaN          NaN   \n",
       "18          NaN          NaN          NaN          NaN          NaN   \n",
       "19          NaN          NaN          NaN          NaN          NaN   \n",
       "\n",
       "           2018         2019         2020         2021         2022  \\\n",
       "0    203.249950   246.098128   356.251492   499.505111   566.211689   \n",
       "1    469.265158   549.522420   626.322157   677.605539   664.706433   \n",
       "2     10.021599    12.640847    15.614295    18.105384    22.952224   \n",
       "3     83.923865    89.100543   102.670911   115.716079   110.391271   \n",
       "4    219.279194   257.937313   310.385978   356.077126   377.270519   \n",
       "5     22.520929    28.415865    29.541782    28.698530    28.607127   \n",
       "6     14.716194    14.735424    16.637735    17.341442    12.816581   \n",
       "7    127.300040   131.276812   158.302460   185.625737   200.429775   \n",
       "8     65.009836    68.856857    82.730961    91.199354   103.753851   \n",
       "9     30.734559    45.013884    50.859064    66.792310    74.968297   \n",
       "10   282.362259   331.770969   418.709777   518.062878   544.106976   \n",
       "11     7.231494    12.350178    15.907922    21.932088    24.531988   \n",
       "12   301.586753   342.140952   431.257185   521.676310   537.890182   \n",
       "13   113.884016   103.576663   106.558937   100.988215   102.928269   \n",
       "14    14.535402    21.721748    26.978567    30.952812    36.231579   \n",
       "15  1965.621248  2255.158603  2748.729223  3250.278915  3407.796761   \n",
       "16          NaN          NaN          NaN          NaN          NaN   \n",
       "17          NaN          NaN          NaN          NaN          NaN   \n",
       "18          NaN          NaN          NaN          NaN          NaN   \n",
       "19          NaN          NaN          NaN          NaN          NaN   \n",
       "\n",
       "           2023         2024  \n",
       "0    600.542099   665.038880  \n",
       "1    645.379020   664.212939  \n",
       "2     23.312976    17.164001  \n",
       "3     95.516479   100.372505  \n",
       "4    359.356705   340.306947  \n",
       "5     25.851106    23.252844  \n",
       "6     11.423875    12.337662  \n",
       "7    213.685047   230.626209  \n",
       "8    112.383832   126.912377  \n",
       "9     63.687611    46.145875  \n",
       "10   513.145597   529.738844  \n",
       "11    28.235429    29.220064  \n",
       "12   541.447543   619.121294  \n",
       "13    96.102330    95.759291  \n",
       "14    32.072962    29.380400  \n",
       "15  3362.142611  3529.590132  \n",
       "16          NaN          NaN  \n",
       "17          NaN          NaN  \n",
       "18          NaN          NaN  \n",
       "19          NaN          NaN  "
      ]
     },
     "execution_count": 9,
     "metadata": {},
     "output_type": "execute_result"
    }
   ],
   "source": [
    "df_msek=df.copy()\n",
    "df_msek"
   ]
  },
  {
   "cell_type": "code",
   "execution_count": 10,
   "id": "188c9d2c",
   "metadata": {},
   "outputs": [
    {
     "name": "stdout",
     "output_type": "stream",
     "text": [
      "<class 'pandas.core.frame.DataFrame'>\n",
      "RangeIndex: 20 entries, 0 to 19\n",
      "Data columns (total 14 columns):\n",
      " #   Column             Non-Null Count  Dtype  \n",
      "---  ------             --------------  -----  \n",
      " 0   Utbildningsområde  18 non-null     object \n",
      " 1   2012               16 non-null     float64\n",
      " 2   2013               16 non-null     float64\n",
      " 3   2014               16 non-null     float64\n",
      " 4   2015               16 non-null     float64\n",
      " 5   2016               16 non-null     float64\n",
      " 6   2017               16 non-null     float64\n",
      " 7   2018               16 non-null     float64\n",
      " 8   2019               16 non-null     float64\n",
      " 9   2020               16 non-null     float64\n",
      " 10  2021               16 non-null     float64\n",
      " 11  2022               16 non-null     float64\n",
      " 12  2023               16 non-null     float64\n",
      " 13  2024               16 non-null     float64\n",
      "dtypes: float64(13), object(1)\n",
      "memory usage: 2.3+ KB\n"
     ]
    }
   ],
   "source": [
    "df_msek.info()"
   ]
  },
  {
   "cell_type": "code",
   "execution_count": 13,
   "id": "a9350163",
   "metadata": {},
   "outputs": [
    {
     "data": {
      "text/html": [
       "<div>\n",
       "<style scoped>\n",
       "    .dataframe tbody tr th:only-of-type {\n",
       "        vertical-align: middle;\n",
       "    }\n",
       "\n",
       "    .dataframe tbody tr th {\n",
       "        vertical-align: top;\n",
       "    }\n",
       "\n",
       "    .dataframe thead th {\n",
       "        text-align: right;\n",
       "    }\n",
       "</style>\n",
       "<table border=\"1\" class=\"dataframe\">\n",
       "  <thead>\n",
       "    <tr style=\"text-align: right;\">\n",
       "      <th></th>\n",
       "      <th>Anordnare namn</th>\n",
       "      <th>Utbildningsnamn</th>\n",
       "      <th>Utbildningsområde</th>\n",
       "      <th>Antal beviljade platser start 2024</th>\n",
       "      <th>Kommun</th>\n",
       "      <th>MSEK_2024</th>\n",
       "    </tr>\n",
       "  </thead>\n",
       "  <tbody>\n",
       "    <tr>\n",
       "      <th>0</th>\n",
       "      <td>Plushögskolan AB - Affärshögskolan</td>\n",
       "      <td>Strategisk hållbarhetsutveckling</td>\n",
       "      <td>Ekonomi, administration och försäljning</td>\n",
       "      <td>50</td>\n",
       "      <td>Flera kommuner</td>\n",
       "      <td>664.212939</td>\n",
       "    </tr>\n",
       "    <tr>\n",
       "      <th>1</th>\n",
       "      <td>IHM Business School AB Göteborg</td>\n",
       "      <td>Social media marketing</td>\n",
       "      <td>Ekonomi, administration och försäljning</td>\n",
       "      <td>50</td>\n",
       "      <td>Göteborg</td>\n",
       "      <td>664.212939</td>\n",
       "    </tr>\n",
       "    <tr>\n",
       "      <th>2</th>\n",
       "      <td>Plushögskolan AB - Vårdyrkeshögskolan</td>\n",
       "      <td>E-hälsa, digitalisering och välfärdsteknik ino...</td>\n",
       "      <td>Hälso- och sjukvård samt socialt arbete</td>\n",
       "      <td>0</td>\n",
       "      <td>Flera kommuner</td>\n",
       "      <td>340.306947</td>\n",
       "    </tr>\n",
       "    <tr>\n",
       "      <th>3</th>\n",
       "      <td>Hyper Island Program AB - Karlskrona</td>\n",
       "      <td>Sustainability Change Leadership</td>\n",
       "      <td>Ekonomi, administration och försäljning</td>\n",
       "      <td>55</td>\n",
       "      <td>Flera kommuner</td>\n",
       "      <td>664.212939</td>\n",
       "    </tr>\n",
       "    <tr>\n",
       "      <th>4</th>\n",
       "      <td>Plushögskolan AB - Affärshögskolan</td>\n",
       "      <td>Digitalisering och systemkunskap inom lön - Sp...</td>\n",
       "      <td>Ekonomi, administration och försäljning</td>\n",
       "      <td>50</td>\n",
       "      <td>Gävle</td>\n",
       "      <td>664.212939</td>\n",
       "    </tr>\n",
       "    <tr>\n",
       "      <th>...</th>\n",
       "      <td>...</td>\n",
       "      <td>...</td>\n",
       "      <td>...</td>\n",
       "      <td>...</td>\n",
       "      <td>...</td>\n",
       "      <td>...</td>\n",
       "    </tr>\n",
       "    <tr>\n",
       "      <th>446</th>\n",
       "      <td>Företagsuniversitetet AB</td>\n",
       "      <td>Upphandling av digitaliserings- och IT-lösningar</td>\n",
       "      <td>Ekonomi, administration och försäljning</td>\n",
       "      <td>0</td>\n",
       "      <td>Stockholm</td>\n",
       "      <td>664.212939</td>\n",
       "    </tr>\n",
       "    <tr>\n",
       "      <th>447</th>\n",
       "      <td>INSU AB</td>\n",
       "      <td>Solenergiprojektering</td>\n",
       "      <td>Samhällsbyggnad och byggteknik</td>\n",
       "      <td>0</td>\n",
       "      <td>Nyköping</td>\n",
       "      <td>529.738844</td>\n",
       "    </tr>\n",
       "    <tr>\n",
       "      <th>448</th>\n",
       "      <td>Företagsuniversitetet AB</td>\n",
       "      <td>Att bygga en informationssäkerhetskultur</td>\n",
       "      <td>Säkerhetstjänster</td>\n",
       "      <td>0</td>\n",
       "      <td>Stockholm</td>\n",
       "      <td>29.220064</td>\n",
       "    </tr>\n",
       "    <tr>\n",
       "      <th>449</th>\n",
       "      <td>Hyper Island Program AB - Stockholm</td>\n",
       "      <td>Data Analytics</td>\n",
       "      <td>Data/IT</td>\n",
       "      <td>50</td>\n",
       "      <td>Stockholm</td>\n",
       "      <td>665.038880</td>\n",
       "    </tr>\n",
       "    <tr>\n",
       "      <th>450</th>\n",
       "      <td>Campus Nyköping</td>\n",
       "      <td>Hälsofrämjande och pedagogiska insatser med häst</td>\n",
       "      <td>Lantbruk, djurvård, trädgård, skog och fiske</td>\n",
       "      <td>24</td>\n",
       "      <td>Nyköping</td>\n",
       "      <td>126.912377</td>\n",
       "    </tr>\n",
       "  </tbody>\n",
       "</table>\n",
       "<p>451 rows × 6 columns</p>\n",
       "</div>"
      ],
      "text/plain": [
       "                            Anordnare namn  \\\n",
       "0       Plushögskolan AB - Affärshögskolan   \n",
       "1          IHM Business School AB Göteborg   \n",
       "2    Plushögskolan AB - Vårdyrkeshögskolan   \n",
       "3     Hyper Island Program AB - Karlskrona   \n",
       "4       Plushögskolan AB - Affärshögskolan   \n",
       "..                                     ...   \n",
       "446               Företagsuniversitetet AB   \n",
       "447                                INSU AB   \n",
       "448               Företagsuniversitetet AB   \n",
       "449    Hyper Island Program AB - Stockholm   \n",
       "450                        Campus Nyköping   \n",
       "\n",
       "                                       Utbildningsnamn  \\\n",
       "0                     Strategisk hållbarhetsutveckling   \n",
       "1                               Social media marketing   \n",
       "2    E-hälsa, digitalisering och välfärdsteknik ino...   \n",
       "3                     Sustainability Change Leadership   \n",
       "4    Digitalisering och systemkunskap inom lön - Sp...   \n",
       "..                                                 ...   \n",
       "446   Upphandling av digitaliserings- och IT-lösningar   \n",
       "447                              Solenergiprojektering   \n",
       "448           Att bygga en informationssäkerhetskultur   \n",
       "449                                     Data Analytics   \n",
       "450   Hälsofrämjande och pedagogiska insatser med häst   \n",
       "\n",
       "                                Utbildningsområde  \\\n",
       "0         Ekonomi, administration och försäljning   \n",
       "1         Ekonomi, administration och försäljning   \n",
       "2         Hälso- och sjukvård samt socialt arbete   \n",
       "3         Ekonomi, administration och försäljning   \n",
       "4         Ekonomi, administration och försäljning   \n",
       "..                                            ...   \n",
       "446       Ekonomi, administration och försäljning   \n",
       "447                Samhällsbyggnad och byggteknik   \n",
       "448                             Säkerhetstjänster   \n",
       "449                                       Data/IT   \n",
       "450  Lantbruk, djurvård, trädgård, skog och fiske   \n",
       "\n",
       "     Antal beviljade platser start 2024          Kommun   MSEK_2024  \n",
       "0                                    50  Flera kommuner  664.212939  \n",
       "1                                    50        Göteborg  664.212939  \n",
       "2                                     0  Flera kommuner  340.306947  \n",
       "3                                    55  Flera kommuner  664.212939  \n",
       "4                                    50           Gävle  664.212939  \n",
       "..                                  ...             ...         ...  \n",
       "446                                   0       Stockholm  664.212939  \n",
       "447                                   0        Nyköping  529.738844  \n",
       "448                                   0       Stockholm   29.220064  \n",
       "449                                  50       Stockholm  665.038880  \n",
       "450                                  24        Nyköping  126.912377  \n",
       "\n",
       "[451 rows x 6 columns]"
      ]
     },
     "execution_count": 13,
     "metadata": {},
     "output_type": "execute_result"
    }
   ],
   "source": [
    "df_result = result_df.merge(\n",
    "    df_msek[['Utbildningsområde', 2024]], \n",
    "    on='Utbildningsområde', \n",
    "    how='left'\n",
    ")\n",
    "\n",
    "df_result = df_result.rename(columns={2024: 'MSEK_2024'})\n",
    "df_result"
   ]
  },
  {
   "cell_type": "code",
   "execution_count": 23,
   "id": "feaf3d81",
   "metadata": {},
   "outputs": [
    {
     "data": {
      "application/vnd.plotly.v1+json": {
       "config": {
        "plotlyServerURL": "https://plot.ly"
       },
       "data": [
        {
         "hovertemplate": "x=%{x}<br>y=%{y}<extra></extra>",
         "legendgroup": "",
         "marker": {
          "color": "#636efa",
          "pattern": {
           "shape": ""
          }
         },
         "name": "",
         "orientation": "h",
         "showlegend": false,
         "textposition": "auto",
         "type": "bar",
         "x": {
          "bdata": "BguzBY0EdAQQBIQAggB3AHMAVQA=",
          "dtype": "i2"
         },
         "xaxis": "x",
         "y": [
          "Ekonomi, administration och försäljning",
          "Data/IT",
          "Samhällsbyggnad och byggteknik",
          "Hälso- och sjukvård samt socialt arbete",
          "Teknik och tillverkning",
          "Hotell, restaurang och turism",
          "Juridik",
          "Lantbruk, djurvård, trädgård, skog och fiske",
          "Pedagogik och undervisning",
          "Säkerhetstjänster"
         ],
         "yaxis": "y"
        }
       ],
       "layout": {
        "barmode": "relative",
        "legend": {
         "tracegroupgap": 0
        },
        "margin": {
         "t": 60
        },
        "template": {
         "data": {
          "bar": [
           {
            "error_x": {
             "color": "#2a3f5f"
            },
            "error_y": {
             "color": "#2a3f5f"
            },
            "marker": {
             "line": {
              "color": "#E5ECF6",
              "width": 0.5
             },
             "pattern": {
              "fillmode": "overlay",
              "size": 10,
              "solidity": 0.2
             }
            },
            "type": "bar"
           }
          ],
          "barpolar": [
           {
            "marker": {
             "line": {
              "color": "#E5ECF6",
              "width": 0.5
             },
             "pattern": {
              "fillmode": "overlay",
              "size": 10,
              "solidity": 0.2
             }
            },
            "type": "barpolar"
           }
          ],
          "carpet": [
           {
            "aaxis": {
             "endlinecolor": "#2a3f5f",
             "gridcolor": "white",
             "linecolor": "white",
             "minorgridcolor": "white",
             "startlinecolor": "#2a3f5f"
            },
            "baxis": {
             "endlinecolor": "#2a3f5f",
             "gridcolor": "white",
             "linecolor": "white",
             "minorgridcolor": "white",
             "startlinecolor": "#2a3f5f"
            },
            "type": "carpet"
           }
          ],
          "choropleth": [
           {
            "colorbar": {
             "outlinewidth": 0,
             "ticks": ""
            },
            "type": "choropleth"
           }
          ],
          "contour": [
           {
            "colorbar": {
             "outlinewidth": 0,
             "ticks": ""
            },
            "colorscale": [
             [
              0,
              "#0d0887"
             ],
             [
              0.1111111111111111,
              "#46039f"
             ],
             [
              0.2222222222222222,
              "#7201a8"
             ],
             [
              0.3333333333333333,
              "#9c179e"
             ],
             [
              0.4444444444444444,
              "#bd3786"
             ],
             [
              0.5555555555555556,
              "#d8576b"
             ],
             [
              0.6666666666666666,
              "#ed7953"
             ],
             [
              0.7777777777777778,
              "#fb9f3a"
             ],
             [
              0.8888888888888888,
              "#fdca26"
             ],
             [
              1,
              "#f0f921"
             ]
            ],
            "type": "contour"
           }
          ],
          "contourcarpet": [
           {
            "colorbar": {
             "outlinewidth": 0,
             "ticks": ""
            },
            "type": "contourcarpet"
           }
          ],
          "heatmap": [
           {
            "colorbar": {
             "outlinewidth": 0,
             "ticks": ""
            },
            "colorscale": [
             [
              0,
              "#0d0887"
             ],
             [
              0.1111111111111111,
              "#46039f"
             ],
             [
              0.2222222222222222,
              "#7201a8"
             ],
             [
              0.3333333333333333,
              "#9c179e"
             ],
             [
              0.4444444444444444,
              "#bd3786"
             ],
             [
              0.5555555555555556,
              "#d8576b"
             ],
             [
              0.6666666666666666,
              "#ed7953"
             ],
             [
              0.7777777777777778,
              "#fb9f3a"
             ],
             [
              0.8888888888888888,
              "#fdca26"
             ],
             [
              1,
              "#f0f921"
             ]
            ],
            "type": "heatmap"
           }
          ],
          "histogram": [
           {
            "marker": {
             "pattern": {
              "fillmode": "overlay",
              "size": 10,
              "solidity": 0.2
             }
            },
            "type": "histogram"
           }
          ],
          "histogram2d": [
           {
            "colorbar": {
             "outlinewidth": 0,
             "ticks": ""
            },
            "colorscale": [
             [
              0,
              "#0d0887"
             ],
             [
              0.1111111111111111,
              "#46039f"
             ],
             [
              0.2222222222222222,
              "#7201a8"
             ],
             [
              0.3333333333333333,
              "#9c179e"
             ],
             [
              0.4444444444444444,
              "#bd3786"
             ],
             [
              0.5555555555555556,
              "#d8576b"
             ],
             [
              0.6666666666666666,
              "#ed7953"
             ],
             [
              0.7777777777777778,
              "#fb9f3a"
             ],
             [
              0.8888888888888888,
              "#fdca26"
             ],
             [
              1,
              "#f0f921"
             ]
            ],
            "type": "histogram2d"
           }
          ],
          "histogram2dcontour": [
           {
            "colorbar": {
             "outlinewidth": 0,
             "ticks": ""
            },
            "colorscale": [
             [
              0,
              "#0d0887"
             ],
             [
              0.1111111111111111,
              "#46039f"
             ],
             [
              0.2222222222222222,
              "#7201a8"
             ],
             [
              0.3333333333333333,
              "#9c179e"
             ],
             [
              0.4444444444444444,
              "#bd3786"
             ],
             [
              0.5555555555555556,
              "#d8576b"
             ],
             [
              0.6666666666666666,
              "#ed7953"
             ],
             [
              0.7777777777777778,
              "#fb9f3a"
             ],
             [
              0.8888888888888888,
              "#fdca26"
             ],
             [
              1,
              "#f0f921"
             ]
            ],
            "type": "histogram2dcontour"
           }
          ],
          "mesh3d": [
           {
            "colorbar": {
             "outlinewidth": 0,
             "ticks": ""
            },
            "type": "mesh3d"
           }
          ],
          "parcoords": [
           {
            "line": {
             "colorbar": {
              "outlinewidth": 0,
              "ticks": ""
             }
            },
            "type": "parcoords"
           }
          ],
          "pie": [
           {
            "automargin": true,
            "type": "pie"
           }
          ],
          "scatter": [
           {
            "fillpattern": {
             "fillmode": "overlay",
             "size": 10,
             "solidity": 0.2
            },
            "type": "scatter"
           }
          ],
          "scatter3d": [
           {
            "line": {
             "colorbar": {
              "outlinewidth": 0,
              "ticks": ""
             }
            },
            "marker": {
             "colorbar": {
              "outlinewidth": 0,
              "ticks": ""
             }
            },
            "type": "scatter3d"
           }
          ],
          "scattercarpet": [
           {
            "marker": {
             "colorbar": {
              "outlinewidth": 0,
              "ticks": ""
             }
            },
            "type": "scattercarpet"
           }
          ],
          "scattergeo": [
           {
            "marker": {
             "colorbar": {
              "outlinewidth": 0,
              "ticks": ""
             }
            },
            "type": "scattergeo"
           }
          ],
          "scattergl": [
           {
            "marker": {
             "colorbar": {
              "outlinewidth": 0,
              "ticks": ""
             }
            },
            "type": "scattergl"
           }
          ],
          "scattermap": [
           {
            "marker": {
             "colorbar": {
              "outlinewidth": 0,
              "ticks": ""
             }
            },
            "type": "scattermap"
           }
          ],
          "scattermapbox": [
           {
            "marker": {
             "colorbar": {
              "outlinewidth": 0,
              "ticks": ""
             }
            },
            "type": "scattermapbox"
           }
          ],
          "scatterpolar": [
           {
            "marker": {
             "colorbar": {
              "outlinewidth": 0,
              "ticks": ""
             }
            },
            "type": "scatterpolar"
           }
          ],
          "scatterpolargl": [
           {
            "marker": {
             "colorbar": {
              "outlinewidth": 0,
              "ticks": ""
             }
            },
            "type": "scatterpolargl"
           }
          ],
          "scatterternary": [
           {
            "marker": {
             "colorbar": {
              "outlinewidth": 0,
              "ticks": ""
             }
            },
            "type": "scatterternary"
           }
          ],
          "surface": [
           {
            "colorbar": {
             "outlinewidth": 0,
             "ticks": ""
            },
            "colorscale": [
             [
              0,
              "#0d0887"
             ],
             [
              0.1111111111111111,
              "#46039f"
             ],
             [
              0.2222222222222222,
              "#7201a8"
             ],
             [
              0.3333333333333333,
              "#9c179e"
             ],
             [
              0.4444444444444444,
              "#bd3786"
             ],
             [
              0.5555555555555556,
              "#d8576b"
             ],
             [
              0.6666666666666666,
              "#ed7953"
             ],
             [
              0.7777777777777778,
              "#fb9f3a"
             ],
             [
              0.8888888888888888,
              "#fdca26"
             ],
             [
              1,
              "#f0f921"
             ]
            ],
            "type": "surface"
           }
          ],
          "table": [
           {
            "cells": {
             "fill": {
              "color": "#EBF0F8"
             },
             "line": {
              "color": "white"
             }
            },
            "header": {
             "fill": {
              "color": "#C8D4E3"
             },
             "line": {
              "color": "white"
             }
            },
            "type": "table"
           }
          ]
         },
         "layout": {
          "annotationdefaults": {
           "arrowcolor": "#2a3f5f",
           "arrowhead": 0,
           "arrowwidth": 1
          },
          "autotypenumbers": "strict",
          "coloraxis": {
           "colorbar": {
            "outlinewidth": 0,
            "ticks": ""
           }
          },
          "colorscale": {
           "diverging": [
            [
             0,
             "#8e0152"
            ],
            [
             0.1,
             "#c51b7d"
            ],
            [
             0.2,
             "#de77ae"
            ],
            [
             0.3,
             "#f1b6da"
            ],
            [
             0.4,
             "#fde0ef"
            ],
            [
             0.5,
             "#f7f7f7"
            ],
            [
             0.6,
             "#e6f5d0"
            ],
            [
             0.7,
             "#b8e186"
            ],
            [
             0.8,
             "#7fbc41"
            ],
            [
             0.9,
             "#4d9221"
            ],
            [
             1,
             "#276419"
            ]
           ],
           "sequential": [
            [
             0,
             "#0d0887"
            ],
            [
             0.1111111111111111,
             "#46039f"
            ],
            [
             0.2222222222222222,
             "#7201a8"
            ],
            [
             0.3333333333333333,
             "#9c179e"
            ],
            [
             0.4444444444444444,
             "#bd3786"
            ],
            [
             0.5555555555555556,
             "#d8576b"
            ],
            [
             0.6666666666666666,
             "#ed7953"
            ],
            [
             0.7777777777777778,
             "#fb9f3a"
            ],
            [
             0.8888888888888888,
             "#fdca26"
            ],
            [
             1,
             "#f0f921"
            ]
           ],
           "sequentialminus": [
            [
             0,
             "#0d0887"
            ],
            [
             0.1111111111111111,
             "#46039f"
            ],
            [
             0.2222222222222222,
             "#7201a8"
            ],
            [
             0.3333333333333333,
             "#9c179e"
            ],
            [
             0.4444444444444444,
             "#bd3786"
            ],
            [
             0.5555555555555556,
             "#d8576b"
            ],
            [
             0.6666666666666666,
             "#ed7953"
            ],
            [
             0.7777777777777778,
             "#fb9f3a"
            ],
            [
             0.8888888888888888,
             "#fdca26"
            ],
            [
             1,
             "#f0f921"
            ]
           ]
          },
          "colorway": [
           "#636efa",
           "#EF553B",
           "#00cc96",
           "#ab63fa",
           "#FFA15A",
           "#19d3f3",
           "#FF6692",
           "#B6E880",
           "#FF97FF",
           "#FECB52"
          ],
          "font": {
           "color": "#2a3f5f"
          },
          "geo": {
           "bgcolor": "white",
           "lakecolor": "white",
           "landcolor": "#E5ECF6",
           "showlakes": true,
           "showland": true,
           "subunitcolor": "white"
          },
          "hoverlabel": {
           "align": "left"
          },
          "hovermode": "closest",
          "mapbox": {
           "style": "light"
          },
          "paper_bgcolor": "white",
          "plot_bgcolor": "#E5ECF6",
          "polar": {
           "angularaxis": {
            "gridcolor": "white",
            "linecolor": "white",
            "ticks": ""
           },
           "bgcolor": "#E5ECF6",
           "radialaxis": {
            "gridcolor": "white",
            "linecolor": "white",
            "ticks": ""
           }
          },
          "scene": {
           "xaxis": {
            "backgroundcolor": "#E5ECF6",
            "gridcolor": "white",
            "gridwidth": 2,
            "linecolor": "white",
            "showbackground": true,
            "ticks": "",
            "zerolinecolor": "white"
           },
           "yaxis": {
            "backgroundcolor": "#E5ECF6",
            "gridcolor": "white",
            "gridwidth": 2,
            "linecolor": "white",
            "showbackground": true,
            "ticks": "",
            "zerolinecolor": "white"
           },
           "zaxis": {
            "backgroundcolor": "#E5ECF6",
            "gridcolor": "white",
            "gridwidth": 2,
            "linecolor": "white",
            "showbackground": true,
            "ticks": "",
            "zerolinecolor": "white"
           }
          },
          "shapedefaults": {
           "line": {
            "color": "#2a3f5f"
           }
          },
          "ternary": {
           "aaxis": {
            "gridcolor": "white",
            "linecolor": "white",
            "ticks": ""
           },
           "baxis": {
            "gridcolor": "white",
            "linecolor": "white",
            "ticks": ""
           },
           "bgcolor": "#E5ECF6",
           "caxis": {
            "gridcolor": "white",
            "linecolor": "white",
            "ticks": ""
           }
          },
          "title": {
           "x": 0.05
          },
          "xaxis": {
           "automargin": true,
           "gridcolor": "white",
           "linecolor": "white",
           "ticks": "",
           "title": {
            "standoff": 15
           },
           "zerolinecolor": "white",
           "zerolinewidth": 2
          },
          "yaxis": {
           "automargin": true,
           "gridcolor": "white",
           "linecolor": "white",
           "ticks": "",
           "title": {
            "standoff": 15
           },
           "zerolinecolor": "white",
           "zerolinewidth": 2
          }
         }
        },
        "xaxis": {
         "anchor": "y",
         "domain": [
          0,
          1
         ],
         "title": {
          "text": "x"
         }
        },
        "yaxis": {
         "anchor": "x",
         "domain": [
          0,
          1
         ],
         "title": {
          "text": "y"
         }
        }
       }
      }
     },
     "metadata": {},
     "output_type": "display_data"
    }
   ],
   "source": [
    "import plotly.express as px\n",
    "\n",
    "top_anordnare = df_result.groupby('Utbildningsområde')['Antal beviljade platser start 2024'].sum().nlargest(10)\n",
    "fig = px.bar(x=top_anordnare.values, y=top_anordnare.index, orientation='h')\n",
    "fig.show()"
   ]
  },
  {
   "cell_type": "code",
   "execution_count": 14,
   "id": "21d4992c",
   "metadata": {},
   "outputs": [
    {
     "data": {
      "application/vnd.plotly.v1+json": {
       "config": {
        "plotlyServerURL": "https://plot.ly"
       },
       "data": [
        {
         "hovertemplate": "Kommun=%{x}<br>Antal beviljade platser start 2024=%{y}<extra></extra>",
         "legendgroup": "",
         "marker": {
          "color": "#636efa",
          "pattern": {
           "shape": ""
          }
         },
         "name": "",
         "orientation": "v",
         "showlegend": false,
         "textposition": "auto",
         "type": "bar",
         "x": [
          "Stockholm",
          "Flera kommuner",
          "Göteborg",
          "Malmö",
          "Solna",
          "Örebro",
          "Nyköping",
          "Västerås",
          "Umeå",
          "Trollhättan",
          "Västra Frölunda",
          "Karlskrona",
          "Växjö",
          "Norrköping",
          "Nynäshamn"
         ],
         "xaxis": "x",
         "y": {
          "bdata": "bAjBBNEDpQKRAXwB5QDDAKoAoACgAIwAggBkAGQA",
          "dtype": "i2"
         },
         "yaxis": "y"
        }
       ],
       "layout": {
        "barmode": "relative",
        "legend": {
         "tracegroupgap": 0
        },
        "template": {
         "data": {
          "bar": [
           {
            "error_x": {
             "color": "#2a3f5f"
            },
            "error_y": {
             "color": "#2a3f5f"
            },
            "marker": {
             "line": {
              "color": "#E5ECF6",
              "width": 0.5
             },
             "pattern": {
              "fillmode": "overlay",
              "size": 10,
              "solidity": 0.2
             }
            },
            "type": "bar"
           }
          ],
          "barpolar": [
           {
            "marker": {
             "line": {
              "color": "#E5ECF6",
              "width": 0.5
             },
             "pattern": {
              "fillmode": "overlay",
              "size": 10,
              "solidity": 0.2
             }
            },
            "type": "barpolar"
           }
          ],
          "carpet": [
           {
            "aaxis": {
             "endlinecolor": "#2a3f5f",
             "gridcolor": "white",
             "linecolor": "white",
             "minorgridcolor": "white",
             "startlinecolor": "#2a3f5f"
            },
            "baxis": {
             "endlinecolor": "#2a3f5f",
             "gridcolor": "white",
             "linecolor": "white",
             "minorgridcolor": "white",
             "startlinecolor": "#2a3f5f"
            },
            "type": "carpet"
           }
          ],
          "choropleth": [
           {
            "colorbar": {
             "outlinewidth": 0,
             "ticks": ""
            },
            "type": "choropleth"
           }
          ],
          "contour": [
           {
            "colorbar": {
             "outlinewidth": 0,
             "ticks": ""
            },
            "colorscale": [
             [
              0,
              "#0d0887"
             ],
             [
              0.1111111111111111,
              "#46039f"
             ],
             [
              0.2222222222222222,
              "#7201a8"
             ],
             [
              0.3333333333333333,
              "#9c179e"
             ],
             [
              0.4444444444444444,
              "#bd3786"
             ],
             [
              0.5555555555555556,
              "#d8576b"
             ],
             [
              0.6666666666666666,
              "#ed7953"
             ],
             [
              0.7777777777777778,
              "#fb9f3a"
             ],
             [
              0.8888888888888888,
              "#fdca26"
             ],
             [
              1,
              "#f0f921"
             ]
            ],
            "type": "contour"
           }
          ],
          "contourcarpet": [
           {
            "colorbar": {
             "outlinewidth": 0,
             "ticks": ""
            },
            "type": "contourcarpet"
           }
          ],
          "heatmap": [
           {
            "colorbar": {
             "outlinewidth": 0,
             "ticks": ""
            },
            "colorscale": [
             [
              0,
              "#0d0887"
             ],
             [
              0.1111111111111111,
              "#46039f"
             ],
             [
              0.2222222222222222,
              "#7201a8"
             ],
             [
              0.3333333333333333,
              "#9c179e"
             ],
             [
              0.4444444444444444,
              "#bd3786"
             ],
             [
              0.5555555555555556,
              "#d8576b"
             ],
             [
              0.6666666666666666,
              "#ed7953"
             ],
             [
              0.7777777777777778,
              "#fb9f3a"
             ],
             [
              0.8888888888888888,
              "#fdca26"
             ],
             [
              1,
              "#f0f921"
             ]
            ],
            "type": "heatmap"
           }
          ],
          "histogram": [
           {
            "marker": {
             "pattern": {
              "fillmode": "overlay",
              "size": 10,
              "solidity": 0.2
             }
            },
            "type": "histogram"
           }
          ],
          "histogram2d": [
           {
            "colorbar": {
             "outlinewidth": 0,
             "ticks": ""
            },
            "colorscale": [
             [
              0,
              "#0d0887"
             ],
             [
              0.1111111111111111,
              "#46039f"
             ],
             [
              0.2222222222222222,
              "#7201a8"
             ],
             [
              0.3333333333333333,
              "#9c179e"
             ],
             [
              0.4444444444444444,
              "#bd3786"
             ],
             [
              0.5555555555555556,
              "#d8576b"
             ],
             [
              0.6666666666666666,
              "#ed7953"
             ],
             [
              0.7777777777777778,
              "#fb9f3a"
             ],
             [
              0.8888888888888888,
              "#fdca26"
             ],
             [
              1,
              "#f0f921"
             ]
            ],
            "type": "histogram2d"
           }
          ],
          "histogram2dcontour": [
           {
            "colorbar": {
             "outlinewidth": 0,
             "ticks": ""
            },
            "colorscale": [
             [
              0,
              "#0d0887"
             ],
             [
              0.1111111111111111,
              "#46039f"
             ],
             [
              0.2222222222222222,
              "#7201a8"
             ],
             [
              0.3333333333333333,
              "#9c179e"
             ],
             [
              0.4444444444444444,
              "#bd3786"
             ],
             [
              0.5555555555555556,
              "#d8576b"
             ],
             [
              0.6666666666666666,
              "#ed7953"
             ],
             [
              0.7777777777777778,
              "#fb9f3a"
             ],
             [
              0.8888888888888888,
              "#fdca26"
             ],
             [
              1,
              "#f0f921"
             ]
            ],
            "type": "histogram2dcontour"
           }
          ],
          "mesh3d": [
           {
            "colorbar": {
             "outlinewidth": 0,
             "ticks": ""
            },
            "type": "mesh3d"
           }
          ],
          "parcoords": [
           {
            "line": {
             "colorbar": {
              "outlinewidth": 0,
              "ticks": ""
             }
            },
            "type": "parcoords"
           }
          ],
          "pie": [
           {
            "automargin": true,
            "type": "pie"
           }
          ],
          "scatter": [
           {
            "fillpattern": {
             "fillmode": "overlay",
             "size": 10,
             "solidity": 0.2
            },
            "type": "scatter"
           }
          ],
          "scatter3d": [
           {
            "line": {
             "colorbar": {
              "outlinewidth": 0,
              "ticks": ""
             }
            },
            "marker": {
             "colorbar": {
              "outlinewidth": 0,
              "ticks": ""
             }
            },
            "type": "scatter3d"
           }
          ],
          "scattercarpet": [
           {
            "marker": {
             "colorbar": {
              "outlinewidth": 0,
              "ticks": ""
             }
            },
            "type": "scattercarpet"
           }
          ],
          "scattergeo": [
           {
            "marker": {
             "colorbar": {
              "outlinewidth": 0,
              "ticks": ""
             }
            },
            "type": "scattergeo"
           }
          ],
          "scattergl": [
           {
            "marker": {
             "colorbar": {
              "outlinewidth": 0,
              "ticks": ""
             }
            },
            "type": "scattergl"
           }
          ],
          "scattermap": [
           {
            "marker": {
             "colorbar": {
              "outlinewidth": 0,
              "ticks": ""
             }
            },
            "type": "scattermap"
           }
          ],
          "scattermapbox": [
           {
            "marker": {
             "colorbar": {
              "outlinewidth": 0,
              "ticks": ""
             }
            },
            "type": "scattermapbox"
           }
          ],
          "scatterpolar": [
           {
            "marker": {
             "colorbar": {
              "outlinewidth": 0,
              "ticks": ""
             }
            },
            "type": "scatterpolar"
           }
          ],
          "scatterpolargl": [
           {
            "marker": {
             "colorbar": {
              "outlinewidth": 0,
              "ticks": ""
             }
            },
            "type": "scatterpolargl"
           }
          ],
          "scatterternary": [
           {
            "marker": {
             "colorbar": {
              "outlinewidth": 0,
              "ticks": ""
             }
            },
            "type": "scatterternary"
           }
          ],
          "surface": [
           {
            "colorbar": {
             "outlinewidth": 0,
             "ticks": ""
            },
            "colorscale": [
             [
              0,
              "#0d0887"
             ],
             [
              0.1111111111111111,
              "#46039f"
             ],
             [
              0.2222222222222222,
              "#7201a8"
             ],
             [
              0.3333333333333333,
              "#9c179e"
             ],
             [
              0.4444444444444444,
              "#bd3786"
             ],
             [
              0.5555555555555556,
              "#d8576b"
             ],
             [
              0.6666666666666666,
              "#ed7953"
             ],
             [
              0.7777777777777778,
              "#fb9f3a"
             ],
             [
              0.8888888888888888,
              "#fdca26"
             ],
             [
              1,
              "#f0f921"
             ]
            ],
            "type": "surface"
           }
          ],
          "table": [
           {
            "cells": {
             "fill": {
              "color": "#EBF0F8"
             },
             "line": {
              "color": "white"
             }
            },
            "header": {
             "fill": {
              "color": "#C8D4E3"
             },
             "line": {
              "color": "white"
             }
            },
            "type": "table"
           }
          ]
         },
         "layout": {
          "annotationdefaults": {
           "arrowcolor": "#2a3f5f",
           "arrowhead": 0,
           "arrowwidth": 1
          },
          "autotypenumbers": "strict",
          "coloraxis": {
           "colorbar": {
            "outlinewidth": 0,
            "ticks": ""
           }
          },
          "colorscale": {
           "diverging": [
            [
             0,
             "#8e0152"
            ],
            [
             0.1,
             "#c51b7d"
            ],
            [
             0.2,
             "#de77ae"
            ],
            [
             0.3,
             "#f1b6da"
            ],
            [
             0.4,
             "#fde0ef"
            ],
            [
             0.5,
             "#f7f7f7"
            ],
            [
             0.6,
             "#e6f5d0"
            ],
            [
             0.7,
             "#b8e186"
            ],
            [
             0.8,
             "#7fbc41"
            ],
            [
             0.9,
             "#4d9221"
            ],
            [
             1,
             "#276419"
            ]
           ],
           "sequential": [
            [
             0,
             "#0d0887"
            ],
            [
             0.1111111111111111,
             "#46039f"
            ],
            [
             0.2222222222222222,
             "#7201a8"
            ],
            [
             0.3333333333333333,
             "#9c179e"
            ],
            [
             0.4444444444444444,
             "#bd3786"
            ],
            [
             0.5555555555555556,
             "#d8576b"
            ],
            [
             0.6666666666666666,
             "#ed7953"
            ],
            [
             0.7777777777777778,
             "#fb9f3a"
            ],
            [
             0.8888888888888888,
             "#fdca26"
            ],
            [
             1,
             "#f0f921"
            ]
           ],
           "sequentialminus": [
            [
             0,
             "#0d0887"
            ],
            [
             0.1111111111111111,
             "#46039f"
            ],
            [
             0.2222222222222222,
             "#7201a8"
            ],
            [
             0.3333333333333333,
             "#9c179e"
            ],
            [
             0.4444444444444444,
             "#bd3786"
            ],
            [
             0.5555555555555556,
             "#d8576b"
            ],
            [
             0.6666666666666666,
             "#ed7953"
            ],
            [
             0.7777777777777778,
             "#fb9f3a"
            ],
            [
             0.8888888888888888,
             "#fdca26"
            ],
            [
             1,
             "#f0f921"
            ]
           ]
          },
          "colorway": [
           "#636efa",
           "#EF553B",
           "#00cc96",
           "#ab63fa",
           "#FFA15A",
           "#19d3f3",
           "#FF6692",
           "#B6E880",
           "#FF97FF",
           "#FECB52"
          ],
          "font": {
           "color": "#2a3f5f"
          },
          "geo": {
           "bgcolor": "white",
           "lakecolor": "white",
           "landcolor": "#E5ECF6",
           "showlakes": true,
           "showland": true,
           "subunitcolor": "white"
          },
          "hoverlabel": {
           "align": "left"
          },
          "hovermode": "closest",
          "mapbox": {
           "style": "light"
          },
          "paper_bgcolor": "white",
          "plot_bgcolor": "#E5ECF6",
          "polar": {
           "angularaxis": {
            "gridcolor": "white",
            "linecolor": "white",
            "ticks": ""
           },
           "bgcolor": "#E5ECF6",
           "radialaxis": {
            "gridcolor": "white",
            "linecolor": "white",
            "ticks": ""
           }
          },
          "scene": {
           "xaxis": {
            "backgroundcolor": "#E5ECF6",
            "gridcolor": "white",
            "gridwidth": 2,
            "linecolor": "white",
            "showbackground": true,
            "ticks": "",
            "zerolinecolor": "white"
           },
           "yaxis": {
            "backgroundcolor": "#E5ECF6",
            "gridcolor": "white",
            "gridwidth": 2,
            "linecolor": "white",
            "showbackground": true,
            "ticks": "",
            "zerolinecolor": "white"
           },
           "zaxis": {
            "backgroundcolor": "#E5ECF6",
            "gridcolor": "white",
            "gridwidth": 2,
            "linecolor": "white",
            "showbackground": true,
            "ticks": "",
            "zerolinecolor": "white"
           }
          },
          "shapedefaults": {
           "line": {
            "color": "#2a3f5f"
           }
          },
          "ternary": {
           "aaxis": {
            "gridcolor": "white",
            "linecolor": "white",
            "ticks": ""
           },
           "baxis": {
            "gridcolor": "white",
            "linecolor": "white",
            "ticks": ""
           },
           "bgcolor": "#E5ECF6",
           "caxis": {
            "gridcolor": "white",
            "linecolor": "white",
            "ticks": ""
           }
          },
          "title": {
           "x": 0.05
          },
          "xaxis": {
           "automargin": true,
           "gridcolor": "white",
           "linecolor": "white",
           "ticks": "",
           "title": {
            "standoff": 15
           },
           "zerolinecolor": "white",
           "zerolinewidth": 2
          },
          "yaxis": {
           "automargin": true,
           "gridcolor": "white",
           "linecolor": "white",
           "ticks": "",
           "title": {
            "standoff": 15
           },
           "zerolinecolor": "white",
           "zerolinewidth": 2
          }
         }
        },
        "title": {
         "text": "Top 15 kommuner"
        },
        "xaxis": {
         "anchor": "y",
         "domain": [
          0,
          1
         ],
         "title": {
          "text": "Kommun"
         }
        },
        "yaxis": {
         "anchor": "x",
         "domain": [
          0,
          1
         ],
         "title": {
          "text": "Antal beviljade platser start 2024"
         }
        }
       }
      }
     },
     "metadata": {},
     "output_type": "display_data"
    }
   ],
   "source": [
    "import plotly.express as px\n",
    "\n",
    "\n",
    "fig = px.bar(df_result.groupby('Kommun')['Antal beviljade platser start 2024'].sum().nlargest(15).reset_index(),\n",
    "             x='Kommun', y='Antal beviljade platser start 2024',\n",
    "             title='Top 15 kommuner')\n",
    "fig.show()"
   ]
  },
  {
   "cell_type": "code",
   "execution_count": null,
   "id": "0a300816",
   "metadata": {},
   "outputs": [
    {
     "name": "stdout",
     "output_type": "stream",
     "text": [
      "Requirement already satisfied: nbformat in /Library/Frameworks/Python.framework/Versions/3.12/lib/python3.12/site-packages (5.9.2)\n",
      "Collecting nbformat\n",
      "  Downloading nbformat-5.10.4-py3-none-any.whl.metadata (3.6 kB)\n",
      "Requirement already satisfied: plotly in /Library/Frameworks/Python.framework/Versions/3.12/lib/python3.12/site-packages (6.0.1)\n",
      "Requirement already satisfied: fastjsonschema>=2.15 in /Library/Frameworks/Python.framework/Versions/3.12/lib/python3.12/site-packages (from nbformat) (2.19.1)\n",
      "Requirement already satisfied: jsonschema>=2.6 in /Library/Frameworks/Python.framework/Versions/3.12/lib/python3.12/site-packages (from nbformat) (4.23.0)\n",
      "Requirement already satisfied: jupyter-core!=5.0.*,>=4.12 in /Library/Frameworks/Python.framework/Versions/3.12/lib/python3.12/site-packages (from nbformat) (5.7.2)\n",
      "Requirement already satisfied: traitlets>=5.1 in /Library/Frameworks/Python.framework/Versions/3.12/lib/python3.12/site-packages (from nbformat) (5.14.3)\n",
      "Requirement already satisfied: narwhals>=1.15.1 in /Library/Frameworks/Python.framework/Versions/3.12/lib/python3.12/site-packages (from plotly) (1.38.0)\n",
      "Requirement already satisfied: packaging in /Library/Frameworks/Python.framework/Versions/3.12/lib/python3.12/site-packages (from plotly) (24.2)\n",
      "Requirement already satisfied: attrs>=22.2.0 in /Library/Frameworks/Python.framework/Versions/3.12/lib/python3.12/site-packages (from jsonschema>=2.6->nbformat) (25.1.0)\n",
      "Requirement already satisfied: jsonschema-specifications>=2023.03.6 in /Library/Frameworks/Python.framework/Versions/3.12/lib/python3.12/site-packages (from jsonschema>=2.6->nbformat) (2024.10.1)\n",
      "Requirement already satisfied: referencing>=0.28.4 in /Library/Frameworks/Python.framework/Versions/3.12/lib/python3.12/site-packages (from jsonschema>=2.6->nbformat) (0.36.2)\n",
      "Requirement already satisfied: rpds-py>=0.7.1 in /Library/Frameworks/Python.framework/Versions/3.12/lib/python3.12/site-packages (from jsonschema>=2.6->nbformat) (0.22.3)\n",
      "Requirement already satisfied: platformdirs>=2.5 in /Library/Frameworks/Python.framework/Versions/3.12/lib/python3.12/site-packages (from jupyter-core!=5.0.*,>=4.12->nbformat) (4.3.6)\n",
      "Requirement already satisfied: typing-extensions>=4.4.0 in /Library/Frameworks/Python.framework/Versions/3.12/lib/python3.12/site-packages (from referencing>=0.28.4->jsonschema>=2.6->nbformat) (4.12.2)\n",
      "Downloading nbformat-5.10.4-py3-none-any.whl (78 kB)\n",
      "Installing collected packages: nbformat\n",
      "  Attempting uninstall: nbformat\n",
      "    Found existing installation: nbformat 5.9.2\n",
      "    Uninstalling nbformat-5.9.2:\n",
      "      Successfully uninstalled nbformat-5.9.2\n",
      "Successfully installed nbformat-5.10.4\n",
      "\n",
      "\u001b[1m[\u001b[0m\u001b[34;49mnotice\u001b[0m\u001b[1;39;49m]\u001b[0m\u001b[39;49m A new release of pip is available: \u001b[0m\u001b[31;49m24.3.1\u001b[0m\u001b[39;49m -> \u001b[0m\u001b[32;49m25.1.1\u001b[0m\n",
      "\u001b[1m[\u001b[0m\u001b[34;49mnotice\u001b[0m\u001b[1;39;49m]\u001b[0m\u001b[39;49m To update, run: \u001b[0m\u001b[32;49mpip install --upgrade pip\u001b[0m\n"
     ]
    }
   ],
   "source": [
    "!pip install --upgrade nbformat plotly"
   ]
  },
  {
   "cell_type": "code",
   "execution_count": null,
   "id": "837796bc",
   "metadata": {},
   "outputs": [
    {
     "name": "stdout",
     "output_type": "stream",
     "text": [
      "/Users/ira/Documents/DE24/github/the-skool-group5/.venv/bin/python: No module named pip\n",
      "Note: you may need to restart the kernel to use updated packages.\n"
     ]
    }
   ],
   "source": [
    "pip install --upgrade pip"
   ]
  },
  {
   "cell_type": "code",
   "execution_count": 19,
   "id": "02f292e2",
   "metadata": {},
   "outputs": [
    {
     "data": {
      "application/vnd.plotly.v1+json": {
       "config": {
        "plotlyServerURL": "https://plot.ly"
       },
       "data": [
        {
         "orientation": "h",
         "type": "bar",
         "x": {
          "bdata": "XAPJAbMBUAEdAQkBBAH/AOUAzQA=",
          "dtype": "i2"
         },
         "y": [
          "IHM Business School AB Göteborg",
          "Medieinstitutet i Sverige AB",
          "YH Akademin AB",
          "Nackademin AB",
          "TUC Sweden AB - Yrkeshögskola",
          "Stiftelsen Stockholms Tekniska Institut",
          "Blue Peak AB",
          "KompetensUtvecklingsInstitutet Sverige AB",
          "Campus Nyköping",
          "Lexicon Yrkeshögskola AB"
         ]
        }
       ],
       "layout": {
        "template": {
         "data": {
          "bar": [
           {
            "error_x": {
             "color": "#2a3f5f"
            },
            "error_y": {
             "color": "#2a3f5f"
            },
            "marker": {
             "line": {
              "color": "#E5ECF6",
              "width": 0.5
             },
             "pattern": {
              "fillmode": "overlay",
              "size": 10,
              "solidity": 0.2
             }
            },
            "type": "bar"
           }
          ],
          "barpolar": [
           {
            "marker": {
             "line": {
              "color": "#E5ECF6",
              "width": 0.5
             },
             "pattern": {
              "fillmode": "overlay",
              "size": 10,
              "solidity": 0.2
             }
            },
            "type": "barpolar"
           }
          ],
          "carpet": [
           {
            "aaxis": {
             "endlinecolor": "#2a3f5f",
             "gridcolor": "white",
             "linecolor": "white",
             "minorgridcolor": "white",
             "startlinecolor": "#2a3f5f"
            },
            "baxis": {
             "endlinecolor": "#2a3f5f",
             "gridcolor": "white",
             "linecolor": "white",
             "minorgridcolor": "white",
             "startlinecolor": "#2a3f5f"
            },
            "type": "carpet"
           }
          ],
          "choropleth": [
           {
            "colorbar": {
             "outlinewidth": 0,
             "ticks": ""
            },
            "type": "choropleth"
           }
          ],
          "contour": [
           {
            "colorbar": {
             "outlinewidth": 0,
             "ticks": ""
            },
            "colorscale": [
             [
              0,
              "#0d0887"
             ],
             [
              0.1111111111111111,
              "#46039f"
             ],
             [
              0.2222222222222222,
              "#7201a8"
             ],
             [
              0.3333333333333333,
              "#9c179e"
             ],
             [
              0.4444444444444444,
              "#bd3786"
             ],
             [
              0.5555555555555556,
              "#d8576b"
             ],
             [
              0.6666666666666666,
              "#ed7953"
             ],
             [
              0.7777777777777778,
              "#fb9f3a"
             ],
             [
              0.8888888888888888,
              "#fdca26"
             ],
             [
              1,
              "#f0f921"
             ]
            ],
            "type": "contour"
           }
          ],
          "contourcarpet": [
           {
            "colorbar": {
             "outlinewidth": 0,
             "ticks": ""
            },
            "type": "contourcarpet"
           }
          ],
          "heatmap": [
           {
            "colorbar": {
             "outlinewidth": 0,
             "ticks": ""
            },
            "colorscale": [
             [
              0,
              "#0d0887"
             ],
             [
              0.1111111111111111,
              "#46039f"
             ],
             [
              0.2222222222222222,
              "#7201a8"
             ],
             [
              0.3333333333333333,
              "#9c179e"
             ],
             [
              0.4444444444444444,
              "#bd3786"
             ],
             [
              0.5555555555555556,
              "#d8576b"
             ],
             [
              0.6666666666666666,
              "#ed7953"
             ],
             [
              0.7777777777777778,
              "#fb9f3a"
             ],
             [
              0.8888888888888888,
              "#fdca26"
             ],
             [
              1,
              "#f0f921"
             ]
            ],
            "type": "heatmap"
           }
          ],
          "histogram": [
           {
            "marker": {
             "pattern": {
              "fillmode": "overlay",
              "size": 10,
              "solidity": 0.2
             }
            },
            "type": "histogram"
           }
          ],
          "histogram2d": [
           {
            "colorbar": {
             "outlinewidth": 0,
             "ticks": ""
            },
            "colorscale": [
             [
              0,
              "#0d0887"
             ],
             [
              0.1111111111111111,
              "#46039f"
             ],
             [
              0.2222222222222222,
              "#7201a8"
             ],
             [
              0.3333333333333333,
              "#9c179e"
             ],
             [
              0.4444444444444444,
              "#bd3786"
             ],
             [
              0.5555555555555556,
              "#d8576b"
             ],
             [
              0.6666666666666666,
              "#ed7953"
             ],
             [
              0.7777777777777778,
              "#fb9f3a"
             ],
             [
              0.8888888888888888,
              "#fdca26"
             ],
             [
              1,
              "#f0f921"
             ]
            ],
            "type": "histogram2d"
           }
          ],
          "histogram2dcontour": [
           {
            "colorbar": {
             "outlinewidth": 0,
             "ticks": ""
            },
            "colorscale": [
             [
              0,
              "#0d0887"
             ],
             [
              0.1111111111111111,
              "#46039f"
             ],
             [
              0.2222222222222222,
              "#7201a8"
             ],
             [
              0.3333333333333333,
              "#9c179e"
             ],
             [
              0.4444444444444444,
              "#bd3786"
             ],
             [
              0.5555555555555556,
              "#d8576b"
             ],
             [
              0.6666666666666666,
              "#ed7953"
             ],
             [
              0.7777777777777778,
              "#fb9f3a"
             ],
             [
              0.8888888888888888,
              "#fdca26"
             ],
             [
              1,
              "#f0f921"
             ]
            ],
            "type": "histogram2dcontour"
           }
          ],
          "mesh3d": [
           {
            "colorbar": {
             "outlinewidth": 0,
             "ticks": ""
            },
            "type": "mesh3d"
           }
          ],
          "parcoords": [
           {
            "line": {
             "colorbar": {
              "outlinewidth": 0,
              "ticks": ""
             }
            },
            "type": "parcoords"
           }
          ],
          "pie": [
           {
            "automargin": true,
            "type": "pie"
           }
          ],
          "scatter": [
           {
            "fillpattern": {
             "fillmode": "overlay",
             "size": 10,
             "solidity": 0.2
            },
            "type": "scatter"
           }
          ],
          "scatter3d": [
           {
            "line": {
             "colorbar": {
              "outlinewidth": 0,
              "ticks": ""
             }
            },
            "marker": {
             "colorbar": {
              "outlinewidth": 0,
              "ticks": ""
             }
            },
            "type": "scatter3d"
           }
          ],
          "scattercarpet": [
           {
            "marker": {
             "colorbar": {
              "outlinewidth": 0,
              "ticks": ""
             }
            },
            "type": "scattercarpet"
           }
          ],
          "scattergeo": [
           {
            "marker": {
             "colorbar": {
              "outlinewidth": 0,
              "ticks": ""
             }
            },
            "type": "scattergeo"
           }
          ],
          "scattergl": [
           {
            "marker": {
             "colorbar": {
              "outlinewidth": 0,
              "ticks": ""
             }
            },
            "type": "scattergl"
           }
          ],
          "scattermap": [
           {
            "marker": {
             "colorbar": {
              "outlinewidth": 0,
              "ticks": ""
             }
            },
            "type": "scattermap"
           }
          ],
          "scattermapbox": [
           {
            "marker": {
             "colorbar": {
              "outlinewidth": 0,
              "ticks": ""
             }
            },
            "type": "scattermapbox"
           }
          ],
          "scatterpolar": [
           {
            "marker": {
             "colorbar": {
              "outlinewidth": 0,
              "ticks": ""
             }
            },
            "type": "scatterpolar"
           }
          ],
          "scatterpolargl": [
           {
            "marker": {
             "colorbar": {
              "outlinewidth": 0,
              "ticks": ""
             }
            },
            "type": "scatterpolargl"
           }
          ],
          "scatterternary": [
           {
            "marker": {
             "colorbar": {
              "outlinewidth": 0,
              "ticks": ""
             }
            },
            "type": "scatterternary"
           }
          ],
          "surface": [
           {
            "colorbar": {
             "outlinewidth": 0,
             "ticks": ""
            },
            "colorscale": [
             [
              0,
              "#0d0887"
             ],
             [
              0.1111111111111111,
              "#46039f"
             ],
             [
              0.2222222222222222,
              "#7201a8"
             ],
             [
              0.3333333333333333,
              "#9c179e"
             ],
             [
              0.4444444444444444,
              "#bd3786"
             ],
             [
              0.5555555555555556,
              "#d8576b"
             ],
             [
              0.6666666666666666,
              "#ed7953"
             ],
             [
              0.7777777777777778,
              "#fb9f3a"
             ],
             [
              0.8888888888888888,
              "#fdca26"
             ],
             [
              1,
              "#f0f921"
             ]
            ],
            "type": "surface"
           }
          ],
          "table": [
           {
            "cells": {
             "fill": {
              "color": "#EBF0F8"
             },
             "line": {
              "color": "white"
             }
            },
            "header": {
             "fill": {
              "color": "#C8D4E3"
             },
             "line": {
              "color": "white"
             }
            },
            "type": "table"
           }
          ]
         },
         "layout": {
          "annotationdefaults": {
           "arrowcolor": "#2a3f5f",
           "arrowhead": 0,
           "arrowwidth": 1
          },
          "autotypenumbers": "strict",
          "coloraxis": {
           "colorbar": {
            "outlinewidth": 0,
            "ticks": ""
           }
          },
          "colorscale": {
           "diverging": [
            [
             0,
             "#8e0152"
            ],
            [
             0.1,
             "#c51b7d"
            ],
            [
             0.2,
             "#de77ae"
            ],
            [
             0.3,
             "#f1b6da"
            ],
            [
             0.4,
             "#fde0ef"
            ],
            [
             0.5,
             "#f7f7f7"
            ],
            [
             0.6,
             "#e6f5d0"
            ],
            [
             0.7,
             "#b8e186"
            ],
            [
             0.8,
             "#7fbc41"
            ],
            [
             0.9,
             "#4d9221"
            ],
            [
             1,
             "#276419"
            ]
           ],
           "sequential": [
            [
             0,
             "#0d0887"
            ],
            [
             0.1111111111111111,
             "#46039f"
            ],
            [
             0.2222222222222222,
             "#7201a8"
            ],
            [
             0.3333333333333333,
             "#9c179e"
            ],
            [
             0.4444444444444444,
             "#bd3786"
            ],
            [
             0.5555555555555556,
             "#d8576b"
            ],
            [
             0.6666666666666666,
             "#ed7953"
            ],
            [
             0.7777777777777778,
             "#fb9f3a"
            ],
            [
             0.8888888888888888,
             "#fdca26"
            ],
            [
             1,
             "#f0f921"
            ]
           ],
           "sequentialminus": [
            [
             0,
             "#0d0887"
            ],
            [
             0.1111111111111111,
             "#46039f"
            ],
            [
             0.2222222222222222,
             "#7201a8"
            ],
            [
             0.3333333333333333,
             "#9c179e"
            ],
            [
             0.4444444444444444,
             "#bd3786"
            ],
            [
             0.5555555555555556,
             "#d8576b"
            ],
            [
             0.6666666666666666,
             "#ed7953"
            ],
            [
             0.7777777777777778,
             "#fb9f3a"
            ],
            [
             0.8888888888888888,
             "#fdca26"
            ],
            [
             1,
             "#f0f921"
            ]
           ]
          },
          "colorway": [
           "#636efa",
           "#EF553B",
           "#00cc96",
           "#ab63fa",
           "#FFA15A",
           "#19d3f3",
           "#FF6692",
           "#B6E880",
           "#FF97FF",
           "#FECB52"
          ],
          "font": {
           "color": "#2a3f5f"
          },
          "geo": {
           "bgcolor": "white",
           "lakecolor": "white",
           "landcolor": "#E5ECF6",
           "showlakes": true,
           "showland": true,
           "subunitcolor": "white"
          },
          "hoverlabel": {
           "align": "left"
          },
          "hovermode": "closest",
          "mapbox": {
           "style": "light"
          },
          "paper_bgcolor": "white",
          "plot_bgcolor": "#E5ECF6",
          "polar": {
           "angularaxis": {
            "gridcolor": "white",
            "linecolor": "white",
            "ticks": ""
           },
           "bgcolor": "#E5ECF6",
           "radialaxis": {
            "gridcolor": "white",
            "linecolor": "white",
            "ticks": ""
           }
          },
          "scene": {
           "xaxis": {
            "backgroundcolor": "#E5ECF6",
            "gridcolor": "white",
            "gridwidth": 2,
            "linecolor": "white",
            "showbackground": true,
            "ticks": "",
            "zerolinecolor": "white"
           },
           "yaxis": {
            "backgroundcolor": "#E5ECF6",
            "gridcolor": "white",
            "gridwidth": 2,
            "linecolor": "white",
            "showbackground": true,
            "ticks": "",
            "zerolinecolor": "white"
           },
           "zaxis": {
            "backgroundcolor": "#E5ECF6",
            "gridcolor": "white",
            "gridwidth": 2,
            "linecolor": "white",
            "showbackground": true,
            "ticks": "",
            "zerolinecolor": "white"
           }
          },
          "shapedefaults": {
           "line": {
            "color": "#2a3f5f"
           }
          },
          "ternary": {
           "aaxis": {
            "gridcolor": "white",
            "linecolor": "white",
            "ticks": ""
           },
           "baxis": {
            "gridcolor": "white",
            "linecolor": "white",
            "ticks": ""
           },
           "bgcolor": "#E5ECF6",
           "caxis": {
            "gridcolor": "white",
            "linecolor": "white",
            "ticks": ""
           }
          },
          "title": {
           "x": 0.05
          },
          "xaxis": {
           "automargin": true,
           "gridcolor": "white",
           "linecolor": "white",
           "ticks": "",
           "title": {
            "standoff": 15
           },
           "zerolinecolor": "white",
           "zerolinewidth": 2
          },
          "yaxis": {
           "automargin": true,
           "gridcolor": "white",
           "linecolor": "white",
           "ticks": "",
           "title": {
            "standoff": 15
           },
           "zerolinecolor": "white",
           "zerolinewidth": 2
          }
         }
        },
        "title": {
         "text": "Top 10 Utbildningsanordnare"
        }
       }
      }
     },
     "metadata": {},
     "output_type": "display_data"
    }
   ],
   "source": [
    "import plotly.graph_objects as go\n",
    "\n",
    "fig = go.Figure(data=[\n",
    "    go.Bar(x=top_anordnare.values, y=top_anordnare.index, orientation='h')\n",
    "])\n",
    "fig.update_layout(title='Top 10 Utbildningsanordnare')\n",
    "fig.show()"
   ]
  },
  {
   "cell_type": "code",
   "execution_count": null,
   "id": "2832fb38",
   "metadata": {},
   "outputs": [
    {
     "data": {
      "application/vnd.plotly.v1+json": {
       "config": {
        "plotlyServerURL": "https://plot.ly"
       },
       "data": [
        {
         "domain": {
          "x": [
           0,
           1
          ],
          "y": [
           0,
           1
          ]
         },
         "hovertemplate": "label=%{label}<br>value=%{value}<extra></extra>",
         "labels": [
          "Data/IT",
          "Ekonomi, administration och försäljning",
          "Hotell, restaurang och turism",
          "Hälso- och sjukvård samt socialt arbete",
          "Journalistik och information",
          "Juridik",
          "Kultur, media och design",
          "Lantbruk, djurvård, trädgård, skog och fiske",
          "Pedagogik och undervisning",
          "Samhällsbyggnad och byggteknik",
          "Säkerhetstjänster",
          "Teknik och tillverkning",
          "Transporttjänster"
         ],
         "legendgroup": "",
         "name": "",
         "showlegend": true,
         "type": "pie",
         "values": {
          "bdata": "swUGC4QAdARLAIIAFAB3AHMAjQRVABAEGQA=",
          "dtype": "i2"
         }
        }
       ],
       "layout": {
        "legend": {
         "tracegroupgap": 0
        },
        "margin": {
         "t": 60
        },
        "template": {
         "data": {
          "bar": [
           {
            "error_x": {
             "color": "#2a3f5f"
            },
            "error_y": {
             "color": "#2a3f5f"
            },
            "marker": {
             "line": {
              "color": "#E5ECF6",
              "width": 0.5
             },
             "pattern": {
              "fillmode": "overlay",
              "size": 10,
              "solidity": 0.2
             }
            },
            "type": "bar"
           }
          ],
          "barpolar": [
           {
            "marker": {
             "line": {
              "color": "#E5ECF6",
              "width": 0.5
             },
             "pattern": {
              "fillmode": "overlay",
              "size": 10,
              "solidity": 0.2
             }
            },
            "type": "barpolar"
           }
          ],
          "carpet": [
           {
            "aaxis": {
             "endlinecolor": "#2a3f5f",
             "gridcolor": "white",
             "linecolor": "white",
             "minorgridcolor": "white",
             "startlinecolor": "#2a3f5f"
            },
            "baxis": {
             "endlinecolor": "#2a3f5f",
             "gridcolor": "white",
             "linecolor": "white",
             "minorgridcolor": "white",
             "startlinecolor": "#2a3f5f"
            },
            "type": "carpet"
           }
          ],
          "choropleth": [
           {
            "colorbar": {
             "outlinewidth": 0,
             "ticks": ""
            },
            "type": "choropleth"
           }
          ],
          "contour": [
           {
            "colorbar": {
             "outlinewidth": 0,
             "ticks": ""
            },
            "colorscale": [
             [
              0,
              "#0d0887"
             ],
             [
              0.1111111111111111,
              "#46039f"
             ],
             [
              0.2222222222222222,
              "#7201a8"
             ],
             [
              0.3333333333333333,
              "#9c179e"
             ],
             [
              0.4444444444444444,
              "#bd3786"
             ],
             [
              0.5555555555555556,
              "#d8576b"
             ],
             [
              0.6666666666666666,
              "#ed7953"
             ],
             [
              0.7777777777777778,
              "#fb9f3a"
             ],
             [
              0.8888888888888888,
              "#fdca26"
             ],
             [
              1,
              "#f0f921"
             ]
            ],
            "type": "contour"
           }
          ],
          "contourcarpet": [
           {
            "colorbar": {
             "outlinewidth": 0,
             "ticks": ""
            },
            "type": "contourcarpet"
           }
          ],
          "heatmap": [
           {
            "colorbar": {
             "outlinewidth": 0,
             "ticks": ""
            },
            "colorscale": [
             [
              0,
              "#0d0887"
             ],
             [
              0.1111111111111111,
              "#46039f"
             ],
             [
              0.2222222222222222,
              "#7201a8"
             ],
             [
              0.3333333333333333,
              "#9c179e"
             ],
             [
              0.4444444444444444,
              "#bd3786"
             ],
             [
              0.5555555555555556,
              "#d8576b"
             ],
             [
              0.6666666666666666,
              "#ed7953"
             ],
             [
              0.7777777777777778,
              "#fb9f3a"
             ],
             [
              0.8888888888888888,
              "#fdca26"
             ],
             [
              1,
              "#f0f921"
             ]
            ],
            "type": "heatmap"
           }
          ],
          "histogram": [
           {
            "marker": {
             "pattern": {
              "fillmode": "overlay",
              "size": 10,
              "solidity": 0.2
             }
            },
            "type": "histogram"
           }
          ],
          "histogram2d": [
           {
            "colorbar": {
             "outlinewidth": 0,
             "ticks": ""
            },
            "colorscale": [
             [
              0,
              "#0d0887"
             ],
             [
              0.1111111111111111,
              "#46039f"
             ],
             [
              0.2222222222222222,
              "#7201a8"
             ],
             [
              0.3333333333333333,
              "#9c179e"
             ],
             [
              0.4444444444444444,
              "#bd3786"
             ],
             [
              0.5555555555555556,
              "#d8576b"
             ],
             [
              0.6666666666666666,
              "#ed7953"
             ],
             [
              0.7777777777777778,
              "#fb9f3a"
             ],
             [
              0.8888888888888888,
              "#fdca26"
             ],
             [
              1,
              "#f0f921"
             ]
            ],
            "type": "histogram2d"
           }
          ],
          "histogram2dcontour": [
           {
            "colorbar": {
             "outlinewidth": 0,
             "ticks": ""
            },
            "colorscale": [
             [
              0,
              "#0d0887"
             ],
             [
              0.1111111111111111,
              "#46039f"
             ],
             [
              0.2222222222222222,
              "#7201a8"
             ],
             [
              0.3333333333333333,
              "#9c179e"
             ],
             [
              0.4444444444444444,
              "#bd3786"
             ],
             [
              0.5555555555555556,
              "#d8576b"
             ],
             [
              0.6666666666666666,
              "#ed7953"
             ],
             [
              0.7777777777777778,
              "#fb9f3a"
             ],
             [
              0.8888888888888888,
              "#fdca26"
             ],
             [
              1,
              "#f0f921"
             ]
            ],
            "type": "histogram2dcontour"
           }
          ],
          "mesh3d": [
           {
            "colorbar": {
             "outlinewidth": 0,
             "ticks": ""
            },
            "type": "mesh3d"
           }
          ],
          "parcoords": [
           {
            "line": {
             "colorbar": {
              "outlinewidth": 0,
              "ticks": ""
             }
            },
            "type": "parcoords"
           }
          ],
          "pie": [
           {
            "automargin": true,
            "type": "pie"
           }
          ],
          "scatter": [
           {
            "fillpattern": {
             "fillmode": "overlay",
             "size": 10,
             "solidity": 0.2
            },
            "type": "scatter"
           }
          ],
          "scatter3d": [
           {
            "line": {
             "colorbar": {
              "outlinewidth": 0,
              "ticks": ""
             }
            },
            "marker": {
             "colorbar": {
              "outlinewidth": 0,
              "ticks": ""
             }
            },
            "type": "scatter3d"
           }
          ],
          "scattercarpet": [
           {
            "marker": {
             "colorbar": {
              "outlinewidth": 0,
              "ticks": ""
             }
            },
            "type": "scattercarpet"
           }
          ],
          "scattergeo": [
           {
            "marker": {
             "colorbar": {
              "outlinewidth": 0,
              "ticks": ""
             }
            },
            "type": "scattergeo"
           }
          ],
          "scattergl": [
           {
            "marker": {
             "colorbar": {
              "outlinewidth": 0,
              "ticks": ""
             }
            },
            "type": "scattergl"
           }
          ],
          "scattermap": [
           {
            "marker": {
             "colorbar": {
              "outlinewidth": 0,
              "ticks": ""
             }
            },
            "type": "scattermap"
           }
          ],
          "scattermapbox": [
           {
            "marker": {
             "colorbar": {
              "outlinewidth": 0,
              "ticks": ""
             }
            },
            "type": "scattermapbox"
           }
          ],
          "scatterpolar": [
           {
            "marker": {
             "colorbar": {
              "outlinewidth": 0,
              "ticks": ""
             }
            },
            "type": "scatterpolar"
           }
          ],
          "scatterpolargl": [
           {
            "marker": {
             "colorbar": {
              "outlinewidth": 0,
              "ticks": ""
             }
            },
            "type": "scatterpolargl"
           }
          ],
          "scatterternary": [
           {
            "marker": {
             "colorbar": {
              "outlinewidth": 0,
              "ticks": ""
             }
            },
            "type": "scatterternary"
           }
          ],
          "surface": [
           {
            "colorbar": {
             "outlinewidth": 0,
             "ticks": ""
            },
            "colorscale": [
             [
              0,
              "#0d0887"
             ],
             [
              0.1111111111111111,
              "#46039f"
             ],
             [
              0.2222222222222222,
              "#7201a8"
             ],
             [
              0.3333333333333333,
              "#9c179e"
             ],
             [
              0.4444444444444444,
              "#bd3786"
             ],
             [
              0.5555555555555556,
              "#d8576b"
             ],
             [
              0.6666666666666666,
              "#ed7953"
             ],
             [
              0.7777777777777778,
              "#fb9f3a"
             ],
             [
              0.8888888888888888,
              "#fdca26"
             ],
             [
              1,
              "#f0f921"
             ]
            ],
            "type": "surface"
           }
          ],
          "table": [
           {
            "cells": {
             "fill": {
              "color": "#EBF0F8"
             },
             "line": {
              "color": "white"
             }
            },
            "header": {
             "fill": {
              "color": "#C8D4E3"
             },
             "line": {
              "color": "white"
             }
            },
            "type": "table"
           }
          ]
         },
         "layout": {
          "annotationdefaults": {
           "arrowcolor": "#2a3f5f",
           "arrowhead": 0,
           "arrowwidth": 1
          },
          "autotypenumbers": "strict",
          "coloraxis": {
           "colorbar": {
            "outlinewidth": 0,
            "ticks": ""
           }
          },
          "colorscale": {
           "diverging": [
            [
             0,
             "#8e0152"
            ],
            [
             0.1,
             "#c51b7d"
            ],
            [
             0.2,
             "#de77ae"
            ],
            [
             0.3,
             "#f1b6da"
            ],
            [
             0.4,
             "#fde0ef"
            ],
            [
             0.5,
             "#f7f7f7"
            ],
            [
             0.6,
             "#e6f5d0"
            ],
            [
             0.7,
             "#b8e186"
            ],
            [
             0.8,
             "#7fbc41"
            ],
            [
             0.9,
             "#4d9221"
            ],
            [
             1,
             "#276419"
            ]
           ],
           "sequential": [
            [
             0,
             "#0d0887"
            ],
            [
             0.1111111111111111,
             "#46039f"
            ],
            [
             0.2222222222222222,
             "#7201a8"
            ],
            [
             0.3333333333333333,
             "#9c179e"
            ],
            [
             0.4444444444444444,
             "#bd3786"
            ],
            [
             0.5555555555555556,
             "#d8576b"
            ],
            [
             0.6666666666666666,
             "#ed7953"
            ],
            [
             0.7777777777777778,
             "#fb9f3a"
            ],
            [
             0.8888888888888888,
             "#fdca26"
            ],
            [
             1,
             "#f0f921"
            ]
           ],
           "sequentialminus": [
            [
             0,
             "#0d0887"
            ],
            [
             0.1111111111111111,
             "#46039f"
            ],
            [
             0.2222222222222222,
             "#7201a8"
            ],
            [
             0.3333333333333333,
             "#9c179e"
            ],
            [
             0.4444444444444444,
             "#bd3786"
            ],
            [
             0.5555555555555556,
             "#d8576b"
            ],
            [
             0.6666666666666666,
             "#ed7953"
            ],
            [
             0.7777777777777778,
             "#fb9f3a"
            ],
            [
             0.8888888888888888,
             "#fdca26"
            ],
            [
             1,
             "#f0f921"
            ]
           ]
          },
          "colorway": [
           "#636efa",
           "#EF553B",
           "#00cc96",
           "#ab63fa",
           "#FFA15A",
           "#19d3f3",
           "#FF6692",
           "#B6E880",
           "#FF97FF",
           "#FECB52"
          ],
          "font": {
           "color": "#2a3f5f"
          },
          "geo": {
           "bgcolor": "white",
           "lakecolor": "white",
           "landcolor": "#E5ECF6",
           "showlakes": true,
           "showland": true,
           "subunitcolor": "white"
          },
          "hoverlabel": {
           "align": "left"
          },
          "hovermode": "closest",
          "mapbox": {
           "style": "light"
          },
          "paper_bgcolor": "white",
          "plot_bgcolor": "#E5ECF6",
          "polar": {
           "angularaxis": {
            "gridcolor": "white",
            "linecolor": "white",
            "ticks": ""
           },
           "bgcolor": "#E5ECF6",
           "radialaxis": {
            "gridcolor": "white",
            "linecolor": "white",
            "ticks": ""
           }
          },
          "scene": {
           "xaxis": {
            "backgroundcolor": "#E5ECF6",
            "gridcolor": "white",
            "gridwidth": 2,
            "linecolor": "white",
            "showbackground": true,
            "ticks": "",
            "zerolinecolor": "white"
           },
           "yaxis": {
            "backgroundcolor": "#E5ECF6",
            "gridcolor": "white",
            "gridwidth": 2,
            "linecolor": "white",
            "showbackground": true,
            "ticks": "",
            "zerolinecolor": "white"
           },
           "zaxis": {
            "backgroundcolor": "#E5ECF6",
            "gridcolor": "white",
            "gridwidth": 2,
            "linecolor": "white",
            "showbackground": true,
            "ticks": "",
            "zerolinecolor": "white"
           }
          },
          "shapedefaults": {
           "line": {
            "color": "#2a3f5f"
           }
          },
          "ternary": {
           "aaxis": {
            "gridcolor": "white",
            "linecolor": "white",
            "ticks": ""
           },
           "baxis": {
            "gridcolor": "white",
            "linecolor": "white",
            "ticks": ""
           },
           "bgcolor": "#E5ECF6",
           "caxis": {
            "gridcolor": "white",
            "linecolor": "white",
            "ticks": ""
           }
          },
          "title": {
           "x": 0.05
          },
          "xaxis": {
           "automargin": true,
           "gridcolor": "white",
           "linecolor": "white",
           "ticks": "",
           "title": {
            "standoff": 15
           },
           "zerolinecolor": "white",
           "zerolinewidth": 2
          },
          "yaxis": {
           "automargin": true,
           "gridcolor": "white",
           "linecolor": "white",
           "ticks": "",
           "title": {
            "standoff": 15
           },
           "zerolinecolor": "white",
           "zerolinewidth": 2
          }
         }
        }
       }
      }
     },
     "metadata": {},
     "output_type": "display_data"
    }
   ],
   "source": [
    "area_stats = df_result.groupby('Utbildningsområde')['Antal beviljade platser start 2024'].sum()\n",
    "fig = px.pie(values=area_stats.values, names=area_stats.index)\n",
    "fig.show()"
   ]
  },
  {
   "cell_type": "code",
   "execution_count": 27,
   "id": "a913cf5c",
   "metadata": {},
   "outputs": [
    {
     "data": {
      "application/vnd.plotly.v1+json": {
       "config": {
        "plotlyServerURL": "https://plot.ly"
       },
       "data": [
        {
         "orientation": "h",
         "type": "bar",
         "x": {
          "bdata": "swUGC4QAdARLAIIAFAB3AHMAjQRVABAEGQA=",
          "dtype": "i2"
         },
         "y": [
          "Data/IT",
          "Ekonomi, administration och försäljning",
          "Hotell, restaurang och turism",
          "Hälso- och sjukvård samt socialt arbete",
          "Journalistik och information",
          "Juridik",
          "Kultur, media och design",
          "Lantbruk, djurvård, trädgård, skog och fiske",
          "Pedagogik och undervisning",
          "Samhällsbyggnad och byggteknik",
          "Säkerhetstjänster",
          "Teknik och tillverkning",
          "Transporttjänster"
         ]
        }
       ],
       "layout": {
        "template": {
         "data": {
          "bar": [
           {
            "error_x": {
             "color": "#2a3f5f"
            },
            "error_y": {
             "color": "#2a3f5f"
            },
            "marker": {
             "line": {
              "color": "#E5ECF6",
              "width": 0.5
             },
             "pattern": {
              "fillmode": "overlay",
              "size": 10,
              "solidity": 0.2
             }
            },
            "type": "bar"
           }
          ],
          "barpolar": [
           {
            "marker": {
             "line": {
              "color": "#E5ECF6",
              "width": 0.5
             },
             "pattern": {
              "fillmode": "overlay",
              "size": 10,
              "solidity": 0.2
             }
            },
            "type": "barpolar"
           }
          ],
          "carpet": [
           {
            "aaxis": {
             "endlinecolor": "#2a3f5f",
             "gridcolor": "white",
             "linecolor": "white",
             "minorgridcolor": "white",
             "startlinecolor": "#2a3f5f"
            },
            "baxis": {
             "endlinecolor": "#2a3f5f",
             "gridcolor": "white",
             "linecolor": "white",
             "minorgridcolor": "white",
             "startlinecolor": "#2a3f5f"
            },
            "type": "carpet"
           }
          ],
          "choropleth": [
           {
            "colorbar": {
             "outlinewidth": 0,
             "ticks": ""
            },
            "type": "choropleth"
           }
          ],
          "contour": [
           {
            "colorbar": {
             "outlinewidth": 0,
             "ticks": ""
            },
            "colorscale": [
             [
              0,
              "#0d0887"
             ],
             [
              0.1111111111111111,
              "#46039f"
             ],
             [
              0.2222222222222222,
              "#7201a8"
             ],
             [
              0.3333333333333333,
              "#9c179e"
             ],
             [
              0.4444444444444444,
              "#bd3786"
             ],
             [
              0.5555555555555556,
              "#d8576b"
             ],
             [
              0.6666666666666666,
              "#ed7953"
             ],
             [
              0.7777777777777778,
              "#fb9f3a"
             ],
             [
              0.8888888888888888,
              "#fdca26"
             ],
             [
              1,
              "#f0f921"
             ]
            ],
            "type": "contour"
           }
          ],
          "contourcarpet": [
           {
            "colorbar": {
             "outlinewidth": 0,
             "ticks": ""
            },
            "type": "contourcarpet"
           }
          ],
          "heatmap": [
           {
            "colorbar": {
             "outlinewidth": 0,
             "ticks": ""
            },
            "colorscale": [
             [
              0,
              "#0d0887"
             ],
             [
              0.1111111111111111,
              "#46039f"
             ],
             [
              0.2222222222222222,
              "#7201a8"
             ],
             [
              0.3333333333333333,
              "#9c179e"
             ],
             [
              0.4444444444444444,
              "#bd3786"
             ],
             [
              0.5555555555555556,
              "#d8576b"
             ],
             [
              0.6666666666666666,
              "#ed7953"
             ],
             [
              0.7777777777777778,
              "#fb9f3a"
             ],
             [
              0.8888888888888888,
              "#fdca26"
             ],
             [
              1,
              "#f0f921"
             ]
            ],
            "type": "heatmap"
           }
          ],
          "histogram": [
           {
            "marker": {
             "pattern": {
              "fillmode": "overlay",
              "size": 10,
              "solidity": 0.2
             }
            },
            "type": "histogram"
           }
          ],
          "histogram2d": [
           {
            "colorbar": {
             "outlinewidth": 0,
             "ticks": ""
            },
            "colorscale": [
             [
              0,
              "#0d0887"
             ],
             [
              0.1111111111111111,
              "#46039f"
             ],
             [
              0.2222222222222222,
              "#7201a8"
             ],
             [
              0.3333333333333333,
              "#9c179e"
             ],
             [
              0.4444444444444444,
              "#bd3786"
             ],
             [
              0.5555555555555556,
              "#d8576b"
             ],
             [
              0.6666666666666666,
              "#ed7953"
             ],
             [
              0.7777777777777778,
              "#fb9f3a"
             ],
             [
              0.8888888888888888,
              "#fdca26"
             ],
             [
              1,
              "#f0f921"
             ]
            ],
            "type": "histogram2d"
           }
          ],
          "histogram2dcontour": [
           {
            "colorbar": {
             "outlinewidth": 0,
             "ticks": ""
            },
            "colorscale": [
             [
              0,
              "#0d0887"
             ],
             [
              0.1111111111111111,
              "#46039f"
             ],
             [
              0.2222222222222222,
              "#7201a8"
             ],
             [
              0.3333333333333333,
              "#9c179e"
             ],
             [
              0.4444444444444444,
              "#bd3786"
             ],
             [
              0.5555555555555556,
              "#d8576b"
             ],
             [
              0.6666666666666666,
              "#ed7953"
             ],
             [
              0.7777777777777778,
              "#fb9f3a"
             ],
             [
              0.8888888888888888,
              "#fdca26"
             ],
             [
              1,
              "#f0f921"
             ]
            ],
            "type": "histogram2dcontour"
           }
          ],
          "mesh3d": [
           {
            "colorbar": {
             "outlinewidth": 0,
             "ticks": ""
            },
            "type": "mesh3d"
           }
          ],
          "parcoords": [
           {
            "line": {
             "colorbar": {
              "outlinewidth": 0,
              "ticks": ""
             }
            },
            "type": "parcoords"
           }
          ],
          "pie": [
           {
            "automargin": true,
            "type": "pie"
           }
          ],
          "scatter": [
           {
            "fillpattern": {
             "fillmode": "overlay",
             "size": 10,
             "solidity": 0.2
            },
            "type": "scatter"
           }
          ],
          "scatter3d": [
           {
            "line": {
             "colorbar": {
              "outlinewidth": 0,
              "ticks": ""
             }
            },
            "marker": {
             "colorbar": {
              "outlinewidth": 0,
              "ticks": ""
             }
            },
            "type": "scatter3d"
           }
          ],
          "scattercarpet": [
           {
            "marker": {
             "colorbar": {
              "outlinewidth": 0,
              "ticks": ""
             }
            },
            "type": "scattercarpet"
           }
          ],
          "scattergeo": [
           {
            "marker": {
             "colorbar": {
              "outlinewidth": 0,
              "ticks": ""
             }
            },
            "type": "scattergeo"
           }
          ],
          "scattergl": [
           {
            "marker": {
             "colorbar": {
              "outlinewidth": 0,
              "ticks": ""
             }
            },
            "type": "scattergl"
           }
          ],
          "scattermap": [
           {
            "marker": {
             "colorbar": {
              "outlinewidth": 0,
              "ticks": ""
             }
            },
            "type": "scattermap"
           }
          ],
          "scattermapbox": [
           {
            "marker": {
             "colorbar": {
              "outlinewidth": 0,
              "ticks": ""
             }
            },
            "type": "scattermapbox"
           }
          ],
          "scatterpolar": [
           {
            "marker": {
             "colorbar": {
              "outlinewidth": 0,
              "ticks": ""
             }
            },
            "type": "scatterpolar"
           }
          ],
          "scatterpolargl": [
           {
            "marker": {
             "colorbar": {
              "outlinewidth": 0,
              "ticks": ""
             }
            },
            "type": "scatterpolargl"
           }
          ],
          "scatterternary": [
           {
            "marker": {
             "colorbar": {
              "outlinewidth": 0,
              "ticks": ""
             }
            },
            "type": "scatterternary"
           }
          ],
          "surface": [
           {
            "colorbar": {
             "outlinewidth": 0,
             "ticks": ""
            },
            "colorscale": [
             [
              0,
              "#0d0887"
             ],
             [
              0.1111111111111111,
              "#46039f"
             ],
             [
              0.2222222222222222,
              "#7201a8"
             ],
             [
              0.3333333333333333,
              "#9c179e"
             ],
             [
              0.4444444444444444,
              "#bd3786"
             ],
             [
              0.5555555555555556,
              "#d8576b"
             ],
             [
              0.6666666666666666,
              "#ed7953"
             ],
             [
              0.7777777777777778,
              "#fb9f3a"
             ],
             [
              0.8888888888888888,
              "#fdca26"
             ],
             [
              1,
              "#f0f921"
             ]
            ],
            "type": "surface"
           }
          ],
          "table": [
           {
            "cells": {
             "fill": {
              "color": "#EBF0F8"
             },
             "line": {
              "color": "white"
             }
            },
            "header": {
             "fill": {
              "color": "#C8D4E3"
             },
             "line": {
              "color": "white"
             }
            },
            "type": "table"
           }
          ]
         },
         "layout": {
          "annotationdefaults": {
           "arrowcolor": "#2a3f5f",
           "arrowhead": 0,
           "arrowwidth": 1
          },
          "autotypenumbers": "strict",
          "coloraxis": {
           "colorbar": {
            "outlinewidth": 0,
            "ticks": ""
           }
          },
          "colorscale": {
           "diverging": [
            [
             0,
             "#8e0152"
            ],
            [
             0.1,
             "#c51b7d"
            ],
            [
             0.2,
             "#de77ae"
            ],
            [
             0.3,
             "#f1b6da"
            ],
            [
             0.4,
             "#fde0ef"
            ],
            [
             0.5,
             "#f7f7f7"
            ],
            [
             0.6,
             "#e6f5d0"
            ],
            [
             0.7,
             "#b8e186"
            ],
            [
             0.8,
             "#7fbc41"
            ],
            [
             0.9,
             "#4d9221"
            ],
            [
             1,
             "#276419"
            ]
           ],
           "sequential": [
            [
             0,
             "#0d0887"
            ],
            [
             0.1111111111111111,
             "#46039f"
            ],
            [
             0.2222222222222222,
             "#7201a8"
            ],
            [
             0.3333333333333333,
             "#9c179e"
            ],
            [
             0.4444444444444444,
             "#bd3786"
            ],
            [
             0.5555555555555556,
             "#d8576b"
            ],
            [
             0.6666666666666666,
             "#ed7953"
            ],
            [
             0.7777777777777778,
             "#fb9f3a"
            ],
            [
             0.8888888888888888,
             "#fdca26"
            ],
            [
             1,
             "#f0f921"
            ]
           ],
           "sequentialminus": [
            [
             0,
             "#0d0887"
            ],
            [
             0.1111111111111111,
             "#46039f"
            ],
            [
             0.2222222222222222,
             "#7201a8"
            ],
            [
             0.3333333333333333,
             "#9c179e"
            ],
            [
             0.4444444444444444,
             "#bd3786"
            ],
            [
             0.5555555555555556,
             "#d8576b"
            ],
            [
             0.6666666666666666,
             "#ed7953"
            ],
            [
             0.7777777777777778,
             "#fb9f3a"
            ],
            [
             0.8888888888888888,
             "#fdca26"
            ],
            [
             1,
             "#f0f921"
            ]
           ]
          },
          "colorway": [
           "#636efa",
           "#EF553B",
           "#00cc96",
           "#ab63fa",
           "#FFA15A",
           "#19d3f3",
           "#FF6692",
           "#B6E880",
           "#FF97FF",
           "#FECB52"
          ],
          "font": {
           "color": "#2a3f5f"
          },
          "geo": {
           "bgcolor": "white",
           "lakecolor": "white",
           "landcolor": "#E5ECF6",
           "showlakes": true,
           "showland": true,
           "subunitcolor": "white"
          },
          "hoverlabel": {
           "align": "left"
          },
          "hovermode": "closest",
          "mapbox": {
           "style": "light"
          },
          "paper_bgcolor": "white",
          "plot_bgcolor": "#E5ECF6",
          "polar": {
           "angularaxis": {
            "gridcolor": "white",
            "linecolor": "white",
            "ticks": ""
           },
           "bgcolor": "#E5ECF6",
           "radialaxis": {
            "gridcolor": "white",
            "linecolor": "white",
            "ticks": ""
           }
          },
          "scene": {
           "xaxis": {
            "backgroundcolor": "#E5ECF6",
            "gridcolor": "white",
            "gridwidth": 2,
            "linecolor": "white",
            "showbackground": true,
            "ticks": "",
            "zerolinecolor": "white"
           },
           "yaxis": {
            "backgroundcolor": "#E5ECF6",
            "gridcolor": "white",
            "gridwidth": 2,
            "linecolor": "white",
            "showbackground": true,
            "ticks": "",
            "zerolinecolor": "white"
           },
           "zaxis": {
            "backgroundcolor": "#E5ECF6",
            "gridcolor": "white",
            "gridwidth": 2,
            "linecolor": "white",
            "showbackground": true,
            "ticks": "",
            "zerolinecolor": "white"
           }
          },
          "shapedefaults": {
           "line": {
            "color": "#2a3f5f"
           }
          },
          "ternary": {
           "aaxis": {
            "gridcolor": "white",
            "linecolor": "white",
            "ticks": ""
           },
           "baxis": {
            "gridcolor": "white",
            "linecolor": "white",
            "ticks": ""
           },
           "bgcolor": "#E5ECF6",
           "caxis": {
            "gridcolor": "white",
            "linecolor": "white",
            "ticks": ""
           }
          },
          "title": {
           "x": 0.05
          },
          "xaxis": {
           "automargin": true,
           "gridcolor": "white",
           "linecolor": "white",
           "ticks": "",
           "title": {
            "standoff": 15
           },
           "zerolinecolor": "white",
           "zerolinewidth": 2
          },
          "yaxis": {
           "automargin": true,
           "gridcolor": "white",
           "linecolor": "white",
           "ticks": "",
           "title": {
            "standoff": 15
           },
           "zerolinecolor": "white",
           "zerolinewidth": 2
          }
         }
        }
       }
      }
     },
     "metadata": {},
     "output_type": "display_data"
    }
   ],
   "source": [
    "import plotly.graph_objects as go\n",
    "\n",
    "fig=go.Figure(data=[go.Bar(x=area_stats.values, y=area_stats.index, orientation=\"h\")])\n",
    "fig.show()"
   ]
  },
  {
   "cell_type": "code",
   "execution_count": null,
   "id": "44e87d15",
   "metadata": {},
   "outputs": [
    {
     "name": "stderr",
     "output_type": "stream",
     "text": [
      "/var/folders/6n/k55z_kf10m5811bglwczkqg80000gp/T/ipykernel_13488/2487650541.py:30: DeprecationWarning:\n",
      "\n",
      "*density_mapbox* is deprecated! Use *density_map* instead. Learn more at: https://plotly.com/python/mapbox-to-maplibre/\n",
      "\n"
     ]
    },
    {
     "data": {
      "application/vnd.plotly.v1+json": {
       "config": {
        "plotlyServerURL": "https://plot.ly"
       },
       "data": [
        {
         "coloraxis": "coloraxis",
         "hovertemplate": "Antal beviljade platser start 2024=%{z}<br>lat=%{lat}<br>lon=%{lon}<extra></extra>",
         "lat": {
          "bdata": "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",
          "dtype": "f8"
         },
         "lon": {
          "bdata": "+1xtxf7yJ0DA7J48LCQxQAAAAAAAADJAAAAAAAAAMkAAAAAAAAAyQAAAAAAAADJAAAAAAAAAMkC30QDeAqkpQAAAAAAAADJAAAAAAAAAMkAAAAAAAAAyQAAAAAAAADJAAAAAAAAAMkAAAAAAAAAyQAAAAAAAADJAAAAAAAAAMkCMSuoENFEqQAAAAAAAADJAAAAAAAAAMkAAAAAAAAAyQAAAAAAAADJAAAAAAAAAMkB4CyQofiwvQBfZzvdTQzRAF9nO91NDNEAr9pfdkyc2QBlz1xLyASpAb4EExY8RMkBvgQTFjxEyQBlz1xLyASpAkzoBTYSNMEAZc9cS8gEqQBUdyeU/RCxAb4EExY8RMkDNzMzMzMwtQAu1pnnHaS5AzczMzMzMLUAZc9cS8gEqQPtcbcX+8idAayv2l92TKEBvgQTFjxEyQG+BBMWPETJAb4EExY8RMkD7XG3F/vInQPtcbcX+8idAayv2l92TKEBSJ6CJsOEpQFInoImw4SlAGXPXEvIBKkD7XG3F/vInQG+BBMWPETJAb4EExY8RMkBvgQTFjxEyQG+BBMWPETJAb4EExY8RMkBvgQTFjxEyQBfZzvdTQzRAAJF++zpQLEAX2c73U0M0QGsr9pfdkyhAFmpN846jMUBvgQTFjxEyQBfZzvdTQzRAb4EExY8RMkAX2c73U0M0QBZqTfOOozFAkzoBTYSNMEAAAAAAAAAyQCzUmuYdtzJAayv2l92TKECTOgFNhI0wQG+BBMWPETJAUrgehesBMUCeXinLEAcoQKRwPQrX8zRA+1xtxf7yJ0CTOgFNhI0wQAN4CyQoPi9ApHA9CtcTMUCTOgFNhI0wQAN4CyQoPi9Ab4EExY8RMkD7XG3F/vInQJeQD3o2Cy1Ab4EExY8RMkBvgQTFjxEyQJeQD3o2Cy1Ab4EExY8RMkBvgQTFjxEyQBlz1xLyASpAGXPXEvIBKkD7XG3F/vInQBlz1xLyASpAkzoBTYSNMEBvgQTFjxEyQG+BBMWPETJAb4EExY8RMkAZc9cS8gEqQG+BBMWPETJAkzoBTYSNMEBvgQTFjxEyQJeQD3o2Cy1Ab4EExY8RMkBvgQTFjxEyQJM6AU2EjTBAofgx5q6lKEAWak3zjqMxQPtcbcX+8idA+1xtxf7yJ0BvgQTFjxEyQBZqTfOOozFAGXPXEvIBKkAZc9cS8gEqQG+BBMWPETJAb4EExY8RMkBvgQTFjxEyQG+BBMWPETJA+1xtxf7yJ0BSuB6F6wExQBlz1xLyASpA+1xtxf7yJ0BvgQTFjxEyQPtcbcX+8idAUrgehesBMUBSuB6F6wExQFK4HoXrATFAGXPXEvIBKkDhC5OpgrErQNBE2PD0GjFAGXPXEvIBKkDmP6Tfvi4wQOY/pN++LjBAb4EExY8RMkBvgQTFjxEyQG+BBMWPETJAb4EExY8RMkCeXinLEAcoQG+BBMWPETJA+1xtxf7yJ0BvgQTFjxEyQBZqTfOOozFALNSa5h23MkBvgQTFjxEyQG+BBMWPETJAb4EExY8RMkBvgQTFjxEyQOviNhrAOypAb4EExY8RMkDr4jYawDsqQOviNhrAOypAIGPuWkKeLUBvgQTFjxEyQCBj7lpCni1Ab4EExY8RMkAgY+5aQp4tQG+BBMWPETJAb4EExY8RMkBvgQTFjxEyQPtcbcX+8idAGXPXEvIBKkD7XG3F/vInQG+BBMWPETJAbxKDwMphKkD7XG3F/vInQPtcbcX+8idAb4EExY8RMkBvgQTFjxEyQG+BBMWPETJA+1xtxf7yJ0D7XG3F/vInQPtcbcX+8idAb4EExY8RMkBvgQTFjxEyQG+BBMWPETJAdCSX/5BOMUCutmJ/2d0rQG+BBMWPETJAb4EExY8RMkD7XG3F/vInQG8Sg8DKYSpAb4EExY8RMkBSJ6CJsOEpQFInoImw4SlAUiegibDhKUBSJ6CJsOEpQFInoImw4SlAb4EExY8RMkBvgQTFjxEyQG+BBMWPETJA+1xtxf7yJ0AZc9cS8gEqQPtcbcX+8idA+1xtxf7yJ0BvgQTFjxEyQPtcbcX+8idAUrgehesBMUD7XG3F/vInQFInoImw4SlA+1xtxf7yJ0BSJ6CJsOEpQPtcbcX+8idA+1xtxf7yJ0D7XG3F/vInQBlz1xLyASpAGXPXEvIBKkBvgQTFjxEyQBlz1xLyASpAC7WmecdpLkAZc9cS8gEqQPtcbcX+8idAIGPuWkKeLUALtaZ5x2kuQAu1pnnHaS5AC7WmecdpLkALtaZ5x2kuQAu1pnnHaS5AGXPXEvIBKkD7XG3F/vInQG+BBMWPETJAb4EExY8RMkBvgQTFjxEyQCBj7lpCni1Ab4EExY8RMkAZc9cS8gEqQG+BBMWPETJAFmpN846jMUBvgQTFjxEyQG+BBMWPETJAC7WmecdpLkAX2c73U0M0QHgLJCh+LC9Ab4EExY8RMkAX2c73U0M0QPtcbcX+8idAb4EExY8RMkAAAAAAAAAyQPtcbcX+8idAeAskKH4sL0D7XG3F/vInQPtcbcX+8idAUPwYc9dSLED7XG3F/vInQPtcbcX+8idAAAAAAAAAMkD7XG3F/vInQPtcbcX+8idAayv2l92TKEDdJAaBlWMpQG+BBMWPETJAAAAAAAAAMkAWak3zjqMxQN0kBoGVYylAb4EExY8RMkBvgQTFjxEyQP2H9NvXAStAb4EExY8RMkAX2c73U0M0QG+BBMWPETJAb4EExY8RMkAr9pfdkyc2QKH4MeaupShA+1xtxf7yJ0AAAAAAAAAyQPtcbcX+8idAGXPXEvIBKkAAAAAAAAAyQPtcbcX+8idAak3zjlMULED7XG3F/vInQG+BBMWPETJA+1xtxf7yJ0AZc9cS8gEqQBlz1xLyASpAb4EExY8RMkAZc9cS8gEqQG+BBMWPETJAb4EExY8RMkBvgQTFjxEyQBlz1xLyASpAGXPXEvIBKkD7XG3F/vInQG+BBMWPETJAb4EExY8RMkD7XG3F/vInQPtcbcX+8idAb4EExY8RMkBvgQTFjxEyQPtcbcX+8idA+1xtxf7yJ0D7XG3F/vInQG+BBMWPETJA+1xtxf7yJ0D7XG3F/vInQPtcbcX+8idAGXPXEvIBKkBvgQTFjxEyQHQkl/+QTjFA+1xtxf7yJ0AZc9cS8gEqQG+BBMWPETJAGXPXEvIBKkBvgQTFjxEyQJM6AU2EjTBAC7WmecdpLkD7XG3F/vInQPtcbcX+8idA5j+k374uMEDmP6Tfvi4wQJM6AU2EjTBAGXPXEvIBKkDmP6Tfvi4wQOY/pN++LjBAb4EExY8RMkBSuB6F6wExQHgLJCh+LC9ADwu1pnk3MEBvgQTFjxEyQG+BBMWPETJAb4EExY8RMkBvgQTFjxEyQMDsnjwsJDFAwOyePCwkMUCh+DHmrqUoQG+BBMWPETJAkzoBTYSNMECTOgFNhI0wQG+BBMWPETJAb4EExY8RMkBvgQTFjxEyQG+BBMWPETJAb4EExY8RMkBSuB6F6wExQG+BBMWPETJAb4EExY8RMkBSuB6F6wExQA==",
          "dtype": "f8"
         },
         "name": "",
         "radius": 25,
         "subplot": "mapbox",
         "type": "densitymapbox",
         "z": {
          "bdata": "MjIgIC0oKBkAAAAtAAAeABkgAAAAKDcAFCgoAAAAGSgARgAeACgAIyMjIwAAHgAAAAAAAAAAAAAoACgeAAAAKCgAABkZGQAgAAAAGSMjACMjFAAeFCMeAA8AICAAHgAoMgA8ACMeAAAjACgZAAAoAABQRjIAIzIoFAAAGSgoKB4ZKAAUHgAAHgAAADIAGQAgAAAeABkAAAAeAB4AAAAAAB4tFCgAACgARgAAIyAAGRRQHhQUKAAAAAAAKCgAFCgAFAAAMgAAABQAFABGAAAAHgAURlBQPB4oAAAAIwAADx4AABQAHgAAHh4AAAAAHigAHiMAAAAeKAAeKAAAHgAAAAAAIwAAAAAjIwAAFB4AKB4UABQjKDI8PCgyACgoAAAAKCgAACgAAAAePABGKEYZACgAKAAKAAAoHgA3ACg8AAAAACMAAAA8KEYyAAAAMhg=",
          "dtype": "i1"
         }
        }
       ],
       "layout": {
        "coloraxis": {
         "colorbar": {
          "title": {
           "text": "Antal beviljade platser start 2024"
          }
         },
         "colorscale": [
          [
           0,
           "#0d0887"
          ],
          [
           0.1111111111111111,
           "#46039f"
          ],
          [
           0.2222222222222222,
           "#7201a8"
          ],
          [
           0.3333333333333333,
           "#9c179e"
          ],
          [
           0.4444444444444444,
           "#bd3786"
          ],
          [
           0.5555555555555556,
           "#d8576b"
          ],
          [
           0.6666666666666666,
           "#ed7953"
          ],
          [
           0.7777777777777778,
           "#fb9f3a"
          ],
          [
           0.8888888888888888,
           "#fdca26"
          ],
          [
           1,
           "#f0f921"
          ]
         ]
        },
        "height": 700,
        "legend": {
         "tracegroupgap": 0
        },
        "mapbox": {
         "center": {
          "lat": 62,
          "lon": 15
         },
         "domain": {
          "x": [
           0,
           1
          ],
          "y": [
           0,
           1
          ]
         },
         "style": "open-street-map",
         "zoom": 4
        },
        "template": {
         "data": {
          "bar": [
           {
            "error_x": {
             "color": "#2a3f5f"
            },
            "error_y": {
             "color": "#2a3f5f"
            },
            "marker": {
             "line": {
              "color": "#E5ECF6",
              "width": 0.5
             },
             "pattern": {
              "fillmode": "overlay",
              "size": 10,
              "solidity": 0.2
             }
            },
            "type": "bar"
           }
          ],
          "barpolar": [
           {
            "marker": {
             "line": {
              "color": "#E5ECF6",
              "width": 0.5
             },
             "pattern": {
              "fillmode": "overlay",
              "size": 10,
              "solidity": 0.2
             }
            },
            "type": "barpolar"
           }
          ],
          "carpet": [
           {
            "aaxis": {
             "endlinecolor": "#2a3f5f",
             "gridcolor": "white",
             "linecolor": "white",
             "minorgridcolor": "white",
             "startlinecolor": "#2a3f5f"
            },
            "baxis": {
             "endlinecolor": "#2a3f5f",
             "gridcolor": "white",
             "linecolor": "white",
             "minorgridcolor": "white",
             "startlinecolor": "#2a3f5f"
            },
            "type": "carpet"
           }
          ],
          "choropleth": [
           {
            "colorbar": {
             "outlinewidth": 0,
             "ticks": ""
            },
            "type": "choropleth"
           }
          ],
          "contour": [
           {
            "colorbar": {
             "outlinewidth": 0,
             "ticks": ""
            },
            "colorscale": [
             [
              0,
              "#0d0887"
             ],
             [
              0.1111111111111111,
              "#46039f"
             ],
             [
              0.2222222222222222,
              "#7201a8"
             ],
             [
              0.3333333333333333,
              "#9c179e"
             ],
             [
              0.4444444444444444,
              "#bd3786"
             ],
             [
              0.5555555555555556,
              "#d8576b"
             ],
             [
              0.6666666666666666,
              "#ed7953"
             ],
             [
              0.7777777777777778,
              "#fb9f3a"
             ],
             [
              0.8888888888888888,
              "#fdca26"
             ],
             [
              1,
              "#f0f921"
             ]
            ],
            "type": "contour"
           }
          ],
          "contourcarpet": [
           {
            "colorbar": {
             "outlinewidth": 0,
             "ticks": ""
            },
            "type": "contourcarpet"
           }
          ],
          "heatmap": [
           {
            "colorbar": {
             "outlinewidth": 0,
             "ticks": ""
            },
            "colorscale": [
             [
              0,
              "#0d0887"
             ],
             [
              0.1111111111111111,
              "#46039f"
             ],
             [
              0.2222222222222222,
              "#7201a8"
             ],
             [
              0.3333333333333333,
              "#9c179e"
             ],
             [
              0.4444444444444444,
              "#bd3786"
             ],
             [
              0.5555555555555556,
              "#d8576b"
             ],
             [
              0.6666666666666666,
              "#ed7953"
             ],
             [
              0.7777777777777778,
              "#fb9f3a"
             ],
             [
              0.8888888888888888,
              "#fdca26"
             ],
             [
              1,
              "#f0f921"
             ]
            ],
            "type": "heatmap"
           }
          ],
          "histogram": [
           {
            "marker": {
             "pattern": {
              "fillmode": "overlay",
              "size": 10,
              "solidity": 0.2
             }
            },
            "type": "histogram"
           }
          ],
          "histogram2d": [
           {
            "colorbar": {
             "outlinewidth": 0,
             "ticks": ""
            },
            "colorscale": [
             [
              0,
              "#0d0887"
             ],
             [
              0.1111111111111111,
              "#46039f"
             ],
             [
              0.2222222222222222,
              "#7201a8"
             ],
             [
              0.3333333333333333,
              "#9c179e"
             ],
             [
              0.4444444444444444,
              "#bd3786"
             ],
             [
              0.5555555555555556,
              "#d8576b"
             ],
             [
              0.6666666666666666,
              "#ed7953"
             ],
             [
              0.7777777777777778,
              "#fb9f3a"
             ],
             [
              0.8888888888888888,
              "#fdca26"
             ],
             [
              1,
              "#f0f921"
             ]
            ],
            "type": "histogram2d"
           }
          ],
          "histogram2dcontour": [
           {
            "colorbar": {
             "outlinewidth": 0,
             "ticks": ""
            },
            "colorscale": [
             [
              0,
              "#0d0887"
             ],
             [
              0.1111111111111111,
              "#46039f"
             ],
             [
              0.2222222222222222,
              "#7201a8"
             ],
             [
              0.3333333333333333,
              "#9c179e"
             ],
             [
              0.4444444444444444,
              "#bd3786"
             ],
             [
              0.5555555555555556,
              "#d8576b"
             ],
             [
              0.6666666666666666,
              "#ed7953"
             ],
             [
              0.7777777777777778,
              "#fb9f3a"
             ],
             [
              0.8888888888888888,
              "#fdca26"
             ],
             [
              1,
              "#f0f921"
             ]
            ],
            "type": "histogram2dcontour"
           }
          ],
          "mesh3d": [
           {
            "colorbar": {
             "outlinewidth": 0,
             "ticks": ""
            },
            "type": "mesh3d"
           }
          ],
          "parcoords": [
           {
            "line": {
             "colorbar": {
              "outlinewidth": 0,
              "ticks": ""
             }
            },
            "type": "parcoords"
           }
          ],
          "pie": [
           {
            "automargin": true,
            "type": "pie"
           }
          ],
          "scatter": [
           {
            "fillpattern": {
             "fillmode": "overlay",
             "size": 10,
             "solidity": 0.2
            },
            "type": "scatter"
           }
          ],
          "scatter3d": [
           {
            "line": {
             "colorbar": {
              "outlinewidth": 0,
              "ticks": ""
             }
            },
            "marker": {
             "colorbar": {
              "outlinewidth": 0,
              "ticks": ""
             }
            },
            "type": "scatter3d"
           }
          ],
          "scattercarpet": [
           {
            "marker": {
             "colorbar": {
              "outlinewidth": 0,
              "ticks": ""
             }
            },
            "type": "scattercarpet"
           }
          ],
          "scattergeo": [
           {
            "marker": {
             "colorbar": {
              "outlinewidth": 0,
              "ticks": ""
             }
            },
            "type": "scattergeo"
           }
          ],
          "scattergl": [
           {
            "marker": {
             "colorbar": {
              "outlinewidth": 0,
              "ticks": ""
             }
            },
            "type": "scattergl"
           }
          ],
          "scattermap": [
           {
            "marker": {
             "colorbar": {
              "outlinewidth": 0,
              "ticks": ""
             }
            },
            "type": "scattermap"
           }
          ],
          "scattermapbox": [
           {
            "marker": {
             "colorbar": {
              "outlinewidth": 0,
              "ticks": ""
             }
            },
            "type": "scattermapbox"
           }
          ],
          "scatterpolar": [
           {
            "marker": {
             "colorbar": {
              "outlinewidth": 0,
              "ticks": ""
             }
            },
            "type": "scatterpolar"
           }
          ],
          "scatterpolargl": [
           {
            "marker": {
             "colorbar": {
              "outlinewidth": 0,
              "ticks": ""
             }
            },
            "type": "scatterpolargl"
           }
          ],
          "scatterternary": [
           {
            "marker": {
             "colorbar": {
              "outlinewidth": 0,
              "ticks": ""
             }
            },
            "type": "scatterternary"
           }
          ],
          "surface": [
           {
            "colorbar": {
             "outlinewidth": 0,
             "ticks": ""
            },
            "colorscale": [
             [
              0,
              "#0d0887"
             ],
             [
              0.1111111111111111,
              "#46039f"
             ],
             [
              0.2222222222222222,
              "#7201a8"
             ],
             [
              0.3333333333333333,
              "#9c179e"
             ],
             [
              0.4444444444444444,
              "#bd3786"
             ],
             [
              0.5555555555555556,
              "#d8576b"
             ],
             [
              0.6666666666666666,
              "#ed7953"
             ],
             [
              0.7777777777777778,
              "#fb9f3a"
             ],
             [
              0.8888888888888888,
              "#fdca26"
             ],
             [
              1,
              "#f0f921"
             ]
            ],
            "type": "surface"
           }
          ],
          "table": [
           {
            "cells": {
             "fill": {
              "color": "#EBF0F8"
             },
             "line": {
              "color": "white"
             }
            },
            "header": {
             "fill": {
              "color": "#C8D4E3"
             },
             "line": {
              "color": "white"
             }
            },
            "type": "table"
           }
          ]
         },
         "layout": {
          "annotationdefaults": {
           "arrowcolor": "#2a3f5f",
           "arrowhead": 0,
           "arrowwidth": 1
          },
          "autotypenumbers": "strict",
          "coloraxis": {
           "colorbar": {
            "outlinewidth": 0,
            "ticks": ""
           }
          },
          "colorscale": {
           "diverging": [
            [
             0,
             "#8e0152"
            ],
            [
             0.1,
             "#c51b7d"
            ],
            [
             0.2,
             "#de77ae"
            ],
            [
             0.3,
             "#f1b6da"
            ],
            [
             0.4,
             "#fde0ef"
            ],
            [
             0.5,
             "#f7f7f7"
            ],
            [
             0.6,
             "#e6f5d0"
            ],
            [
             0.7,
             "#b8e186"
            ],
            [
             0.8,
             "#7fbc41"
            ],
            [
             0.9,
             "#4d9221"
            ],
            [
             1,
             "#276419"
            ]
           ],
           "sequential": [
            [
             0,
             "#0d0887"
            ],
            [
             0.1111111111111111,
             "#46039f"
            ],
            [
             0.2222222222222222,
             "#7201a8"
            ],
            [
             0.3333333333333333,
             "#9c179e"
            ],
            [
             0.4444444444444444,
             "#bd3786"
            ],
            [
             0.5555555555555556,
             "#d8576b"
            ],
            [
             0.6666666666666666,
             "#ed7953"
            ],
            [
             0.7777777777777778,
             "#fb9f3a"
            ],
            [
             0.8888888888888888,
             "#fdca26"
            ],
            [
             1,
             "#f0f921"
            ]
           ],
           "sequentialminus": [
            [
             0,
             "#0d0887"
            ],
            [
             0.1111111111111111,
             "#46039f"
            ],
            [
             0.2222222222222222,
             "#7201a8"
            ],
            [
             0.3333333333333333,
             "#9c179e"
            ],
            [
             0.4444444444444444,
             "#bd3786"
            ],
            [
             0.5555555555555556,
             "#d8576b"
            ],
            [
             0.6666666666666666,
             "#ed7953"
            ],
            [
             0.7777777777777778,
             "#fb9f3a"
            ],
            [
             0.8888888888888888,
             "#fdca26"
            ],
            [
             1,
             "#f0f921"
            ]
           ]
          },
          "colorway": [
           "#636efa",
           "#EF553B",
           "#00cc96",
           "#ab63fa",
           "#FFA15A",
           "#19d3f3",
           "#FF6692",
           "#B6E880",
           "#FF97FF",
           "#FECB52"
          ],
          "font": {
           "color": "#2a3f5f"
          },
          "geo": {
           "bgcolor": "white",
           "lakecolor": "white",
           "landcolor": "#E5ECF6",
           "showlakes": true,
           "showland": true,
           "subunitcolor": "white"
          },
          "hoverlabel": {
           "align": "left"
          },
          "hovermode": "closest",
          "mapbox": {
           "style": "light"
          },
          "paper_bgcolor": "white",
          "plot_bgcolor": "#E5ECF6",
          "polar": {
           "angularaxis": {
            "gridcolor": "white",
            "linecolor": "white",
            "ticks": ""
           },
           "bgcolor": "#E5ECF6",
           "radialaxis": {
            "gridcolor": "white",
            "linecolor": "white",
            "ticks": ""
           }
          },
          "scene": {
           "xaxis": {
            "backgroundcolor": "#E5ECF6",
            "gridcolor": "white",
            "gridwidth": 2,
            "linecolor": "white",
            "showbackground": true,
            "ticks": "",
            "zerolinecolor": "white"
           },
           "yaxis": {
            "backgroundcolor": "#E5ECF6",
            "gridcolor": "white",
            "gridwidth": 2,
            "linecolor": "white",
            "showbackground": true,
            "ticks": "",
            "zerolinecolor": "white"
           },
           "zaxis": {
            "backgroundcolor": "#E5ECF6",
            "gridcolor": "white",
            "gridwidth": 2,
            "linecolor": "white",
            "showbackground": true,
            "ticks": "",
            "zerolinecolor": "white"
           }
          },
          "shapedefaults": {
           "line": {
            "color": "#2a3f5f"
           }
          },
          "ternary": {
           "aaxis": {
            "gridcolor": "white",
            "linecolor": "white",
            "ticks": ""
           },
           "baxis": {
            "gridcolor": "white",
            "linecolor": "white",
            "ticks": ""
           },
           "bgcolor": "#E5ECF6",
           "caxis": {
            "gridcolor": "white",
            "linecolor": "white",
            "ticks": ""
           }
          },
          "title": {
           "x": 0.05
          },
          "xaxis": {
           "automargin": true,
           "gridcolor": "white",
           "linecolor": "white",
           "ticks": "",
           "title": {
            "standoff": 15
           },
           "zerolinecolor": "white",
           "zerolinewidth": 2
          },
          "yaxis": {
           "automargin": true,
           "gridcolor": "white",
           "linecolor": "white",
           "ticks": "",
           "title": {
            "standoff": 15
           },
           "zerolinecolor": "white",
           "zerolinewidth": 2
          }
         }
        },
        "title": {
         "text": "Täthet av YH-program i Sverige"
        }
       }
      }
     },
     "metadata": {},
     "output_type": "display_data"
    }
   ],
   "source": [
    "import plotly.express as px\n",
    "import sys\n",
    "import os\n",
    "sys.path.append(os.path.dirname(os.getcwd()))  \n",
    "\n",
    "from assets.swedish_coordinates import swedish_coordinates\n",
    "\n",
    "df_result['lat'] = df_result['Kommun'].map(lambda x: swedish_coordinates.get(x, {}).get('lat'))\n",
    "df_result['lon'] = df_result['Kommun'].map(lambda x: swedish_coordinates.get(x, {}).get('lon'))\n",
    "\n",
    "kommun_stats = df_result.groupby(['Kommun', 'lat', 'lon'])['Antal beviljade platser start 2024'].sum().reset_index()\n",
    "\n",
    "kommun_stats = kommun_stats.dropna(subset=['lat', 'lon'])\n",
    "\n",
    "fig = px.density_mapbox(\n",
    "    df_result.dropna(subset=['lat', 'lon']),\n",
    "    lat='lat',\n",
    "    lon='lon',\n",
    "    z='Antal beviljade platser start 2024',\n",
    "    radius=25,\n",
    "    mapbox_style='open-street-map',\n",
    "    zoom=4,\n",
    "    center={'lat': 62.0, 'lon': 15.0},\n",
    "    title='Täthet av YH-program i Sverige'\n",
    ")\n",
    "\n",
    "fig.update_layout(height=700)\n",
    "fig.show()"
   ]
  },
  {
   "cell_type": "code",
   "execution_count": 51,
   "id": "ed8245d4",
   "metadata": {},
   "outputs": [
    {
     "ename": "FileNotFoundError",
     "evalue": "[Errno 2] No such file or directory: 'assets/swedish_regions.geojson'",
     "output_type": "error",
     "traceback": [
      "\u001b[31m---------------------------------------------------------------------------\u001b[39m",
      "\u001b[31mFileNotFoundError\u001b[39m                         Traceback (most recent call last)",
      "\u001b[36mCell\u001b[39m\u001b[36m \u001b[39m\u001b[32mIn[51]\u001b[39m\u001b[32m, line 9\u001b[39m\n\u001b[32m      5\u001b[39m \u001b[38;5;28;01mimport\u001b[39;00m\u001b[38;5;250m \u001b[39m\u001b[34;01mos\u001b[39;00m\n\u001b[32m      6\u001b[39m sys.path.append(os.path.dirname(os.getcwd()))  \n\u001b[32m----> \u001b[39m\u001b[32m9\u001b[39m \u001b[38;5;28;01mwith\u001b[39;00m \u001b[38;5;28;43mopen\u001b[39;49m\u001b[43m(\u001b[49m\u001b[33;43m\"\u001b[39;49m\u001b[33;43massets/swedish_regions.geojson\u001b[39;49m\u001b[33;43m\"\u001b[39;49m\u001b[43m,\u001b[49m\u001b[43m \u001b[49m\u001b[33;43m\"\u001b[39;49m\u001b[33;43mr\u001b[39;49m\u001b[33;43m\"\u001b[39;49m\u001b[43m)\u001b[49m \u001b[38;5;28;01mas\u001b[39;00m fp:\n\u001b[32m     10\u001b[39m     json_data = json.load(fp)\n\u001b[32m     12\u001b[39m properties = [feature.get(\u001b[33m\"\u001b[39m\u001b[33mproperties\u001b[39m\u001b[33m\"\u001b[39m) \u001b[38;5;28;01mfor\u001b[39;00m feature \u001b[38;5;129;01min\u001b[39;00m json_data.get(\u001b[33m\"\u001b[39m\u001b[33mfeatures\u001b[39m\u001b[33m\"\u001b[39m)]\n",
      "\u001b[36mFile \u001b[39m\u001b[32m~/Documents/DE24/github/the-skool-group5/.venv/lib/python3.12/site-packages/IPython/core/interactiveshell.py:326\u001b[39m, in \u001b[36m_modified_open\u001b[39m\u001b[34m(file, *args, **kwargs)\u001b[39m\n\u001b[32m    319\u001b[39m \u001b[38;5;28;01mif\u001b[39;00m file \u001b[38;5;129;01min\u001b[39;00m {\u001b[32m0\u001b[39m, \u001b[32m1\u001b[39m, \u001b[32m2\u001b[39m}:\n\u001b[32m    320\u001b[39m     \u001b[38;5;28;01mraise\u001b[39;00m \u001b[38;5;167;01mValueError\u001b[39;00m(\n\u001b[32m    321\u001b[39m         \u001b[33mf\u001b[39m\u001b[33m\"\u001b[39m\u001b[33mIPython won\u001b[39m\u001b[33m'\u001b[39m\u001b[33mt let you open fd=\u001b[39m\u001b[38;5;132;01m{\u001b[39;00mfile\u001b[38;5;132;01m}\u001b[39;00m\u001b[33m by default \u001b[39m\u001b[33m\"\u001b[39m\n\u001b[32m    322\u001b[39m         \u001b[33m\"\u001b[39m\u001b[33mas it is likely to crash IPython. If you know what you are doing, \u001b[39m\u001b[33m\"\u001b[39m\n\u001b[32m    323\u001b[39m         \u001b[33m\"\u001b[39m\u001b[33myou can use builtins\u001b[39m\u001b[33m'\u001b[39m\u001b[33m open.\u001b[39m\u001b[33m\"\u001b[39m\n\u001b[32m    324\u001b[39m     )\n\u001b[32m--> \u001b[39m\u001b[32m326\u001b[39m \u001b[38;5;28;01mreturn\u001b[39;00m \u001b[43mio_open\u001b[49m\u001b[43m(\u001b[49m\u001b[43mfile\u001b[49m\u001b[43m,\u001b[49m\u001b[43m \u001b[49m\u001b[43m*\u001b[49m\u001b[43margs\u001b[49m\u001b[43m,\u001b[49m\u001b[43m \u001b[49m\u001b[43m*\u001b[49m\u001b[43m*\u001b[49m\u001b[43mkwargs\u001b[49m\u001b[43m)\u001b[49m\n",
      "\u001b[31mFileNotFoundError\u001b[39m: [Errno 2] No such file or directory: 'assets/swedish_regions.geojson'"
     ]
    }
   ],
   "source": [
    "import json\n",
    "from difflib import get_close_matches\n",
    "import plotly.express as px\n",
    "import sys\n",
    "import os\n",
    "sys.path.append(os.path.dirname(os.getcwd()))  \n",
    "\n",
    "\n",
    "with open(\"assets/swedish_regions.geojson\", \"r\") as fp:\n",
    "    json_data = json.load(fp)\n",
    "\n",
    "properties = [feature.get(\"properties\") for feature in json_data.get(\"features\")]\n",
    "\n",
    "region_codes = {}\n",
    "for property in properties:\n",
    "    name = property.get(\"name\")\n",
    "    code = property.get(\"ref:se:länskod\")  \n",
    "    \n",
    "    if name and code:\n",
    "        region_codes[name] = code\n",
    "        print(f\"Регион: {name}, Код: {code}\")\n",
    "\n",
    "import pandas as pd\n",
    "\n",
    "test_data = {\n",
    "    'Регион': ['Stockholms län', 'Västra Götalands län', 'Skåne län', 'Uppsala län'],\n",
    "    'Codes': ['01', '14', '12', '03'],\n",
    "    'Antal programm': [150, 120, 90, 80]\n",
    "}\n",
    "\n",
    "region_stats = pd.DataFrame(test_data)\n",
    "region_stats = region_stats.dropna(subset=['Codes'])\n",
    "\n",
    "\n",
    "fig = px.choropleth_mapbox(\n",
    "    region_stats,\n",
    "    geojson=json_data,\n",
    "    locations='Codes',\n",
    "    color='Antal program',\n",
    "    hover_name='Регион',\n",
    "    hover_data={'Antal program': ':,'},\n",
    "    color_continuous_scale='Blues',\n",
    "    mapbox_style='open-street-map',\n",
    "    zoom=4,\n",
    "    center={'lat': 62.0, 'lon': 15.0},\n",
    "    title='Antal'\n",
    ")\n",
    "\n",
    "fig.update_layout(height=700)\n",
    "fig.show()\n",
    "\n",
    "kommun_stats_with_codes = kommun_stats.dropna(subset=['region_code'])  \n",
    "\n",
    "fig = px.choropleth_mapbox(\n",
    "    kommun_stats_with_codes,\n",
    "    geojson=json_data,\n",
    "    locations='region_code', \n",
    "    color='Antal beviljade platser start 2024',\n",
    "    hover_name='Kommun', \n",
    "    hover_data={'Antal beviljade platser start 2024': ':,'},\n",
    "    color_continuous_scale='Blues',\n",
    "    mapbox_style='open-street-map',\n",
    "    zoom=4,\n",
    "    center={'lat': 62.0, 'lon': 15.0},\n",
    "    title='YH Program per region'\n",
    ")\n",
    "\n",
    "fig.update_layout(height=700)\n",
    "fig.show()\n"
   ]
  },
  {
   "cell_type": "code",
   "execution_count": null,
   "id": "c74a83ba",
   "metadata": {},
   "outputs": [],
   "source": []
  }
 ],
 "metadata": {
  "kernelspec": {
   "display_name": ".venv",
   "language": "python",
   "name": "python3"
  },
  "language_info": {
   "codemirror_mode": {
    "name": "ipython",
    "version": 3
   },
   "file_extension": ".py",
   "mimetype": "text/x-python",
   "name": "python",
   "nbconvert_exporter": "python",
   "pygments_lexer": "ipython3",
   "version": "3.12.1"
  }
 },
 "nbformat": 4,
 "nbformat_minor": 5
}
