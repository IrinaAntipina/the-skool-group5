{
 "cells": [
  {
   "cell_type": "code",
   "execution_count": 2,
   "id": "fe7d9978",
   "metadata": {},
   "outputs": [
    {
     "data": {
      "text/html": [
       "<div>\n",
       "<style scoped>\n",
       "    .dataframe tbody tr th:only-of-type {\n",
       "        vertical-align: middle;\n",
       "    }\n",
       "\n",
       "    .dataframe tbody tr th {\n",
       "        vertical-align: top;\n",
       "    }\n",
       "\n",
       "    .dataframe thead th {\n",
       "        text-align: right;\n",
       "    }\n",
       "</style>\n",
       "<table border=\"1\" class=\"dataframe\">\n",
       "  <thead>\n",
       "    <tr style=\"text-align: right;\">\n",
       "      <th></th>\n",
       "      <th>Diarienummer</th>\n",
       "      <th>Beslut</th>\n",
       "      <th>Anordnare namn</th>\n",
       "      <th>Utbildningsnamn</th>\n",
       "      <th>Utbildningsområde</th>\n",
       "      <th>Antal beviljade platser start 2024</th>\n",
       "      <th>Antal beviljade platser start och slut 2024</th>\n",
       "      <th>Antal beviljade platser start 2025</th>\n",
       "      <th>Totalt antal beviljade platser</th>\n",
       "      <th>YH-poäng</th>\n",
       "      <th>Kommun</th>\n",
       "      <th>Län</th>\n",
       "      <th>FA-region</th>\n",
       "      <th>Antal kommuner</th>\n",
       "      <th>Antal län</th>\n",
       "      <th>Antal FA-regioner</th>\n",
       "    </tr>\n",
       "  </thead>\n",
       "  <tbody>\n",
       "    <tr>\n",
       "      <th>0</th>\n",
       "      <td>MYH 2024/1000</td>\n",
       "      <td>Avslag</td>\n",
       "      <td>Changemaker Educations AB</td>\n",
       "      <td>Futuregames Accessible Game Production</td>\n",
       "      <td>Juridik</td>\n",
       "      <td>0</td>\n",
       "      <td>0</td>\n",
       "      <td>0</td>\n",
       "      <td>0</td>\n",
       "      <td>25</td>\n",
       "      <td>Se \"Lista flera kommuner\"</td>\n",
       "      <td>Se \"Lista flera kommuner\"</td>\n",
       "      <td>Se \"Lista flera kommuner\"</td>\n",
       "      <td>3</td>\n",
       "      <td>3</td>\n",
       "      <td>3</td>\n",
       "    </tr>\n",
       "    <tr>\n",
       "      <th>1</th>\n",
       "      <td>MYH 2024/1001</td>\n",
       "      <td>Avslag</td>\n",
       "      <td>Changemaker Educations AB</td>\n",
       "      <td>Futuregames Inclusive Game Development</td>\n",
       "      <td>Ekonomi, administration och försäljning</td>\n",
       "      <td>0</td>\n",
       "      <td>0</td>\n",
       "      <td>0</td>\n",
       "      <td>0</td>\n",
       "      <td>25</td>\n",
       "      <td>Se \"Lista flera kommuner\"</td>\n",
       "      <td>Se \"Lista flera kommuner\"</td>\n",
       "      <td>Se \"Lista flera kommuner\"</td>\n",
       "      <td>3</td>\n",
       "      <td>3</td>\n",
       "      <td>3</td>\n",
       "    </tr>\n",
       "    <tr>\n",
       "      <th>2</th>\n",
       "      <td>MYH 2024/1002</td>\n",
       "      <td>Avslag</td>\n",
       "      <td>Båstads kommun Akademi Båstad</td>\n",
       "      <td>Ekosystemtjänster i praktiken</td>\n",
       "      <td>Lantbruk, djurvård, trädgård, skog och fiske</td>\n",
       "      <td>0</td>\n",
       "      <td>0</td>\n",
       "      <td>0</td>\n",
       "      <td>0</td>\n",
       "      <td>50</td>\n",
       "      <td>Båstad</td>\n",
       "      <td>Skåne</td>\n",
       "      <td>Malmö-Lund</td>\n",
       "      <td>1</td>\n",
       "      <td>1</td>\n",
       "      <td>1</td>\n",
       "    </tr>\n",
       "    <tr>\n",
       "      <th>3</th>\n",
       "      <td>MYH 2024/1003</td>\n",
       "      <td>Avslag</td>\n",
       "      <td>Båstads kommun Akademi Båstad</td>\n",
       "      <td>Hållbar dagvattenhantering i praktiken</td>\n",
       "      <td>Lantbruk, djurvård, trädgård, skog och fiske</td>\n",
       "      <td>0</td>\n",
       "      <td>0</td>\n",
       "      <td>0</td>\n",
       "      <td>0</td>\n",
       "      <td>50</td>\n",
       "      <td>Båstad</td>\n",
       "      <td>Skåne</td>\n",
       "      <td>Malmö-Lund</td>\n",
       "      <td>1</td>\n",
       "      <td>1</td>\n",
       "      <td>1</td>\n",
       "    </tr>\n",
       "    <tr>\n",
       "      <th>4</th>\n",
       "      <td>MYH 2024/1004</td>\n",
       "      <td>Avslag</td>\n",
       "      <td>Båstads kommun Akademi Båstad</td>\n",
       "      <td>Invasiva växter i utemiljöer</td>\n",
       "      <td>Lantbruk, djurvård, trädgård, skog och fiske</td>\n",
       "      <td>0</td>\n",
       "      <td>0</td>\n",
       "      <td>0</td>\n",
       "      <td>0</td>\n",
       "      <td>25</td>\n",
       "      <td>Båstad</td>\n",
       "      <td>Skåne</td>\n",
       "      <td>Malmö-Lund</td>\n",
       "      <td>1</td>\n",
       "      <td>1</td>\n",
       "      <td>1</td>\n",
       "    </tr>\n",
       "    <tr>\n",
       "      <th>5</th>\n",
       "      <td>MYH 2024/1006</td>\n",
       "      <td>Avslag</td>\n",
       "      <td>Stiftelsen Stockholms Tekniska Institut</td>\n",
       "      <td>Infrastrukturplanering och strategi</td>\n",
       "      <td>Samhällsbyggnad och byggteknik</td>\n",
       "      <td>0</td>\n",
       "      <td>0</td>\n",
       "      <td>0</td>\n",
       "      <td>0</td>\n",
       "      <td>50</td>\n",
       "      <td>Stockholm</td>\n",
       "      <td>Stockholm</td>\n",
       "      <td>Stockholm</td>\n",
       "      <td>1</td>\n",
       "      <td>1</td>\n",
       "      <td>1</td>\n",
       "    </tr>\n",
       "    <tr>\n",
       "      <th>6</th>\n",
       "      <td>MYH 2024/1007</td>\n",
       "      <td>Avslag</td>\n",
       "      <td>Plushögskolan AB - Affärshögskolan</td>\n",
       "      <td>Hållbara inköps- och upphandlingsprocesser</td>\n",
       "      <td>Ekonomi, administration och försäljning</td>\n",
       "      <td>0</td>\n",
       "      <td>0</td>\n",
       "      <td>0</td>\n",
       "      <td>0</td>\n",
       "      <td>45</td>\n",
       "      <td>Se \"Lista flera kommuner\"</td>\n",
       "      <td>Se \"Lista flera kommuner\"</td>\n",
       "      <td>Se \"Lista flera kommuner\"</td>\n",
       "      <td>5</td>\n",
       "      <td>5</td>\n",
       "      <td>5</td>\n",
       "    </tr>\n",
       "    <tr>\n",
       "      <th>7</th>\n",
       "      <td>MYH 2024/1009</td>\n",
       "      <td>Beviljad</td>\n",
       "      <td>Plushögskolan AB - Affärshögskolan</td>\n",
       "      <td>Strategisk hållbarhetsutveckling</td>\n",
       "      <td>Ekonomi, administration och försäljning</td>\n",
       "      <td>50</td>\n",
       "      <td>0</td>\n",
       "      <td>50</td>\n",
       "      <td>100</td>\n",
       "      <td>45</td>\n",
       "      <td>Se \"Lista flera kommuner\"</td>\n",
       "      <td>Se \"Lista flera kommuner\"</td>\n",
       "      <td>Se \"Lista flera kommuner\"</td>\n",
       "      <td>4</td>\n",
       "      <td>4</td>\n",
       "      <td>4</td>\n",
       "    </tr>\n",
       "    <tr>\n",
       "      <th>8</th>\n",
       "      <td>MYH 2024/1010</td>\n",
       "      <td>Beviljad</td>\n",
       "      <td>IHM Business School AB Göteborg</td>\n",
       "      <td>Social media marketing</td>\n",
       "      <td>Ekonomi, administration och försäljning</td>\n",
       "      <td>50</td>\n",
       "      <td>0</td>\n",
       "      <td>50</td>\n",
       "      <td>100</td>\n",
       "      <td>40</td>\n",
       "      <td>Göteborg</td>\n",
       "      <td>Västra Götaland</td>\n",
       "      <td>Göteborg</td>\n",
       "      <td>1</td>\n",
       "      <td>1</td>\n",
       "      <td>1</td>\n",
       "    </tr>\n",
       "    <tr>\n",
       "      <th>9</th>\n",
       "      <td>MYH 2024/1014</td>\n",
       "      <td>Avslag</td>\n",
       "      <td>Campus Varberg/Varbergs kommun</td>\n",
       "      <td>AI i praktiken</td>\n",
       "      <td>Data/IT</td>\n",
       "      <td>0</td>\n",
       "      <td>0</td>\n",
       "      <td>0</td>\n",
       "      <td>0</td>\n",
       "      <td>25</td>\n",
       "      <td>Varberg</td>\n",
       "      <td>Halland</td>\n",
       "      <td>Göteborg</td>\n",
       "      <td>1</td>\n",
       "      <td>1</td>\n",
       "      <td>1</td>\n",
       "    </tr>\n",
       "    <tr>\n",
       "      <th>10</th>\n",
       "      <td>MYH 2024/1015</td>\n",
       "      <td>Avslag</td>\n",
       "      <td>Västra Götalands läns landsting, Biologiska Yr...</td>\n",
       "      <td>Vattenhushållning i livsmedelsproduktionen.</td>\n",
       "      <td>Lantbruk, djurvård, trädgård, skog och fiske</td>\n",
       "      <td>0</td>\n",
       "      <td>0</td>\n",
       "      <td>0</td>\n",
       "      <td>0</td>\n",
       "      <td>40</td>\n",
       "      <td>Skara</td>\n",
       "      <td>Västra Götaland</td>\n",
       "      <td>Skövde-Skara</td>\n",
       "      <td>1</td>\n",
       "      <td>1</td>\n",
       "      <td>1</td>\n",
       "    </tr>\n",
       "    <tr>\n",
       "      <th>11</th>\n",
       "      <td>MYH 2024/1016</td>\n",
       "      <td>Beviljad</td>\n",
       "      <td>Plushögskolan AB - Vårdyrkeshögskolan</td>\n",
       "      <td>E-hälsa, digitalisering och välfärdsteknik ino...</td>\n",
       "      <td>Hälso- och sjukvård samt socialt arbete</td>\n",
       "      <td>0</td>\n",
       "      <td>50</td>\n",
       "      <td>0</td>\n",
       "      <td>50</td>\n",
       "      <td>50</td>\n",
       "      <td>Se \"Lista flera kommuner\"</td>\n",
       "      <td>Se \"Lista flera kommuner\"</td>\n",
       "      <td>Se \"Lista flera kommuner\"</td>\n",
       "      <td>5</td>\n",
       "      <td>4</td>\n",
       "      <td>5</td>\n",
       "    </tr>\n",
       "    <tr>\n",
       "      <th>12</th>\n",
       "      <td>MYH 2024/1017</td>\n",
       "      <td>Beviljad</td>\n",
       "      <td>Hyper Island Program AB - Karlskrona</td>\n",
       "      <td>Sustainability Change Leadership</td>\n",
       "      <td>Ekonomi, administration och försäljning</td>\n",
       "      <td>55</td>\n",
       "      <td>0</td>\n",
       "      <td>55</td>\n",
       "      <td>110</td>\n",
       "      <td>55</td>\n",
       "      <td>Se \"Lista flera kommuner\"</td>\n",
       "      <td>Se \"Lista flera kommuner\"</td>\n",
       "      <td>Se \"Lista flera kommuner\"</td>\n",
       "      <td>2</td>\n",
       "      <td>2</td>\n",
       "      <td>2</td>\n",
       "    </tr>\n",
       "    <tr>\n",
       "      <th>13</th>\n",
       "      <td>MYH 2024/1018</td>\n",
       "      <td>Beviljad</td>\n",
       "      <td>Plushögskolan AB - Affärshögskolan</td>\n",
       "      <td>Digitalisering och systemkunskap inom lön - Sp...</td>\n",
       "      <td>Ekonomi, administration och försäljning</td>\n",
       "      <td>50</td>\n",
       "      <td>0</td>\n",
       "      <td>50</td>\n",
       "      <td>100</td>\n",
       "      <td>30</td>\n",
       "      <td>Gävle</td>\n",
       "      <td>Gävleborg</td>\n",
       "      <td>Gävle</td>\n",
       "      <td>1</td>\n",
       "      <td>1</td>\n",
       "      <td>1</td>\n",
       "    </tr>\n",
       "    <tr>\n",
       "      <th>14</th>\n",
       "      <td>MYH 2024/1019</td>\n",
       "      <td>Beviljad</td>\n",
       "      <td>Plushögskolan AB - Vårdyrkeshögskolan</td>\n",
       "      <td>Psykisk hälsa och suicidprevention</td>\n",
       "      <td>Hälso- och sjukvård samt socialt arbete</td>\n",
       "      <td>0</td>\n",
       "      <td>50</td>\n",
       "      <td>0</td>\n",
       "      <td>50</td>\n",
       "      <td>30</td>\n",
       "      <td>Se \"Lista flera kommuner\"</td>\n",
       "      <td>Se \"Lista flera kommuner\"</td>\n",
       "      <td>Se \"Lista flera kommuner\"</td>\n",
       "      <td>5</td>\n",
       "      <td>5</td>\n",
       "      <td>5</td>\n",
       "    </tr>\n",
       "    <tr>\n",
       "      <th>15</th>\n",
       "      <td>MYH 2024/1020</td>\n",
       "      <td>Beviljad</td>\n",
       "      <td>Plushögskolan AB - Vårdyrkeshögskolan</td>\n",
       "      <td>Psykisk ohälsa hos äldre</td>\n",
       "      <td>Hälso- och sjukvård samt socialt arbete</td>\n",
       "      <td>50</td>\n",
       "      <td>0</td>\n",
       "      <td>50</td>\n",
       "      <td>100</td>\n",
       "      <td>60</td>\n",
       "      <td>Se \"Lista flera kommuner\"</td>\n",
       "      <td>Se \"Lista flera kommuner\"</td>\n",
       "      <td>Se \"Lista flera kommuner\"</td>\n",
       "      <td>5</td>\n",
       "      <td>5</td>\n",
       "      <td>5</td>\n",
       "    </tr>\n",
       "    <tr>\n",
       "      <th>16</th>\n",
       "      <td>MYH 2024/1021</td>\n",
       "      <td>Avslag</td>\n",
       "      <td>Plushögskolan AB - Vårdyrkeshögskolan</td>\n",
       "      <td>SRHR och funktionsnedsättning</td>\n",
       "      <td>Hälso- och sjukvård samt socialt arbete</td>\n",
       "      <td>0</td>\n",
       "      <td>0</td>\n",
       "      <td>0</td>\n",
       "      <td>0</td>\n",
       "      <td>50</td>\n",
       "      <td>Se \"Lista flera kommuner\"</td>\n",
       "      <td>Se \"Lista flera kommuner\"</td>\n",
       "      <td>Se \"Lista flera kommuner\"</td>\n",
       "      <td>3</td>\n",
       "      <td>3</td>\n",
       "      <td>3</td>\n",
       "    </tr>\n",
       "    <tr>\n",
       "      <th>17</th>\n",
       "      <td>MYH 2024/1022</td>\n",
       "      <td>Beviljad</td>\n",
       "      <td>Nackademin AB</td>\n",
       "      <td>BIM verktyg: Punktmolnsmodellering och Virtual...</td>\n",
       "      <td>Samhällsbyggnad och byggteknik</td>\n",
       "      <td>32</td>\n",
       "      <td>0</td>\n",
       "      <td>32</td>\n",
       "      <td>64</td>\n",
       "      <td>20</td>\n",
       "      <td>Solna</td>\n",
       "      <td>Stockholm</td>\n",
       "      <td>Stockholm</td>\n",
       "      <td>1</td>\n",
       "      <td>1</td>\n",
       "      <td>1</td>\n",
       "    </tr>\n",
       "    <tr>\n",
       "      <th>18</th>\n",
       "      <td>MYH 2024/1023</td>\n",
       "      <td>Beviljad</td>\n",
       "      <td>Plushögskolan AB - Vårdyrkeshögskolan</td>\n",
       "      <td>Funktionsnedsättningar och samsjuklighet</td>\n",
       "      <td>Hälso- och sjukvård samt socialt arbete</td>\n",
       "      <td>0</td>\n",
       "      <td>70</td>\n",
       "      <td>0</td>\n",
       "      <td>70</td>\n",
       "      <td>30</td>\n",
       "      <td>Se \"Lista flera kommuner\"</td>\n",
       "      <td>Se \"Lista flera kommuner\"</td>\n",
       "      <td>Se \"Lista flera kommuner\"</td>\n",
       "      <td>4</td>\n",
       "      <td>4</td>\n",
       "      <td>4</td>\n",
       "    </tr>\n",
       "    <tr>\n",
       "      <th>19</th>\n",
       "      <td>MYH 2024/1024</td>\n",
       "      <td>Beviljad</td>\n",
       "      <td>Plushögskolan AB - Vårdyrkeshögskolan</td>\n",
       "      <td>Missbruk och beroende</td>\n",
       "      <td>Hälso- och sjukvård samt socialt arbete</td>\n",
       "      <td>50</td>\n",
       "      <td>0</td>\n",
       "      <td>50</td>\n",
       "      <td>100</td>\n",
       "      <td>30</td>\n",
       "      <td>Se \"Lista flera kommuner\"</td>\n",
       "      <td>Se \"Lista flera kommuner\"</td>\n",
       "      <td>Se \"Lista flera kommuner\"</td>\n",
       "      <td>5</td>\n",
       "      <td>5</td>\n",
       "      <td>5</td>\n",
       "    </tr>\n",
       "    <tr>\n",
       "      <th>20</th>\n",
       "      <td>MYH 2024/1025</td>\n",
       "      <td>Beviljad</td>\n",
       "      <td>Nackademin AB</td>\n",
       "      <td>BIM-verktyg: Parametrisk design och programmer...</td>\n",
       "      <td>Samhällsbyggnad och byggteknik</td>\n",
       "      <td>32</td>\n",
       "      <td>0</td>\n",
       "      <td>32</td>\n",
       "      <td>64</td>\n",
       "      <td>20</td>\n",
       "      <td>Solna</td>\n",
       "      <td>Stockholm</td>\n",
       "      <td>Stockholm</td>\n",
       "      <td>1</td>\n",
       "      <td>1</td>\n",
       "      <td>1</td>\n",
       "    </tr>\n",
       "    <tr>\n",
       "      <th>21</th>\n",
       "      <td>MYH 2024/1026</td>\n",
       "      <td>Beviljad</td>\n",
       "      <td>Nackademin AB</td>\n",
       "      <td>Cirkulärt byggande och återbruk</td>\n",
       "      <td>Samhällsbyggnad och byggteknik</td>\n",
       "      <td>45</td>\n",
       "      <td>0</td>\n",
       "      <td>45</td>\n",
       "      <td>90</td>\n",
       "      <td>30</td>\n",
       "      <td>Solna</td>\n",
       "      <td>Stockholm</td>\n",
       "      <td>Stockholm</td>\n",
       "      <td>1</td>\n",
       "      <td>1</td>\n",
       "      <td>1</td>\n",
       "    </tr>\n",
       "    <tr>\n",
       "      <th>22</th>\n",
       "      <td>MYH 2024/1027</td>\n",
       "      <td>Beviljad</td>\n",
       "      <td>Plushögskolan AB - Vårdyrkeshögskolan</td>\n",
       "      <td>Mikrobiologi och vårdhygien</td>\n",
       "      <td>Hälso- och sjukvård samt socialt arbete</td>\n",
       "      <td>0</td>\n",
       "      <td>50</td>\n",
       "      <td>0</td>\n",
       "      <td>50</td>\n",
       "      <td>30</td>\n",
       "      <td>Se \"Lista flera kommuner\"</td>\n",
       "      <td>Se \"Lista flera kommuner\"</td>\n",
       "      <td>Se \"Lista flera kommuner\"</td>\n",
       "      <td>3</td>\n",
       "      <td>3</td>\n",
       "      <td>3</td>\n",
       "    </tr>\n",
       "    <tr>\n",
       "      <th>23</th>\n",
       "      <td>MYH 2024/1028</td>\n",
       "      <td>Avslag</td>\n",
       "      <td>Plushögskolan AB - Vårdyrkeshögskolan</td>\n",
       "      <td>Omvårdnad vid hjärt-kärlsjukdomar</td>\n",
       "      <td>Hälso- och sjukvård samt socialt arbete</td>\n",
       "      <td>0</td>\n",
       "      <td>0</td>\n",
       "      <td>0</td>\n",
       "      <td>0</td>\n",
       "      <td>50</td>\n",
       "      <td>Se \"Lista flera kommuner\"</td>\n",
       "      <td>Se \"Lista flera kommuner\"</td>\n",
       "      <td>Se \"Lista flera kommuner\"</td>\n",
       "      <td>4</td>\n",
       "      <td>4</td>\n",
       "      <td>4</td>\n",
       "    </tr>\n",
       "    <tr>\n",
       "      <th>24</th>\n",
       "      <td>MYH 2024/1029</td>\n",
       "      <td>Beviljad</td>\n",
       "      <td>Nackademin AB</td>\n",
       "      <td>Cloud Fundamentals</td>\n",
       "      <td>Data/IT</td>\n",
       "      <td>40</td>\n",
       "      <td>0</td>\n",
       "      <td>40</td>\n",
       "      <td>80</td>\n",
       "      <td>20</td>\n",
       "      <td>Solna</td>\n",
       "      <td>Stockholm</td>\n",
       "      <td>Stockholm</td>\n",
       "      <td>1</td>\n",
       "      <td>1</td>\n",
       "      <td>1</td>\n",
       "    </tr>\n",
       "    <tr>\n",
       "      <th>25</th>\n",
       "      <td>MYH 2024/1030</td>\n",
       "      <td>Beviljad</td>\n",
       "      <td>Nackademin AB</td>\n",
       "      <td>Cyber Security</td>\n",
       "      <td>Data/IT</td>\n",
       "      <td>40</td>\n",
       "      <td>0</td>\n",
       "      <td>40</td>\n",
       "      <td>80</td>\n",
       "      <td>30</td>\n",
       "      <td>Solna</td>\n",
       "      <td>Stockholm</td>\n",
       "      <td>Stockholm</td>\n",
       "      <td>1</td>\n",
       "      <td>1</td>\n",
       "      <td>1</td>\n",
       "    </tr>\n",
       "    <tr>\n",
       "      <th>26</th>\n",
       "      <td>MYH 2024/1031</td>\n",
       "      <td>Beviljad</td>\n",
       "      <td>Landskrona Stad, Yrkeshögskolan Landskrona</td>\n",
       "      <td>Funktionsnedsättningar i ett helhetsperspektiv</td>\n",
       "      <td>Hälso- och sjukvård samt socialt arbete</td>\n",
       "      <td>25</td>\n",
       "      <td>0</td>\n",
       "      <td>0</td>\n",
       "      <td>25</td>\n",
       "      <td>50</td>\n",
       "      <td>Landskrona</td>\n",
       "      <td>Skåne</td>\n",
       "      <td>Malmö-Lund</td>\n",
       "      <td>1</td>\n",
       "      <td>1</td>\n",
       "      <td>1</td>\n",
       "    </tr>\n",
       "    <tr>\n",
       "      <th>27</th>\n",
       "      <td>MYH 2024/1032</td>\n",
       "      <td>Beviljad</td>\n",
       "      <td>Nackademin AB</td>\n",
       "      <td>Energioptimering och förnybara energikällor</td>\n",
       "      <td>Samhällsbyggnad och byggteknik</td>\n",
       "      <td>0</td>\n",
       "      <td>35</td>\n",
       "      <td>0</td>\n",
       "      <td>35</td>\n",
       "      <td>30</td>\n",
       "      <td>Solna</td>\n",
       "      <td>Stockholm</td>\n",
       "      <td>Stockholm</td>\n",
       "      <td>1</td>\n",
       "      <td>1</td>\n",
       "      <td>1</td>\n",
       "    </tr>\n",
       "    <tr>\n",
       "      <th>28</th>\n",
       "      <td>MYH 2024/1033</td>\n",
       "      <td>Beviljad</td>\n",
       "      <td>Nackademin AB</td>\n",
       "      <td>Fördjupning i relationsdatabaser för utvecklare</td>\n",
       "      <td>Data/IT</td>\n",
       "      <td>0</td>\n",
       "      <td>30</td>\n",
       "      <td>0</td>\n",
       "      <td>30</td>\n",
       "      <td>25</td>\n",
       "      <td>Solna</td>\n",
       "      <td>Stockholm</td>\n",
       "      <td>Stockholm</td>\n",
       "      <td>1</td>\n",
       "      <td>1</td>\n",
       "      <td>1</td>\n",
       "    </tr>\n",
       "    <tr>\n",
       "      <th>29</th>\n",
       "      <td>MYH 2024/1034</td>\n",
       "      <td>Beviljad</td>\n",
       "      <td>Nackademin AB</td>\n",
       "      <td>Inkluderande UX-design</td>\n",
       "      <td>Data/IT</td>\n",
       "      <td>0</td>\n",
       "      <td>40</td>\n",
       "      <td>0</td>\n",
       "      <td>40</td>\n",
       "      <td>20</td>\n",
       "      <td>Solna</td>\n",
       "      <td>Stockholm</td>\n",
       "      <td>Stockholm</td>\n",
       "      <td>1</td>\n",
       "      <td>1</td>\n",
       "      <td>1</td>\n",
       "    </tr>\n",
       "  </tbody>\n",
       "</table>\n",
       "</div>"
      ],
      "text/plain": [
       "     Diarienummer    Beslut  \\\n",
       "0   MYH 2024/1000    Avslag   \n",
       "1   MYH 2024/1001    Avslag   \n",
       "2   MYH 2024/1002    Avslag   \n",
       "3   MYH 2024/1003    Avslag   \n",
       "4   MYH 2024/1004    Avslag   \n",
       "5   MYH 2024/1006    Avslag   \n",
       "6   MYH 2024/1007    Avslag   \n",
       "7   MYH 2024/1009  Beviljad   \n",
       "8   MYH 2024/1010  Beviljad   \n",
       "9   MYH 2024/1014    Avslag   \n",
       "10  MYH 2024/1015    Avslag   \n",
       "11  MYH 2024/1016  Beviljad   \n",
       "12  MYH 2024/1017  Beviljad   \n",
       "13  MYH 2024/1018  Beviljad   \n",
       "14  MYH 2024/1019  Beviljad   \n",
       "15  MYH 2024/1020  Beviljad   \n",
       "16  MYH 2024/1021    Avslag   \n",
       "17  MYH 2024/1022  Beviljad   \n",
       "18  MYH 2024/1023  Beviljad   \n",
       "19  MYH 2024/1024  Beviljad   \n",
       "20  MYH 2024/1025  Beviljad   \n",
       "21  MYH 2024/1026  Beviljad   \n",
       "22  MYH 2024/1027  Beviljad   \n",
       "23  MYH 2024/1028    Avslag   \n",
       "24  MYH 2024/1029  Beviljad   \n",
       "25  MYH 2024/1030  Beviljad   \n",
       "26  MYH 2024/1031  Beviljad   \n",
       "27  MYH 2024/1032  Beviljad   \n",
       "28  MYH 2024/1033  Beviljad   \n",
       "29  MYH 2024/1034  Beviljad   \n",
       "\n",
       "                                       Anordnare namn  \\\n",
       "0                           Changemaker Educations AB   \n",
       "1                           Changemaker Educations AB   \n",
       "2                       Båstads kommun Akademi Båstad   \n",
       "3                       Båstads kommun Akademi Båstad   \n",
       "4                       Båstads kommun Akademi Båstad   \n",
       "5             Stiftelsen Stockholms Tekniska Institut   \n",
       "6                  Plushögskolan AB - Affärshögskolan   \n",
       "7                  Plushögskolan AB - Affärshögskolan   \n",
       "8                     IHM Business School AB Göteborg   \n",
       "9                      Campus Varberg/Varbergs kommun   \n",
       "10  Västra Götalands läns landsting, Biologiska Yr...   \n",
       "11              Plushögskolan AB - Vårdyrkeshögskolan   \n",
       "12               Hyper Island Program AB - Karlskrona   \n",
       "13                 Plushögskolan AB - Affärshögskolan   \n",
       "14              Plushögskolan AB - Vårdyrkeshögskolan   \n",
       "15              Plushögskolan AB - Vårdyrkeshögskolan   \n",
       "16              Plushögskolan AB - Vårdyrkeshögskolan   \n",
       "17                                      Nackademin AB   \n",
       "18              Plushögskolan AB - Vårdyrkeshögskolan   \n",
       "19              Plushögskolan AB - Vårdyrkeshögskolan   \n",
       "20                                      Nackademin AB   \n",
       "21                                      Nackademin AB   \n",
       "22              Plushögskolan AB - Vårdyrkeshögskolan   \n",
       "23              Plushögskolan AB - Vårdyrkeshögskolan   \n",
       "24                                      Nackademin AB   \n",
       "25                                      Nackademin AB   \n",
       "26         Landskrona Stad, Yrkeshögskolan Landskrona   \n",
       "27                                      Nackademin AB   \n",
       "28                                      Nackademin AB   \n",
       "29                                      Nackademin AB   \n",
       "\n",
       "                                      Utbildningsnamn  \\\n",
       "0             Futuregames Accessible Game Production    \n",
       "1              Futuregames Inclusive Game Development   \n",
       "2                       Ekosystemtjänster i praktiken   \n",
       "3              Hållbar dagvattenhantering i praktiken   \n",
       "4                        Invasiva växter i utemiljöer   \n",
       "5                 Infrastrukturplanering och strategi   \n",
       "6          Hållbara inköps- och upphandlingsprocesser   \n",
       "7                    Strategisk hållbarhetsutveckling   \n",
       "8                              Social media marketing   \n",
       "9                                      AI i praktiken   \n",
       "10        Vattenhushållning i livsmedelsproduktionen.   \n",
       "11  E-hälsa, digitalisering och välfärdsteknik ino...   \n",
       "12                   Sustainability Change Leadership   \n",
       "13  Digitalisering och systemkunskap inom lön - Sp...   \n",
       "14                 Psykisk hälsa och suicidprevention   \n",
       "15                           Psykisk ohälsa hos äldre   \n",
       "16                      SRHR och funktionsnedsättning   \n",
       "17  BIM verktyg: Punktmolnsmodellering och Virtual...   \n",
       "18           Funktionsnedsättningar och samsjuklighet   \n",
       "19                              Missbruk och beroende   \n",
       "20  BIM-verktyg: Parametrisk design och programmer...   \n",
       "21                   Cirkulärt byggande och återbruk    \n",
       "22                        Mikrobiologi och vårdhygien   \n",
       "23                  Omvårdnad vid hjärt-kärlsjukdomar   \n",
       "24                                 Cloud Fundamentals   \n",
       "25                                     Cyber Security   \n",
       "26     Funktionsnedsättningar i ett helhetsperspektiv   \n",
       "27        Energioptimering och förnybara energikällor   \n",
       "28    Fördjupning i relationsdatabaser för utvecklare   \n",
       "29                             Inkluderande UX-design   \n",
       "\n",
       "                               Utbildningsområde  \\\n",
       "0                                        Juridik   \n",
       "1        Ekonomi, administration och försäljning   \n",
       "2   Lantbruk, djurvård, trädgård, skog och fiske   \n",
       "3   Lantbruk, djurvård, trädgård, skog och fiske   \n",
       "4   Lantbruk, djurvård, trädgård, skog och fiske   \n",
       "5                 Samhällsbyggnad och byggteknik   \n",
       "6        Ekonomi, administration och försäljning   \n",
       "7        Ekonomi, administration och försäljning   \n",
       "8        Ekonomi, administration och försäljning   \n",
       "9                                        Data/IT   \n",
       "10  Lantbruk, djurvård, trädgård, skog och fiske   \n",
       "11       Hälso- och sjukvård samt socialt arbete   \n",
       "12       Ekonomi, administration och försäljning   \n",
       "13       Ekonomi, administration och försäljning   \n",
       "14       Hälso- och sjukvård samt socialt arbete   \n",
       "15       Hälso- och sjukvård samt socialt arbete   \n",
       "16       Hälso- och sjukvård samt socialt arbete   \n",
       "17                Samhällsbyggnad och byggteknik   \n",
       "18       Hälso- och sjukvård samt socialt arbete   \n",
       "19       Hälso- och sjukvård samt socialt arbete   \n",
       "20                Samhällsbyggnad och byggteknik   \n",
       "21                Samhällsbyggnad och byggteknik   \n",
       "22       Hälso- och sjukvård samt socialt arbete   \n",
       "23       Hälso- och sjukvård samt socialt arbete   \n",
       "24                                       Data/IT   \n",
       "25                                       Data/IT   \n",
       "26       Hälso- och sjukvård samt socialt arbete   \n",
       "27                Samhällsbyggnad och byggteknik   \n",
       "28                                       Data/IT   \n",
       "29                                       Data/IT   \n",
       "\n",
       "    Antal beviljade platser start 2024  \\\n",
       "0                                    0   \n",
       "1                                    0   \n",
       "2                                    0   \n",
       "3                                    0   \n",
       "4                                    0   \n",
       "5                                    0   \n",
       "6                                    0   \n",
       "7                                   50   \n",
       "8                                   50   \n",
       "9                                    0   \n",
       "10                                   0   \n",
       "11                                   0   \n",
       "12                                  55   \n",
       "13                                  50   \n",
       "14                                   0   \n",
       "15                                  50   \n",
       "16                                   0   \n",
       "17                                  32   \n",
       "18                                   0   \n",
       "19                                  50   \n",
       "20                                  32   \n",
       "21                                  45   \n",
       "22                                   0   \n",
       "23                                   0   \n",
       "24                                  40   \n",
       "25                                  40   \n",
       "26                                  25   \n",
       "27                                   0   \n",
       "28                                   0   \n",
       "29                                   0   \n",
       "\n",
       "    Antal beviljade platser start och slut 2024  \\\n",
       "0                                             0   \n",
       "1                                             0   \n",
       "2                                             0   \n",
       "3                                             0   \n",
       "4                                             0   \n",
       "5                                             0   \n",
       "6                                             0   \n",
       "7                                             0   \n",
       "8                                             0   \n",
       "9                                             0   \n",
       "10                                            0   \n",
       "11                                           50   \n",
       "12                                            0   \n",
       "13                                            0   \n",
       "14                                           50   \n",
       "15                                            0   \n",
       "16                                            0   \n",
       "17                                            0   \n",
       "18                                           70   \n",
       "19                                            0   \n",
       "20                                            0   \n",
       "21                                            0   \n",
       "22                                           50   \n",
       "23                                            0   \n",
       "24                                            0   \n",
       "25                                            0   \n",
       "26                                            0   \n",
       "27                                           35   \n",
       "28                                           30   \n",
       "29                                           40   \n",
       "\n",
       "    Antal beviljade platser start 2025  Totalt antal beviljade platser  \\\n",
       "0                                    0                               0   \n",
       "1                                    0                               0   \n",
       "2                                    0                               0   \n",
       "3                                    0                               0   \n",
       "4                                    0                               0   \n",
       "5                                    0                               0   \n",
       "6                                    0                               0   \n",
       "7                                   50                             100   \n",
       "8                                   50                             100   \n",
       "9                                    0                               0   \n",
       "10                                   0                               0   \n",
       "11                                   0                              50   \n",
       "12                                  55                             110   \n",
       "13                                  50                             100   \n",
       "14                                   0                              50   \n",
       "15                                  50                             100   \n",
       "16                                   0                               0   \n",
       "17                                  32                              64   \n",
       "18                                   0                              70   \n",
       "19                                  50                             100   \n",
       "20                                  32                              64   \n",
       "21                                  45                              90   \n",
       "22                                   0                              50   \n",
       "23                                   0                               0   \n",
       "24                                  40                              80   \n",
       "25                                  40                              80   \n",
       "26                                   0                              25   \n",
       "27                                   0                              35   \n",
       "28                                   0                              30   \n",
       "29                                   0                              40   \n",
       "\n",
       "    YH-poäng                     Kommun                        Län  \\\n",
       "0         25  Se \"Lista flera kommuner\"  Se \"Lista flera kommuner\"   \n",
       "1         25  Se \"Lista flera kommuner\"  Se \"Lista flera kommuner\"   \n",
       "2         50                     Båstad                      Skåne   \n",
       "3         50                     Båstad                      Skåne   \n",
       "4         25                     Båstad                      Skåne   \n",
       "5         50                  Stockholm                  Stockholm   \n",
       "6         45  Se \"Lista flera kommuner\"  Se \"Lista flera kommuner\"   \n",
       "7         45  Se \"Lista flera kommuner\"  Se \"Lista flera kommuner\"   \n",
       "8         40                   Göteborg            Västra Götaland   \n",
       "9         25                    Varberg                    Halland   \n",
       "10        40                      Skara            Västra Götaland   \n",
       "11        50  Se \"Lista flera kommuner\"  Se \"Lista flera kommuner\"   \n",
       "12        55  Se \"Lista flera kommuner\"  Se \"Lista flera kommuner\"   \n",
       "13        30                      Gävle                  Gävleborg   \n",
       "14        30  Se \"Lista flera kommuner\"  Se \"Lista flera kommuner\"   \n",
       "15        60  Se \"Lista flera kommuner\"  Se \"Lista flera kommuner\"   \n",
       "16        50  Se \"Lista flera kommuner\"  Se \"Lista flera kommuner\"   \n",
       "17        20                      Solna                  Stockholm   \n",
       "18        30  Se \"Lista flera kommuner\"  Se \"Lista flera kommuner\"   \n",
       "19        30  Se \"Lista flera kommuner\"  Se \"Lista flera kommuner\"   \n",
       "20        20                      Solna                  Stockholm   \n",
       "21        30                      Solna                  Stockholm   \n",
       "22        30  Se \"Lista flera kommuner\"  Se \"Lista flera kommuner\"   \n",
       "23        50  Se \"Lista flera kommuner\"  Se \"Lista flera kommuner\"   \n",
       "24        20                      Solna                  Stockholm   \n",
       "25        30                      Solna                  Stockholm   \n",
       "26        50                 Landskrona                      Skåne   \n",
       "27        30                      Solna                  Stockholm   \n",
       "28        25                      Solna                  Stockholm   \n",
       "29        20                      Solna                  Stockholm   \n",
       "\n",
       "                    FA-region  Antal kommuner  Antal län  Antal FA-regioner  \n",
       "0   Se \"Lista flera kommuner\"               3          3                  3  \n",
       "1   Se \"Lista flera kommuner\"               3          3                  3  \n",
       "2                  Malmö-Lund               1          1                  1  \n",
       "3                  Malmö-Lund               1          1                  1  \n",
       "4                  Malmö-Lund               1          1                  1  \n",
       "5                   Stockholm               1          1                  1  \n",
       "6   Se \"Lista flera kommuner\"               5          5                  5  \n",
       "7   Se \"Lista flera kommuner\"               4          4                  4  \n",
       "8                    Göteborg               1          1                  1  \n",
       "9                    Göteborg               1          1                  1  \n",
       "10               Skövde-Skara               1          1                  1  \n",
       "11  Se \"Lista flera kommuner\"               5          4                  5  \n",
       "12  Se \"Lista flera kommuner\"               2          2                  2  \n",
       "13                      Gävle               1          1                  1  \n",
       "14  Se \"Lista flera kommuner\"               5          5                  5  \n",
       "15  Se \"Lista flera kommuner\"               5          5                  5  \n",
       "16  Se \"Lista flera kommuner\"               3          3                  3  \n",
       "17                  Stockholm               1          1                  1  \n",
       "18  Se \"Lista flera kommuner\"               4          4                  4  \n",
       "19  Se \"Lista flera kommuner\"               5          5                  5  \n",
       "20                  Stockholm               1          1                  1  \n",
       "21                  Stockholm               1          1                  1  \n",
       "22  Se \"Lista flera kommuner\"               3          3                  3  \n",
       "23  Se \"Lista flera kommuner\"               4          4                  4  \n",
       "24                  Stockholm               1          1                  1  \n",
       "25                  Stockholm               1          1                  1  \n",
       "26                 Malmö-Lund               1          1                  1  \n",
       "27                  Stockholm               1          1                  1  \n",
       "28                  Stockholm               1          1                  1  \n",
       "29                  Stockholm               1          1                  1  "
      ]
     },
     "execution_count": 2,
     "metadata": {},
     "output_type": "execute_result"
    }
   ],
   "source": [
    "import pandas as pd\n",
    "\n",
    "df = pd.read_excel(\"data/resultat-2024-for-kurser-inom-yh.xlsx\", sheet_name=\"Lista ansökningar\")\n",
    "df.head(30)"
   ]
  },
  {
   "cell_type": "code",
   "execution_count": 3,
   "id": "5864c7ea",
   "metadata": {},
   "outputs": [
    {
     "name": "stdout",
     "output_type": "stream",
     "text": [
      "<class 'pandas.core.frame.DataFrame'>\n",
      "RangeIndex: 880 entries, 0 to 879\n",
      "Data columns (total 16 columns):\n",
      " #   Column                                       Non-Null Count  Dtype \n",
      "---  ------                                       --------------  ----- \n",
      " 0   Diarienummer                                 880 non-null    object\n",
      " 1   Beslut                                       880 non-null    object\n",
      " 2   Anordnare namn                               880 non-null    object\n",
      " 3   Utbildningsnamn                              880 non-null    object\n",
      " 4   Utbildningsområde                            880 non-null    object\n",
      " 5   Antal beviljade platser start 2024           880 non-null    int64 \n",
      " 6   Antal beviljade platser start och slut 2024  880 non-null    int64 \n",
      " 7   Antal beviljade platser start 2025           880 non-null    int64 \n",
      " 8   Totalt antal beviljade platser               880 non-null    int64 \n",
      " 9   YH-poäng                                     880 non-null    int64 \n",
      " 10  Kommun                                       880 non-null    object\n",
      " 11  Län                                          880 non-null    object\n",
      " 12  FA-region                                    880 non-null    object\n",
      " 13  Antal kommuner                               880 non-null    int64 \n",
      " 14  Antal län                                    880 non-null    int64 \n",
      " 15  Antal FA-regioner                            880 non-null    int64 \n",
      "dtypes: int64(8), object(8)\n",
      "memory usage: 110.1+ KB\n"
     ]
    }
   ],
   "source": [
    "df_copy=df.copy()\n",
    "df_copy.head()\n",
    "df_copy.info()"
   ]
  },
  {
   "cell_type": "code",
   "execution_count": 4,
   "id": "43c04ee8",
   "metadata": {},
   "outputs": [
    {
     "data": {
      "text/plain": [
       "0                Changemaker Educations AB\n",
       "1                Changemaker Educations AB\n",
       "2            Båstads kommun Akademi Båstad\n",
       "3            Båstads kommun Akademi Båstad\n",
       "4            Båstads kommun Akademi Båstad\n",
       "                      ...                 \n",
       "875    Hyper Island Program AB - Stockholm\n",
       "876                                INSU AB\n",
       "877                                INSU AB\n",
       "878                        Campus Nyköping\n",
       "879              Changemaker Educations AB\n",
       "Name: Anordnare namn, Length: 880, dtype: object"
      ]
     },
     "execution_count": 4,
     "metadata": {},
     "output_type": "execute_result"
    }
   ],
   "source": [
    "df_copy[\"Anordnare namn\"]"
   ]
  },
  {
   "cell_type": "code",
   "execution_count": 5,
   "id": "5d4c76f0",
   "metadata": {},
   "outputs": [
    {
     "data": {
      "text/html": [
       "<div>\n",
       "<style scoped>\n",
       "    .dataframe tbody tr th:only-of-type {\n",
       "        vertical-align: middle;\n",
       "    }\n",
       "\n",
       "    .dataframe tbody tr th {\n",
       "        vertical-align: top;\n",
       "    }\n",
       "\n",
       "    .dataframe thead th {\n",
       "        text-align: right;\n",
       "    }\n",
       "</style>\n",
       "<table border=\"1\" class=\"dataframe\">\n",
       "  <thead>\n",
       "    <tr style=\"text-align: right;\">\n",
       "      <th></th>\n",
       "      <th>Anordnare namn</th>\n",
       "      <th>Utbildningsnamn</th>\n",
       "      <th>Utbildningsområde</th>\n",
       "      <th>Antal beviljade platser start 2024</th>\n",
       "      <th>Kommun</th>\n",
       "    </tr>\n",
       "  </thead>\n",
       "  <tbody>\n",
       "    <tr>\n",
       "      <th>7</th>\n",
       "      <td>Plushögskolan AB - Affärshögskolan</td>\n",
       "      <td>Strategisk hållbarhetsutveckling</td>\n",
       "      <td>Ekonomi, administration och försäljning</td>\n",
       "      <td>50</td>\n",
       "      <td>Se \"Lista flera kommuner\"</td>\n",
       "    </tr>\n",
       "    <tr>\n",
       "      <th>8</th>\n",
       "      <td>IHM Business School AB Göteborg</td>\n",
       "      <td>Social media marketing</td>\n",
       "      <td>Ekonomi, administration och försäljning</td>\n",
       "      <td>50</td>\n",
       "      <td>Göteborg</td>\n",
       "    </tr>\n",
       "    <tr>\n",
       "      <th>11</th>\n",
       "      <td>Plushögskolan AB - Vårdyrkeshögskolan</td>\n",
       "      <td>E-hälsa, digitalisering och välfärdsteknik ino...</td>\n",
       "      <td>Hälso- och sjukvård samt socialt arbete</td>\n",
       "      <td>0</td>\n",
       "      <td>Se \"Lista flera kommuner\"</td>\n",
       "    </tr>\n",
       "    <tr>\n",
       "      <th>12</th>\n",
       "      <td>Hyper Island Program AB - Karlskrona</td>\n",
       "      <td>Sustainability Change Leadership</td>\n",
       "      <td>Ekonomi, administration och försäljning</td>\n",
       "      <td>55</td>\n",
       "      <td>Se \"Lista flera kommuner\"</td>\n",
       "    </tr>\n",
       "    <tr>\n",
       "      <th>13</th>\n",
       "      <td>Plushögskolan AB - Affärshögskolan</td>\n",
       "      <td>Digitalisering och systemkunskap inom lön - Sp...</td>\n",
       "      <td>Ekonomi, administration och försäljning</td>\n",
       "      <td>50</td>\n",
       "      <td>Gävle</td>\n",
       "    </tr>\n",
       "  </tbody>\n",
       "</table>\n",
       "</div>"
      ],
      "text/plain": [
       "                           Anordnare namn  \\\n",
       "7      Plushögskolan AB - Affärshögskolan   \n",
       "8         IHM Business School AB Göteborg   \n",
       "11  Plushögskolan AB - Vårdyrkeshögskolan   \n",
       "12   Hyper Island Program AB - Karlskrona   \n",
       "13     Plushögskolan AB - Affärshögskolan   \n",
       "\n",
       "                                      Utbildningsnamn  \\\n",
       "7                    Strategisk hållbarhetsutveckling   \n",
       "8                              Social media marketing   \n",
       "11  E-hälsa, digitalisering och välfärdsteknik ino...   \n",
       "12                   Sustainability Change Leadership   \n",
       "13  Digitalisering och systemkunskap inom lön - Sp...   \n",
       "\n",
       "                          Utbildningsområde  \\\n",
       "7   Ekonomi, administration och försäljning   \n",
       "8   Ekonomi, administration och försäljning   \n",
       "11  Hälso- och sjukvård samt socialt arbete   \n",
       "12  Ekonomi, administration och försäljning   \n",
       "13  Ekonomi, administration och försäljning   \n",
       "\n",
       "    Antal beviljade platser start 2024                     Kommun  \n",
       "7                                   50  Se \"Lista flera kommuner\"  \n",
       "8                                   50                   Göteborg  \n",
       "11                                   0  Se \"Lista flera kommuner\"  \n",
       "12                                  55  Se \"Lista flera kommuner\"  \n",
       "13                                  50                      Gävle  "
      ]
     },
     "execution_count": 5,
     "metadata": {},
     "output_type": "execute_result"
    }
   ],
   "source": [
    "\n",
    "result_df = df[df['Beslut'] == 'Beviljad'][['Anordnare namn', 'Utbildningsnamn', 'Utbildningsområde', 'Antal beviljade platser start 2024', 'Kommun']]\n",
    "result_df.head()"
   ]
  },
  {
   "cell_type": "code",
   "execution_count": 6,
   "id": "0512e518",
   "metadata": {},
   "outputs": [
    {
     "name": "stdout",
     "output_type": "stream",
     "text": [
      "<class 'pandas.core.frame.DataFrame'>\n",
      "Index: 451 entries, 7 to 878\n",
      "Data columns (total 5 columns):\n",
      " #   Column                              Non-Null Count  Dtype \n",
      "---  ------                              --------------  ----- \n",
      " 0   Anordnare namn                      451 non-null    object\n",
      " 1   Utbildningsnamn                     451 non-null    object\n",
      " 2   Utbildningsområde                   451 non-null    object\n",
      " 3   Antal beviljade platser start 2024  451 non-null    int64 \n",
      " 4   Kommun                              451 non-null    object\n",
      "dtypes: int64(1), object(4)\n",
      "memory usage: 21.1+ KB\n"
     ]
    }
   ],
   "source": [
    "result_df.info()"
   ]
  },
  {
   "cell_type": "code",
   "execution_count": 7,
   "id": "334d1c3d",
   "metadata": {},
   "outputs": [
    {
     "data": {
      "text/html": [
       "<div>\n",
       "<style scoped>\n",
       "    .dataframe tbody tr th:only-of-type {\n",
       "        vertical-align: middle;\n",
       "    }\n",
       "\n",
       "    .dataframe tbody tr th {\n",
       "        vertical-align: top;\n",
       "    }\n",
       "\n",
       "    .dataframe thead th {\n",
       "        text-align: right;\n",
       "    }\n",
       "</style>\n",
       "<table border=\"1\" class=\"dataframe\">\n",
       "  <thead>\n",
       "    <tr style=\"text-align: right;\">\n",
       "      <th></th>\n",
       "      <th>Anordnare namn</th>\n",
       "      <th>Utbildningsnamn</th>\n",
       "      <th>Utbildningsområde</th>\n",
       "      <th>Antal beviljade platser start 2024</th>\n",
       "      <th>Kommun</th>\n",
       "    </tr>\n",
       "  </thead>\n",
       "  <tbody>\n",
       "    <tr>\n",
       "      <th>7</th>\n",
       "      <td>Plushögskolan AB - Affärshögskolan</td>\n",
       "      <td>Strategisk hållbarhetsutveckling</td>\n",
       "      <td>Ekonomi, administration och försäljning</td>\n",
       "      <td>50</td>\n",
       "      <td>Flera kommuner</td>\n",
       "    </tr>\n",
       "    <tr>\n",
       "      <th>8</th>\n",
       "      <td>IHM Business School AB Göteborg</td>\n",
       "      <td>Social media marketing</td>\n",
       "      <td>Ekonomi, administration och försäljning</td>\n",
       "      <td>50</td>\n",
       "      <td>Göteborg</td>\n",
       "    </tr>\n",
       "    <tr>\n",
       "      <th>11</th>\n",
       "      <td>Plushögskolan AB - Vårdyrkeshögskolan</td>\n",
       "      <td>E-hälsa, digitalisering och välfärdsteknik ino...</td>\n",
       "      <td>Hälso- och sjukvård samt socialt arbete</td>\n",
       "      <td>0</td>\n",
       "      <td>Flera kommuner</td>\n",
       "    </tr>\n",
       "    <tr>\n",
       "      <th>12</th>\n",
       "      <td>Hyper Island Program AB - Karlskrona</td>\n",
       "      <td>Sustainability Change Leadership</td>\n",
       "      <td>Ekonomi, administration och försäljning</td>\n",
       "      <td>55</td>\n",
       "      <td>Flera kommuner</td>\n",
       "    </tr>\n",
       "    <tr>\n",
       "      <th>13</th>\n",
       "      <td>Plushögskolan AB - Affärshögskolan</td>\n",
       "      <td>Digitalisering och systemkunskap inom lön - Sp...</td>\n",
       "      <td>Ekonomi, administration och försäljning</td>\n",
       "      <td>50</td>\n",
       "      <td>Gävle</td>\n",
       "    </tr>\n",
       "  </tbody>\n",
       "</table>\n",
       "</div>"
      ],
      "text/plain": [
       "                           Anordnare namn  \\\n",
       "7      Plushögskolan AB - Affärshögskolan   \n",
       "8         IHM Business School AB Göteborg   \n",
       "11  Plushögskolan AB - Vårdyrkeshögskolan   \n",
       "12   Hyper Island Program AB - Karlskrona   \n",
       "13     Plushögskolan AB - Affärshögskolan   \n",
       "\n",
       "                                      Utbildningsnamn  \\\n",
       "7                    Strategisk hållbarhetsutveckling   \n",
       "8                              Social media marketing   \n",
       "11  E-hälsa, digitalisering och välfärdsteknik ino...   \n",
       "12                   Sustainability Change Leadership   \n",
       "13  Digitalisering och systemkunskap inom lön - Sp...   \n",
       "\n",
       "                          Utbildningsområde  \\\n",
       "7   Ekonomi, administration och försäljning   \n",
       "8   Ekonomi, administration och försäljning   \n",
       "11  Hälso- och sjukvård samt socialt arbete   \n",
       "12  Ekonomi, administration och försäljning   \n",
       "13  Ekonomi, administration och försäljning   \n",
       "\n",
       "    Antal beviljade platser start 2024          Kommun  \n",
       "7                                   50  Flera kommuner  \n",
       "8                                   50        Göteborg  \n",
       "11                                   0  Flera kommuner  \n",
       "12                                  55  Flera kommuner  \n",
       "13                                  50           Gävle  "
      ]
     },
     "execution_count": 7,
     "metadata": {},
     "output_type": "execute_result"
    }
   ],
   "source": [
    "\n",
    "result_df['Kommun'] = result_df['Kommun'].replace('Se \"Lista flera kommuner\"', 'Flera kommuner')\n",
    "result_df.head()\n"
   ]
  },
  {
   "cell_type": "code",
   "execution_count": 8,
   "id": "2691b458",
   "metadata": {},
   "outputs": [
    {
     "data": {
      "text/html": [
       "<div>\n",
       "<style scoped>\n",
       "    .dataframe tbody tr th:only-of-type {\n",
       "        vertical-align: middle;\n",
       "    }\n",
       "\n",
       "    .dataframe tbody tr th {\n",
       "        vertical-align: top;\n",
       "    }\n",
       "\n",
       "    .dataframe thead th {\n",
       "        text-align: right;\n",
       "    }\n",
       "</style>\n",
       "<table border=\"1\" class=\"dataframe\">\n",
       "  <thead>\n",
       "    <tr style=\"text-align: right;\">\n",
       "      <th></th>\n",
       "      <th>Utbildningsområde</th>\n",
       "      <th>2012</th>\n",
       "      <th>2013</th>\n",
       "      <th>2014</th>\n",
       "      <th>2015</th>\n",
       "      <th>2016</th>\n",
       "      <th>2017</th>\n",
       "      <th>2018</th>\n",
       "      <th>2019</th>\n",
       "      <th>2020</th>\n",
       "      <th>2021</th>\n",
       "      <th>2022</th>\n",
       "      <th>2023</th>\n",
       "      <th>2024</th>\n",
       "    </tr>\n",
       "  </thead>\n",
       "  <tbody>\n",
       "    <tr>\n",
       "      <th>0</th>\n",
       "      <td>Data/IT</td>\n",
       "      <td>109.192749</td>\n",
       "      <td>136.592343</td>\n",
       "      <td>154.726348</td>\n",
       "      <td>192.765796</td>\n",
       "      <td>211.257113</td>\n",
       "      <td>198.036024</td>\n",
       "      <td>203.249950</td>\n",
       "      <td>246.098128</td>\n",
       "      <td>356.251492</td>\n",
       "      <td>499.505111</td>\n",
       "      <td>566.211689</td>\n",
       "      <td>600.542099</td>\n",
       "      <td>665.038880</td>\n",
       "    </tr>\n",
       "    <tr>\n",
       "      <th>1</th>\n",
       "      <td>Ekonomi, administration och försäljning</td>\n",
       "      <td>333.379221</td>\n",
       "      <td>373.196476</td>\n",
       "      <td>392.273449</td>\n",
       "      <td>397.432949</td>\n",
       "      <td>381.773874</td>\n",
       "      <td>406.235745</td>\n",
       "      <td>469.265158</td>\n",
       "      <td>549.522420</td>\n",
       "      <td>626.322157</td>\n",
       "      <td>677.605539</td>\n",
       "      <td>664.706433</td>\n",
       "      <td>645.379020</td>\n",
       "      <td>664.212939</td>\n",
       "    </tr>\n",
       "    <tr>\n",
       "      <th>2</th>\n",
       "      <td>Friskvård och kroppsvård</td>\n",
       "      <td>12.385036</td>\n",
       "      <td>12.129508</td>\n",
       "      <td>12.160803</td>\n",
       "      <td>11.943787</td>\n",
       "      <td>10.835978</td>\n",
       "      <td>7.151950</td>\n",
       "      <td>10.021599</td>\n",
       "      <td>12.640847</td>\n",
       "      <td>15.614295</td>\n",
       "      <td>18.105384</td>\n",
       "      <td>22.952224</td>\n",
       "      <td>23.312976</td>\n",
       "      <td>17.164001</td>\n",
       "    </tr>\n",
       "    <tr>\n",
       "      <th>3</th>\n",
       "      <td>Hotell, restaurang och turism</td>\n",
       "      <td>76.257076</td>\n",
       "      <td>78.752007</td>\n",
       "      <td>81.725028</td>\n",
       "      <td>81.591173</td>\n",
       "      <td>78.335025</td>\n",
       "      <td>79.393923</td>\n",
       "      <td>83.923865</td>\n",
       "      <td>89.100543</td>\n",
       "      <td>102.670911</td>\n",
       "      <td>115.716079</td>\n",
       "      <td>110.391271</td>\n",
       "      <td>95.516479</td>\n",
       "      <td>100.372505</td>\n",
       "    </tr>\n",
       "    <tr>\n",
       "      <th>4</th>\n",
       "      <td>Hälso- och sjukvård samt socialt arbete</td>\n",
       "      <td>118.890913</td>\n",
       "      <td>130.518945</td>\n",
       "      <td>148.016792</td>\n",
       "      <td>174.665651</td>\n",
       "      <td>177.475662</td>\n",
       "      <td>194.507055</td>\n",
       "      <td>219.279194</td>\n",
       "      <td>257.937313</td>\n",
       "      <td>310.385978</td>\n",
       "      <td>356.077126</td>\n",
       "      <td>377.270519</td>\n",
       "      <td>359.356705</td>\n",
       "      <td>340.306947</td>\n",
       "    </tr>\n",
       "    <tr>\n",
       "      <th>5</th>\n",
       "      <td>Journalistik och information</td>\n",
       "      <td>8.323028</td>\n",
       "      <td>11.691712</td>\n",
       "      <td>19.213199</td>\n",
       "      <td>21.328087</td>\n",
       "      <td>19.126495</td>\n",
       "      <td>20.104219</td>\n",
       "      <td>22.520929</td>\n",
       "      <td>28.415865</td>\n",
       "      <td>29.541782</td>\n",
       "      <td>28.698530</td>\n",
       "      <td>28.607127</td>\n",
       "      <td>25.851106</td>\n",
       "      <td>23.252844</td>\n",
       "    </tr>\n",
       "    <tr>\n",
       "      <th>6</th>\n",
       "      <td>Juridik</td>\n",
       "      <td>6.285412</td>\n",
       "      <td>9.027900</td>\n",
       "      <td>8.867318</td>\n",
       "      <td>9.763824</td>\n",
       "      <td>11.196000</td>\n",
       "      <td>13.153375</td>\n",
       "      <td>14.716194</td>\n",
       "      <td>14.735424</td>\n",
       "      <td>16.637735</td>\n",
       "      <td>17.341442</td>\n",
       "      <td>12.816581</td>\n",
       "      <td>11.423875</td>\n",
       "      <td>12.337662</td>\n",
       "    </tr>\n",
       "    <tr>\n",
       "      <th>7</th>\n",
       "      <td>Kultur, media och design</td>\n",
       "      <td>87.487106</td>\n",
       "      <td>96.421940</td>\n",
       "      <td>107.899579</td>\n",
       "      <td>118.131529</td>\n",
       "      <td>116.248464</td>\n",
       "      <td>123.081064</td>\n",
       "      <td>127.300040</td>\n",
       "      <td>131.276812</td>\n",
       "      <td>158.302460</td>\n",
       "      <td>185.625737</td>\n",
       "      <td>200.429775</td>\n",
       "      <td>213.685047</td>\n",
       "      <td>230.626209</td>\n",
       "    </tr>\n",
       "    <tr>\n",
       "      <th>8</th>\n",
       "      <td>Lantbruk, djurvård, trädgård, skog och fiske</td>\n",
       "      <td>51.798081</td>\n",
       "      <td>55.014831</td>\n",
       "      <td>48.989999</td>\n",
       "      <td>55.669332</td>\n",
       "      <td>64.264977</td>\n",
       "      <td>67.294657</td>\n",
       "      <td>65.009836</td>\n",
       "      <td>68.856857</td>\n",
       "      <td>82.730961</td>\n",
       "      <td>91.199354</td>\n",
       "      <td>103.753851</td>\n",
       "      <td>112.383832</td>\n",
       "      <td>126.912377</td>\n",
       "    </tr>\n",
       "    <tr>\n",
       "      <th>9</th>\n",
       "      <td>Pedagogik och undervisning</td>\n",
       "      <td>17.567920</td>\n",
       "      <td>17.970322</td>\n",
       "      <td>20.883172</td>\n",
       "      <td>19.929969</td>\n",
       "      <td>22.854123</td>\n",
       "      <td>28.460519</td>\n",
       "      <td>30.734559</td>\n",
       "      <td>45.013884</td>\n",
       "      <td>50.859064</td>\n",
       "      <td>66.792310</td>\n",
       "      <td>74.968297</td>\n",
       "      <td>63.687611</td>\n",
       "      <td>46.145875</td>\n",
       "    </tr>\n",
       "    <tr>\n",
       "      <th>10</th>\n",
       "      <td>Samhällsbyggnad och byggteknik</td>\n",
       "      <td>144.764251</td>\n",
       "      <td>180.390592</td>\n",
       "      <td>185.992527</td>\n",
       "      <td>198.195534</td>\n",
       "      <td>223.487924</td>\n",
       "      <td>247.733960</td>\n",
       "      <td>282.362259</td>\n",
       "      <td>331.770969</td>\n",
       "      <td>418.709777</td>\n",
       "      <td>518.062878</td>\n",
       "      <td>544.106976</td>\n",
       "      <td>513.145597</td>\n",
       "      <td>529.738844</td>\n",
       "    </tr>\n",
       "    <tr>\n",
       "      <th>11</th>\n",
       "      <td>Säkerhetstjänster</td>\n",
       "      <td>12.080525</td>\n",
       "      <td>11.843398</td>\n",
       "      <td>10.509850</td>\n",
       "      <td>9.998484</td>\n",
       "      <td>12.521000</td>\n",
       "      <td>8.570239</td>\n",
       "      <td>7.231494</td>\n",
       "      <td>12.350178</td>\n",
       "      <td>15.907922</td>\n",
       "      <td>21.932088</td>\n",
       "      <td>24.531988</td>\n",
       "      <td>28.235429</td>\n",
       "      <td>29.220064</td>\n",
       "    </tr>\n",
       "    <tr>\n",
       "      <th>12</th>\n",
       "      <td>Teknik och tillverkning</td>\n",
       "      <td>237.492378</td>\n",
       "      <td>270.176367</td>\n",
       "      <td>280.300634</td>\n",
       "      <td>293.485426</td>\n",
       "      <td>288.171444</td>\n",
       "      <td>290.249849</td>\n",
       "      <td>301.586753</td>\n",
       "      <td>342.140952</td>\n",
       "      <td>431.257185</td>\n",
       "      <td>521.676310</td>\n",
       "      <td>537.890182</td>\n",
       "      <td>541.447543</td>\n",
       "      <td>619.121294</td>\n",
       "    </tr>\n",
       "    <tr>\n",
       "      <th>13</th>\n",
       "      <td>Transporttjänster</td>\n",
       "      <td>56.769704</td>\n",
       "      <td>59.399747</td>\n",
       "      <td>55.568749</td>\n",
       "      <td>84.037502</td>\n",
       "      <td>111.879407</td>\n",
       "      <td>113.576079</td>\n",
       "      <td>113.884016</td>\n",
       "      <td>103.576663</td>\n",
       "      <td>106.558937</td>\n",
       "      <td>100.988215</td>\n",
       "      <td>102.928269</td>\n",
       "      <td>96.102330</td>\n",
       "      <td>95.759291</td>\n",
       "    </tr>\n",
       "    <tr>\n",
       "      <th>14</th>\n",
       "      <td>Övrigt</td>\n",
       "      <td>7.763576</td>\n",
       "      <td>13.136499</td>\n",
       "      <td>13.884000</td>\n",
       "      <td>10.416246</td>\n",
       "      <td>10.800998</td>\n",
       "      <td>14.592330</td>\n",
       "      <td>14.535402</td>\n",
       "      <td>21.721748</td>\n",
       "      <td>26.978567</td>\n",
       "      <td>30.952812</td>\n",
       "      <td>36.231579</td>\n",
       "      <td>32.072962</td>\n",
       "      <td>29.380400</td>\n",
       "    </tr>\n",
       "    <tr>\n",
       "      <th>15</th>\n",
       "      <td>Totalt</td>\n",
       "      <td>1280.436976</td>\n",
       "      <td>1456.262587</td>\n",
       "      <td>1541.011447</td>\n",
       "      <td>1679.355289</td>\n",
       "      <td>1740.228484</td>\n",
       "      <td>1812.140988</td>\n",
       "      <td>1965.621248</td>\n",
       "      <td>2255.158603</td>\n",
       "      <td>2748.729223</td>\n",
       "      <td>3250.278915</td>\n",
       "      <td>3407.796761</td>\n",
       "      <td>3362.142611</td>\n",
       "      <td>3529.590132</td>\n",
       "    </tr>\n",
       "    <tr>\n",
       "      <th>16</th>\n",
       "      <td>NaN</td>\n",
       "      <td>NaN</td>\n",
       "      <td>NaN</td>\n",
       "      <td>NaN</td>\n",
       "      <td>NaN</td>\n",
       "      <td>NaN</td>\n",
       "      <td>NaN</td>\n",
       "      <td>NaN</td>\n",
       "      <td>NaN</td>\n",
       "      <td>NaN</td>\n",
       "      <td>NaN</td>\n",
       "      <td>NaN</td>\n",
       "      <td>NaN</td>\n",
       "      <td>NaN</td>\n",
       "    </tr>\n",
       "    <tr>\n",
       "      <th>17</th>\n",
       "      <td>Notera: Avser endast program (YH-utbildningar ...</td>\n",
       "      <td>NaN</td>\n",
       "      <td>NaN</td>\n",
       "      <td>NaN</td>\n",
       "      <td>NaN</td>\n",
       "      <td>NaN</td>\n",
       "      <td>NaN</td>\n",
       "      <td>NaN</td>\n",
       "      <td>NaN</td>\n",
       "      <td>NaN</td>\n",
       "      <td>NaN</td>\n",
       "      <td>NaN</td>\n",
       "      <td>NaN</td>\n",
       "      <td>NaN</td>\n",
       "    </tr>\n",
       "    <tr>\n",
       "      <th>18</th>\n",
       "      <td>NaN</td>\n",
       "      <td>NaN</td>\n",
       "      <td>NaN</td>\n",
       "      <td>NaN</td>\n",
       "      <td>NaN</td>\n",
       "      <td>NaN</td>\n",
       "      <td>NaN</td>\n",
       "      <td>NaN</td>\n",
       "      <td>NaN</td>\n",
       "      <td>NaN</td>\n",
       "      <td>NaN</td>\n",
       "      <td>NaN</td>\n",
       "      <td>NaN</td>\n",
       "      <td>NaN</td>\n",
       "    </tr>\n",
       "    <tr>\n",
       "      <th>19</th>\n",
       "      <td>Källa: Myndigheten för yrkeshögskolan.</td>\n",
       "      <td>NaN</td>\n",
       "      <td>NaN</td>\n",
       "      <td>NaN</td>\n",
       "      <td>NaN</td>\n",
       "      <td>NaN</td>\n",
       "      <td>NaN</td>\n",
       "      <td>NaN</td>\n",
       "      <td>NaN</td>\n",
       "      <td>NaN</td>\n",
       "      <td>NaN</td>\n",
       "      <td>NaN</td>\n",
       "      <td>NaN</td>\n",
       "      <td>NaN</td>\n",
       "    </tr>\n",
       "  </tbody>\n",
       "</table>\n",
       "</div>"
      ],
      "text/plain": [
       "                                    Utbildningsområde         2012  \\\n",
       "0                                             Data/IT   109.192749   \n",
       "1             Ekonomi, administration och försäljning   333.379221   \n",
       "2                            Friskvård och kroppsvård    12.385036   \n",
       "3                       Hotell, restaurang och turism    76.257076   \n",
       "4             Hälso- och sjukvård samt socialt arbete   118.890913   \n",
       "5                        Journalistik och information     8.323028   \n",
       "6                                             Juridik     6.285412   \n",
       "7                            Kultur, media och design    87.487106   \n",
       "8        Lantbruk, djurvård, trädgård, skog och fiske    51.798081   \n",
       "9                          Pedagogik och undervisning    17.567920   \n",
       "10                     Samhällsbyggnad och byggteknik   144.764251   \n",
       "11                                  Säkerhetstjänster    12.080525   \n",
       "12                            Teknik och tillverkning   237.492378   \n",
       "13                                  Transporttjänster    56.769704   \n",
       "14                                             Övrigt     7.763576   \n",
       "15                                             Totalt  1280.436976   \n",
       "16                                                NaN          NaN   \n",
       "17  Notera: Avser endast program (YH-utbildningar ...          NaN   \n",
       "18                                                NaN          NaN   \n",
       "19             Källa: Myndigheten för yrkeshögskolan.          NaN   \n",
       "\n",
       "           2013         2014         2015         2016         2017  \\\n",
       "0    136.592343   154.726348   192.765796   211.257113   198.036024   \n",
       "1    373.196476   392.273449   397.432949   381.773874   406.235745   \n",
       "2     12.129508    12.160803    11.943787    10.835978     7.151950   \n",
       "3     78.752007    81.725028    81.591173    78.335025    79.393923   \n",
       "4    130.518945   148.016792   174.665651   177.475662   194.507055   \n",
       "5     11.691712    19.213199    21.328087    19.126495    20.104219   \n",
       "6      9.027900     8.867318     9.763824    11.196000    13.153375   \n",
       "7     96.421940   107.899579   118.131529   116.248464   123.081064   \n",
       "8     55.014831    48.989999    55.669332    64.264977    67.294657   \n",
       "9     17.970322    20.883172    19.929969    22.854123    28.460519   \n",
       "10   180.390592   185.992527   198.195534   223.487924   247.733960   \n",
       "11    11.843398    10.509850     9.998484    12.521000     8.570239   \n",
       "12   270.176367   280.300634   293.485426   288.171444   290.249849   \n",
       "13    59.399747    55.568749    84.037502   111.879407   113.576079   \n",
       "14    13.136499    13.884000    10.416246    10.800998    14.592330   \n",
       "15  1456.262587  1541.011447  1679.355289  1740.228484  1812.140988   \n",
       "16          NaN          NaN          NaN          NaN          NaN   \n",
       "17          NaN          NaN          NaN          NaN          NaN   \n",
       "18          NaN          NaN          NaN          NaN          NaN   \n",
       "19          NaN          NaN          NaN          NaN          NaN   \n",
       "\n",
       "           2018         2019         2020         2021         2022  \\\n",
       "0    203.249950   246.098128   356.251492   499.505111   566.211689   \n",
       "1    469.265158   549.522420   626.322157   677.605539   664.706433   \n",
       "2     10.021599    12.640847    15.614295    18.105384    22.952224   \n",
       "3     83.923865    89.100543   102.670911   115.716079   110.391271   \n",
       "4    219.279194   257.937313   310.385978   356.077126   377.270519   \n",
       "5     22.520929    28.415865    29.541782    28.698530    28.607127   \n",
       "6     14.716194    14.735424    16.637735    17.341442    12.816581   \n",
       "7    127.300040   131.276812   158.302460   185.625737   200.429775   \n",
       "8     65.009836    68.856857    82.730961    91.199354   103.753851   \n",
       "9     30.734559    45.013884    50.859064    66.792310    74.968297   \n",
       "10   282.362259   331.770969   418.709777   518.062878   544.106976   \n",
       "11     7.231494    12.350178    15.907922    21.932088    24.531988   \n",
       "12   301.586753   342.140952   431.257185   521.676310   537.890182   \n",
       "13   113.884016   103.576663   106.558937   100.988215   102.928269   \n",
       "14    14.535402    21.721748    26.978567    30.952812    36.231579   \n",
       "15  1965.621248  2255.158603  2748.729223  3250.278915  3407.796761   \n",
       "16          NaN          NaN          NaN          NaN          NaN   \n",
       "17          NaN          NaN          NaN          NaN          NaN   \n",
       "18          NaN          NaN          NaN          NaN          NaN   \n",
       "19          NaN          NaN          NaN          NaN          NaN   \n",
       "\n",
       "           2023         2024  \n",
       "0    600.542099   665.038880  \n",
       "1    645.379020   664.212939  \n",
       "2     23.312976    17.164001  \n",
       "3     95.516479   100.372505  \n",
       "4    359.356705   340.306947  \n",
       "5     25.851106    23.252844  \n",
       "6     11.423875    12.337662  \n",
       "7    213.685047   230.626209  \n",
       "8    112.383832   126.912377  \n",
       "9     63.687611    46.145875  \n",
       "10   513.145597   529.738844  \n",
       "11    28.235429    29.220064  \n",
       "12   541.447543   619.121294  \n",
       "13    96.102330    95.759291  \n",
       "14    32.072962    29.380400  \n",
       "15  3362.142611  3529.590132  \n",
       "16          NaN          NaN  \n",
       "17          NaN          NaN  \n",
       "18          NaN          NaN  \n",
       "19          NaN          NaN  "
      ]
     },
     "execution_count": 8,
     "metadata": {},
     "output_type": "execute_result"
    }
   ],
   "source": [
    "df = pd.read_excel(\"data/ek_1_utbet_statliga_medel_utbomr.xlsx\", sheet_name=\"Utbetalda statliga medel\", skiprows=5)\n",
    "df.head(30)\n"
   ]
  },
  {
   "cell_type": "code",
   "execution_count": 9,
   "id": "185cd7e7",
   "metadata": {},
   "outputs": [
    {
     "data": {
      "text/html": [
       "<div>\n",
       "<style scoped>\n",
       "    .dataframe tbody tr th:only-of-type {\n",
       "        vertical-align: middle;\n",
       "    }\n",
       "\n",
       "    .dataframe tbody tr th {\n",
       "        vertical-align: top;\n",
       "    }\n",
       "\n",
       "    .dataframe thead th {\n",
       "        text-align: right;\n",
       "    }\n",
       "</style>\n",
       "<table border=\"1\" class=\"dataframe\">\n",
       "  <thead>\n",
       "    <tr style=\"text-align: right;\">\n",
       "      <th></th>\n",
       "      <th>Utbildningsområde</th>\n",
       "      <th>2012</th>\n",
       "      <th>2013</th>\n",
       "      <th>2014</th>\n",
       "      <th>2015</th>\n",
       "      <th>2016</th>\n",
       "      <th>2017</th>\n",
       "      <th>2018</th>\n",
       "      <th>2019</th>\n",
       "      <th>2020</th>\n",
       "      <th>2021</th>\n",
       "      <th>2022</th>\n",
       "      <th>2023</th>\n",
       "      <th>2024</th>\n",
       "    </tr>\n",
       "  </thead>\n",
       "  <tbody>\n",
       "    <tr>\n",
       "      <th>0</th>\n",
       "      <td>Data/IT</td>\n",
       "      <td>109.192749</td>\n",
       "      <td>136.592343</td>\n",
       "      <td>154.726348</td>\n",
       "      <td>192.765796</td>\n",
       "      <td>211.257113</td>\n",
       "      <td>198.036024</td>\n",
       "      <td>203.249950</td>\n",
       "      <td>246.098128</td>\n",
       "      <td>356.251492</td>\n",
       "      <td>499.505111</td>\n",
       "      <td>566.211689</td>\n",
       "      <td>600.542099</td>\n",
       "      <td>665.038880</td>\n",
       "    </tr>\n",
       "    <tr>\n",
       "      <th>1</th>\n",
       "      <td>Ekonomi, administration och försäljning</td>\n",
       "      <td>333.379221</td>\n",
       "      <td>373.196476</td>\n",
       "      <td>392.273449</td>\n",
       "      <td>397.432949</td>\n",
       "      <td>381.773874</td>\n",
       "      <td>406.235745</td>\n",
       "      <td>469.265158</td>\n",
       "      <td>549.522420</td>\n",
       "      <td>626.322157</td>\n",
       "      <td>677.605539</td>\n",
       "      <td>664.706433</td>\n",
       "      <td>645.379020</td>\n",
       "      <td>664.212939</td>\n",
       "    </tr>\n",
       "    <tr>\n",
       "      <th>2</th>\n",
       "      <td>Friskvård och kroppsvård</td>\n",
       "      <td>12.385036</td>\n",
       "      <td>12.129508</td>\n",
       "      <td>12.160803</td>\n",
       "      <td>11.943787</td>\n",
       "      <td>10.835978</td>\n",
       "      <td>7.151950</td>\n",
       "      <td>10.021599</td>\n",
       "      <td>12.640847</td>\n",
       "      <td>15.614295</td>\n",
       "      <td>18.105384</td>\n",
       "      <td>22.952224</td>\n",
       "      <td>23.312976</td>\n",
       "      <td>17.164001</td>\n",
       "    </tr>\n",
       "    <tr>\n",
       "      <th>3</th>\n",
       "      <td>Hotell, restaurang och turism</td>\n",
       "      <td>76.257076</td>\n",
       "      <td>78.752007</td>\n",
       "      <td>81.725028</td>\n",
       "      <td>81.591173</td>\n",
       "      <td>78.335025</td>\n",
       "      <td>79.393923</td>\n",
       "      <td>83.923865</td>\n",
       "      <td>89.100543</td>\n",
       "      <td>102.670911</td>\n",
       "      <td>115.716079</td>\n",
       "      <td>110.391271</td>\n",
       "      <td>95.516479</td>\n",
       "      <td>100.372505</td>\n",
       "    </tr>\n",
       "    <tr>\n",
       "      <th>4</th>\n",
       "      <td>Hälso- och sjukvård samt socialt arbete</td>\n",
       "      <td>118.890913</td>\n",
       "      <td>130.518945</td>\n",
       "      <td>148.016792</td>\n",
       "      <td>174.665651</td>\n",
       "      <td>177.475662</td>\n",
       "      <td>194.507055</td>\n",
       "      <td>219.279194</td>\n",
       "      <td>257.937313</td>\n",
       "      <td>310.385978</td>\n",
       "      <td>356.077126</td>\n",
       "      <td>377.270519</td>\n",
       "      <td>359.356705</td>\n",
       "      <td>340.306947</td>\n",
       "    </tr>\n",
       "    <tr>\n",
       "      <th>5</th>\n",
       "      <td>Journalistik och information</td>\n",
       "      <td>8.323028</td>\n",
       "      <td>11.691712</td>\n",
       "      <td>19.213199</td>\n",
       "      <td>21.328087</td>\n",
       "      <td>19.126495</td>\n",
       "      <td>20.104219</td>\n",
       "      <td>22.520929</td>\n",
       "      <td>28.415865</td>\n",
       "      <td>29.541782</td>\n",
       "      <td>28.698530</td>\n",
       "      <td>28.607127</td>\n",
       "      <td>25.851106</td>\n",
       "      <td>23.252844</td>\n",
       "    </tr>\n",
       "    <tr>\n",
       "      <th>6</th>\n",
       "      <td>Juridik</td>\n",
       "      <td>6.285412</td>\n",
       "      <td>9.027900</td>\n",
       "      <td>8.867318</td>\n",
       "      <td>9.763824</td>\n",
       "      <td>11.196000</td>\n",
       "      <td>13.153375</td>\n",
       "      <td>14.716194</td>\n",
       "      <td>14.735424</td>\n",
       "      <td>16.637735</td>\n",
       "      <td>17.341442</td>\n",
       "      <td>12.816581</td>\n",
       "      <td>11.423875</td>\n",
       "      <td>12.337662</td>\n",
       "    </tr>\n",
       "    <tr>\n",
       "      <th>7</th>\n",
       "      <td>Kultur, media och design</td>\n",
       "      <td>87.487106</td>\n",
       "      <td>96.421940</td>\n",
       "      <td>107.899579</td>\n",
       "      <td>118.131529</td>\n",
       "      <td>116.248464</td>\n",
       "      <td>123.081064</td>\n",
       "      <td>127.300040</td>\n",
       "      <td>131.276812</td>\n",
       "      <td>158.302460</td>\n",
       "      <td>185.625737</td>\n",
       "      <td>200.429775</td>\n",
       "      <td>213.685047</td>\n",
       "      <td>230.626209</td>\n",
       "    </tr>\n",
       "    <tr>\n",
       "      <th>8</th>\n",
       "      <td>Lantbruk, djurvård, trädgård, skog och fiske</td>\n",
       "      <td>51.798081</td>\n",
       "      <td>55.014831</td>\n",
       "      <td>48.989999</td>\n",
       "      <td>55.669332</td>\n",
       "      <td>64.264977</td>\n",
       "      <td>67.294657</td>\n",
       "      <td>65.009836</td>\n",
       "      <td>68.856857</td>\n",
       "      <td>82.730961</td>\n",
       "      <td>91.199354</td>\n",
       "      <td>103.753851</td>\n",
       "      <td>112.383832</td>\n",
       "      <td>126.912377</td>\n",
       "    </tr>\n",
       "    <tr>\n",
       "      <th>9</th>\n",
       "      <td>Pedagogik och undervisning</td>\n",
       "      <td>17.567920</td>\n",
       "      <td>17.970322</td>\n",
       "      <td>20.883172</td>\n",
       "      <td>19.929969</td>\n",
       "      <td>22.854123</td>\n",
       "      <td>28.460519</td>\n",
       "      <td>30.734559</td>\n",
       "      <td>45.013884</td>\n",
       "      <td>50.859064</td>\n",
       "      <td>66.792310</td>\n",
       "      <td>74.968297</td>\n",
       "      <td>63.687611</td>\n",
       "      <td>46.145875</td>\n",
       "    </tr>\n",
       "    <tr>\n",
       "      <th>10</th>\n",
       "      <td>Samhällsbyggnad och byggteknik</td>\n",
       "      <td>144.764251</td>\n",
       "      <td>180.390592</td>\n",
       "      <td>185.992527</td>\n",
       "      <td>198.195534</td>\n",
       "      <td>223.487924</td>\n",
       "      <td>247.733960</td>\n",
       "      <td>282.362259</td>\n",
       "      <td>331.770969</td>\n",
       "      <td>418.709777</td>\n",
       "      <td>518.062878</td>\n",
       "      <td>544.106976</td>\n",
       "      <td>513.145597</td>\n",
       "      <td>529.738844</td>\n",
       "    </tr>\n",
       "    <tr>\n",
       "      <th>11</th>\n",
       "      <td>Säkerhetstjänster</td>\n",
       "      <td>12.080525</td>\n",
       "      <td>11.843398</td>\n",
       "      <td>10.509850</td>\n",
       "      <td>9.998484</td>\n",
       "      <td>12.521000</td>\n",
       "      <td>8.570239</td>\n",
       "      <td>7.231494</td>\n",
       "      <td>12.350178</td>\n",
       "      <td>15.907922</td>\n",
       "      <td>21.932088</td>\n",
       "      <td>24.531988</td>\n",
       "      <td>28.235429</td>\n",
       "      <td>29.220064</td>\n",
       "    </tr>\n",
       "    <tr>\n",
       "      <th>12</th>\n",
       "      <td>Teknik och tillverkning</td>\n",
       "      <td>237.492378</td>\n",
       "      <td>270.176367</td>\n",
       "      <td>280.300634</td>\n",
       "      <td>293.485426</td>\n",
       "      <td>288.171444</td>\n",
       "      <td>290.249849</td>\n",
       "      <td>301.586753</td>\n",
       "      <td>342.140952</td>\n",
       "      <td>431.257185</td>\n",
       "      <td>521.676310</td>\n",
       "      <td>537.890182</td>\n",
       "      <td>541.447543</td>\n",
       "      <td>619.121294</td>\n",
       "    </tr>\n",
       "    <tr>\n",
       "      <th>13</th>\n",
       "      <td>Transporttjänster</td>\n",
       "      <td>56.769704</td>\n",
       "      <td>59.399747</td>\n",
       "      <td>55.568749</td>\n",
       "      <td>84.037502</td>\n",
       "      <td>111.879407</td>\n",
       "      <td>113.576079</td>\n",
       "      <td>113.884016</td>\n",
       "      <td>103.576663</td>\n",
       "      <td>106.558937</td>\n",
       "      <td>100.988215</td>\n",
       "      <td>102.928269</td>\n",
       "      <td>96.102330</td>\n",
       "      <td>95.759291</td>\n",
       "    </tr>\n",
       "    <tr>\n",
       "      <th>14</th>\n",
       "      <td>Övrigt</td>\n",
       "      <td>7.763576</td>\n",
       "      <td>13.136499</td>\n",
       "      <td>13.884000</td>\n",
       "      <td>10.416246</td>\n",
       "      <td>10.800998</td>\n",
       "      <td>14.592330</td>\n",
       "      <td>14.535402</td>\n",
       "      <td>21.721748</td>\n",
       "      <td>26.978567</td>\n",
       "      <td>30.952812</td>\n",
       "      <td>36.231579</td>\n",
       "      <td>32.072962</td>\n",
       "      <td>29.380400</td>\n",
       "    </tr>\n",
       "    <tr>\n",
       "      <th>15</th>\n",
       "      <td>Totalt</td>\n",
       "      <td>1280.436976</td>\n",
       "      <td>1456.262587</td>\n",
       "      <td>1541.011447</td>\n",
       "      <td>1679.355289</td>\n",
       "      <td>1740.228484</td>\n",
       "      <td>1812.140988</td>\n",
       "      <td>1965.621248</td>\n",
       "      <td>2255.158603</td>\n",
       "      <td>2748.729223</td>\n",
       "      <td>3250.278915</td>\n",
       "      <td>3407.796761</td>\n",
       "      <td>3362.142611</td>\n",
       "      <td>3529.590132</td>\n",
       "    </tr>\n",
       "    <tr>\n",
       "      <th>16</th>\n",
       "      <td>NaN</td>\n",
       "      <td>NaN</td>\n",
       "      <td>NaN</td>\n",
       "      <td>NaN</td>\n",
       "      <td>NaN</td>\n",
       "      <td>NaN</td>\n",
       "      <td>NaN</td>\n",
       "      <td>NaN</td>\n",
       "      <td>NaN</td>\n",
       "      <td>NaN</td>\n",
       "      <td>NaN</td>\n",
       "      <td>NaN</td>\n",
       "      <td>NaN</td>\n",
       "      <td>NaN</td>\n",
       "    </tr>\n",
       "    <tr>\n",
       "      <th>17</th>\n",
       "      <td>Notera: Avser endast program (YH-utbildningar ...</td>\n",
       "      <td>NaN</td>\n",
       "      <td>NaN</td>\n",
       "      <td>NaN</td>\n",
       "      <td>NaN</td>\n",
       "      <td>NaN</td>\n",
       "      <td>NaN</td>\n",
       "      <td>NaN</td>\n",
       "      <td>NaN</td>\n",
       "      <td>NaN</td>\n",
       "      <td>NaN</td>\n",
       "      <td>NaN</td>\n",
       "      <td>NaN</td>\n",
       "      <td>NaN</td>\n",
       "    </tr>\n",
       "    <tr>\n",
       "      <th>18</th>\n",
       "      <td>NaN</td>\n",
       "      <td>NaN</td>\n",
       "      <td>NaN</td>\n",
       "      <td>NaN</td>\n",
       "      <td>NaN</td>\n",
       "      <td>NaN</td>\n",
       "      <td>NaN</td>\n",
       "      <td>NaN</td>\n",
       "      <td>NaN</td>\n",
       "      <td>NaN</td>\n",
       "      <td>NaN</td>\n",
       "      <td>NaN</td>\n",
       "      <td>NaN</td>\n",
       "      <td>NaN</td>\n",
       "    </tr>\n",
       "    <tr>\n",
       "      <th>19</th>\n",
       "      <td>Källa: Myndigheten för yrkeshögskolan.</td>\n",
       "      <td>NaN</td>\n",
       "      <td>NaN</td>\n",
       "      <td>NaN</td>\n",
       "      <td>NaN</td>\n",
       "      <td>NaN</td>\n",
       "      <td>NaN</td>\n",
       "      <td>NaN</td>\n",
       "      <td>NaN</td>\n",
       "      <td>NaN</td>\n",
       "      <td>NaN</td>\n",
       "      <td>NaN</td>\n",
       "      <td>NaN</td>\n",
       "      <td>NaN</td>\n",
       "    </tr>\n",
       "  </tbody>\n",
       "</table>\n",
       "</div>"
      ],
      "text/plain": [
       "                                    Utbildningsområde         2012  \\\n",
       "0                                             Data/IT   109.192749   \n",
       "1             Ekonomi, administration och försäljning   333.379221   \n",
       "2                            Friskvård och kroppsvård    12.385036   \n",
       "3                       Hotell, restaurang och turism    76.257076   \n",
       "4             Hälso- och sjukvård samt socialt arbete   118.890913   \n",
       "5                        Journalistik och information     8.323028   \n",
       "6                                             Juridik     6.285412   \n",
       "7                            Kultur, media och design    87.487106   \n",
       "8        Lantbruk, djurvård, trädgård, skog och fiske    51.798081   \n",
       "9                          Pedagogik och undervisning    17.567920   \n",
       "10                     Samhällsbyggnad och byggteknik   144.764251   \n",
       "11                                  Säkerhetstjänster    12.080525   \n",
       "12                            Teknik och tillverkning   237.492378   \n",
       "13                                  Transporttjänster    56.769704   \n",
       "14                                             Övrigt     7.763576   \n",
       "15                                             Totalt  1280.436976   \n",
       "16                                                NaN          NaN   \n",
       "17  Notera: Avser endast program (YH-utbildningar ...          NaN   \n",
       "18                                                NaN          NaN   \n",
       "19             Källa: Myndigheten för yrkeshögskolan.          NaN   \n",
       "\n",
       "           2013         2014         2015         2016         2017  \\\n",
       "0    136.592343   154.726348   192.765796   211.257113   198.036024   \n",
       "1    373.196476   392.273449   397.432949   381.773874   406.235745   \n",
       "2     12.129508    12.160803    11.943787    10.835978     7.151950   \n",
       "3     78.752007    81.725028    81.591173    78.335025    79.393923   \n",
       "4    130.518945   148.016792   174.665651   177.475662   194.507055   \n",
       "5     11.691712    19.213199    21.328087    19.126495    20.104219   \n",
       "6      9.027900     8.867318     9.763824    11.196000    13.153375   \n",
       "7     96.421940   107.899579   118.131529   116.248464   123.081064   \n",
       "8     55.014831    48.989999    55.669332    64.264977    67.294657   \n",
       "9     17.970322    20.883172    19.929969    22.854123    28.460519   \n",
       "10   180.390592   185.992527   198.195534   223.487924   247.733960   \n",
       "11    11.843398    10.509850     9.998484    12.521000     8.570239   \n",
       "12   270.176367   280.300634   293.485426   288.171444   290.249849   \n",
       "13    59.399747    55.568749    84.037502   111.879407   113.576079   \n",
       "14    13.136499    13.884000    10.416246    10.800998    14.592330   \n",
       "15  1456.262587  1541.011447  1679.355289  1740.228484  1812.140988   \n",
       "16          NaN          NaN          NaN          NaN          NaN   \n",
       "17          NaN          NaN          NaN          NaN          NaN   \n",
       "18          NaN          NaN          NaN          NaN          NaN   \n",
       "19          NaN          NaN          NaN          NaN          NaN   \n",
       "\n",
       "           2018         2019         2020         2021         2022  \\\n",
       "0    203.249950   246.098128   356.251492   499.505111   566.211689   \n",
       "1    469.265158   549.522420   626.322157   677.605539   664.706433   \n",
       "2     10.021599    12.640847    15.614295    18.105384    22.952224   \n",
       "3     83.923865    89.100543   102.670911   115.716079   110.391271   \n",
       "4    219.279194   257.937313   310.385978   356.077126   377.270519   \n",
       "5     22.520929    28.415865    29.541782    28.698530    28.607127   \n",
       "6     14.716194    14.735424    16.637735    17.341442    12.816581   \n",
       "7    127.300040   131.276812   158.302460   185.625737   200.429775   \n",
       "8     65.009836    68.856857    82.730961    91.199354   103.753851   \n",
       "9     30.734559    45.013884    50.859064    66.792310    74.968297   \n",
       "10   282.362259   331.770969   418.709777   518.062878   544.106976   \n",
       "11     7.231494    12.350178    15.907922    21.932088    24.531988   \n",
       "12   301.586753   342.140952   431.257185   521.676310   537.890182   \n",
       "13   113.884016   103.576663   106.558937   100.988215   102.928269   \n",
       "14    14.535402    21.721748    26.978567    30.952812    36.231579   \n",
       "15  1965.621248  2255.158603  2748.729223  3250.278915  3407.796761   \n",
       "16          NaN          NaN          NaN          NaN          NaN   \n",
       "17          NaN          NaN          NaN          NaN          NaN   \n",
       "18          NaN          NaN          NaN          NaN          NaN   \n",
       "19          NaN          NaN          NaN          NaN          NaN   \n",
       "\n",
       "           2023         2024  \n",
       "0    600.542099   665.038880  \n",
       "1    645.379020   664.212939  \n",
       "2     23.312976    17.164001  \n",
       "3     95.516479   100.372505  \n",
       "4    359.356705   340.306947  \n",
       "5     25.851106    23.252844  \n",
       "6     11.423875    12.337662  \n",
       "7    213.685047   230.626209  \n",
       "8    112.383832   126.912377  \n",
       "9     63.687611    46.145875  \n",
       "10   513.145597   529.738844  \n",
       "11    28.235429    29.220064  \n",
       "12   541.447543   619.121294  \n",
       "13    96.102330    95.759291  \n",
       "14    32.072962    29.380400  \n",
       "15  3362.142611  3529.590132  \n",
       "16          NaN          NaN  \n",
       "17          NaN          NaN  \n",
       "18          NaN          NaN  \n",
       "19          NaN          NaN  "
      ]
     },
     "execution_count": 9,
     "metadata": {},
     "output_type": "execute_result"
    }
   ],
   "source": [
    "df_msek=df.copy()\n",
    "df_msek"
   ]
  },
  {
   "cell_type": "code",
   "execution_count": 10,
   "id": "188c9d2c",
   "metadata": {},
   "outputs": [
    {
     "name": "stdout",
     "output_type": "stream",
     "text": [
      "<class 'pandas.core.frame.DataFrame'>\n",
      "RangeIndex: 20 entries, 0 to 19\n",
      "Data columns (total 14 columns):\n",
      " #   Column             Non-Null Count  Dtype  \n",
      "---  ------             --------------  -----  \n",
      " 0   Utbildningsområde  18 non-null     object \n",
      " 1   2012               16 non-null     float64\n",
      " 2   2013               16 non-null     float64\n",
      " 3   2014               16 non-null     float64\n",
      " 4   2015               16 non-null     float64\n",
      " 5   2016               16 non-null     float64\n",
      " 6   2017               16 non-null     float64\n",
      " 7   2018               16 non-null     float64\n",
      " 8   2019               16 non-null     float64\n",
      " 9   2020               16 non-null     float64\n",
      " 10  2021               16 non-null     float64\n",
      " 11  2022               16 non-null     float64\n",
      " 12  2023               16 non-null     float64\n",
      " 13  2024               16 non-null     float64\n",
      "dtypes: float64(13), object(1)\n",
      "memory usage: 2.3+ KB\n"
     ]
    }
   ],
   "source": [
    "df_msek.info()"
   ]
  },
  {
   "cell_type": "code",
   "execution_count": 13,
   "id": "a9350163",
   "metadata": {},
   "outputs": [
    {
     "data": {
      "text/html": [
       "<div>\n",
       "<style scoped>\n",
       "    .dataframe tbody tr th:only-of-type {\n",
       "        vertical-align: middle;\n",
       "    }\n",
       "\n",
       "    .dataframe tbody tr th {\n",
       "        vertical-align: top;\n",
       "    }\n",
       "\n",
       "    .dataframe thead th {\n",
       "        text-align: right;\n",
       "    }\n",
       "</style>\n",
       "<table border=\"1\" class=\"dataframe\">\n",
       "  <thead>\n",
       "    <tr style=\"text-align: right;\">\n",
       "      <th></th>\n",
       "      <th>Anordnare namn</th>\n",
       "      <th>Utbildningsnamn</th>\n",
       "      <th>Utbildningsområde</th>\n",
       "      <th>Antal beviljade platser start 2024</th>\n",
       "      <th>Kommun</th>\n",
       "      <th>MSEK_2024</th>\n",
       "    </tr>\n",
       "  </thead>\n",
       "  <tbody>\n",
       "    <tr>\n",
       "      <th>0</th>\n",
       "      <td>Plushögskolan AB - Affärshögskolan</td>\n",
       "      <td>Strategisk hållbarhetsutveckling</td>\n",
       "      <td>Ekonomi, administration och försäljning</td>\n",
       "      <td>50</td>\n",
       "      <td>Flera kommuner</td>\n",
       "      <td>664.212939</td>\n",
       "    </tr>\n",
       "    <tr>\n",
       "      <th>1</th>\n",
       "      <td>IHM Business School AB Göteborg</td>\n",
       "      <td>Social media marketing</td>\n",
       "      <td>Ekonomi, administration och försäljning</td>\n",
       "      <td>50</td>\n",
       "      <td>Göteborg</td>\n",
       "      <td>664.212939</td>\n",
       "    </tr>\n",
       "    <tr>\n",
       "      <th>2</th>\n",
       "      <td>Plushögskolan AB - Vårdyrkeshögskolan</td>\n",
       "      <td>E-hälsa, digitalisering och välfärdsteknik ino...</td>\n",
       "      <td>Hälso- och sjukvård samt socialt arbete</td>\n",
       "      <td>0</td>\n",
       "      <td>Flera kommuner</td>\n",
       "      <td>340.306947</td>\n",
       "    </tr>\n",
       "    <tr>\n",
       "      <th>3</th>\n",
       "      <td>Hyper Island Program AB - Karlskrona</td>\n",
       "      <td>Sustainability Change Leadership</td>\n",
       "      <td>Ekonomi, administration och försäljning</td>\n",
       "      <td>55</td>\n",
       "      <td>Flera kommuner</td>\n",
       "      <td>664.212939</td>\n",
       "    </tr>\n",
       "    <tr>\n",
       "      <th>4</th>\n",
       "      <td>Plushögskolan AB - Affärshögskolan</td>\n",
       "      <td>Digitalisering och systemkunskap inom lön - Sp...</td>\n",
       "      <td>Ekonomi, administration och försäljning</td>\n",
       "      <td>50</td>\n",
       "      <td>Gävle</td>\n",
       "      <td>664.212939</td>\n",
       "    </tr>\n",
       "    <tr>\n",
       "      <th>...</th>\n",
       "      <td>...</td>\n",
       "      <td>...</td>\n",
       "      <td>...</td>\n",
       "      <td>...</td>\n",
       "      <td>...</td>\n",
       "      <td>...</td>\n",
       "    </tr>\n",
       "    <tr>\n",
       "      <th>446</th>\n",
       "      <td>Företagsuniversitetet AB</td>\n",
       "      <td>Upphandling av digitaliserings- och IT-lösningar</td>\n",
       "      <td>Ekonomi, administration och försäljning</td>\n",
       "      <td>0</td>\n",
       "      <td>Stockholm</td>\n",
       "      <td>664.212939</td>\n",
       "    </tr>\n",
       "    <tr>\n",
       "      <th>447</th>\n",
       "      <td>INSU AB</td>\n",
       "      <td>Solenergiprojektering</td>\n",
       "      <td>Samhällsbyggnad och byggteknik</td>\n",
       "      <td>0</td>\n",
       "      <td>Nyköping</td>\n",
       "      <td>529.738844</td>\n",
       "    </tr>\n",
       "    <tr>\n",
       "      <th>448</th>\n",
       "      <td>Företagsuniversitetet AB</td>\n",
       "      <td>Att bygga en informationssäkerhetskultur</td>\n",
       "      <td>Säkerhetstjänster</td>\n",
       "      <td>0</td>\n",
       "      <td>Stockholm</td>\n",
       "      <td>29.220064</td>\n",
       "    </tr>\n",
       "    <tr>\n",
       "      <th>449</th>\n",
       "      <td>Hyper Island Program AB - Stockholm</td>\n",
       "      <td>Data Analytics</td>\n",
       "      <td>Data/IT</td>\n",
       "      <td>50</td>\n",
       "      <td>Stockholm</td>\n",
       "      <td>665.038880</td>\n",
       "    </tr>\n",
       "    <tr>\n",
       "      <th>450</th>\n",
       "      <td>Campus Nyköping</td>\n",
       "      <td>Hälsofrämjande och pedagogiska insatser med häst</td>\n",
       "      <td>Lantbruk, djurvård, trädgård, skog och fiske</td>\n",
       "      <td>24</td>\n",
       "      <td>Nyköping</td>\n",
       "      <td>126.912377</td>\n",
       "    </tr>\n",
       "  </tbody>\n",
       "</table>\n",
       "<p>451 rows × 6 columns</p>\n",
       "</div>"
      ],
      "text/plain": [
       "                            Anordnare namn  \\\n",
       "0       Plushögskolan AB - Affärshögskolan   \n",
       "1          IHM Business School AB Göteborg   \n",
       "2    Plushögskolan AB - Vårdyrkeshögskolan   \n",
       "3     Hyper Island Program AB - Karlskrona   \n",
       "4       Plushögskolan AB - Affärshögskolan   \n",
       "..                                     ...   \n",
       "446               Företagsuniversitetet AB   \n",
       "447                                INSU AB   \n",
       "448               Företagsuniversitetet AB   \n",
       "449    Hyper Island Program AB - Stockholm   \n",
       "450                        Campus Nyköping   \n",
       "\n",
       "                                       Utbildningsnamn  \\\n",
       "0                     Strategisk hållbarhetsutveckling   \n",
       "1                               Social media marketing   \n",
       "2    E-hälsa, digitalisering och välfärdsteknik ino...   \n",
       "3                     Sustainability Change Leadership   \n",
       "4    Digitalisering och systemkunskap inom lön - Sp...   \n",
       "..                                                 ...   \n",
       "446   Upphandling av digitaliserings- och IT-lösningar   \n",
       "447                              Solenergiprojektering   \n",
       "448           Att bygga en informationssäkerhetskultur   \n",
       "449                                     Data Analytics   \n",
       "450   Hälsofrämjande och pedagogiska insatser med häst   \n",
       "\n",
       "                                Utbildningsområde  \\\n",
       "0         Ekonomi, administration och försäljning   \n",
       "1         Ekonomi, administration och försäljning   \n",
       "2         Hälso- och sjukvård samt socialt arbete   \n",
       "3         Ekonomi, administration och försäljning   \n",
       "4         Ekonomi, administration och försäljning   \n",
       "..                                            ...   \n",
       "446       Ekonomi, administration och försäljning   \n",
       "447                Samhällsbyggnad och byggteknik   \n",
       "448                             Säkerhetstjänster   \n",
       "449                                       Data/IT   \n",
       "450  Lantbruk, djurvård, trädgård, skog och fiske   \n",
       "\n",
       "     Antal beviljade platser start 2024          Kommun   MSEK_2024  \n",
       "0                                    50  Flera kommuner  664.212939  \n",
       "1                                    50        Göteborg  664.212939  \n",
       "2                                     0  Flera kommuner  340.306947  \n",
       "3                                    55  Flera kommuner  664.212939  \n",
       "4                                    50           Gävle  664.212939  \n",
       "..                                  ...             ...         ...  \n",
       "446                                   0       Stockholm  664.212939  \n",
       "447                                   0        Nyköping  529.738844  \n",
       "448                                   0       Stockholm   29.220064  \n",
       "449                                  50       Stockholm  665.038880  \n",
       "450                                  24        Nyköping  126.912377  \n",
       "\n",
       "[451 rows x 6 columns]"
      ]
     },
     "execution_count": 13,
     "metadata": {},
     "output_type": "execute_result"
    }
   ],
   "source": [
    "df_result = result_df.merge(\n",
    "    df_msek[['Utbildningsområde', 2024]], \n",
    "    on='Utbildningsområde', \n",
    "    how='left'\n",
    ")\n",
    "\n",
    "df_result = df_result.rename(columns={2024: 'MSEK_2024'})\n",
    "df_result"
   ]
  },
  {
   "cell_type": "code",
   "execution_count": 23,
   "id": "feaf3d81",
   "metadata": {},
   "outputs": [
    {
     "data": {
      "application/vnd.plotly.v1+json": {
       "config": {
        "plotlyServerURL": "https://plot.ly"
       },
       "data": [
        {
         "hovertemplate": "x=%{x}<br>y=%{y}<extra></extra>",
         "legendgroup": "",
         "marker": {
          "color": "#636efa",
          "pattern": {
           "shape": ""
          }
         },
         "name": "",
         "orientation": "h",
         "showlegend": false,
         "textposition": "auto",
         "type": "bar",
         "x": {
          "bdata": "BguzBY0EdAQQBIQAggB3AHMAVQA=",
          "dtype": "i2"
         },
         "xaxis": "x",
         "y": [
          "Ekonomi, administration och försäljning",
          "Data/IT",
          "Samhällsbyggnad och byggteknik",
          "Hälso- och sjukvård samt socialt arbete",
          "Teknik och tillverkning",
          "Hotell, restaurang och turism",
          "Juridik",
          "Lantbruk, djurvård, trädgård, skog och fiske",
          "Pedagogik och undervisning",
          "Säkerhetstjänster"
         ],
         "yaxis": "y"
        }
       ],
       "layout": {
        "barmode": "relative",
        "legend": {
         "tracegroupgap": 0
        },
        "margin": {
         "t": 60
        },
        "template": {
         "data": {
          "bar": [
           {
            "error_x": {
             "color": "#2a3f5f"
            },
            "error_y": {
             "color": "#2a3f5f"
            },
            "marker": {
             "line": {
              "color": "#E5ECF6",
              "width": 0.5
             },
             "pattern": {
              "fillmode": "overlay",
              "size": 10,
              "solidity": 0.2
             }
            },
            "type": "bar"
           }
          ],
          "barpolar": [
           {
            "marker": {
             "line": {
              "color": "#E5ECF6",
              "width": 0.5
             },
             "pattern": {
              "fillmode": "overlay",
              "size": 10,
              "solidity": 0.2
             }
            },
            "type": "barpolar"
           }
          ],
          "carpet": [
           {
            "aaxis": {
             "endlinecolor": "#2a3f5f",
             "gridcolor": "white",
             "linecolor": "white",
             "minorgridcolor": "white",
             "startlinecolor": "#2a3f5f"
            },
            "baxis": {
             "endlinecolor": "#2a3f5f",
             "gridcolor": "white",
             "linecolor": "white",
             "minorgridcolor": "white",
             "startlinecolor": "#2a3f5f"
            },
            "type": "carpet"
           }
          ],
          "choropleth": [
           {
            "colorbar": {
             "outlinewidth": 0,
             "ticks": ""
            },
            "type": "choropleth"
           }
          ],
          "contour": [
           {
            "colorbar": {
             "outlinewidth": 0,
             "ticks": ""
            },
            "colorscale": [
             [
              0,
              "#0d0887"
             ],
             [
              0.1111111111111111,
              "#46039f"
             ],
             [
              0.2222222222222222,
              "#7201a8"
             ],
             [
              0.3333333333333333,
              "#9c179e"
             ],
             [
              0.4444444444444444,
              "#bd3786"
             ],
             [
              0.5555555555555556,
              "#d8576b"
             ],
             [
              0.6666666666666666,
              "#ed7953"
             ],
             [
              0.7777777777777778,
              "#fb9f3a"
             ],
             [
              0.8888888888888888,
              "#fdca26"
             ],
             [
              1,
              "#f0f921"
             ]
            ],
            "type": "contour"
           }
          ],
          "contourcarpet": [
           {
            "colorbar": {
             "outlinewidth": 0,
             "ticks": ""
            },
            "type": "contourcarpet"
           }
          ],
          "heatmap": [
           {
            "colorbar": {
             "outlinewidth": 0,
             "ticks": ""
            },
            "colorscale": [
             [
              0,
              "#0d0887"
             ],
             [
              0.1111111111111111,
              "#46039f"
             ],
             [
              0.2222222222222222,
              "#7201a8"
             ],
             [
              0.3333333333333333,
              "#9c179e"
             ],
             [
              0.4444444444444444,
              "#bd3786"
             ],
             [
              0.5555555555555556,
              "#d8576b"
             ],
             [
              0.6666666666666666,
              "#ed7953"
             ],
             [
              0.7777777777777778,
              "#fb9f3a"
             ],
             [
              0.8888888888888888,
              "#fdca26"
             ],
             [
              1,
              "#f0f921"
             ]
            ],
            "type": "heatmap"
           }
          ],
          "histogram": [
           {
            "marker": {
             "pattern": {
              "fillmode": "overlay",
              "size": 10,
              "solidity": 0.2
             }
            },
            "type": "histogram"
           }
          ],
          "histogram2d": [
           {
            "colorbar": {
             "outlinewidth": 0,
             "ticks": ""
            },
            "colorscale": [
             [
              0,
              "#0d0887"
             ],
             [
              0.1111111111111111,
              "#46039f"
             ],
             [
              0.2222222222222222,
              "#7201a8"
             ],
             [
              0.3333333333333333,
              "#9c179e"
             ],
             [
              0.4444444444444444,
              "#bd3786"
             ],
             [
              0.5555555555555556,
              "#d8576b"
             ],
             [
              0.6666666666666666,
              "#ed7953"
             ],
             [
              0.7777777777777778,
              "#fb9f3a"
             ],
             [
              0.8888888888888888,
              "#fdca26"
             ],
             [
              1,
              "#f0f921"
             ]
            ],
            "type": "histogram2d"
           }
          ],
          "histogram2dcontour": [
           {
            "colorbar": {
             "outlinewidth": 0,
             "ticks": ""
            },
            "colorscale": [
             [
              0,
              "#0d0887"
             ],
             [
              0.1111111111111111,
              "#46039f"
             ],
             [
              0.2222222222222222,
              "#7201a8"
             ],
             [
              0.3333333333333333,
              "#9c179e"
             ],
             [
              0.4444444444444444,
              "#bd3786"
             ],
             [
              0.5555555555555556,
              "#d8576b"
             ],
             [
              0.6666666666666666,
              "#ed7953"
             ],
             [
              0.7777777777777778,
              "#fb9f3a"
             ],
             [
              0.8888888888888888,
              "#fdca26"
             ],
             [
              1,
              "#f0f921"
             ]
            ],
            "type": "histogram2dcontour"
           }
          ],
          "mesh3d": [
           {
            "colorbar": {
             "outlinewidth": 0,
             "ticks": ""
            },
            "type": "mesh3d"
           }
          ],
          "parcoords": [
           {
            "line": {
             "colorbar": {
              "outlinewidth": 0,
              "ticks": ""
             }
            },
            "type": "parcoords"
           }
          ],
          "pie": [
           {
            "automargin": true,
            "type": "pie"
           }
          ],
          "scatter": [
           {
            "fillpattern": {
             "fillmode": "overlay",
             "size": 10,
             "solidity": 0.2
            },
            "type": "scatter"
           }
          ],
          "scatter3d": [
           {
            "line": {
             "colorbar": {
              "outlinewidth": 0,
              "ticks": ""
             }
            },
            "marker": {
             "colorbar": {
              "outlinewidth": 0,
              "ticks": ""
             }
            },
            "type": "scatter3d"
           }
          ],
          "scattercarpet": [
           {
            "marker": {
             "colorbar": {
              "outlinewidth": 0,
              "ticks": ""
             }
            },
            "type": "scattercarpet"
           }
          ],
          "scattergeo": [
           {
            "marker": {
             "colorbar": {
              "outlinewidth": 0,
              "ticks": ""
             }
            },
            "type": "scattergeo"
           }
          ],
          "scattergl": [
           {
            "marker": {
             "colorbar": {
              "outlinewidth": 0,
              "ticks": ""
             }
            },
            "type": "scattergl"
           }
          ],
          "scattermap": [
           {
            "marker": {
             "colorbar": {
              "outlinewidth": 0,
              "ticks": ""
             }
            },
            "type": "scattermap"
           }
          ],
          "scattermapbox": [
           {
            "marker": {
             "colorbar": {
              "outlinewidth": 0,
              "ticks": ""
             }
            },
            "type": "scattermapbox"
           }
          ],
          "scatterpolar": [
           {
            "marker": {
             "colorbar": {
              "outlinewidth": 0,
              "ticks": ""
             }
            },
            "type": "scatterpolar"
           }
          ],
          "scatterpolargl": [
           {
            "marker": {
             "colorbar": {
              "outlinewidth": 0,
              "ticks": ""
             }
            },
            "type": "scatterpolargl"
           }
          ],
          "scatterternary": [
           {
            "marker": {
             "colorbar": {
              "outlinewidth": 0,
              "ticks": ""
             }
            },
            "type": "scatterternary"
           }
          ],
          "surface": [
           {
            "colorbar": {
             "outlinewidth": 0,
             "ticks": ""
            },
            "colorscale": [
             [
              0,
              "#0d0887"
             ],
             [
              0.1111111111111111,
              "#46039f"
             ],
             [
              0.2222222222222222,
              "#7201a8"
             ],
             [
              0.3333333333333333,
              "#9c179e"
             ],
             [
              0.4444444444444444,
              "#bd3786"
             ],
             [
              0.5555555555555556,
              "#d8576b"
             ],
             [
              0.6666666666666666,
              "#ed7953"
             ],
             [
              0.7777777777777778,
              "#fb9f3a"
             ],
             [
              0.8888888888888888,
              "#fdca26"
             ],
             [
              1,
              "#f0f921"
             ]
            ],
            "type": "surface"
           }
          ],
          "table": [
           {
            "cells": {
             "fill": {
              "color": "#EBF0F8"
             },
             "line": {
              "color": "white"
             }
            },
            "header": {
             "fill": {
              "color": "#C8D4E3"
             },
             "line": {
              "color": "white"
             }
            },
            "type": "table"
           }
          ]
         },
         "layout": {
          "annotationdefaults": {
           "arrowcolor": "#2a3f5f",
           "arrowhead": 0,
           "arrowwidth": 1
          },
          "autotypenumbers": "strict",
          "coloraxis": {
           "colorbar": {
            "outlinewidth": 0,
            "ticks": ""
           }
          },
          "colorscale": {
           "diverging": [
            [
             0,
             "#8e0152"
            ],
            [
             0.1,
             "#c51b7d"
            ],
            [
             0.2,
             "#de77ae"
            ],
            [
             0.3,
             "#f1b6da"
            ],
            [
             0.4,
             "#fde0ef"
            ],
            [
             0.5,
             "#f7f7f7"
            ],
            [
             0.6,
             "#e6f5d0"
            ],
            [
             0.7,
             "#b8e186"
            ],
            [
             0.8,
             "#7fbc41"
            ],
            [
             0.9,
             "#4d9221"
            ],
            [
             1,
             "#276419"
            ]
           ],
           "sequential": [
            [
             0,
             "#0d0887"
            ],
            [
             0.1111111111111111,
             "#46039f"
            ],
            [
             0.2222222222222222,
             "#7201a8"
            ],
            [
             0.3333333333333333,
             "#9c179e"
            ],
            [
             0.4444444444444444,
             "#bd3786"
            ],
            [
             0.5555555555555556,
             "#d8576b"
            ],
            [
             0.6666666666666666,
             "#ed7953"
            ],
            [
             0.7777777777777778,
             "#fb9f3a"
            ],
            [
             0.8888888888888888,
             "#fdca26"
            ],
            [
             1,
             "#f0f921"
            ]
           ],
           "sequentialminus": [
            [
             0,
             "#0d0887"
            ],
            [
             0.1111111111111111,
             "#46039f"
            ],
            [
             0.2222222222222222,
             "#7201a8"
            ],
            [
             0.3333333333333333,
             "#9c179e"
            ],
            [
             0.4444444444444444,
             "#bd3786"
            ],
            [
             0.5555555555555556,
             "#d8576b"
            ],
            [
             0.6666666666666666,
             "#ed7953"
            ],
            [
             0.7777777777777778,
             "#fb9f3a"
            ],
            [
             0.8888888888888888,
             "#fdca26"
            ],
            [
             1,
             "#f0f921"
            ]
           ]
          },
          "colorway": [
           "#636efa",
           "#EF553B",
           "#00cc96",
           "#ab63fa",
           "#FFA15A",
           "#19d3f3",
           "#FF6692",
           "#B6E880",
           "#FF97FF",
           "#FECB52"
          ],
          "font": {
           "color": "#2a3f5f"
          },
          "geo": {
           "bgcolor": "white",
           "lakecolor": "white",
           "landcolor": "#E5ECF6",
           "showlakes": true,
           "showland": true,
           "subunitcolor": "white"
          },
          "hoverlabel": {
           "align": "left"
          },
          "hovermode": "closest",
          "mapbox": {
           "style": "light"
          },
          "paper_bgcolor": "white",
          "plot_bgcolor": "#E5ECF6",
          "polar": {
           "angularaxis": {
            "gridcolor": "white",
            "linecolor": "white",
            "ticks": ""
           },
           "bgcolor": "#E5ECF6",
           "radialaxis": {
            "gridcolor": "white",
            "linecolor": "white",
            "ticks": ""
           }
          },
          "scene": {
           "xaxis": {
            "backgroundcolor": "#E5ECF6",
            "gridcolor": "white",
            "gridwidth": 2,
            "linecolor": "white",
            "showbackground": true,
            "ticks": "",
            "zerolinecolor": "white"
           },
           "yaxis": {
            "backgroundcolor": "#E5ECF6",
            "gridcolor": "white",
            "gridwidth": 2,
            "linecolor": "white",
            "showbackground": true,
            "ticks": "",
            "zerolinecolor": "white"
           },
           "zaxis": {
            "backgroundcolor": "#E5ECF6",
            "gridcolor": "white",
            "gridwidth": 2,
            "linecolor": "white",
            "showbackground": true,
            "ticks": "",
            "zerolinecolor": "white"
           }
          },
          "shapedefaults": {
           "line": {
            "color": "#2a3f5f"
           }
          },
          "ternary": {
           "aaxis": {
            "gridcolor": "white",
            "linecolor": "white",
            "ticks": ""
           },
           "baxis": {
            "gridcolor": "white",
            "linecolor": "white",
            "ticks": ""
           },
           "bgcolor": "#E5ECF6",
           "caxis": {
            "gridcolor": "white",
            "linecolor": "white",
            "ticks": ""
           }
          },
          "title": {
           "x": 0.05
          },
          "xaxis": {
           "automargin": true,
           "gridcolor": "white",
           "linecolor": "white",
           "ticks": "",
           "title": {
            "standoff": 15
           },
           "zerolinecolor": "white",
           "zerolinewidth": 2
          },
          "yaxis": {
           "automargin": true,
           "gridcolor": "white",
           "linecolor": "white",
           "ticks": "",
           "title": {
            "standoff": 15
           },
           "zerolinecolor": "white",
           "zerolinewidth": 2
          }
         }
        },
        "xaxis": {
         "anchor": "y",
         "domain": [
          0,
          1
         ],
         "title": {
          "text": "x"
         }
        },
        "yaxis": {
         "anchor": "x",
         "domain": [
          0,
          1
         ],
         "title": {
          "text": "y"
         }
        }
       }
      }
     },
     "metadata": {},
     "output_type": "display_data"
    }
   ],
   "source": [
    "import plotly.express as px\n",
    "\n",
    "top_anordnare = df_result.groupby('Utbildningsområde')['Antal beviljade platser start 2024'].sum().nlargest(10)\n",
    "fig = px.bar(x=top_anordnare.values, y=top_anordnare.index, orientation='h')\n",
    "fig.show()"
   ]
  },
  {
   "cell_type": "code",
   "execution_count": 14,
   "id": "21d4992c",
   "metadata": {},
   "outputs": [
    {
     "data": {
      "application/vnd.plotly.v1+json": {
       "config": {
        "plotlyServerURL": "https://plot.ly"
       },
       "data": [
        {
         "hovertemplate": "Kommun=%{x}<br>Antal beviljade platser start 2024=%{y}<extra></extra>",
         "legendgroup": "",
         "marker": {
          "color": "#636efa",
          "pattern": {
           "shape": ""
          }
         },
         "name": "",
         "orientation": "v",
         "showlegend": false,
         "textposition": "auto",
         "type": "bar",
         "x": [
          "Stockholm",
          "Flera kommuner",
          "Göteborg",
          "Malmö",
          "Solna",
          "Örebro",
          "Nyköping",
          "Västerås",
          "Umeå",
          "Trollhättan",
          "Västra Frölunda",
          "Karlskrona",
          "Växjö",
          "Norrköping",
          "Nynäshamn"
         ],
         "xaxis": "x",
         "y": {
          "bdata": "bAjBBNEDpQKRAXwB5QDDAKoAoACgAIwAggBkAGQA",
          "dtype": "i2"
         },
         "yaxis": "y"
        }
       ],
       "layout": {
        "barmode": "relative",
        "legend": {
         "tracegroupgap": 0
        },
        "template": {
         "data": {
          "bar": [
           {
            "error_x": {
             "color": "#2a3f5f"
            },
            "error_y": {
             "color": "#2a3f5f"
            },
            "marker": {
             "line": {
              "color": "#E5ECF6",
              "width": 0.5
             },
             "pattern": {
              "fillmode": "overlay",
              "size": 10,
              "solidity": 0.2
             }
            },
            "type": "bar"
           }
          ],
          "barpolar": [
           {
            "marker": {
             "line": {
              "color": "#E5ECF6",
              "width": 0.5
             },
             "pattern": {
              "fillmode": "overlay",
              "size": 10,
              "solidity": 0.2
             }
            },
            "type": "barpolar"
           }
          ],
          "carpet": [
           {
            "aaxis": {
             "endlinecolor": "#2a3f5f",
             "gridcolor": "white",
             "linecolor": "white",
             "minorgridcolor": "white",
             "startlinecolor": "#2a3f5f"
            },
            "baxis": {
             "endlinecolor": "#2a3f5f",
             "gridcolor": "white",
             "linecolor": "white",
             "minorgridcolor": "white",
             "startlinecolor": "#2a3f5f"
            },
            "type": "carpet"
           }
          ],
          "choropleth": [
           {
            "colorbar": {
             "outlinewidth": 0,
             "ticks": ""
            },
            "type": "choropleth"
           }
          ],
          "contour": [
           {
            "colorbar": {
             "outlinewidth": 0,
             "ticks": ""
            },
            "colorscale": [
             [
              0,
              "#0d0887"
             ],
             [
              0.1111111111111111,
              "#46039f"
             ],
             [
              0.2222222222222222,
              "#7201a8"
             ],
             [
              0.3333333333333333,
              "#9c179e"
             ],
             [
              0.4444444444444444,
              "#bd3786"
             ],
             [
              0.5555555555555556,
              "#d8576b"
             ],
             [
              0.6666666666666666,
              "#ed7953"
             ],
             [
              0.7777777777777778,
              "#fb9f3a"
             ],
             [
              0.8888888888888888,
              "#fdca26"
             ],
             [
              1,
              "#f0f921"
             ]
            ],
            "type": "contour"
           }
          ],
          "contourcarpet": [
           {
            "colorbar": {
             "outlinewidth": 0,
             "ticks": ""
            },
            "type": "contourcarpet"
           }
          ],
          "heatmap": [
           {
            "colorbar": {
             "outlinewidth": 0,
             "ticks": ""
            },
            "colorscale": [
             [
              0,
              "#0d0887"
             ],
             [
              0.1111111111111111,
              "#46039f"
             ],
             [
              0.2222222222222222,
              "#7201a8"
             ],
             [
              0.3333333333333333,
              "#9c179e"
             ],
             [
              0.4444444444444444,
              "#bd3786"
             ],
             [
              0.5555555555555556,
              "#d8576b"
             ],
             [
              0.6666666666666666,
              "#ed7953"
             ],
             [
              0.7777777777777778,
              "#fb9f3a"
             ],
             [
              0.8888888888888888,
              "#fdca26"
             ],
             [
              1,
              "#f0f921"
             ]
            ],
            "type": "heatmap"
           }
          ],
          "histogram": [
           {
            "marker": {
             "pattern": {
              "fillmode": "overlay",
              "size": 10,
              "solidity": 0.2
             }
            },
            "type": "histogram"
           }
          ],
          "histogram2d": [
           {
            "colorbar": {
             "outlinewidth": 0,
             "ticks": ""
            },
            "colorscale": [
             [
              0,
              "#0d0887"
             ],
             [
              0.1111111111111111,
              "#46039f"
             ],
             [
              0.2222222222222222,
              "#7201a8"
             ],
             [
              0.3333333333333333,
              "#9c179e"
             ],
             [
              0.4444444444444444,
              "#bd3786"
             ],
             [
              0.5555555555555556,
              "#d8576b"
             ],
             [
              0.6666666666666666,
              "#ed7953"
             ],
             [
              0.7777777777777778,
              "#fb9f3a"
             ],
             [
              0.8888888888888888,
              "#fdca26"
             ],
             [
              1,
              "#f0f921"
             ]
            ],
            "type": "histogram2d"
           }
          ],
          "histogram2dcontour": [
           {
            "colorbar": {
             "outlinewidth": 0,
             "ticks": ""
            },
            "colorscale": [
             [
              0,
              "#0d0887"
             ],
             [
              0.1111111111111111,
              "#46039f"
             ],
             [
              0.2222222222222222,
              "#7201a8"
             ],
             [
              0.3333333333333333,
              "#9c179e"
             ],
             [
              0.4444444444444444,
              "#bd3786"
             ],
             [
              0.5555555555555556,
              "#d8576b"
             ],
             [
              0.6666666666666666,
              "#ed7953"
             ],
             [
              0.7777777777777778,
              "#fb9f3a"
             ],
             [
              0.8888888888888888,
              "#fdca26"
             ],
             [
              1,
              "#f0f921"
             ]
            ],
            "type": "histogram2dcontour"
           }
          ],
          "mesh3d": [
           {
            "colorbar": {
             "outlinewidth": 0,
             "ticks": ""
            },
            "type": "mesh3d"
           }
          ],
          "parcoords": [
           {
            "line": {
             "colorbar": {
              "outlinewidth": 0,
              "ticks": ""
             }
            },
            "type": "parcoords"
           }
          ],
          "pie": [
           {
            "automargin": true,
            "type": "pie"
           }
          ],
          "scatter": [
           {
            "fillpattern": {
             "fillmode": "overlay",
             "size": 10,
             "solidity": 0.2
            },
            "type": "scatter"
           }
          ],
          "scatter3d": [
           {
            "line": {
             "colorbar": {
              "outlinewidth": 0,
              "ticks": ""
             }
            },
            "marker": {
             "colorbar": {
              "outlinewidth": 0,
              "ticks": ""
             }
            },
            "type": "scatter3d"
           }
          ],
          "scattercarpet": [
           {
            "marker": {
             "colorbar": {
              "outlinewidth": 0,
              "ticks": ""
             }
            },
            "type": "scattercarpet"
           }
          ],
          "scattergeo": [
           {
            "marker": {
             "colorbar": {
              "outlinewidth": 0,
              "ticks": ""
             }
            },
            "type": "scattergeo"
           }
          ],
          "scattergl": [
           {
            "marker": {
             "colorbar": {
              "outlinewidth": 0,
              "ticks": ""
             }
            },
            "type": "scattergl"
           }
          ],
          "scattermap": [
           {
            "marker": {
             "colorbar": {
              "outlinewidth": 0,
              "ticks": ""
             }
            },
            "type": "scattermap"
           }
          ],
          "scattermapbox": [
           {
            "marker": {
             "colorbar": {
              "outlinewidth": 0,
              "ticks": ""
             }
            },
            "type": "scattermapbox"
           }
          ],
          "scatterpolar": [
           {
            "marker": {
             "colorbar": {
              "outlinewidth": 0,
              "ticks": ""
             }
            },
            "type": "scatterpolar"
           }
          ],
          "scatterpolargl": [
           {
            "marker": {
             "colorbar": {
              "outlinewidth": 0,
              "ticks": ""
             }
            },
            "type": "scatterpolargl"
           }
          ],
          "scatterternary": [
           {
            "marker": {
             "colorbar": {
              "outlinewidth": 0,
              "ticks": ""
             }
            },
            "type": "scatterternary"
           }
          ],
          "surface": [
           {
            "colorbar": {
             "outlinewidth": 0,
             "ticks": ""
            },
            "colorscale": [
             [
              0,
              "#0d0887"
             ],
             [
              0.1111111111111111,
              "#46039f"
             ],
             [
              0.2222222222222222,
              "#7201a8"
             ],
             [
              0.3333333333333333,
              "#9c179e"
             ],
             [
              0.4444444444444444,
              "#bd3786"
             ],
             [
              0.5555555555555556,
              "#d8576b"
             ],
             [
              0.6666666666666666,
              "#ed7953"
             ],
             [
              0.7777777777777778,
              "#fb9f3a"
             ],
             [
              0.8888888888888888,
              "#fdca26"
             ],
             [
              1,
              "#f0f921"
             ]
            ],
            "type": "surface"
           }
          ],
          "table": [
           {
            "cells": {
             "fill": {
              "color": "#EBF0F8"
             },
             "line": {
              "color": "white"
             }
            },
            "header": {
             "fill": {
              "color": "#C8D4E3"
             },
             "line": {
              "color": "white"
             }
            },
            "type": "table"
           }
          ]
         },
         "layout": {
          "annotationdefaults": {
           "arrowcolor": "#2a3f5f",
           "arrowhead": 0,
           "arrowwidth": 1
          },
          "autotypenumbers": "strict",
          "coloraxis": {
           "colorbar": {
            "outlinewidth": 0,
            "ticks": ""
           }
          },
          "colorscale": {
           "diverging": [
            [
             0,
             "#8e0152"
            ],
            [
             0.1,
             "#c51b7d"
            ],
            [
             0.2,
             "#de77ae"
            ],
            [
             0.3,
             "#f1b6da"
            ],
            [
             0.4,
             "#fde0ef"
            ],
            [
             0.5,
             "#f7f7f7"
            ],
            [
             0.6,
             "#e6f5d0"
            ],
            [
             0.7,
             "#b8e186"
            ],
            [
             0.8,
             "#7fbc41"
            ],
            [
             0.9,
             "#4d9221"
            ],
            [
             1,
             "#276419"
            ]
           ],
           "sequential": [
            [
             0,
             "#0d0887"
            ],
            [
             0.1111111111111111,
             "#46039f"
            ],
            [
             0.2222222222222222,
             "#7201a8"
            ],
            [
             0.3333333333333333,
             "#9c179e"
            ],
            [
             0.4444444444444444,
             "#bd3786"
            ],
            [
             0.5555555555555556,
             "#d8576b"
            ],
            [
             0.6666666666666666,
             "#ed7953"
            ],
            [
             0.7777777777777778,
             "#fb9f3a"
            ],
            [
             0.8888888888888888,
             "#fdca26"
            ],
            [
             1,
             "#f0f921"
            ]
           ],
           "sequentialminus": [
            [
             0,
             "#0d0887"
            ],
            [
             0.1111111111111111,
             "#46039f"
            ],
            [
             0.2222222222222222,
             "#7201a8"
            ],
            [
             0.3333333333333333,
             "#9c179e"
            ],
            [
             0.4444444444444444,
             "#bd3786"
            ],
            [
             0.5555555555555556,
             "#d8576b"
            ],
            [
             0.6666666666666666,
             "#ed7953"
            ],
            [
             0.7777777777777778,
             "#fb9f3a"
            ],
            [
             0.8888888888888888,
             "#fdca26"
            ],
            [
             1,
             "#f0f921"
            ]
           ]
          },
          "colorway": [
           "#636efa",
           "#EF553B",
           "#00cc96",
           "#ab63fa",
           "#FFA15A",
           "#19d3f3",
           "#FF6692",
           "#B6E880",
           "#FF97FF",
           "#FECB52"
          ],
          "font": {
           "color": "#2a3f5f"
          },
          "geo": {
           "bgcolor": "white",
           "lakecolor": "white",
           "landcolor": "#E5ECF6",
           "showlakes": true,
           "showland": true,
           "subunitcolor": "white"
          },
          "hoverlabel": {
           "align": "left"
          },
          "hovermode": "closest",
          "mapbox": {
           "style": "light"
          },
          "paper_bgcolor": "white",
          "plot_bgcolor": "#E5ECF6",
          "polar": {
           "angularaxis": {
            "gridcolor": "white",
            "linecolor": "white",
            "ticks": ""
           },
           "bgcolor": "#E5ECF6",
           "radialaxis": {
            "gridcolor": "white",
            "linecolor": "white",
            "ticks": ""
           }
          },
          "scene": {
           "xaxis": {
            "backgroundcolor": "#E5ECF6",
            "gridcolor": "white",
            "gridwidth": 2,
            "linecolor": "white",
            "showbackground": true,
            "ticks": "",
            "zerolinecolor": "white"
           },
           "yaxis": {
            "backgroundcolor": "#E5ECF6",
            "gridcolor": "white",
            "gridwidth": 2,
            "linecolor": "white",
            "showbackground": true,
            "ticks": "",
            "zerolinecolor": "white"
           },
           "zaxis": {
            "backgroundcolor": "#E5ECF6",
            "gridcolor": "white",
            "gridwidth": 2,
            "linecolor": "white",
            "showbackground": true,
            "ticks": "",
            "zerolinecolor": "white"
           }
          },
          "shapedefaults": {
           "line": {
            "color": "#2a3f5f"
           }
          },
          "ternary": {
           "aaxis": {
            "gridcolor": "white",
            "linecolor": "white",
            "ticks": ""
           },
           "baxis": {
            "gridcolor": "white",
            "linecolor": "white",
            "ticks": ""
           },
           "bgcolor": "#E5ECF6",
           "caxis": {
            "gridcolor": "white",
            "linecolor": "white",
            "ticks": ""
           }
          },
          "title": {
           "x": 0.05
          },
          "xaxis": {
           "automargin": true,
           "gridcolor": "white",
           "linecolor": "white",
           "ticks": "",
           "title": {
            "standoff": 15
           },
           "zerolinecolor": "white",
           "zerolinewidth": 2
          },
          "yaxis": {
           "automargin": true,
           "gridcolor": "white",
           "linecolor": "white",
           "ticks": "",
           "title": {
            "standoff": 15
           },
           "zerolinecolor": "white",
           "zerolinewidth": 2
          }
         }
        },
        "title": {
         "text": "Top 15 kommuner"
        },
        "xaxis": {
         "anchor": "y",
         "domain": [
          0,
          1
         ],
         "title": {
          "text": "Kommun"
         }
        },
        "yaxis": {
         "anchor": "x",
         "domain": [
          0,
          1
         ],
         "title": {
          "text": "Antal beviljade platser start 2024"
         }
        }
       }
      }
     },
     "metadata": {},
     "output_type": "display_data"
    }
   ],
   "source": [
    "import plotly.express as px\n",
    "\n",
    "\n",
    "fig = px.bar(df_result.groupby('Kommun')['Antal beviljade platser start 2024'].sum().nlargest(15).reset_index(),\n",
    "             x='Kommun', y='Antal beviljade platser start 2024',\n",
    "             title='Top 15 kommuner')\n",
    "fig.show()"
   ]
  },
  {
   "cell_type": "code",
   "execution_count": null,
   "id": "0a300816",
   "metadata": {},
   "outputs": [
    {
     "name": "stdout",
     "output_type": "stream",
     "text": [
      "Requirement already satisfied: nbformat in /Library/Frameworks/Python.framework/Versions/3.12/lib/python3.12/site-packages (5.9.2)\n",
      "Collecting nbformat\n",
      "  Downloading nbformat-5.10.4-py3-none-any.whl.metadata (3.6 kB)\n",
      "Requirement already satisfied: plotly in /Library/Frameworks/Python.framework/Versions/3.12/lib/python3.12/site-packages (6.0.1)\n",
      "Requirement already satisfied: fastjsonschema>=2.15 in /Library/Frameworks/Python.framework/Versions/3.12/lib/python3.12/site-packages (from nbformat) (2.19.1)\n",
      "Requirement already satisfied: jsonschema>=2.6 in /Library/Frameworks/Python.framework/Versions/3.12/lib/python3.12/site-packages (from nbformat) (4.23.0)\n",
      "Requirement already satisfied: jupyter-core!=5.0.*,>=4.12 in /Library/Frameworks/Python.framework/Versions/3.12/lib/python3.12/site-packages (from nbformat) (5.7.2)\n",
      "Requirement already satisfied: traitlets>=5.1 in /Library/Frameworks/Python.framework/Versions/3.12/lib/python3.12/site-packages (from nbformat) (5.14.3)\n",
      "Requirement already satisfied: narwhals>=1.15.1 in /Library/Frameworks/Python.framework/Versions/3.12/lib/python3.12/site-packages (from plotly) (1.38.0)\n",
      "Requirement already satisfied: packaging in /Library/Frameworks/Python.framework/Versions/3.12/lib/python3.12/site-packages (from plotly) (24.2)\n",
      "Requirement already satisfied: attrs>=22.2.0 in /Library/Frameworks/Python.framework/Versions/3.12/lib/python3.12/site-packages (from jsonschema>=2.6->nbformat) (25.1.0)\n",
      "Requirement already satisfied: jsonschema-specifications>=2023.03.6 in /Library/Frameworks/Python.framework/Versions/3.12/lib/python3.12/site-packages (from jsonschema>=2.6->nbformat) (2024.10.1)\n",
      "Requirement already satisfied: referencing>=0.28.4 in /Library/Frameworks/Python.framework/Versions/3.12/lib/python3.12/site-packages (from jsonschema>=2.6->nbformat) (0.36.2)\n",
      "Requirement already satisfied: rpds-py>=0.7.1 in /Library/Frameworks/Python.framework/Versions/3.12/lib/python3.12/site-packages (from jsonschema>=2.6->nbformat) (0.22.3)\n",
      "Requirement already satisfied: platformdirs>=2.5 in /Library/Frameworks/Python.framework/Versions/3.12/lib/python3.12/site-packages (from jupyter-core!=5.0.*,>=4.12->nbformat) (4.3.6)\n",
      "Requirement already satisfied: typing-extensions>=4.4.0 in /Library/Frameworks/Python.framework/Versions/3.12/lib/python3.12/site-packages (from referencing>=0.28.4->jsonschema>=2.6->nbformat) (4.12.2)\n",
      "Downloading nbformat-5.10.4-py3-none-any.whl (78 kB)\n",
      "Installing collected packages: nbformat\n",
      "  Attempting uninstall: nbformat\n",
      "    Found existing installation: nbformat 5.9.2\n",
      "    Uninstalling nbformat-5.9.2:\n",
      "      Successfully uninstalled nbformat-5.9.2\n",
      "Successfully installed nbformat-5.10.4\n",
      "\n",
      "\u001b[1m[\u001b[0m\u001b[34;49mnotice\u001b[0m\u001b[1;39;49m]\u001b[0m\u001b[39;49m A new release of pip is available: \u001b[0m\u001b[31;49m24.3.1\u001b[0m\u001b[39;49m -> \u001b[0m\u001b[32;49m25.1.1\u001b[0m\n",
      "\u001b[1m[\u001b[0m\u001b[34;49mnotice\u001b[0m\u001b[1;39;49m]\u001b[0m\u001b[39;49m To update, run: \u001b[0m\u001b[32;49mpip install --upgrade pip\u001b[0m\n"
     ]
    }
   ],
   "source": [
    "!pip install --upgrade nbformat plotly"
   ]
  },
  {
   "cell_type": "code",
   "execution_count": null,
   "id": "837796bc",
   "metadata": {},
   "outputs": [
    {
     "name": "stdout",
     "output_type": "stream",
     "text": [
      "/Users/ira/Documents/DE24/github/the-skool-group5/.venv/bin/python: No module named pip\n",
      "Note: you may need to restart the kernel to use updated packages.\n"
     ]
    }
   ],
   "source": [
    "pip install --upgrade pip"
   ]
  },
  {
   "cell_type": "code",
   "execution_count": 19,
   "id": "02f292e2",
   "metadata": {},
   "outputs": [
    {
     "data": {
      "application/vnd.plotly.v1+json": {
       "config": {
        "plotlyServerURL": "https://plot.ly"
       },
       "data": [
        {
         "orientation": "h",
         "type": "bar",
         "x": {
          "bdata": "XAPJAbMBUAEdAQkBBAH/AOUAzQA=",
          "dtype": "i2"
         },
         "y": [
          "IHM Business School AB Göteborg",
          "Medieinstitutet i Sverige AB",
          "YH Akademin AB",
          "Nackademin AB",
          "TUC Sweden AB - Yrkeshögskola",
          "Stiftelsen Stockholms Tekniska Institut",
          "Blue Peak AB",
          "KompetensUtvecklingsInstitutet Sverige AB",
          "Campus Nyköping",
          "Lexicon Yrkeshögskola AB"
         ]
        }
       ],
       "layout": {
        "template": {
         "data": {
          "bar": [
           {
            "error_x": {
             "color": "#2a3f5f"
            },
            "error_y": {
             "color": "#2a3f5f"
            },
            "marker": {
             "line": {
              "color": "#E5ECF6",
              "width": 0.5
             },
             "pattern": {
              "fillmode": "overlay",
              "size": 10,
              "solidity": 0.2
             }
            },
            "type": "bar"
           }
          ],
          "barpolar": [
           {
            "marker": {
             "line": {
              "color": "#E5ECF6",
              "width": 0.5
             },
             "pattern": {
              "fillmode": "overlay",
              "size": 10,
              "solidity": 0.2
             }
            },
            "type": "barpolar"
           }
          ],
          "carpet": [
           {
            "aaxis": {
             "endlinecolor": "#2a3f5f",
             "gridcolor": "white",
             "linecolor": "white",
             "minorgridcolor": "white",
             "startlinecolor": "#2a3f5f"
            },
            "baxis": {
             "endlinecolor": "#2a3f5f",
             "gridcolor": "white",
             "linecolor": "white",
             "minorgridcolor": "white",
             "startlinecolor": "#2a3f5f"
            },
            "type": "carpet"
           }
          ],
          "choropleth": [
           {
            "colorbar": {
             "outlinewidth": 0,
             "ticks": ""
            },
            "type": "choropleth"
           }
          ],
          "contour": [
           {
            "colorbar": {
             "outlinewidth": 0,
             "ticks": ""
            },
            "colorscale": [
             [
              0,
              "#0d0887"
             ],
             [
              0.1111111111111111,
              "#46039f"
             ],
             [
              0.2222222222222222,
              "#7201a8"
             ],
             [
              0.3333333333333333,
              "#9c179e"
             ],
             [
              0.4444444444444444,
              "#bd3786"
             ],
             [
              0.5555555555555556,
              "#d8576b"
             ],
             [
              0.6666666666666666,
              "#ed7953"
             ],
             [
              0.7777777777777778,
              "#fb9f3a"
             ],
             [
              0.8888888888888888,
              "#fdca26"
             ],
             [
              1,
              "#f0f921"
             ]
            ],
            "type": "contour"
           }
          ],
          "contourcarpet": [
           {
            "colorbar": {
             "outlinewidth": 0,
             "ticks": ""
            },
            "type": "contourcarpet"
           }
          ],
          "heatmap": [
           {
            "colorbar": {
             "outlinewidth": 0,
             "ticks": ""
            },
            "colorscale": [
             [
              0,
              "#0d0887"
             ],
             [
              0.1111111111111111,
              "#46039f"
             ],
             [
              0.2222222222222222,
              "#7201a8"
             ],
             [
              0.3333333333333333,
              "#9c179e"
             ],
             [
              0.4444444444444444,
              "#bd3786"
             ],
             [
              0.5555555555555556,
              "#d8576b"
             ],
             [
              0.6666666666666666,
              "#ed7953"
             ],
             [
              0.7777777777777778,
              "#fb9f3a"
             ],
             [
              0.8888888888888888,
              "#fdca26"
             ],
             [
              1,
              "#f0f921"
             ]
            ],
            "type": "heatmap"
           }
          ],
          "histogram": [
           {
            "marker": {
             "pattern": {
              "fillmode": "overlay",
              "size": 10,
              "solidity": 0.2
             }
            },
            "type": "histogram"
           }
          ],
          "histogram2d": [
           {
            "colorbar": {
             "outlinewidth": 0,
             "ticks": ""
            },
            "colorscale": [
             [
              0,
              "#0d0887"
             ],
             [
              0.1111111111111111,
              "#46039f"
             ],
             [
              0.2222222222222222,
              "#7201a8"
             ],
             [
              0.3333333333333333,
              "#9c179e"
             ],
             [
              0.4444444444444444,
              "#bd3786"
             ],
             [
              0.5555555555555556,
              "#d8576b"
             ],
             [
              0.6666666666666666,
              "#ed7953"
             ],
             [
              0.7777777777777778,
              "#fb9f3a"
             ],
             [
              0.8888888888888888,
              "#fdca26"
             ],
             [
              1,
              "#f0f921"
             ]
            ],
            "type": "histogram2d"
           }
          ],
          "histogram2dcontour": [
           {
            "colorbar": {
             "outlinewidth": 0,
             "ticks": ""
            },
            "colorscale": [
             [
              0,
              "#0d0887"
             ],
             [
              0.1111111111111111,
              "#46039f"
             ],
             [
              0.2222222222222222,
              "#7201a8"
             ],
             [
              0.3333333333333333,
              "#9c179e"
             ],
             [
              0.4444444444444444,
              "#bd3786"
             ],
             [
              0.5555555555555556,
              "#d8576b"
             ],
             [
              0.6666666666666666,
              "#ed7953"
             ],
             [
              0.7777777777777778,
              "#fb9f3a"
             ],
             [
              0.8888888888888888,
              "#fdca26"
             ],
             [
              1,
              "#f0f921"
             ]
            ],
            "type": "histogram2dcontour"
           }
          ],
          "mesh3d": [
           {
            "colorbar": {
             "outlinewidth": 0,
             "ticks": ""
            },
            "type": "mesh3d"
           }
          ],
          "parcoords": [
           {
            "line": {
             "colorbar": {
              "outlinewidth": 0,
              "ticks": ""
             }
            },
            "type": "parcoords"
           }
          ],
          "pie": [
           {
            "automargin": true,
            "type": "pie"
           }
          ],
          "scatter": [
           {
            "fillpattern": {
             "fillmode": "overlay",
             "size": 10,
             "solidity": 0.2
            },
            "type": "scatter"
           }
          ],
          "scatter3d": [
           {
            "line": {
             "colorbar": {
              "outlinewidth": 0,
              "ticks": ""
             }
            },
            "marker": {
             "colorbar": {
              "outlinewidth": 0,
              "ticks": ""
             }
            },
            "type": "scatter3d"
           }
          ],
          "scattercarpet": [
           {
            "marker": {
             "colorbar": {
              "outlinewidth": 0,
              "ticks": ""
             }
            },
            "type": "scattercarpet"
           }
          ],
          "scattergeo": [
           {
            "marker": {
             "colorbar": {
              "outlinewidth": 0,
              "ticks": ""
             }
            },
            "type": "scattergeo"
           }
          ],
          "scattergl": [
           {
            "marker": {
             "colorbar": {
              "outlinewidth": 0,
              "ticks": ""
             }
            },
            "type": "scattergl"
           }
          ],
          "scattermap": [
           {
            "marker": {
             "colorbar": {
              "outlinewidth": 0,
              "ticks": ""
             }
            },
            "type": "scattermap"
           }
          ],
          "scattermapbox": [
           {
            "marker": {
             "colorbar": {
              "outlinewidth": 0,
              "ticks": ""
             }
            },
            "type": "scattermapbox"
           }
          ],
          "scatterpolar": [
           {
            "marker": {
             "colorbar": {
              "outlinewidth": 0,
              "ticks": ""
             }
            },
            "type": "scatterpolar"
           }
          ],
          "scatterpolargl": [
           {
            "marker": {
             "colorbar": {
              "outlinewidth": 0,
              "ticks": ""
             }
            },
            "type": "scatterpolargl"
           }
          ],
          "scatterternary": [
           {
            "marker": {
             "colorbar": {
              "outlinewidth": 0,
              "ticks": ""
             }
            },
            "type": "scatterternary"
           }
          ],
          "surface": [
           {
            "colorbar": {
             "outlinewidth": 0,
             "ticks": ""
            },
            "colorscale": [
             [
              0,
              "#0d0887"
             ],
             [
              0.1111111111111111,
              "#46039f"
             ],
             [
              0.2222222222222222,
              "#7201a8"
             ],
             [
              0.3333333333333333,
              "#9c179e"
             ],
             [
              0.4444444444444444,
              "#bd3786"
             ],
             [
              0.5555555555555556,
              "#d8576b"
             ],
             [
              0.6666666666666666,
              "#ed7953"
             ],
             [
              0.7777777777777778,
              "#fb9f3a"
             ],
             [
              0.8888888888888888,
              "#fdca26"
             ],
             [
              1,
              "#f0f921"
             ]
            ],
            "type": "surface"
           }
          ],
          "table": [
           {
            "cells": {
             "fill": {
              "color": "#EBF0F8"
             },
             "line": {
              "color": "white"
             }
            },
            "header": {
             "fill": {
              "color": "#C8D4E3"
             },
             "line": {
              "color": "white"
             }
            },
            "type": "table"
           }
          ]
         },
         "layout": {
          "annotationdefaults": {
           "arrowcolor": "#2a3f5f",
           "arrowhead": 0,
           "arrowwidth": 1
          },
          "autotypenumbers": "strict",
          "coloraxis": {
           "colorbar": {
            "outlinewidth": 0,
            "ticks": ""
           }
          },
          "colorscale": {
           "diverging": [
            [
             0,
             "#8e0152"
            ],
            [
             0.1,
             "#c51b7d"
            ],
            [
             0.2,
             "#de77ae"
            ],
            [
             0.3,
             "#f1b6da"
            ],
            [
             0.4,
             "#fde0ef"
            ],
            [
             0.5,
             "#f7f7f7"
            ],
            [
             0.6,
             "#e6f5d0"
            ],
            [
             0.7,
             "#b8e186"
            ],
            [
             0.8,
             "#7fbc41"
            ],
            [
             0.9,
             "#4d9221"
            ],
            [
             1,
             "#276419"
            ]
           ],
           "sequential": [
            [
             0,
             "#0d0887"
            ],
            [
             0.1111111111111111,
             "#46039f"
            ],
            [
             0.2222222222222222,
             "#7201a8"
            ],
            [
             0.3333333333333333,
             "#9c179e"
            ],
            [
             0.4444444444444444,
             "#bd3786"
            ],
            [
             0.5555555555555556,
             "#d8576b"
            ],
            [
             0.6666666666666666,
             "#ed7953"
            ],
            [
             0.7777777777777778,
             "#fb9f3a"
            ],
            [
             0.8888888888888888,
             "#fdca26"
            ],
            [
             1,
             "#f0f921"
            ]
           ],
           "sequentialminus": [
            [
             0,
             "#0d0887"
            ],
            [
             0.1111111111111111,
             "#46039f"
            ],
            [
             0.2222222222222222,
             "#7201a8"
            ],
            [
             0.3333333333333333,
             "#9c179e"
            ],
            [
             0.4444444444444444,
             "#bd3786"
            ],
            [
             0.5555555555555556,
             "#d8576b"
            ],
            [
             0.6666666666666666,
             "#ed7953"
            ],
            [
             0.7777777777777778,
             "#fb9f3a"
            ],
            [
             0.8888888888888888,
             "#fdca26"
            ],
            [
             1,
             "#f0f921"
            ]
           ]
          },
          "colorway": [
           "#636efa",
           "#EF553B",
           "#00cc96",
           "#ab63fa",
           "#FFA15A",
           "#19d3f3",
           "#FF6692",
           "#B6E880",
           "#FF97FF",
           "#FECB52"
          ],
          "font": {
           "color": "#2a3f5f"
          },
          "geo": {
           "bgcolor": "white",
           "lakecolor": "white",
           "landcolor": "#E5ECF6",
           "showlakes": true,
           "showland": true,
           "subunitcolor": "white"
          },
          "hoverlabel": {
           "align": "left"
          },
          "hovermode": "closest",
          "mapbox": {
           "style": "light"
          },
          "paper_bgcolor": "white",
          "plot_bgcolor": "#E5ECF6",
          "polar": {
           "angularaxis": {
            "gridcolor": "white",
            "linecolor": "white",
            "ticks": ""
           },
           "bgcolor": "#E5ECF6",
           "radialaxis": {
            "gridcolor": "white",
            "linecolor": "white",
            "ticks": ""
           }
          },
          "scene": {
           "xaxis": {
            "backgroundcolor": "#E5ECF6",
            "gridcolor": "white",
            "gridwidth": 2,
            "linecolor": "white",
            "showbackground": true,
            "ticks": "",
            "zerolinecolor": "white"
           },
           "yaxis": {
            "backgroundcolor": "#E5ECF6",
            "gridcolor": "white",
            "gridwidth": 2,
            "linecolor": "white",
            "showbackground": true,
            "ticks": "",
            "zerolinecolor": "white"
           },
           "zaxis": {
            "backgroundcolor": "#E5ECF6",
            "gridcolor": "white",
            "gridwidth": 2,
            "linecolor": "white",
            "showbackground": true,
            "ticks": "",
            "zerolinecolor": "white"
           }
          },
          "shapedefaults": {
           "line": {
            "color": "#2a3f5f"
           }
          },
          "ternary": {
           "aaxis": {
            "gridcolor": "white",
            "linecolor": "white",
            "ticks": ""
           },
           "baxis": {
            "gridcolor": "white",
            "linecolor": "white",
            "ticks": ""
           },
           "bgcolor": "#E5ECF6",
           "caxis": {
            "gridcolor": "white",
            "linecolor": "white",
            "ticks": ""
           }
          },
          "title": {
           "x": 0.05
          },
          "xaxis": {
           "automargin": true,
           "gridcolor": "white",
           "linecolor": "white",
           "ticks": "",
           "title": {
            "standoff": 15
           },
           "zerolinecolor": "white",
           "zerolinewidth": 2
          },
          "yaxis": {
           "automargin": true,
           "gridcolor": "white",
           "linecolor": "white",
           "ticks": "",
           "title": {
            "standoff": 15
           },
           "zerolinecolor": "white",
           "zerolinewidth": 2
          }
         }
        },
        "title": {
         "text": "Top 10 Utbildningsanordnare"
        }
       }
      }
     },
     "metadata": {},
     "output_type": "display_data"
    }
   ],
   "source": [
    "import plotly.graph_objects as go\n",
    "\n",
    "fig = go.Figure(data=[\n",
    "    go.Bar(x=top_anordnare.values, y=top_anordnare.index, orientation='h')\n",
    "])\n",
    "fig.update_layout(title='Top 10 Utbildningsanordnare')\n",
    "fig.show()"
   ]
  },
  {
   "cell_type": "code",
   "execution_count": null,
   "id": "2832fb38",
   "metadata": {},
   "outputs": [
    {
     "data": {
      "application/vnd.plotly.v1+json": {
       "config": {
        "plotlyServerURL": "https://plot.ly"
       },
       "data": [
        {
         "domain": {
          "x": [
           0,
           1
          ],
          "y": [
           0,
           1
          ]
         },
         "hovertemplate": "label=%{label}<br>value=%{value}<extra></extra>",
         "labels": [
          "Data/IT",
          "Ekonomi, administration och försäljning",
          "Hotell, restaurang och turism",
          "Hälso- och sjukvård samt socialt arbete",
          "Journalistik och information",
          "Juridik",
          "Kultur, media och design",
          "Lantbruk, djurvård, trädgård, skog och fiske",
          "Pedagogik och undervisning",
          "Samhällsbyggnad och byggteknik",
          "Säkerhetstjänster",
          "Teknik och tillverkning",
          "Transporttjänster"
         ],
         "legendgroup": "",
         "name": "",
         "showlegend": true,
         "type": "pie",
         "values": {
          "bdata": "swUGC4QAdARLAIIAFAB3AHMAjQRVABAEGQA=",
          "dtype": "i2"
         }
        }
       ],
       "layout": {
        "legend": {
         "tracegroupgap": 0
        },
        "margin": {
         "t": 60
        },
        "template": {
         "data": {
          "bar": [
           {
            "error_x": {
             "color": "#2a3f5f"
            },
            "error_y": {
             "color": "#2a3f5f"
            },
            "marker": {
             "line": {
              "color": "#E5ECF6",
              "width": 0.5
             },
             "pattern": {
              "fillmode": "overlay",
              "size": 10,
              "solidity": 0.2
             }
            },
            "type": "bar"
           }
          ],
          "barpolar": [
           {
            "marker": {
             "line": {
              "color": "#E5ECF6",
              "width": 0.5
             },
             "pattern": {
              "fillmode": "overlay",
              "size": 10,
              "solidity": 0.2
             }
            },
            "type": "barpolar"
           }
          ],
          "carpet": [
           {
            "aaxis": {
             "endlinecolor": "#2a3f5f",
             "gridcolor": "white",
             "linecolor": "white",
             "minorgridcolor": "white",
             "startlinecolor": "#2a3f5f"
            },
            "baxis": {
             "endlinecolor": "#2a3f5f",
             "gridcolor": "white",
             "linecolor": "white",
             "minorgridcolor": "white",
             "startlinecolor": "#2a3f5f"
            },
            "type": "carpet"
           }
          ],
          "choropleth": [
           {
            "colorbar": {
             "outlinewidth": 0,
             "ticks": ""
            },
            "type": "choropleth"
           }
          ],
          "contour": [
           {
            "colorbar": {
             "outlinewidth": 0,
             "ticks": ""
            },
            "colorscale": [
             [
              0,
              "#0d0887"
             ],
             [
              0.1111111111111111,
              "#46039f"
             ],
             [
              0.2222222222222222,
              "#7201a8"
             ],
             [
              0.3333333333333333,
              "#9c179e"
             ],
             [
              0.4444444444444444,
              "#bd3786"
             ],
             [
              0.5555555555555556,
              "#d8576b"
             ],
             [
              0.6666666666666666,
              "#ed7953"
             ],
             [
              0.7777777777777778,
              "#fb9f3a"
             ],
             [
              0.8888888888888888,
              "#fdca26"
             ],
             [
              1,
              "#f0f921"
             ]
            ],
            "type": "contour"
           }
          ],
          "contourcarpet": [
           {
            "colorbar": {
             "outlinewidth": 0,
             "ticks": ""
            },
            "type": "contourcarpet"
           }
          ],
          "heatmap": [
           {
            "colorbar": {
             "outlinewidth": 0,
             "ticks": ""
            },
            "colorscale": [
             [
              0,
              "#0d0887"
             ],
             [
              0.1111111111111111,
              "#46039f"
             ],
             [
              0.2222222222222222,
              "#7201a8"
             ],
             [
              0.3333333333333333,
              "#9c179e"
             ],
             [
              0.4444444444444444,
              "#bd3786"
             ],
             [
              0.5555555555555556,
              "#d8576b"
             ],
             [
              0.6666666666666666,
              "#ed7953"
             ],
             [
              0.7777777777777778,
              "#fb9f3a"
             ],
             [
              0.8888888888888888,
              "#fdca26"
             ],
             [
              1,
              "#f0f921"
             ]
            ],
            "type": "heatmap"
           }
          ],
          "histogram": [
           {
            "marker": {
             "pattern": {
              "fillmode": "overlay",
              "size": 10,
              "solidity": 0.2
             }
            },
            "type": "histogram"
           }
          ],
          "histogram2d": [
           {
            "colorbar": {
             "outlinewidth": 0,
             "ticks": ""
            },
            "colorscale": [
             [
              0,
              "#0d0887"
             ],
             [
              0.1111111111111111,
              "#46039f"
             ],
             [
              0.2222222222222222,
              "#7201a8"
             ],
             [
              0.3333333333333333,
              "#9c179e"
             ],
             [
              0.4444444444444444,
              "#bd3786"
             ],
             [
              0.5555555555555556,
              "#d8576b"
             ],
             [
              0.6666666666666666,
              "#ed7953"
             ],
             [
              0.7777777777777778,
              "#fb9f3a"
             ],
             [
              0.8888888888888888,
              "#fdca26"
             ],
             [
              1,
              "#f0f921"
             ]
            ],
            "type": "histogram2d"
           }
          ],
          "histogram2dcontour": [
           {
            "colorbar": {
             "outlinewidth": 0,
             "ticks": ""
            },
            "colorscale": [
             [
              0,
              "#0d0887"
             ],
             [
              0.1111111111111111,
              "#46039f"
             ],
             [
              0.2222222222222222,
              "#7201a8"
             ],
             [
              0.3333333333333333,
              "#9c179e"
             ],
             [
              0.4444444444444444,
              "#bd3786"
             ],
             [
              0.5555555555555556,
              "#d8576b"
             ],
             [
              0.6666666666666666,
              "#ed7953"
             ],
             [
              0.7777777777777778,
              "#fb9f3a"
             ],
             [
              0.8888888888888888,
              "#fdca26"
             ],
             [
              1,
              "#f0f921"
             ]
            ],
            "type": "histogram2dcontour"
           }
          ],
          "mesh3d": [
           {
            "colorbar": {
             "outlinewidth": 0,
             "ticks": ""
            },
            "type": "mesh3d"
           }
          ],
          "parcoords": [
           {
            "line": {
             "colorbar": {
              "outlinewidth": 0,
              "ticks": ""
             }
            },
            "type": "parcoords"
           }
          ],
          "pie": [
           {
            "automargin": true,
            "type": "pie"
           }
          ],
          "scatter": [
           {
            "fillpattern": {
             "fillmode": "overlay",
             "size": 10,
             "solidity": 0.2
            },
            "type": "scatter"
           }
          ],
          "scatter3d": [
           {
            "line": {
             "colorbar": {
              "outlinewidth": 0,
              "ticks": ""
             }
            },
            "marker": {
             "colorbar": {
              "outlinewidth": 0,
              "ticks": ""
             }
            },
            "type": "scatter3d"
           }
          ],
          "scattercarpet": [
           {
            "marker": {
             "colorbar": {
              "outlinewidth": 0,
              "ticks": ""
             }
            },
            "type": "scattercarpet"
           }
          ],
          "scattergeo": [
           {
            "marker": {
             "colorbar": {
              "outlinewidth": 0,
              "ticks": ""
             }
            },
            "type": "scattergeo"
           }
          ],
          "scattergl": [
           {
            "marker": {
             "colorbar": {
              "outlinewidth": 0,
              "ticks": ""
             }
            },
            "type": "scattergl"
           }
          ],
          "scattermap": [
           {
            "marker": {
             "colorbar": {
              "outlinewidth": 0,
              "ticks": ""
             }
            },
            "type": "scattermap"
           }
          ],
          "scattermapbox": [
           {
            "marker": {
             "colorbar": {
              "outlinewidth": 0,
              "ticks": ""
             }
            },
            "type": "scattermapbox"
           }
          ],
          "scatterpolar": [
           {
            "marker": {
             "colorbar": {
              "outlinewidth": 0,
              "ticks": ""
             }
            },
            "type": "scatterpolar"
           }
          ],
          "scatterpolargl": [
           {
            "marker": {
             "colorbar": {
              "outlinewidth": 0,
              "ticks": ""
             }
            },
            "type": "scatterpolargl"
           }
          ],
          "scatterternary": [
           {
            "marker": {
             "colorbar": {
              "outlinewidth": 0,
              "ticks": ""
             }
            },
            "type": "scatterternary"
           }
          ],
          "surface": [
           {
            "colorbar": {
             "outlinewidth": 0,
             "ticks": ""
            },
            "colorscale": [
             [
              0,
              "#0d0887"
             ],
             [
              0.1111111111111111,
              "#46039f"
             ],
             [
              0.2222222222222222,
              "#7201a8"
             ],
             [
              0.3333333333333333,
              "#9c179e"
             ],
             [
              0.4444444444444444,
              "#bd3786"
             ],
             [
              0.5555555555555556,
              "#d8576b"
             ],
             [
              0.6666666666666666,
              "#ed7953"
             ],
             [
              0.7777777777777778,
              "#fb9f3a"
             ],
             [
              0.8888888888888888,
              "#fdca26"
             ],
             [
              1,
              "#f0f921"
             ]
            ],
            "type": "surface"
           }
          ],
          "table": [
           {
            "cells": {
             "fill": {
              "color": "#EBF0F8"
             },
             "line": {
              "color": "white"
             }
            },
            "header": {
             "fill": {
              "color": "#C8D4E3"
             },
             "line": {
              "color": "white"
             }
            },
            "type": "table"
           }
          ]
         },
         "layout": {
          "annotationdefaults": {
           "arrowcolor": "#2a3f5f",
           "arrowhead": 0,
           "arrowwidth": 1
          },
          "autotypenumbers": "strict",
          "coloraxis": {
           "colorbar": {
            "outlinewidth": 0,
            "ticks": ""
           }
          },
          "colorscale": {
           "diverging": [
            [
             0,
             "#8e0152"
            ],
            [
             0.1,
             "#c51b7d"
            ],
            [
             0.2,
             "#de77ae"
            ],
            [
             0.3,
             "#f1b6da"
            ],
            [
             0.4,
             "#fde0ef"
            ],
            [
             0.5,
             "#f7f7f7"
            ],
            [
             0.6,
             "#e6f5d0"
            ],
            [
             0.7,
             "#b8e186"
            ],
            [
             0.8,
             "#7fbc41"
            ],
            [
             0.9,
             "#4d9221"
            ],
            [
             1,
             "#276419"
            ]
           ],
           "sequential": [
            [
             0,
             "#0d0887"
            ],
            [
             0.1111111111111111,
             "#46039f"
            ],
            [
             0.2222222222222222,
             "#7201a8"
            ],
            [
             0.3333333333333333,
             "#9c179e"
            ],
            [
             0.4444444444444444,
             "#bd3786"
            ],
            [
             0.5555555555555556,
             "#d8576b"
            ],
            [
             0.6666666666666666,
             "#ed7953"
            ],
            [
             0.7777777777777778,
             "#fb9f3a"
            ],
            [
             0.8888888888888888,
             "#fdca26"
            ],
            [
             1,
             "#f0f921"
            ]
           ],
           "sequentialminus": [
            [
             0,
             "#0d0887"
            ],
            [
             0.1111111111111111,
             "#46039f"
            ],
            [
             0.2222222222222222,
             "#7201a8"
            ],
            [
             0.3333333333333333,
             "#9c179e"
            ],
            [
             0.4444444444444444,
             "#bd3786"
            ],
            [
             0.5555555555555556,
             "#d8576b"
            ],
            [
             0.6666666666666666,
             "#ed7953"
            ],
            [
             0.7777777777777778,
             "#fb9f3a"
            ],
            [
             0.8888888888888888,
             "#fdca26"
            ],
            [
             1,
             "#f0f921"
            ]
           ]
          },
          "colorway": [
           "#636efa",
           "#EF553B",
           "#00cc96",
           "#ab63fa",
           "#FFA15A",
           "#19d3f3",
           "#FF6692",
           "#B6E880",
           "#FF97FF",
           "#FECB52"
          ],
          "font": {
           "color": "#2a3f5f"
          },
          "geo": {
           "bgcolor": "white",
           "lakecolor": "white",
           "landcolor": "#E5ECF6",
           "showlakes": true,
           "showland": true,
           "subunitcolor": "white"
          },
          "hoverlabel": {
           "align": "left"
          },
          "hovermode": "closest",
          "mapbox": {
           "style": "light"
          },
          "paper_bgcolor": "white",
          "plot_bgcolor": "#E5ECF6",
          "polar": {
           "angularaxis": {
            "gridcolor": "white",
            "linecolor": "white",
            "ticks": ""
           },
           "bgcolor": "#E5ECF6",
           "radialaxis": {
            "gridcolor": "white",
            "linecolor": "white",
            "ticks": ""
           }
          },
          "scene": {
           "xaxis": {
            "backgroundcolor": "#E5ECF6",
            "gridcolor": "white",
            "gridwidth": 2,
            "linecolor": "white",
            "showbackground": true,
            "ticks": "",
            "zerolinecolor": "white"
           },
           "yaxis": {
            "backgroundcolor": "#E5ECF6",
            "gridcolor": "white",
            "gridwidth": 2,
            "linecolor": "white",
            "showbackground": true,
            "ticks": "",
            "zerolinecolor": "white"
           },
           "zaxis": {
            "backgroundcolor": "#E5ECF6",
            "gridcolor": "white",
            "gridwidth": 2,
            "linecolor": "white",
            "showbackground": true,
            "ticks": "",
            "zerolinecolor": "white"
           }
          },
          "shapedefaults": {
           "line": {
            "color": "#2a3f5f"
           }
          },
          "ternary": {
           "aaxis": {
            "gridcolor": "white",
            "linecolor": "white",
            "ticks": ""
           },
           "baxis": {
            "gridcolor": "white",
            "linecolor": "white",
            "ticks": ""
           },
           "bgcolor": "#E5ECF6",
           "caxis": {
            "gridcolor": "white",
            "linecolor": "white",
            "ticks": ""
           }
          },
          "title": {
           "x": 0.05
          },
          "xaxis": {
           "automargin": true,
           "gridcolor": "white",
           "linecolor": "white",
           "ticks": "",
           "title": {
            "standoff": 15
           },
           "zerolinecolor": "white",
           "zerolinewidth": 2
          },
          "yaxis": {
           "automargin": true,
           "gridcolor": "white",
           "linecolor": "white",
           "ticks": "",
           "title": {
            "standoff": 15
           },
           "zerolinecolor": "white",
           "zerolinewidth": 2
          }
         }
        }
       }
      }
     },
     "metadata": {},
     "output_type": "display_data"
    }
   ],
   "source": [
    "area_stats = df_result.groupby('Utbildningsområde')['Antal beviljade platser start 2024'].sum()\n",
    "fig = px.pie(values=area_stats.values, names=area_stats.index)\n",
    "fig.show()"
   ]
  },
  {
   "cell_type": "code",
   "execution_count": 27,
   "id": "a913cf5c",
   "metadata": {},
   "outputs": [
    {
     "data": {
      "application/vnd.plotly.v1+json": {
       "config": {
        "plotlyServerURL": "https://plot.ly"
       },
       "data": [
        {
         "orientation": "h",
         "type": "bar",
         "x": {
          "bdata": "swUGC4QAdARLAIIAFAB3AHMAjQRVABAEGQA=",
          "dtype": "i2"
         },
         "y": [
          "Data/IT",
          "Ekonomi, administration och försäljning",
          "Hotell, restaurang och turism",
          "Hälso- och sjukvård samt socialt arbete",
          "Journalistik och information",
          "Juridik",
          "Kultur, media och design",
          "Lantbruk, djurvård, trädgård, skog och fiske",
          "Pedagogik och undervisning",
          "Samhällsbyggnad och byggteknik",
          "Säkerhetstjänster",
          "Teknik och tillverkning",
          "Transporttjänster"
         ]
        }
       ],
       "layout": {
        "template": {
         "data": {
          "bar": [
           {
            "error_x": {
             "color": "#2a3f5f"
            },
            "error_y": {
             "color": "#2a3f5f"
            },
            "marker": {
             "line": {
              "color": "#E5ECF6",
              "width": 0.5
             },
             "pattern": {
              "fillmode": "overlay",
              "size": 10,
              "solidity": 0.2
             }
            },
            "type": "bar"
           }
          ],
          "barpolar": [
           {
            "marker": {
             "line": {
              "color": "#E5ECF6",
              "width": 0.5
             },
             "pattern": {
              "fillmode": "overlay",
              "size": 10,
              "solidity": 0.2
             }
            },
            "type": "barpolar"
           }
          ],
          "carpet": [
           {
            "aaxis": {
             "endlinecolor": "#2a3f5f",
             "gridcolor": "white",
             "linecolor": "white",
             "minorgridcolor": "white",
             "startlinecolor": "#2a3f5f"
            },
            "baxis": {
             "endlinecolor": "#2a3f5f",
             "gridcolor": "white",
             "linecolor": "white",
             "minorgridcolor": "white",
             "startlinecolor": "#2a3f5f"
            },
            "type": "carpet"
           }
          ],
          "choropleth": [
           {
            "colorbar": {
             "outlinewidth": 0,
             "ticks": ""
            },
            "type": "choropleth"
           }
          ],
          "contour": [
           {
            "colorbar": {
             "outlinewidth": 0,
             "ticks": ""
            },
            "colorscale": [
             [
              0,
              "#0d0887"
             ],
             [
              0.1111111111111111,
              "#46039f"
             ],
             [
              0.2222222222222222,
              "#7201a8"
             ],
             [
              0.3333333333333333,
              "#9c179e"
             ],
             [
              0.4444444444444444,
              "#bd3786"
             ],
             [
              0.5555555555555556,
              "#d8576b"
             ],
             [
              0.6666666666666666,
              "#ed7953"
             ],
             [
              0.7777777777777778,
              "#fb9f3a"
             ],
             [
              0.8888888888888888,
              "#fdca26"
             ],
             [
              1,
              "#f0f921"
             ]
            ],
            "type": "contour"
           }
          ],
          "contourcarpet": [
           {
            "colorbar": {
             "outlinewidth": 0,
             "ticks": ""
            },
            "type": "contourcarpet"
           }
          ],
          "heatmap": [
           {
            "colorbar": {
             "outlinewidth": 0,
             "ticks": ""
            },
            "colorscale": [
             [
              0,
              "#0d0887"
             ],
             [
              0.1111111111111111,
              "#46039f"
             ],
             [
              0.2222222222222222,
              "#7201a8"
             ],
             [
              0.3333333333333333,
              "#9c179e"
             ],
             [
              0.4444444444444444,
              "#bd3786"
             ],
             [
              0.5555555555555556,
              "#d8576b"
             ],
             [
              0.6666666666666666,
              "#ed7953"
             ],
             [
              0.7777777777777778,
              "#fb9f3a"
             ],
             [
              0.8888888888888888,
              "#fdca26"
             ],
             [
              1,
              "#f0f921"
             ]
            ],
            "type": "heatmap"
           }
          ],
          "histogram": [
           {
            "marker": {
             "pattern": {
              "fillmode": "overlay",
              "size": 10,
              "solidity": 0.2
             }
            },
            "type": "histogram"
           }
          ],
          "histogram2d": [
           {
            "colorbar": {
             "outlinewidth": 0,
             "ticks": ""
            },
            "colorscale": [
             [
              0,
              "#0d0887"
             ],
             [
              0.1111111111111111,
              "#46039f"
             ],
             [
              0.2222222222222222,
              "#7201a8"
             ],
             [
              0.3333333333333333,
              "#9c179e"
             ],
             [
              0.4444444444444444,
              "#bd3786"
             ],
             [
              0.5555555555555556,
              "#d8576b"
             ],
             [
              0.6666666666666666,
              "#ed7953"
             ],
             [
              0.7777777777777778,
              "#fb9f3a"
             ],
             [
              0.8888888888888888,
              "#fdca26"
             ],
             [
              1,
              "#f0f921"
             ]
            ],
            "type": "histogram2d"
           }
          ],
          "histogram2dcontour": [
           {
            "colorbar": {
             "outlinewidth": 0,
             "ticks": ""
            },
            "colorscale": [
             [
              0,
              "#0d0887"
             ],
             [
              0.1111111111111111,
              "#46039f"
             ],
             [
              0.2222222222222222,
              "#7201a8"
             ],
             [
              0.3333333333333333,
              "#9c179e"
             ],
             [
              0.4444444444444444,
              "#bd3786"
             ],
             [
              0.5555555555555556,
              "#d8576b"
             ],
             [
              0.6666666666666666,
              "#ed7953"
             ],
             [
              0.7777777777777778,
              "#fb9f3a"
             ],
             [
              0.8888888888888888,
              "#fdca26"
             ],
             [
              1,
              "#f0f921"
             ]
            ],
            "type": "histogram2dcontour"
           }
          ],
          "mesh3d": [
           {
            "colorbar": {
             "outlinewidth": 0,
             "ticks": ""
            },
            "type": "mesh3d"
           }
          ],
          "parcoords": [
           {
            "line": {
             "colorbar": {
              "outlinewidth": 0,
              "ticks": ""
             }
            },
            "type": "parcoords"
           }
          ],
          "pie": [
           {
            "automargin": true,
            "type": "pie"
           }
          ],
          "scatter": [
           {
            "fillpattern": {
             "fillmode": "overlay",
             "size": 10,
             "solidity": 0.2
            },
            "type": "scatter"
           }
          ],
          "scatter3d": [
           {
            "line": {
             "colorbar": {
              "outlinewidth": 0,
              "ticks": ""
             }
            },
            "marker": {
             "colorbar": {
              "outlinewidth": 0,
              "ticks": ""
             }
            },
            "type": "scatter3d"
           }
          ],
          "scattercarpet": [
           {
            "marker": {
             "colorbar": {
              "outlinewidth": 0,
              "ticks": ""
             }
            },
            "type": "scattercarpet"
           }
          ],
          "scattergeo": [
           {
            "marker": {
             "colorbar": {
              "outlinewidth": 0,
              "ticks": ""
             }
            },
            "type": "scattergeo"
           }
          ],
          "scattergl": [
           {
            "marker": {
             "colorbar": {
              "outlinewidth": 0,
              "ticks": ""
             }
            },
            "type": "scattergl"
           }
          ],
          "scattermap": [
           {
            "marker": {
             "colorbar": {
              "outlinewidth": 0,
              "ticks": ""
             }
            },
            "type": "scattermap"
           }
          ],
          "scattermapbox": [
           {
            "marker": {
             "colorbar": {
              "outlinewidth": 0,
              "ticks": ""
             }
            },
            "type": "scattermapbox"
           }
          ],
          "scatterpolar": [
           {
            "marker": {
             "colorbar": {
              "outlinewidth": 0,
              "ticks": ""
             }
            },
            "type": "scatterpolar"
           }
          ],
          "scatterpolargl": [
           {
            "marker": {
             "colorbar": {
              "outlinewidth": 0,
              "ticks": ""
             }
            },
            "type": "scatterpolargl"
           }
          ],
          "scatterternary": [
           {
            "marker": {
             "colorbar": {
              "outlinewidth": 0,
              "ticks": ""
             }
            },
            "type": "scatterternary"
           }
          ],
          "surface": [
           {
            "colorbar": {
             "outlinewidth": 0,
             "ticks": ""
            },
            "colorscale": [
             [
              0,
              "#0d0887"
             ],
             [
              0.1111111111111111,
              "#46039f"
             ],
             [
              0.2222222222222222,
              "#7201a8"
             ],
             [
              0.3333333333333333,
              "#9c179e"
             ],
             [
              0.4444444444444444,
              "#bd3786"
             ],
             [
              0.5555555555555556,
              "#d8576b"
             ],
             [
              0.6666666666666666,
              "#ed7953"
             ],
             [
              0.7777777777777778,
              "#fb9f3a"
             ],
             [
              0.8888888888888888,
              "#fdca26"
             ],
             [
              1,
              "#f0f921"
             ]
            ],
            "type": "surface"
           }
          ],
          "table": [
           {
            "cells": {
             "fill": {
              "color": "#EBF0F8"
             },
             "line": {
              "color": "white"
             }
            },
            "header": {
             "fill": {
              "color": "#C8D4E3"
             },
             "line": {
              "color": "white"
             }
            },
            "type": "table"
           }
          ]
         },
         "layout": {
          "annotationdefaults": {
           "arrowcolor": "#2a3f5f",
           "arrowhead": 0,
           "arrowwidth": 1
          },
          "autotypenumbers": "strict",
          "coloraxis": {
           "colorbar": {
            "outlinewidth": 0,
            "ticks": ""
           }
          },
          "colorscale": {
           "diverging": [
            [
             0,
             "#8e0152"
            ],
            [
             0.1,
             "#c51b7d"
            ],
            [
             0.2,
             "#de77ae"
            ],
            [
             0.3,
             "#f1b6da"
            ],
            [
             0.4,
             "#fde0ef"
            ],
            [
             0.5,
             "#f7f7f7"
            ],
            [
             0.6,
             "#e6f5d0"
            ],
            [
             0.7,
             "#b8e186"
            ],
            [
             0.8,
             "#7fbc41"
            ],
            [
             0.9,
             "#4d9221"
            ],
            [
             1,
             "#276419"
            ]
           ],
           "sequential": [
            [
             0,
             "#0d0887"
            ],
            [
             0.1111111111111111,
             "#46039f"
            ],
            [
             0.2222222222222222,
             "#7201a8"
            ],
            [
             0.3333333333333333,
             "#9c179e"
            ],
            [
             0.4444444444444444,
             "#bd3786"
            ],
            [
             0.5555555555555556,
             "#d8576b"
            ],
            [
             0.6666666666666666,
             "#ed7953"
            ],
            [
             0.7777777777777778,
             "#fb9f3a"
            ],
            [
             0.8888888888888888,
             "#fdca26"
            ],
            [
             1,
             "#f0f921"
            ]
           ],
           "sequentialminus": [
            [
             0,
             "#0d0887"
            ],
            [
             0.1111111111111111,
             "#46039f"
            ],
            [
             0.2222222222222222,
             "#7201a8"
            ],
            [
             0.3333333333333333,
             "#9c179e"
            ],
            [
             0.4444444444444444,
             "#bd3786"
            ],
            [
             0.5555555555555556,
             "#d8576b"
            ],
            [
             0.6666666666666666,
             "#ed7953"
            ],
            [
             0.7777777777777778,
             "#fb9f3a"
            ],
            [
             0.8888888888888888,
             "#fdca26"
            ],
            [
             1,
             "#f0f921"
            ]
           ]
          },
          "colorway": [
           "#636efa",
           "#EF553B",
           "#00cc96",
           "#ab63fa",
           "#FFA15A",
           "#19d3f3",
           "#FF6692",
           "#B6E880",
           "#FF97FF",
           "#FECB52"
          ],
          "font": {
           "color": "#2a3f5f"
          },
          "geo": {
           "bgcolor": "white",
           "lakecolor": "white",
           "landcolor": "#E5ECF6",
           "showlakes": true,
           "showland": true,
           "subunitcolor": "white"
          },
          "hoverlabel": {
           "align": "left"
          },
          "hovermode": "closest",
          "mapbox": {
           "style": "light"
          },
          "paper_bgcolor": "white",
          "plot_bgcolor": "#E5ECF6",
          "polar": {
           "angularaxis": {
            "gridcolor": "white",
            "linecolor": "white",
            "ticks": ""
           },
           "bgcolor": "#E5ECF6",
           "radialaxis": {
            "gridcolor": "white",
            "linecolor": "white",
            "ticks": ""
           }
          },
          "scene": {
           "xaxis": {
            "backgroundcolor": "#E5ECF6",
            "gridcolor": "white",
            "gridwidth": 2,
            "linecolor": "white",
            "showbackground": true,
            "ticks": "",
            "zerolinecolor": "white"
           },
           "yaxis": {
            "backgroundcolor": "#E5ECF6",
            "gridcolor": "white",
            "gridwidth": 2,
            "linecolor": "white",
            "showbackground": true,
            "ticks": "",
            "zerolinecolor": "white"
           },
           "zaxis": {
            "backgroundcolor": "#E5ECF6",
            "gridcolor": "white",
            "gridwidth": 2,
            "linecolor": "white",
            "showbackground": true,
            "ticks": "",
            "zerolinecolor": "white"
           }
          },
          "shapedefaults": {
           "line": {
            "color": "#2a3f5f"
           }
          },
          "ternary": {
           "aaxis": {
            "gridcolor": "white",
            "linecolor": "white",
            "ticks": ""
           },
           "baxis": {
            "gridcolor": "white",
            "linecolor": "white",
            "ticks": ""
           },
           "bgcolor": "#E5ECF6",
           "caxis": {
            "gridcolor": "white",
            "linecolor": "white",
            "ticks": ""
           }
          },
          "title": {
           "x": 0.05
          },
          "xaxis": {
           "automargin": true,
           "gridcolor": "white",
           "linecolor": "white",
           "ticks": "",
           "title": {
            "standoff": 15
           },
           "zerolinecolor": "white",
           "zerolinewidth": 2
          },
          "yaxis": {
           "automargin": true,
           "gridcolor": "white",
           "linecolor": "white",
           "ticks": "",
           "title": {
            "standoff": 15
           },
           "zerolinecolor": "white",
           "zerolinewidth": 2
          }
         }
        }
       }
      }
     },
     "metadata": {},
     "output_type": "display_data"
    }
   ],
   "source": [
    "import plotly.graph_objects as go\n",
    "\n",
    "fig=go.Figure(data=[go.Bar(x=area_stats.values, y=area_stats.index, orientation=\"h\")])\n",
    "fig.show()"
   ]
  },
  {
   "cell_type": "code",
   "execution_count": null,
   "id": "44e87d15",
   "metadata": {},
   "outputs": [
    {
     "name": "stderr",
     "output_type": "stream",
     "text": [
      "/var/folders/6n/k55z_kf10m5811bglwczkqg80000gp/T/ipykernel_13488/2487650541.py:30: DeprecationWarning:\n",
      "\n",
      "*density_mapbox* is deprecated! Use *density_map* instead. Learn more at: https://plotly.com/python/mapbox-to-maplibre/\n",
      "\n"
     ]
    },
    {
     "data": {
      "application/vnd.plotly.v1+json": {
       "config": {
        "plotlyServerURL": "https://plot.ly"
       },
       "data": [
        {
         "coloraxis": "coloraxis",
         "hovertemplate": "Antal beviljade platser start 2024=%{z}<br>lat=%{lat}<br>lon=%{lon}<extra></extra>",
         "lat": {
          "bdata": "NBE2PL3aTEADCYofY1ZOQK5H4XoUrk1ArkfhehSuTUCuR+F6FK5NQK5H4XoUrk1ArkfhehSuTUCsrdhfdu9LQK5H4XoUrk1ArkfhehSuTUCuR+F6FK5NQK5H4XoUrk1ArkfhehSuTUCuR+F6FK5NQK5H4XoUrk1ArkfhehSuTUArGJXUCbBLQK5H4XoUrk1ArkfhehSuTUCuR+F6FK5NQK5H4XoUrk1ArkfhehSuTUC/DpwzohRMQLaEfNCz6U9AtoR80LPpT0D+ZffkYWVQQD0K16NwzUtAUkmdgCaqTUBSSZ2AJqpNQD0K16NwzUtAyeU/pN/OTUA9CtejcM1LQGZmZmZmRkxAUkmdgCaqTUBFR3L5D3FNQLPqc7UVo01ARUdy+Q9xTUA9CtejcM1LQDQRNjy92kxAak3zjlMkTUBSSZ2AJqpNQFJJnYAmqk1AUkmdgCaqTUA0ETY8vdpMQDQRNjy92kxAak3zjlMkTUA/NV66SdxMQD81XrpJ3ExAPQrXo3DNS0A0ETY8vdpMQFJJnYAmqk1AUkmdgCaqTUBSSZ2AJqpNQFJJnYAmqk1AUkmdgCaqTUBSSZ2AJqpNQLaEfNCz6U9AeVioNc0DTEC2hHzQs+lPQGpN845TJE1APSzUmubtTUBSSZ2AJqpNQLaEfNCz6U9AUkmdgCaqTUC2hHzQs+lPQD0s1Jrm7U1AyeU/pN/OTUCuR+F6FK5NQAU0ETY8pU9Aak3zjlMkTUDJ5T+k385NQFJJnYAmqk1A4zYawFtgTUAHzhlR2tNMQNxGA3gLMFBANBE2PL3aTEDJ5T+k385NQDGZKhiVNE1AKH6MuWvRTUDJ5T+k385NQDGZKhiVNE1AUkmdgCaqTUA0ETY8vdpMQDbNO07RqU1AUkmdgCaqTUBSSZ2AJqpNQDbNO07RqU1AUkmdgCaqTUBSSZ2AJqpNQD0K16NwzUtAPQrXo3DNS0A0ETY8vdpMQD0K16NwzUtAyeU/pN/OTUBSSZ2AJqpNQFJJnYAmqk1AUkmdgCaqTUA9CtejcM1LQFJJnYAmqk1AyeU/pN/OTUBSSZ2AJqpNQDbNO07RqU1AUkmdgCaqTUBSSZ2AJqpNQMnlP6Tfzk1A/7J78rAwTUA9LNSa5u1NQDQRNjy92kxANBE2PL3aTEBSSZ2AJqpNQD0s1Jrm7U1APQrXo3DNS0A9CtejcM1LQFJJnYAmqk1AUkmdgCaqTUBSSZ2AJqpNQFJJnYAmqk1ANBE2PL3aTEDjNhrAW2BNQD0K16NwzUtANBE2PL3aTEBSSZ2AJqpNQDQRNjy92kxA4zYawFtgTUDjNhrAW2BNQOM2GsBbYE1APQrXo3DNS0BuowG8BTJNQKHWNO843U5APQrXo3DNS0BApN++DkxNQECk374OTE1AUkmdgCaqTUBSSZ2AJqpNQFJJnYAmqk1AUkmdgCaqTUAHzhlR2tNMQFJJnYAmqk1ANBE2PL3aTEBSSZ2AJqpNQD0s1Jrm7U1ABTQRNjylT0BSSZ2AJqpNQFJJnYAmqk1AUkmdgCaqTUBSSZ2AJqpNQN/gC5Op6k1AUkmdgCaqTUDf4AuTqepNQN/gC5Op6k1Af9k9eVhwTEBSSZ2AJqpNQH/ZPXlYcExAUkmdgCaqTUB/2T15WHBMQFJJnYAmqk1AUkmdgCaqTUBSSZ2AJqpNQDQRNjy92kxAPQrXo3DNS0A0ETY8vdpMQFJJnYAmqk1A4L4OnDPaS0A0ETY8vdpMQDQRNjy92kxAUkmdgCaqTUBSSZ2AJqpNQFJJnYAmqk1ANBE2PL3aTEA0ETY8vdpMQDQRNjy92kxAUkmdgCaqTUBSSZ2AJqpNQFJJnYAmqk1AbqMBvAUyT0Df4AuTqWpMQFJJnYAmqk1AUkmdgCaqTUA0ETY8vdpMQOC+Dpwz2ktAUkmdgCaqTUA/NV66SdxMQD81XrpJ3ExAPzVeukncTEA/NV66SdxMQD81XrpJ3ExAUkmdgCaqTUBSSZ2AJqpNQFJJnYAmqk1ANBE2PL3aTEA9CtejcM1LQDQRNjy92kxANBE2PL3aTEBSSZ2AJqpNQDQRNjy92kxA4zYawFtgTUA0ETY8vdpMQD81XrpJ3ExANBE2PL3aTEA/NV66SdxMQDQRNjy92kxANBE2PL3aTEA0ETY8vdpMQD0K16NwzUtAPQrXo3DNS0BSSZ2AJqpNQD0K16NwzUtAs+pztRWjTUA9CtejcM1LQDQRNjy92kxAf9k9eVhwTECz6nO1FaNNQLPqc7UVo01As+pztRWjTUCz6nO1FaNNQLPqc7UVo01APQrXo3DNS0A0ETY8vdpMQFJJnYAmqk1AUkmdgCaqTUBSSZ2AJqpNQH/ZPXlYcExAUkmdgCaqTUA9CtejcM1LQFJJnYAmqk1APSzUmubtTUBSSZ2AJqpNQFJJnYAmqk1As+pztRWjTUC2hHzQs+lPQL8OnDOiFExAUkmdgCaqTUC2hHzQs+lPQDQRNjy92kxAUkmdgCaqTUCuR+F6FK5NQDQRNjy92kxAvw6cM6IUTEA0ETY8vdpMQDQRNjy92kxAwOyePCzkTEA0ETY8vdpMQDQRNjy92kxArkfhehSuTUA0ETY8vdpMQDQRNjy92kxAak3zjlMkTUDLoUW28wVMQFJJnYAmqk1ArkfhehSuTUA9LNSa5u1NQMuhRbbzBUxAUkmdgCaqTUBSSZ2AJqpNQLivA+eMsE1AUkmdgCaqTUC2hHzQs+lPQFJJnYAmqk1AUkmdgCaqTUD+ZffkYWVQQP+ye/KwME1ANBE2PL3aTECuR+F6FK5NQDQRNjy92kxAPQrXo3DNS0CuR+F6FK5NQDQRNjy92kxAj+TyH9KXTEA0ETY8vdpMQFJJnYAmqk1ANBE2PL3aTEA9CtejcM1LQD0K16NwzUtAUkmdgCaqTUA9CtejcM1LQFJJnYAmqk1AUkmdgCaqTUBSSZ2AJqpNQD0K16NwzUtAPQrXo3DNS0A0ETY8vdpMQFJJnYAmqk1AUkmdgCaqTUA0ETY8vdpMQDQRNjy92kxAUkmdgCaqTUBSSZ2AJqpNQDQRNjy92kxANBE2PL3aTEA0ETY8vdpMQFJJnYAmqk1ANBE2PL3aTEA0ETY8vdpMQDQRNjy92kxAPQrXo3DNS0BSSZ2AJqpNQG6jAbwFMk9ANBE2PL3aTEA9CtejcM1LQFJJnYAmqk1APQrXo3DNS0BSSZ2AJqpNQMnlP6Tfzk1As+pztRWjTUA0ETY8vdpMQDQRNjy92kxAQKTfvg5MTUBApN++DkxNQMnlP6Tfzk1APQrXo3DNS0BApN++DkxNQECk374OTE1AUkmdgCaqTUDjNhrAW2BNQL8OnDOiFExA7uvAOSOCTUBSSZ2AJqpNQFJJnYAmqk1AUkmdgCaqTUBSSZ2AJqpNQAMJih9jVk5AAwmKH2NWTkD/snvysDBNQFJJnYAmqk1AyeU/pN/OTUDJ5T+k385NQFJJnYAmqk1AUkmdgCaqTUBSSZ2AJqpNQFJJnYAmqk1AUkmdgCaqTUDjNhrAW2BNQFJJnYAmqk1AUkmdgCaqTUDjNhrAW2BNQA==",
          "dtype": "f8"
         },
         "lon": {
          "bdata": "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",
          "dtype": "f8"
         },
         "name": "",
         "radius": 25,
         "subplot": "mapbox",
         "type": "densitymapbox",
         "z": {
          "bdata": "MjIgIC0oKBkAAAAtAAAeABkgAAAAKDcAFCgoAAAAGSgARgAeACgAIyMjIwAAHgAAAAAAAAAAAAAoACgeAAAAKCgAABkZGQAgAAAAGSMjACMjFAAeFCMeAA8AICAAHgAoMgA8ACMeAAAjACgZAAAoAABQRjIAIzIoFAAAGSgoKB4ZKAAUHgAAHgAAADIAGQAgAAAeABkAAAAeAB4AAAAAAB4tFCgAACgARgAAIyAAGRRQHhQUKAAAAAAAKCgAFCgAFAAAMgAAABQAFABGAAAAHgAURlBQPB4oAAAAIwAADx4AABQAHgAAHh4AAAAAHigAHiMAAAAeKAAeKAAAHgAAAAAAIwAAAAAjIwAAFB4AKB4UABQjKDI8PCgyACgoAAAAKCgAACgAAAAePABGKEYZACgAKAAKAAAoHgA3ACg8AAAAACMAAAA8KEYyAAAAMhg=",
          "dtype": "i1"
         }
        }
       ],
       "layout": {
        "coloraxis": {
         "colorbar": {
          "title": {
           "text": "Antal beviljade platser start 2024"
          }
         },
         "colorscale": [
          [
           0,
           "#0d0887"
          ],
          [
           0.1111111111111111,
           "#46039f"
          ],
          [
           0.2222222222222222,
           "#7201a8"
          ],
          [
           0.3333333333333333,
           "#9c179e"
          ],
          [
           0.4444444444444444,
           "#bd3786"
          ],
          [
           0.5555555555555556,
           "#d8576b"
          ],
          [
           0.6666666666666666,
           "#ed7953"
          ],
          [
           0.7777777777777778,
           "#fb9f3a"
          ],
          [
           0.8888888888888888,
           "#fdca26"
          ],
          [
           1,
           "#f0f921"
          ]
         ]
        },
        "height": 700,
        "legend": {
         "tracegroupgap": 0
        },
        "mapbox": {
         "center": {
          "lat": 62,
          "lon": 15
         },
         "domain": {
          "x": [
           0,
           1
          ],
          "y": [
           0,
           1
          ]
         },
         "style": "open-street-map",
         "zoom": 4
        },
        "template": {
         "data": {
          "bar": [
           {
            "error_x": {
             "color": "#2a3f5f"
            },
            "error_y": {
             "color": "#2a3f5f"
            },
            "marker": {
             "line": {
              "color": "#E5ECF6",
              "width": 0.5
             },
             "pattern": {
              "fillmode": "overlay",
              "size": 10,
              "solidity": 0.2
             }
            },
            "type": "bar"
           }
          ],
          "barpolar": [
           {
            "marker": {
             "line": {
              "color": "#E5ECF6",
              "width": 0.5
             },
             "pattern": {
              "fillmode": "overlay",
              "size": 10,
              "solidity": 0.2
             }
            },
            "type": "barpolar"
           }
          ],
          "carpet": [
           {
            "aaxis": {
             "endlinecolor": "#2a3f5f",
             "gridcolor": "white",
             "linecolor": "white",
             "minorgridcolor": "white",
             "startlinecolor": "#2a3f5f"
            },
            "baxis": {
             "endlinecolor": "#2a3f5f",
             "gridcolor": "white",
             "linecolor": "white",
             "minorgridcolor": "white",
             "startlinecolor": "#2a3f5f"
            },
            "type": "carpet"
           }
          ],
          "choropleth": [
           {
            "colorbar": {
             "outlinewidth": 0,
             "ticks": ""
            },
            "type": "choropleth"
           }
          ],
          "contour": [
           {
            "colorbar": {
             "outlinewidth": 0,
             "ticks": ""
            },
            "colorscale": [
             [
              0,
              "#0d0887"
             ],
             [
              0.1111111111111111,
              "#46039f"
             ],
             [
              0.2222222222222222,
              "#7201a8"
             ],
             [
              0.3333333333333333,
              "#9c179e"
             ],
             [
              0.4444444444444444,
              "#bd3786"
             ],
             [
              0.5555555555555556,
              "#d8576b"
             ],
             [
              0.6666666666666666,
              "#ed7953"
             ],
             [
              0.7777777777777778,
              "#fb9f3a"
             ],
             [
              0.8888888888888888,
              "#fdca26"
             ],
             [
              1,
              "#f0f921"
             ]
            ],
            "type": "contour"
           }
          ],
          "contourcarpet": [
           {
            "colorbar": {
             "outlinewidth": 0,
             "ticks": ""
            },
            "type": "contourcarpet"
           }
          ],
          "heatmap": [
           {
            "colorbar": {
             "outlinewidth": 0,
             "ticks": ""
            },
            "colorscale": [
             [
              0,
              "#0d0887"
             ],
             [
              0.1111111111111111,
              "#46039f"
             ],
             [
              0.2222222222222222,
              "#7201a8"
             ],
             [
              0.3333333333333333,
              "#9c179e"
             ],
             [
              0.4444444444444444,
              "#bd3786"
             ],
             [
              0.5555555555555556,
              "#d8576b"
             ],
             [
              0.6666666666666666,
              "#ed7953"
             ],
             [
              0.7777777777777778,
              "#fb9f3a"
             ],
             [
              0.8888888888888888,
              "#fdca26"
             ],
             [
              1,
              "#f0f921"
             ]
            ],
            "type": "heatmap"
           }
          ],
          "histogram": [
           {
            "marker": {
             "pattern": {
              "fillmode": "overlay",
              "size": 10,
              "solidity": 0.2
             }
            },
            "type": "histogram"
           }
          ],
          "histogram2d": [
           {
            "colorbar": {
             "outlinewidth": 0,
             "ticks": ""
            },
            "colorscale": [
             [
              0,
              "#0d0887"
             ],
             [
              0.1111111111111111,
              "#46039f"
             ],
             [
              0.2222222222222222,
              "#7201a8"
             ],
             [
              0.3333333333333333,
              "#9c179e"
             ],
             [
              0.4444444444444444,
              "#bd3786"
             ],
             [
              0.5555555555555556,
              "#d8576b"
             ],
             [
              0.6666666666666666,
              "#ed7953"
             ],
             [
              0.7777777777777778,
              "#fb9f3a"
             ],
             [
              0.8888888888888888,
              "#fdca26"
             ],
             [
              1,
              "#f0f921"
             ]
            ],
            "type": "histogram2d"
           }
          ],
          "histogram2dcontour": [
           {
            "colorbar": {
             "outlinewidth": 0,
             "ticks": ""
            },
            "colorscale": [
             [
              0,
              "#0d0887"
             ],
             [
              0.1111111111111111,
              "#46039f"
             ],
             [
              0.2222222222222222,
              "#7201a8"
             ],
             [
              0.3333333333333333,
              "#9c179e"
             ],
             [
              0.4444444444444444,
              "#bd3786"
             ],
             [
              0.5555555555555556,
              "#d8576b"
             ],
             [
              0.6666666666666666,
              "#ed7953"
             ],
             [
              0.7777777777777778,
              "#fb9f3a"
             ],
             [
              0.8888888888888888,
              "#fdca26"
             ],
             [
              1,
              "#f0f921"
             ]
            ],
            "type": "histogram2dcontour"
           }
          ],
          "mesh3d": [
           {
            "colorbar": {
             "outlinewidth": 0,
             "ticks": ""
            },
            "type": "mesh3d"
           }
          ],
          "parcoords": [
           {
            "line": {
             "colorbar": {
              "outlinewidth": 0,
              "ticks": ""
             }
            },
            "type": "parcoords"
           }
          ],
          "pie": [
           {
            "automargin": true,
            "type": "pie"
           }
          ],
          "scatter": [
           {
            "fillpattern": {
             "fillmode": "overlay",
             "size": 10,
             "solidity": 0.2
            },
            "type": "scatter"
           }
          ],
          "scatter3d": [
           {
            "line": {
             "colorbar": {
              "outlinewidth": 0,
              "ticks": ""
             }
            },
            "marker": {
             "colorbar": {
              "outlinewidth": 0,
              "ticks": ""
             }
            },
            "type": "scatter3d"
           }
          ],
          "scattercarpet": [
           {
            "marker": {
             "colorbar": {
              "outlinewidth": 0,
              "ticks": ""
             }
            },
            "type": "scattercarpet"
           }
          ],
          "scattergeo": [
           {
            "marker": {
             "colorbar": {
              "outlinewidth": 0,
              "ticks": ""
             }
            },
            "type": "scattergeo"
           }
          ],
          "scattergl": [
           {
            "marker": {
             "colorbar": {
              "outlinewidth": 0,
              "ticks": ""
             }
            },
            "type": "scattergl"
           }
          ],
          "scattermap": [
           {
            "marker": {
             "colorbar": {
              "outlinewidth": 0,
              "ticks": ""
             }
            },
            "type": "scattermap"
           }
          ],
          "scattermapbox": [
           {
            "marker": {
             "colorbar": {
              "outlinewidth": 0,
              "ticks": ""
             }
            },
            "type": "scattermapbox"
           }
          ],
          "scatterpolar": [
           {
            "marker": {
             "colorbar": {
              "outlinewidth": 0,
              "ticks": ""
             }
            },
            "type": "scatterpolar"
           }
          ],
          "scatterpolargl": [
           {
            "marker": {
             "colorbar": {
              "outlinewidth": 0,
              "ticks": ""
             }
            },
            "type": "scatterpolargl"
           }
          ],
          "scatterternary": [
           {
            "marker": {
             "colorbar": {
              "outlinewidth": 0,
              "ticks": ""
             }
            },
            "type": "scatterternary"
           }
          ],
          "surface": [
           {
            "colorbar": {
             "outlinewidth": 0,
             "ticks": ""
            },
            "colorscale": [
             [
              0,
              "#0d0887"
             ],
             [
              0.1111111111111111,
              "#46039f"
             ],
             [
              0.2222222222222222,
              "#7201a8"
             ],
             [
              0.3333333333333333,
              "#9c179e"
             ],
             [
              0.4444444444444444,
              "#bd3786"
             ],
             [
              0.5555555555555556,
              "#d8576b"
             ],
             [
              0.6666666666666666,
              "#ed7953"
             ],
             [
              0.7777777777777778,
              "#fb9f3a"
             ],
             [
              0.8888888888888888,
              "#fdca26"
             ],
             [
              1,
              "#f0f921"
             ]
            ],
            "type": "surface"
           }
          ],
          "table": [
           {
            "cells": {
             "fill": {
              "color": "#EBF0F8"
             },
             "line": {
              "color": "white"
             }
            },
            "header": {
             "fill": {
              "color": "#C8D4E3"
             },
             "line": {
              "color": "white"
             }
            },
            "type": "table"
           }
          ]
         },
         "layout": {
          "annotationdefaults": {
           "arrowcolor": "#2a3f5f",
           "arrowhead": 0,
           "arrowwidth": 1
          },
          "autotypenumbers": "strict",
          "coloraxis": {
           "colorbar": {
            "outlinewidth": 0,
            "ticks": ""
           }
          },
          "colorscale": {
           "diverging": [
            [
             0,
             "#8e0152"
            ],
            [
             0.1,
             "#c51b7d"
            ],
            [
             0.2,
             "#de77ae"
            ],
            [
             0.3,
             "#f1b6da"
            ],
            [
             0.4,
             "#fde0ef"
            ],
            [
             0.5,
             "#f7f7f7"
            ],
            [
             0.6,
             "#e6f5d0"
            ],
            [
             0.7,
             "#b8e186"
            ],
            [
             0.8,
             "#7fbc41"
            ],
            [
             0.9,
             "#4d9221"
            ],
            [
             1,
             "#276419"
            ]
           ],
           "sequential": [
            [
             0,
             "#0d0887"
            ],
            [
             0.1111111111111111,
             "#46039f"
            ],
            [
             0.2222222222222222,
             "#7201a8"
            ],
            [
             0.3333333333333333,
             "#9c179e"
            ],
            [
             0.4444444444444444,
             "#bd3786"
            ],
            [
             0.5555555555555556,
             "#d8576b"
            ],
            [
             0.6666666666666666,
             "#ed7953"
            ],
            [
             0.7777777777777778,
             "#fb9f3a"
            ],
            [
             0.8888888888888888,
             "#fdca26"
            ],
            [
             1,
             "#f0f921"
            ]
           ],
           "sequentialminus": [
            [
             0,
             "#0d0887"
            ],
            [
             0.1111111111111111,
             "#46039f"
            ],
            [
             0.2222222222222222,
             "#7201a8"
            ],
            [
             0.3333333333333333,
             "#9c179e"
            ],
            [
             0.4444444444444444,
             "#bd3786"
            ],
            [
             0.5555555555555556,
             "#d8576b"
            ],
            [
             0.6666666666666666,
             "#ed7953"
            ],
            [
             0.7777777777777778,
             "#fb9f3a"
            ],
            [
             0.8888888888888888,
             "#fdca26"
            ],
            [
             1,
             "#f0f921"
            ]
           ]
          },
          "colorway": [
           "#636efa",
           "#EF553B",
           "#00cc96",
           "#ab63fa",
           "#FFA15A",
           "#19d3f3",
           "#FF6692",
           "#B6E880",
           "#FF97FF",
           "#FECB52"
          ],
          "font": {
           "color": "#2a3f5f"
          },
          "geo": {
           "bgcolor": "white",
           "lakecolor": "white",
           "landcolor": "#E5ECF6",
           "showlakes": true,
           "showland": true,
           "subunitcolor": "white"
          },
          "hoverlabel": {
           "align": "left"
          },
          "hovermode": "closest",
          "mapbox": {
           "style": "light"
          },
          "paper_bgcolor": "white",
          "plot_bgcolor": "#E5ECF6",
          "polar": {
           "angularaxis": {
            "gridcolor": "white",
            "linecolor": "white",
            "ticks": ""
           },
           "bgcolor": "#E5ECF6",
           "radialaxis": {
            "gridcolor": "white",
            "linecolor": "white",
            "ticks": ""
           }
          },
          "scene": {
           "xaxis": {
            "backgroundcolor": "#E5ECF6",
            "gridcolor": "white",
            "gridwidth": 2,
            "linecolor": "white",
            "showbackground": true,
            "ticks": "",
            "zerolinecolor": "white"
           },
           "yaxis": {
            "backgroundcolor": "#E5ECF6",
            "gridcolor": "white",
            "gridwidth": 2,
            "linecolor": "white",
            "showbackground": true,
            "ticks": "",
            "zerolinecolor": "white"
           },
           "zaxis": {
            "backgroundcolor": "#E5ECF6",
            "gridcolor": "white",
            "gridwidth": 2,
            "linecolor": "white",
            "showbackground": true,
            "ticks": "",
            "zerolinecolor": "white"
           }
          },
          "shapedefaults": {
           "line": {
            "color": "#2a3f5f"
           }
          },
          "ternary": {
           "aaxis": {
            "gridcolor": "white",
            "linecolor": "white",
            "ticks": ""
           },
           "baxis": {
            "gridcolor": "white",
            "linecolor": "white",
            "ticks": ""
           },
           "bgcolor": "#E5ECF6",
           "caxis": {
            "gridcolor": "white",
            "linecolor": "white",
            "ticks": ""
           }
          },
          "title": {
           "x": 0.05
          },
          "xaxis": {
           "automargin": true,
           "gridcolor": "white",
           "linecolor": "white",
           "ticks": "",
           "title": {
            "standoff": 15
           },
           "zerolinecolor": "white",
           "zerolinewidth": 2
          },
          "yaxis": {
           "automargin": true,
           "gridcolor": "white",
           "linecolor": "white",
           "ticks": "",
           "title": {
            "standoff": 15
           },
           "zerolinecolor": "white",
           "zerolinewidth": 2
          }
         }
        },
        "title": {
         "text": "Täthet av YH-program i Sverige"
        }
       }
      }
     },
     "metadata": {},
     "output_type": "display_data"
    }
   ],
   "source": [
    "import plotly.express as px\n",
    "import sys\n",
    "import os\n",
    "sys.path.append(os.path.dirname(os.getcwd()))  \n",
    "\n",
    "from assets.swedish_coordinates import swedish_coordinates\n",
    "\n",
    "df_result['lat'] = df_result['Kommun'].map(lambda x: swedish_coordinates.get(x, {}).get('lat'))\n",
    "df_result['lon'] = df_result['Kommun'].map(lambda x: swedish_coordinates.get(x, {}).get('lon'))\n",
    "\n",
    "kommun_stats = df_result.groupby(['Kommun', 'lat', 'lon'])['Antal beviljade platser start 2024'].sum().reset_index()\n",
    "\n",
    "kommun_stats = kommun_stats.dropna(subset=['lat', 'lon'])\n",
    "\n",
    "fig = px.density_mapbox(\n",
    "    df_result.dropna(subset=['lat', 'lon']),\n",
    "    lat='lat',\n",
    "    lon='lon',\n",
    "    z='Antal beviljade platser start 2024',\n",
    "    radius=25,\n",
    "    mapbox_style='open-street-map',\n",
    "    zoom=4,\n",
    "    center={'lat': 62.0, 'lon': 15.0},\n",
    "    title='Täthet av YH-program i Sverige'\n",
    ")\n",
    "\n",
    "fig.update_layout(height=700)\n",
    "fig.show()"
   ]
  },
  {
   "cell_type": "code",
   "execution_count": 60,
   "id": "ed8245d4",
   "metadata": {},
   "outputs": [
    {
     "name": "stdout",
     "output_type": "stream",
     "text": [
      "Регион: Gotlands län, Код: 09\n",
      "Регион: Kalmar län, Код: 08\n",
      "Регион: Blekinge län, Код: 10\n",
      "Регион: Jämtlands län, Код: 23\n",
      "Регион: Västerbottens län, Код: 24\n",
      "Регион: Kronobergs län, Код: 07\n",
      "Регион: Västra Götalands län, Код: 14\n",
      "Регион: Värmlands län, Код: 17\n",
      "Регион: Dalarnas län, Код: 20\n",
      "Регион: Södermanlands län, Код: 04\n",
      "Регион: Jönköpings län, Код: 06\n",
      "Регион: Östergötlands län, Код: 05\n",
      "Регион: Stockholms län, Код: 01\n",
      "Регион: Västmanlands län, Код: 19\n",
      "Регион: Uppsala län, Код: 03\n",
      "Регион: Gävleborgs län, Код: 21\n",
      "Регион: Västernorrlands län, Код: 22\n",
      "Регион: Örebro län, Код: 18\n",
      "Регион: Norrbottens län, Код: 25\n",
      "Регион: Hallands län, Код: 13\n",
      "Регион: Skåne län, Код: 12\n"
     ]
    },
    {
     "name": "stderr",
     "output_type": "stream",
     "text": [
      "/var/folders/6n/k55z_kf10m5811bglwczkqg80000gp/T/ipykernel_13488/4283666459.py:35: DeprecationWarning:\n",
      "\n",
      "*choropleth_mapbox* is deprecated! Use *choropleth_map* instead. Learn more at: https://plotly.com/python/mapbox-to-maplibre/\n",
      "\n"
     ]
    },
    {
     "ename": "ValueError",
     "evalue": "Value of 'hover_name' is not the name of a column in 'data_frame'. Expected one of ['Region', 'Codes', 'Antal programm'] but received: Регион",
     "output_type": "error",
     "traceback": [
      "\u001b[31m---------------------------------------------------------------------------\u001b[39m",
      "\u001b[31mValueError\u001b[39m                                Traceback (most recent call last)",
      "\u001b[36mCell\u001b[39m\u001b[36m \u001b[39m\u001b[32mIn[60]\u001b[39m\u001b[32m, line 35\u001b[39m\n\u001b[32m     31\u001b[39m region_stats = pd.DataFrame(test_data)\n\u001b[32m     32\u001b[39m region_stats = region_stats.dropna(subset=[\u001b[33m'\u001b[39m\u001b[33mCodes\u001b[39m\u001b[33m'\u001b[39m])\n\u001b[32m---> \u001b[39m\u001b[32m35\u001b[39m fig = \u001b[43mpx\u001b[49m\u001b[43m.\u001b[49m\u001b[43mchoropleth_mapbox\u001b[49m\u001b[43m(\u001b[49m\n\u001b[32m     36\u001b[39m \u001b[43m    \u001b[49m\u001b[43mregion_stats\u001b[49m\u001b[43m,\u001b[49m\n\u001b[32m     37\u001b[39m \u001b[43m    \u001b[49m\u001b[43mgeojson\u001b[49m\u001b[43m=\u001b[49m\u001b[43mjson_data\u001b[49m\u001b[43m,\u001b[49m\n\u001b[32m     38\u001b[39m \u001b[43m    \u001b[49m\u001b[43mlocations\u001b[49m\u001b[43m=\u001b[49m\u001b[33;43m'\u001b[39;49m\u001b[33;43mCodes\u001b[39;49m\u001b[33;43m'\u001b[39;49m\u001b[43m,\u001b[49m\n\u001b[32m     39\u001b[39m \u001b[43m    \u001b[49m\u001b[43mcolor\u001b[49m\u001b[43m=\u001b[49m\u001b[33;43m'\u001b[39;49m\u001b[33;43mAntal programm\u001b[39;49m\u001b[33;43m'\u001b[39;49m\u001b[43m,\u001b[49m\n\u001b[32m     40\u001b[39m \u001b[43m    \u001b[49m\u001b[43mhover_name\u001b[49m\u001b[43m=\u001b[49m\u001b[33;43m'\u001b[39;49m\u001b[33;43mРегион\u001b[39;49m\u001b[33;43m'\u001b[39;49m\u001b[43m,\u001b[49m\n\u001b[32m     41\u001b[39m \u001b[43m    \u001b[49m\u001b[43mhover_data\u001b[49m\u001b[43m=\u001b[49m\u001b[43m{\u001b[49m\u001b[33;43m'\u001b[39;49m\u001b[33;43mAntal programm\u001b[39;49m\u001b[33;43m'\u001b[39;49m\u001b[43m:\u001b[49m\u001b[43m \u001b[49m\u001b[33;43m'\u001b[39;49m\u001b[33;43m:,\u001b[39;49m\u001b[33;43m'\u001b[39;49m\u001b[43m}\u001b[49m\u001b[43m,\u001b[49m\n\u001b[32m     42\u001b[39m \u001b[43m    \u001b[49m\u001b[43mcolor_continuous_scale\u001b[49m\u001b[43m=\u001b[49m\u001b[33;43m'\u001b[39;49m\u001b[33;43mBlues\u001b[39;49m\u001b[33;43m'\u001b[39;49m\u001b[43m,\u001b[49m\n\u001b[32m     43\u001b[39m \u001b[43m    \u001b[49m\u001b[43mmapbox_style\u001b[49m\u001b[43m=\u001b[49m\u001b[33;43m'\u001b[39;49m\u001b[33;43mopen-street-map\u001b[39;49m\u001b[33;43m'\u001b[39;49m\u001b[43m,\u001b[49m\n\u001b[32m     44\u001b[39m \u001b[43m    \u001b[49m\u001b[43mzoom\u001b[49m\u001b[43m=\u001b[49m\u001b[32;43m4\u001b[39;49m\u001b[43m,\u001b[49m\n\u001b[32m     45\u001b[39m \u001b[43m    \u001b[49m\u001b[43mcenter\u001b[49m\u001b[43m=\u001b[49m\u001b[43m{\u001b[49m\u001b[33;43m'\u001b[39;49m\u001b[33;43mlat\u001b[39;49m\u001b[33;43m'\u001b[39;49m\u001b[43m:\u001b[49m\u001b[43m \u001b[49m\u001b[32;43m62.0\u001b[39;49m\u001b[43m,\u001b[49m\u001b[43m \u001b[49m\u001b[33;43m'\u001b[39;49m\u001b[33;43mlon\u001b[39;49m\u001b[33;43m'\u001b[39;49m\u001b[43m:\u001b[49m\u001b[43m \u001b[49m\u001b[32;43m15.0\u001b[39;49m\u001b[43m}\u001b[49m\u001b[43m,\u001b[49m\n\u001b[32m     46\u001b[39m \u001b[43m    \u001b[49m\u001b[43mtitle\u001b[49m\u001b[43m=\u001b[49m\u001b[33;43m'\u001b[39;49m\u001b[33;43mAntal\u001b[39;49m\u001b[33;43m'\u001b[39;49m\n\u001b[32m     47\u001b[39m \u001b[43m)\u001b[49m\n\u001b[32m     49\u001b[39m fig.update_layout(height=\u001b[32m700\u001b[39m)\n\u001b[32m     50\u001b[39m fig.show()\n",
      "\u001b[36mFile \u001b[39m\u001b[32m~/Documents/DE24/github/the-skool-group5/.venv/lib/python3.12/site-packages/plotly/express/_chart_types.py:1479\u001b[39m, in \u001b[36mchoropleth_mapbox\u001b[39m\u001b[34m(data_frame, geojson, featureidkey, locations, color, hover_name, hover_data, custom_data, animation_frame, animation_group, category_orders, labels, color_discrete_sequence, color_discrete_map, color_continuous_scale, range_color, color_continuous_midpoint, opacity, zoom, center, mapbox_style, title, subtitle, template, width, height)\u001b[39m\n\u001b[32m   1466\u001b[39m \u001b[38;5;250m\u001b[39m\u001b[33;03m\"\"\"\u001b[39;00m\n\u001b[32m   1467\u001b[39m \u001b[33;03m*choropleth_mapbox* is deprecated! Use *choropleth_map* instead.\u001b[39;00m\n\u001b[32m   1468\u001b[39m \u001b[33;03mLearn more at: https://plotly.com/python/mapbox-to-maplibre/\u001b[39;00m\n\u001b[32m   1469\u001b[39m \u001b[33;03mIn a Mapbox choropleth map, each row of `data_frame` is represented by a\u001b[39;00m\n\u001b[32m   1470\u001b[39m \u001b[33;03mcolored region on a Mapbox map.\u001b[39;00m\n\u001b[32m   1471\u001b[39m \u001b[33;03m\"\"\"\u001b[39;00m\n\u001b[32m   1472\u001b[39m warn(\n\u001b[32m   1473\u001b[39m     \u001b[33m\"\u001b[39m\u001b[33m*choropleth_mapbox* is deprecated!\u001b[39m\u001b[33m\"\u001b[39m\n\u001b[32m   1474\u001b[39m     + \u001b[33m\"\u001b[39m\u001b[33m Use *choropleth_map* instead.\u001b[39m\u001b[33m\"\u001b[39m\n\u001b[32m   (...)\u001b[39m\u001b[32m   1477\u001b[39m     category=\u001b[38;5;167;01mDeprecationWarning\u001b[39;00m,\n\u001b[32m   1478\u001b[39m )\n\u001b[32m-> \u001b[39m\u001b[32m1479\u001b[39m \u001b[38;5;28;01mreturn\u001b[39;00m \u001b[43mmake_figure\u001b[49m\u001b[43m(\u001b[49m\u001b[43margs\u001b[49m\u001b[43m=\u001b[49m\u001b[38;5;28;43mlocals\u001b[39;49m\u001b[43m(\u001b[49m\u001b[43m)\u001b[49m\u001b[43m,\u001b[49m\u001b[43m \u001b[49m\u001b[43mconstructor\u001b[49m\u001b[43m=\u001b[49m\u001b[43mgo\u001b[49m\u001b[43m.\u001b[49m\u001b[43mChoroplethmapbox\u001b[49m\u001b[43m)\u001b[49m\n",
      "\u001b[36mFile \u001b[39m\u001b[32m~/Documents/DE24/github/the-skool-group5/.venv/lib/python3.12/site-packages/plotly/express/_core.py:2479\u001b[39m, in \u001b[36mmake_figure\u001b[39m\u001b[34m(args, constructor, trace_patch, layout_patch)\u001b[39m\n\u001b[32m   2476\u001b[39m layout_patch = layout_patch \u001b[38;5;129;01mor\u001b[39;00m {}\n\u001b[32m   2477\u001b[39m apply_default_cascade(args)\n\u001b[32m-> \u001b[39m\u001b[32m2479\u001b[39m args = \u001b[43mbuild_dataframe\u001b[49m\u001b[43m(\u001b[49m\u001b[43margs\u001b[49m\u001b[43m,\u001b[49m\u001b[43m \u001b[49m\u001b[43mconstructor\u001b[49m\u001b[43m)\u001b[49m\n\u001b[32m   2480\u001b[39m \u001b[38;5;28;01mif\u001b[39;00m constructor \u001b[38;5;129;01min\u001b[39;00m [go.Treemap, go.Sunburst, go.Icicle] \u001b[38;5;129;01mand\u001b[39;00m args[\u001b[33m\"\u001b[39m\u001b[33mpath\u001b[39m\u001b[33m\"\u001b[39m] \u001b[38;5;129;01mis\u001b[39;00m \u001b[38;5;129;01mnot\u001b[39;00m \u001b[38;5;28;01mNone\u001b[39;00m:\n\u001b[32m   2481\u001b[39m     args = process_dataframe_hierarchy(args)\n",
      "\u001b[36mFile \u001b[39m\u001b[32m~/Documents/DE24/github/the-skool-group5/.venv/lib/python3.12/site-packages/plotly/express/_core.py:1727\u001b[39m, in \u001b[36mbuild_dataframe\u001b[39m\u001b[34m(args, constructor)\u001b[39m\n\u001b[32m   1724\u001b[39m     args[\u001b[33m\"\u001b[39m\u001b[33mcolor\u001b[39m\u001b[33m\"\u001b[39m] = \u001b[38;5;28;01mNone\u001b[39;00m\n\u001b[32m   1725\u001b[39m \u001b[38;5;66;03m# now that things have been prepped, we do the systematic rewriting of `args`\u001b[39;00m\n\u001b[32m-> \u001b[39m\u001b[32m1727\u001b[39m df_output, wide_id_vars = \u001b[43mprocess_args_into_dataframe\u001b[49m\u001b[43m(\u001b[49m\n\u001b[32m   1728\u001b[39m \u001b[43m    \u001b[49m\u001b[43margs\u001b[49m\u001b[43m,\u001b[49m\n\u001b[32m   1729\u001b[39m \u001b[43m    \u001b[49m\u001b[43mwide_mode\u001b[49m\u001b[43m,\u001b[49m\n\u001b[32m   1730\u001b[39m \u001b[43m    \u001b[49m\u001b[43mvar_name\u001b[49m\u001b[43m,\u001b[49m\n\u001b[32m   1731\u001b[39m \u001b[43m    \u001b[49m\u001b[43mvalue_name\u001b[49m\u001b[43m,\u001b[49m\n\u001b[32m   1732\u001b[39m \u001b[43m    \u001b[49m\u001b[43mis_pd_like\u001b[49m\u001b[43m,\u001b[49m\n\u001b[32m   1733\u001b[39m \u001b[43m    \u001b[49m\u001b[43mnative_namespace\u001b[49m\u001b[43m,\u001b[49m\n\u001b[32m   1734\u001b[39m \u001b[43m\u001b[49m\u001b[43m)\u001b[49m\n\u001b[32m   1735\u001b[39m df_output: nw.DataFrame\n\u001b[32m   1736\u001b[39m \u001b[38;5;66;03m# now that `df_output` exists and `args` contains only references, we complete\u001b[39;00m\n\u001b[32m   1737\u001b[39m \u001b[38;5;66;03m# the special-case and wide-mode handling by further rewriting args and/or mutating\u001b[39;00m\n\u001b[32m   1738\u001b[39m \u001b[38;5;66;03m# df_output\u001b[39;00m\n",
      "\u001b[36mFile \u001b[39m\u001b[32m~/Documents/DE24/github/the-skool-group5/.venv/lib/python3.12/site-packages/plotly/express/_core.py:1328\u001b[39m, in \u001b[36mprocess_args_into_dataframe\u001b[39m\u001b[34m(args, wide_mode, var_name, value_name, is_pd_like, native_namespace)\u001b[39m\n\u001b[32m   1326\u001b[39m         \u001b[38;5;28;01mif\u001b[39;00m argument == \u001b[33m\"\u001b[39m\u001b[33mindex\u001b[39m\u001b[33m\"\u001b[39m:\n\u001b[32m   1327\u001b[39m             err_msg += \u001b[33m\"\u001b[39m\u001b[38;5;130;01m\\n\u001b[39;00m\u001b[33m To use the index, pass it in directly as `df.index`.\u001b[39m\u001b[33m\"\u001b[39m\n\u001b[32m-> \u001b[39m\u001b[32m1328\u001b[39m         \u001b[38;5;28;01mraise\u001b[39;00m \u001b[38;5;167;01mValueError\u001b[39;00m(err_msg)\n\u001b[32m   1329\u001b[39m \u001b[38;5;28;01melif\u001b[39;00m length \u001b[38;5;129;01mand\u001b[39;00m (actual_len := \u001b[38;5;28mlen\u001b[39m(df_input)) != length:\n\u001b[32m   1330\u001b[39m     \u001b[38;5;28;01mraise\u001b[39;00m \u001b[38;5;167;01mValueError\u001b[39;00m(\n\u001b[32m   1331\u001b[39m         \u001b[33m\"\u001b[39m\u001b[33mAll arguments should have the same length. \u001b[39m\u001b[33m\"\u001b[39m\n\u001b[32m   1332\u001b[39m         \u001b[33m\"\u001b[39m\u001b[33mThe length of column argument `df[\u001b[39m\u001b[38;5;132;01m%s\u001b[39;00m\u001b[33m]` is \u001b[39m\u001b[38;5;132;01m%d\u001b[39;00m\u001b[33m, whereas the \u001b[39m\u001b[33m\"\u001b[39m\n\u001b[32m   (...)\u001b[39m\u001b[32m   1339\u001b[39m         )\n\u001b[32m   1340\u001b[39m     )\n",
      "\u001b[31mValueError\u001b[39m: Value of 'hover_name' is not the name of a column in 'data_frame'. Expected one of ['Region', 'Codes', 'Antal programm'] but received: Регион"
     ]
    }
   ],
   "source": [
    "import json\n",
    "from difflib import get_close_matches\n",
    "import plotly.express as px\n",
    "import sys\n",
    "import os\n",
    "sys.path.append(os.path.dirname(os.getcwd()))  \n",
    "\n",
    "\n",
    "with open(\"../assets/swedish_regions.geojson\", \"r\", encoding='utf-8') as fp:\n",
    "    json_data = json.load(fp)\n",
    "\n",
    "properties = [feature.get(\"properties\") for feature in json_data.get(\"features\")]\n",
    "\n",
    "region_codes = {}\n",
    "for property in properties:\n",
    "    name = property.get(\"name\")\n",
    "    code = property.get(\"ref:se:länskod\")  \n",
    "    \n",
    "    if name and code:\n",
    "        region_codes[name] = code\n",
    "        print(f\"Регион: {name}, Код: {code}\")\n",
    "\n",
    "import pandas as pd\n",
    "\n",
    "test_data = {\n",
    "    'Region': ['Stockholms län', 'Västra Götalands län', 'Skåne län', 'Uppsala län'],\n",
    "    'Codes': ['01', '14', '12', '03'],\n",
    "    'Antal programm': [150, 120, 90, 80]\n",
    "}\n",
    "\n",
    "region_stats = pd.DataFrame(test_data)\n",
    "region_stats = region_stats.dropna(subset=['Codes'])\n",
    "\n",
    "\n",
    "fig = px.choropleth_mapbox(\n",
    "    region_stats,\n",
    "    geojson=json_data,\n",
    "    locations='Codes',\n",
    "    color='Antal programm',\n",
    "    hover_name='Регион',\n",
    "    hover_data={'Antal programm': ':,'},\n",
    "    color_continuous_scale='Blues',\n",
    "    mapbox_style='open-street-map',\n",
    "    zoom=4,\n",
    "    center={'lat': 62.0, 'lon': 15.0},\n",
    "    title='Antal'\n",
    ")\n",
    "\n",
    "fig.update_layout(height=700)\n",
    "fig.show()\n",
    "\n",
    "kommun_stats_with_codes = kommun_stats.dropna(subset=['region_code'])  \n",
    "\n",
    "fig = px.choropleth_mapbox(\n",
    "    kommun_stats_with_codes,\n",
    "    geojson=json_data,\n",
    "    locations='region_code', \n",
    "    color='Antal beviljade platser start 2024',\n",
    "    hover_name='Kommun', \n",
    "    hover_data={'Antal beviljade platser start 2024': ':,'},\n",
    "    color_continuous_scale='Blues',\n",
    "    mapbox_style='open-street-map',\n",
    "    zoom=4,\n",
    "    center={'lat': 62.0, 'lon': 15.0},\n",
    "    title='YH Program per region'\n",
    ")\n",
    "\n",
    "fig.update_layout(height=700)\n",
    "fig.show()\n"
   ]
  },
  {
   "cell_type": "code",
   "execution_count": 57,
   "id": "c74a83ba",
   "metadata": {},
   "outputs": [
    {
     "name": "stdout",
     "output_type": "stream",
     "text": [
      "Содержимое папки assets:\n",
      "  - swedish_regions.geojson\n",
      "  - swedish_municipalities.geojson\n",
      "  - __pycache__\n",
      "  - swedish_coordinates.py\n",
      "\n",
      "Проверяем файл: ../assets/swedish_regions.geojson\n",
      "Файл существует: True\n"
     ]
    }
   ],
   "source": [
    "import os\n",
    "print(\"Содержимое папки assets:\")\n",
    "for file in os.listdir('../assets'):\n",
    "    print(f\"  - {file}\")\n",
    "\n",
    "# Проверяем, что именно этот файл существует\n",
    "geojson_path = \"../assets/swedish_regions.geojson\"\n",
    "print(f\"\\nПроверяем файл: {geojson_path}\")\n",
    "print(f\"Файл существует: {os.path.exists(geojson_path)}\")"
   ]
  },
  {
   "cell_type": "code",
   "execution_count": 8,
   "id": "a6353ef6",
   "metadata": {},
   "outputs": [
    {
     "data": {
      "text/html": [
       "<div>\n",
       "<style scoped>\n",
       "    .dataframe tbody tr th:only-of-type {\n",
       "        vertical-align: middle;\n",
       "    }\n",
       "\n",
       "    .dataframe tbody tr th {\n",
       "        vertical-align: top;\n",
       "    }\n",
       "\n",
       "    .dataframe thead th {\n",
       "        text-align: right;\n",
       "    }\n",
       "</style>\n",
       "<table border=\"1\" class=\"dataframe\">\n",
       "  <thead>\n",
       "    <tr style=\"text-align: right;\">\n",
       "      <th></th>\n",
       "      <th>yrkesområden</th>\n",
       "      <th>2014</th>\n",
       "      <th>2015</th>\n",
       "      <th>2016</th>\n",
       "      <th>2017</th>\n",
       "      <th>2018</th>\n",
       "      <th>2019</th>\n",
       "      <th>2020</th>\n",
       "      <th>2021</th>\n",
       "      <th>2022</th>\n",
       "      <th>2023</th>\n",
       "      <th>2024</th>\n",
       "    </tr>\n",
       "  </thead>\n",
       "  <tbody>\n",
       "    <tr>\n",
       "      <th>0</th>\n",
       "      <td>Totalt</td>\n",
       "      <td>484</td>\n",
       "      <td>612</td>\n",
       "      <td>805</td>\n",
       "      <td>853</td>\n",
       "      <td>795</td>\n",
       "      <td>803</td>\n",
       "      <td>935</td>\n",
       "      <td>933</td>\n",
       "      <td>972</td>\n",
       "      <td>945</td>\n",
       "      <td>962</td>\n",
       "    </tr>\n",
       "    <tr>\n",
       "      <th>1</th>\n",
       "      <td>Kultur, media och design</td>\n",
       "      <td>68</td>\n",
       "      <td>100</td>\n",
       "      <td>124</td>\n",
       "      <td>123</td>\n",
       "      <td>85</td>\n",
       "      <td>93</td>\n",
       "      <td>108</td>\n",
       "      <td>121</td>\n",
       "      <td>140</td>\n",
       "      <td>130</td>\n",
       "      <td>119</td>\n",
       "    </tr>\n",
       "    <tr>\n",
       "      <th>2</th>\n",
       "      <td>Lantbruk, djurvård, trädgård, skog och fiske</td>\n",
       "      <td>53</td>\n",
       "      <td>56</td>\n",
       "      <td>49</td>\n",
       "      <td>54</td>\n",
       "      <td>61</td>\n",
       "      <td>48</td>\n",
       "      <td>33</td>\n",
       "      <td>33</td>\n",
       "      <td>35</td>\n",
       "      <td>35</td>\n",
       "      <td>35</td>\n",
       "    </tr>\n",
       "    <tr>\n",
       "      <th>3</th>\n",
       "      <td>Samhällsbyggnad och byggteknik</td>\n",
       "      <td>17</td>\n",
       "      <td>29</td>\n",
       "      <td>26</td>\n",
       "      <td>26</td>\n",
       "      <td>27</td>\n",
       "      <td>51</td>\n",
       "      <td>104</td>\n",
       "      <td>108</td>\n",
       "      <td>99</td>\n",
       "      <td>77</td>\n",
       "      <td>73</td>\n",
       "    </tr>\n",
       "    <tr>\n",
       "      <th>4</th>\n",
       "      <td>Teknik och tillverkning</td>\n",
       "      <td>98</td>\n",
       "      <td>180</td>\n",
       "      <td>329</td>\n",
       "      <td>402</td>\n",
       "      <td>395</td>\n",
       "      <td>361</td>\n",
       "      <td>385</td>\n",
       "      <td>344</td>\n",
       "      <td>349</td>\n",
       "      <td>340</td>\n",
       "      <td>364</td>\n",
       "    </tr>\n",
       "    <tr>\n",
       "      <th>5</th>\n",
       "      <td>Övrigt</td>\n",
       "      <td>248</td>\n",
       "      <td>247</td>\n",
       "      <td>277</td>\n",
       "      <td>248</td>\n",
       "      <td>227</td>\n",
       "      <td>250</td>\n",
       "      <td>305</td>\n",
       "      <td>327</td>\n",
       "      <td>349</td>\n",
       "      <td>363</td>\n",
       "      <td>371</td>\n",
       "    </tr>\n",
       "  </tbody>\n",
       "</table>\n",
       "</div>"
      ],
      "text/plain": [
       "                                   yrkesområden  2014  2015  2016  2017  2018  \\\n",
       "0                                        Totalt   484   612   805   853   795   \n",
       "1                      Kultur, media och design    68   100   124   123    85   \n",
       "2  Lantbruk, djurvård, trädgård, skog och fiske    53    56    49    54    61   \n",
       "3                Samhällsbyggnad och byggteknik    17    29    26    26    27   \n",
       "4                       Teknik och tillverkning    98   180   329   402   395   \n",
       "5                                        Övrigt   248   247   277   248   227   \n",
       "\n",
       "   2019  2020  2021  2022  2023  2024  \n",
       "0   803   935   933   972   945   962  \n",
       "1    93   108   121   140   130   119  \n",
       "2    48    33    33    35    35    35  \n",
       "3    51   104   108    99    77    73  \n",
       "4   361   385   344   349   340   364  \n",
       "5   250   305   327   349   363   371  "
      ]
     },
     "execution_count": 8,
     "metadata": {},
     "output_type": "execute_result"
    }
   ],
   "source": [
    "import pandas as pd\n",
    "\n",
    "df_stud = pd.read_excel(\"data/studerande-och-examinerade-inom-smala-yrkesomraden-2014-2024.xlsx\", sheet_name=\"studerande\", skiprows=3)\n",
    "df_stud.head(30)"
   ]
  },
  {
   "cell_type": "code",
   "execution_count": 12,
   "id": "58ba71ff",
   "metadata": {},
   "outputs": [],
   "source": [
    "import pandas as pd\n",
    "\n",
    "\n",
    "df_stud = pd.read_excel(\n",
    "    \"data/studerande-och-examinerade-inom-smala-yrkesomraden-2014-2024.xlsx\",\n",
    "    sheet_name=\"studerande\",\n",
    "    skiprows=3\n",
    ")\n",
    "\n",
    "df_stud = df_stud.rename(columns={df_stud.columns[0]: \"Yrkesområde\"})\n",
    "\n",
    "target_yrkesområden = [\n",
    "    \"Kultur, media och design\",\n",
    "    \"Lantbruk, djurvård, trädgård, skog och fiske\",\n",
    "    \"Samhällsbyggnad och byggteknik\",\n",
    "    \"Teknik och tillverkning\",\n",
    "    \"Övrigt\",\n",
    "    \"Totalt\"\n",
    "]\n",
    "\n",
    "years = [2019, 2020, 2021, 2022]\n",
    "df_filtered = df_stud[df_stud[\"Yrkesområde\"].isin(target_yrkesområden)]\n",
    "df_filtered = df_filtered[[\"Yrkesområde\"] + years]\n"
   ]
  },
  {
   "cell_type": "code",
   "execution_count": null,
   "id": "85c3c5be",
   "metadata": {},
   "outputs": [
    {
     "name": "stdout",
     "output_type": "stream",
     "text": [
      "<class 'pandas.core.frame.DataFrame'>\n",
      "RangeIndex: 101 entries, 0 to 100\n",
      "Data columns (total 12 columns):\n",
      " #   Column      Non-Null Count  Dtype  \n",
      "---  ------      --------------  -----  \n",
      " 0   Unnamed: 0  78 non-null     object \n",
      " 1   2014        72 non-null     object \n",
      " 2   2015        72 non-null     float64\n",
      " 3   2016        72 non-null     object \n",
      " 4   2017        72 non-null     object \n",
      " 5   2018        72 non-null     float64\n",
      " 6   2019        72 non-null     object \n",
      " 7   2020        72 non-null     object \n",
      " 8   2021        72 non-null     float64\n",
      " 9   2022        72 non-null     float64\n",
      " 10  2023        72 non-null     float64\n",
      " 11  2024        72 non-null     object \n",
      "dtypes: float64(5), object(7)\n",
      "memory usage: 9.6+ KB\n"
     ]
    }
   ],
   "source": [
    "#Studerande och examinerade i yrkeshögskolans  smala yrkesområden  2014-2024, efter kön och utbildningsområde\n",
    "\n",
    "#Kultur, media och design\n",
    "#Lantbruk, djurvård, trädgård, skog och fiske\n",
    "#Samhällsbyggnad och byggteknik\n",
    "#Teknik och tillverkning\n",
    "#Övrigt\n",
    "\n",
    "df_stud.info() "
   ]
  },
  {
   "cell_type": "code",
   "execution_count": null,
   "id": "1aeb81b6",
   "metadata": {},
   "outputs": [
    {
     "name": "stderr",
     "output_type": "stream",
     "text": [
      "/Users/ira/Documents/DE24/github/the-skool-group5/.venv/lib/python3.12/site-packages/plotly/express/_core.py:1979: FutureWarning:\n",
      "\n",
      "When grouping with a length-1 list-like, you will need to pass a length-1 tuple to get_group in a future version of pandas. Pass `(name,)` instead of `name` to silence this warning.\n",
      "\n"
     ]
    },
    {
     "data": {
      "application/vnd.plotly.v1+json": {
       "config": {
        "plotlyServerURL": "https://plot.ly"
       },
       "data": [
        {
         "hovertemplate": "<b>%{hovertext}</b><br><br>Yrkesområde=%{y}<br>År=%{x}<br>Antal studenter=%{marker.size}<extra></extra>",
         "hovertext": [
          "Totalt",
          "Totalt",
          "Totalt",
          "Totalt"
         ],
         "legendgroup": "Totalt",
         "marker": {
          "color": "#636efa",
          "size": [
           803,
           935,
           933,
           972
          ],
          "sizemode": "area",
          "sizeref": 0.27,
          "symbol": "circle"
         },
         "mode": "markers",
         "name": "Totalt",
         "orientation": "h",
         "showlegend": true,
         "type": "scatter",
         "x": [
          2019,
          2020,
          2021,
          2022
         ],
         "xaxis": "x",
         "y": [
          "Totalt",
          "Totalt",
          "Totalt",
          "Totalt"
         ],
         "yaxis": "y"
        },
        {
         "hovertemplate": "<b>%{hovertext}</b><br><br>Yrkesområde=%{y}<br>År=%{x}<br>Antal studenter=%{marker.size}<extra></extra>",
         "hovertext": [
          "Kultur, media och design",
          "Kultur, media och design",
          "Kultur, media och design",
          "Kultur, media och design"
         ],
         "legendgroup": "Kultur, media och design",
         "marker": {
          "color": "#EF553B",
          "size": [
           93,
           108,
           121,
           140
          ],
          "sizemode": "area",
          "sizeref": 0.27,
          "symbol": "circle"
         },
         "mode": "markers",
         "name": "Kultur, media och design",
         "orientation": "h",
         "showlegend": true,
         "type": "scatter",
         "x": [
          2019,
          2020,
          2021,
          2022
         ],
         "xaxis": "x",
         "y": [
          "Kultur, media och design",
          "Kultur, media och design",
          "Kultur, media och design",
          "Kultur, media och design"
         ],
         "yaxis": "y"
        },
        {
         "hovertemplate": "<b>%{hovertext}</b><br><br>Yrkesområde=%{y}<br>År=%{x}<br>Antal studenter=%{marker.size}<extra></extra>",
         "hovertext": [
          "Lantbruk, djurvård, trädgård, skog och fiske",
          "Lantbruk, djurvård, trädgård, skog och fiske",
          "Lantbruk, djurvård, trädgård, skog och fiske",
          "Lantbruk, djurvård, trädgård, skog och fiske"
         ],
         "legendgroup": "Lantbruk, djurvård, trädgård, skog och fiske",
         "marker": {
          "color": "#00cc96",
          "size": [
           48,
           33,
           33,
           35
          ],
          "sizemode": "area",
          "sizeref": 0.27,
          "symbol": "circle"
         },
         "mode": "markers",
         "name": "Lantbruk, djurvård, trädgård, skog och fiske",
         "orientation": "h",
         "showlegend": true,
         "type": "scatter",
         "x": [
          2019,
          2020,
          2021,
          2022
         ],
         "xaxis": "x",
         "y": [
          "Lantbruk, djurvård, trädgård, skog och fiske",
          "Lantbruk, djurvård, trädgård, skog och fiske",
          "Lantbruk, djurvård, trädgård, skog och fiske",
          "Lantbruk, djurvård, trädgård, skog och fiske"
         ],
         "yaxis": "y"
        },
        {
         "hovertemplate": "<b>%{hovertext}</b><br><br>Yrkesområde=%{y}<br>År=%{x}<br>Antal studenter=%{marker.size}<extra></extra>",
         "hovertext": [
          "Samhällsbyggnad och byggteknik",
          "Samhällsbyggnad och byggteknik",
          "Samhällsbyggnad och byggteknik",
          "Samhällsbyggnad och byggteknik"
         ],
         "legendgroup": "Samhällsbyggnad och byggteknik",
         "marker": {
          "color": "#ab63fa",
          "size": [
           51,
           104,
           108,
           99
          ],
          "sizemode": "area",
          "sizeref": 0.27,
          "symbol": "circle"
         },
         "mode": "markers",
         "name": "Samhällsbyggnad och byggteknik",
         "orientation": "h",
         "showlegend": true,
         "type": "scatter",
         "x": [
          2019,
          2020,
          2021,
          2022
         ],
         "xaxis": "x",
         "y": [
          "Samhällsbyggnad och byggteknik",
          "Samhällsbyggnad och byggteknik",
          "Samhällsbyggnad och byggteknik",
          "Samhällsbyggnad och byggteknik"
         ],
         "yaxis": "y"
        },
        {
         "hovertemplate": "<b>%{hovertext}</b><br><br>Yrkesområde=%{y}<br>År=%{x}<br>Antal studenter=%{marker.size}<extra></extra>",
         "hovertext": [
          "Teknik och tillverkning",
          "Teknik och tillverkning",
          "Teknik och tillverkning",
          "Teknik och tillverkning"
         ],
         "legendgroup": "Teknik och tillverkning",
         "marker": {
          "color": "#FFA15A",
          "size": [
           361,
           385,
           344,
           349
          ],
          "sizemode": "area",
          "sizeref": 0.27,
          "symbol": "circle"
         },
         "mode": "markers",
         "name": "Teknik och tillverkning",
         "orientation": "h",
         "showlegend": true,
         "type": "scatter",
         "x": [
          2019,
          2020,
          2021,
          2022
         ],
         "xaxis": "x",
         "y": [
          "Teknik och tillverkning",
          "Teknik och tillverkning",
          "Teknik och tillverkning",
          "Teknik och tillverkning"
         ],
         "yaxis": "y"
        },
        {
         "hovertemplate": "<b>%{hovertext}</b><br><br>Yrkesområde=%{y}<br>År=%{x}<br>Antal studenter=%{marker.size}<extra></extra>",
         "hovertext": [
          "Övrigt",
          "Övrigt",
          "Övrigt",
          "Övrigt"
         ],
         "legendgroup": "Övrigt",
         "marker": {
          "color": "#19d3f3",
          "size": [
           250,
           305,
           327,
           349
          ],
          "sizemode": "area",
          "sizeref": 0.27,
          "symbol": "circle"
         },
         "mode": "markers",
         "name": "Övrigt",
         "orientation": "h",
         "showlegend": true,
         "type": "scatter",
         "x": [
          2019,
          2020,
          2021,
          2022
         ],
         "xaxis": "x",
         "y": [
          "Övrigt",
          "Övrigt",
          "Övrigt",
          "Övrigt"
         ],
         "yaxis": "y"
        }
       ],
       "layout": {
        "height": 600,
        "legend": {
         "itemsizing": "constant",
         "title": {
          "text": "Yrkesområde"
         },
         "tracegroupgap": 0
        },
        "plot_bgcolor": "white",
        "template": {
         "data": {
          "bar": [
           {
            "error_x": {
             "color": "#2a3f5f"
            },
            "error_y": {
             "color": "#2a3f5f"
            },
            "marker": {
             "line": {
              "color": "#E5ECF6",
              "width": 0.5
             },
             "pattern": {
              "fillmode": "overlay",
              "size": 10,
              "solidity": 0.2
             }
            },
            "type": "bar"
           }
          ],
          "barpolar": [
           {
            "marker": {
             "line": {
              "color": "#E5ECF6",
              "width": 0.5
             },
             "pattern": {
              "fillmode": "overlay",
              "size": 10,
              "solidity": 0.2
             }
            },
            "type": "barpolar"
           }
          ],
          "carpet": [
           {
            "aaxis": {
             "endlinecolor": "#2a3f5f",
             "gridcolor": "white",
             "linecolor": "white",
             "minorgridcolor": "white",
             "startlinecolor": "#2a3f5f"
            },
            "baxis": {
             "endlinecolor": "#2a3f5f",
             "gridcolor": "white",
             "linecolor": "white",
             "minorgridcolor": "white",
             "startlinecolor": "#2a3f5f"
            },
            "type": "carpet"
           }
          ],
          "choropleth": [
           {
            "colorbar": {
             "outlinewidth": 0,
             "ticks": ""
            },
            "type": "choropleth"
           }
          ],
          "contour": [
           {
            "colorbar": {
             "outlinewidth": 0,
             "ticks": ""
            },
            "colorscale": [
             [
              0,
              "#0d0887"
             ],
             [
              0.1111111111111111,
              "#46039f"
             ],
             [
              0.2222222222222222,
              "#7201a8"
             ],
             [
              0.3333333333333333,
              "#9c179e"
             ],
             [
              0.4444444444444444,
              "#bd3786"
             ],
             [
              0.5555555555555556,
              "#d8576b"
             ],
             [
              0.6666666666666666,
              "#ed7953"
             ],
             [
              0.7777777777777778,
              "#fb9f3a"
             ],
             [
              0.8888888888888888,
              "#fdca26"
             ],
             [
              1,
              "#f0f921"
             ]
            ],
            "type": "contour"
           }
          ],
          "contourcarpet": [
           {
            "colorbar": {
             "outlinewidth": 0,
             "ticks": ""
            },
            "type": "contourcarpet"
           }
          ],
          "heatmap": [
           {
            "colorbar": {
             "outlinewidth": 0,
             "ticks": ""
            },
            "colorscale": [
             [
              0,
              "#0d0887"
             ],
             [
              0.1111111111111111,
              "#46039f"
             ],
             [
              0.2222222222222222,
              "#7201a8"
             ],
             [
              0.3333333333333333,
              "#9c179e"
             ],
             [
              0.4444444444444444,
              "#bd3786"
             ],
             [
              0.5555555555555556,
              "#d8576b"
             ],
             [
              0.6666666666666666,
              "#ed7953"
             ],
             [
              0.7777777777777778,
              "#fb9f3a"
             ],
             [
              0.8888888888888888,
              "#fdca26"
             ],
             [
              1,
              "#f0f921"
             ]
            ],
            "type": "heatmap"
           }
          ],
          "heatmapgl": [
           {
            "colorbar": {
             "outlinewidth": 0,
             "ticks": ""
            },
            "colorscale": [
             [
              0,
              "#0d0887"
             ],
             [
              0.1111111111111111,
              "#46039f"
             ],
             [
              0.2222222222222222,
              "#7201a8"
             ],
             [
              0.3333333333333333,
              "#9c179e"
             ],
             [
              0.4444444444444444,
              "#bd3786"
             ],
             [
              0.5555555555555556,
              "#d8576b"
             ],
             [
              0.6666666666666666,
              "#ed7953"
             ],
             [
              0.7777777777777778,
              "#fb9f3a"
             ],
             [
              0.8888888888888888,
              "#fdca26"
             ],
             [
              1,
              "#f0f921"
             ]
            ],
            "type": "heatmapgl"
           }
          ],
          "histogram": [
           {
            "marker": {
             "pattern": {
              "fillmode": "overlay",
              "size": 10,
              "solidity": 0.2
             }
            },
            "type": "histogram"
           }
          ],
          "histogram2d": [
           {
            "colorbar": {
             "outlinewidth": 0,
             "ticks": ""
            },
            "colorscale": [
             [
              0,
              "#0d0887"
             ],
             [
              0.1111111111111111,
              "#46039f"
             ],
             [
              0.2222222222222222,
              "#7201a8"
             ],
             [
              0.3333333333333333,
              "#9c179e"
             ],
             [
              0.4444444444444444,
              "#bd3786"
             ],
             [
              0.5555555555555556,
              "#d8576b"
             ],
             [
              0.6666666666666666,
              "#ed7953"
             ],
             [
              0.7777777777777778,
              "#fb9f3a"
             ],
             [
              0.8888888888888888,
              "#fdca26"
             ],
             [
              1,
              "#f0f921"
             ]
            ],
            "type": "histogram2d"
           }
          ],
          "histogram2dcontour": [
           {
            "colorbar": {
             "outlinewidth": 0,
             "ticks": ""
            },
            "colorscale": [
             [
              0,
              "#0d0887"
             ],
             [
              0.1111111111111111,
              "#46039f"
             ],
             [
              0.2222222222222222,
              "#7201a8"
             ],
             [
              0.3333333333333333,
              "#9c179e"
             ],
             [
              0.4444444444444444,
              "#bd3786"
             ],
             [
              0.5555555555555556,
              "#d8576b"
             ],
             [
              0.6666666666666666,
              "#ed7953"
             ],
             [
              0.7777777777777778,
              "#fb9f3a"
             ],
             [
              0.8888888888888888,
              "#fdca26"
             ],
             [
              1,
              "#f0f921"
             ]
            ],
            "type": "histogram2dcontour"
           }
          ],
          "mesh3d": [
           {
            "colorbar": {
             "outlinewidth": 0,
             "ticks": ""
            },
            "type": "mesh3d"
           }
          ],
          "parcoords": [
           {
            "line": {
             "colorbar": {
              "outlinewidth": 0,
              "ticks": ""
             }
            },
            "type": "parcoords"
           }
          ],
          "pie": [
           {
            "automargin": true,
            "type": "pie"
           }
          ],
          "scatter": [
           {
            "fillpattern": {
             "fillmode": "overlay",
             "size": 10,
             "solidity": 0.2
            },
            "type": "scatter"
           }
          ],
          "scatter3d": [
           {
            "line": {
             "colorbar": {
              "outlinewidth": 0,
              "ticks": ""
             }
            },
            "marker": {
             "colorbar": {
              "outlinewidth": 0,
              "ticks": ""
             }
            },
            "type": "scatter3d"
           }
          ],
          "scattercarpet": [
           {
            "marker": {
             "colorbar": {
              "outlinewidth": 0,
              "ticks": ""
             }
            },
            "type": "scattercarpet"
           }
          ],
          "scattergeo": [
           {
            "marker": {
             "colorbar": {
              "outlinewidth": 0,
              "ticks": ""
             }
            },
            "type": "scattergeo"
           }
          ],
          "scattergl": [
           {
            "marker": {
             "colorbar": {
              "outlinewidth": 0,
              "ticks": ""
             }
            },
            "type": "scattergl"
           }
          ],
          "scattermapbox": [
           {
            "marker": {
             "colorbar": {
              "outlinewidth": 0,
              "ticks": ""
             }
            },
            "type": "scattermapbox"
           }
          ],
          "scatterpolar": [
           {
            "marker": {
             "colorbar": {
              "outlinewidth": 0,
              "ticks": ""
             }
            },
            "type": "scatterpolar"
           }
          ],
          "scatterpolargl": [
           {
            "marker": {
             "colorbar": {
              "outlinewidth": 0,
              "ticks": ""
             }
            },
            "type": "scatterpolargl"
           }
          ],
          "scatterternary": [
           {
            "marker": {
             "colorbar": {
              "outlinewidth": 0,
              "ticks": ""
             }
            },
            "type": "scatterternary"
           }
          ],
          "surface": [
           {
            "colorbar": {
             "outlinewidth": 0,
             "ticks": ""
            },
            "colorscale": [
             [
              0,
              "#0d0887"
             ],
             [
              0.1111111111111111,
              "#46039f"
             ],
             [
              0.2222222222222222,
              "#7201a8"
             ],
             [
              0.3333333333333333,
              "#9c179e"
             ],
             [
              0.4444444444444444,
              "#bd3786"
             ],
             [
              0.5555555555555556,
              "#d8576b"
             ],
             [
              0.6666666666666666,
              "#ed7953"
             ],
             [
              0.7777777777777778,
              "#fb9f3a"
             ],
             [
              0.8888888888888888,
              "#fdca26"
             ],
             [
              1,
              "#f0f921"
             ]
            ],
            "type": "surface"
           }
          ],
          "table": [
           {
            "cells": {
             "fill": {
              "color": "#EBF0F8"
             },
             "line": {
              "color": "white"
             }
            },
            "header": {
             "fill": {
              "color": "#C8D4E3"
             },
             "line": {
              "color": "white"
             }
            },
            "type": "table"
           }
          ]
         },
         "layout": {
          "annotationdefaults": {
           "arrowcolor": "#2a3f5f",
           "arrowhead": 0,
           "arrowwidth": 1
          },
          "autotypenumbers": "strict",
          "coloraxis": {
           "colorbar": {
            "outlinewidth": 0,
            "ticks": ""
           }
          },
          "colorscale": {
           "diverging": [
            [
             0,
             "#8e0152"
            ],
            [
             0.1,
             "#c51b7d"
            ],
            [
             0.2,
             "#de77ae"
            ],
            [
             0.3,
             "#f1b6da"
            ],
            [
             0.4,
             "#fde0ef"
            ],
            [
             0.5,
             "#f7f7f7"
            ],
            [
             0.6,
             "#e6f5d0"
            ],
            [
             0.7,
             "#b8e186"
            ],
            [
             0.8,
             "#7fbc41"
            ],
            [
             0.9,
             "#4d9221"
            ],
            [
             1,
             "#276419"
            ]
           ],
           "sequential": [
            [
             0,
             "#0d0887"
            ],
            [
             0.1111111111111111,
             "#46039f"
            ],
            [
             0.2222222222222222,
             "#7201a8"
            ],
            [
             0.3333333333333333,
             "#9c179e"
            ],
            [
             0.4444444444444444,
             "#bd3786"
            ],
            [
             0.5555555555555556,
             "#d8576b"
            ],
            [
             0.6666666666666666,
             "#ed7953"
            ],
            [
             0.7777777777777778,
             "#fb9f3a"
            ],
            [
             0.8888888888888888,
             "#fdca26"
            ],
            [
             1,
             "#f0f921"
            ]
           ],
           "sequentialminus": [
            [
             0,
             "#0d0887"
            ],
            [
             0.1111111111111111,
             "#46039f"
            ],
            [
             0.2222222222222222,
             "#7201a8"
            ],
            [
             0.3333333333333333,
             "#9c179e"
            ],
            [
             0.4444444444444444,
             "#bd3786"
            ],
            [
             0.5555555555555556,
             "#d8576b"
            ],
            [
             0.6666666666666666,
             "#ed7953"
            ],
            [
             0.7777777777777778,
             "#fb9f3a"
            ],
            [
             0.8888888888888888,
             "#fdca26"
            ],
            [
             1,
             "#f0f921"
            ]
           ]
          },
          "colorway": [
           "#636efa",
           "#EF553B",
           "#00cc96",
           "#ab63fa",
           "#FFA15A",
           "#19d3f3",
           "#FF6692",
           "#B6E880",
           "#FF97FF",
           "#FECB52"
          ],
          "font": {
           "color": "#2a3f5f"
          },
          "geo": {
           "bgcolor": "white",
           "lakecolor": "white",
           "landcolor": "#E5ECF6",
           "showlakes": true,
           "showland": true,
           "subunitcolor": "white"
          },
          "hoverlabel": {
           "align": "left"
          },
          "hovermode": "closest",
          "mapbox": {
           "style": "light"
          },
          "paper_bgcolor": "white",
          "plot_bgcolor": "#E5ECF6",
          "polar": {
           "angularaxis": {
            "gridcolor": "white",
            "linecolor": "white",
            "ticks": ""
           },
           "bgcolor": "#E5ECF6",
           "radialaxis": {
            "gridcolor": "white",
            "linecolor": "white",
            "ticks": ""
           }
          },
          "scene": {
           "xaxis": {
            "backgroundcolor": "#E5ECF6",
            "gridcolor": "white",
            "gridwidth": 2,
            "linecolor": "white",
            "showbackground": true,
            "ticks": "",
            "zerolinecolor": "white"
           },
           "yaxis": {
            "backgroundcolor": "#E5ECF6",
            "gridcolor": "white",
            "gridwidth": 2,
            "linecolor": "white",
            "showbackground": true,
            "ticks": "",
            "zerolinecolor": "white"
           },
           "zaxis": {
            "backgroundcolor": "#E5ECF6",
            "gridcolor": "white",
            "gridwidth": 2,
            "linecolor": "white",
            "showbackground": true,
            "ticks": "",
            "zerolinecolor": "white"
           }
          },
          "shapedefaults": {
           "line": {
            "color": "#2a3f5f"
           }
          },
          "ternary": {
           "aaxis": {
            "gridcolor": "white",
            "linecolor": "white",
            "ticks": ""
           },
           "baxis": {
            "gridcolor": "white",
            "linecolor": "white",
            "ticks": ""
           },
           "bgcolor": "#E5ECF6",
           "caxis": {
            "gridcolor": "white",
            "linecolor": "white",
            "ticks": ""
           }
          },
          "title": {
           "x": 0.05
          },
          "xaxis": {
           "automargin": true,
           "gridcolor": "white",
           "linecolor": "white",
           "ticks": "",
           "title": {
            "standoff": 15
           },
           "zerolinecolor": "white",
           "zerolinewidth": 2
          },
          "yaxis": {
           "automargin": true,
           "gridcolor": "white",
           "linecolor": "white",
           "ticks": "",
           "title": {
            "standoff": 15
           },
           "zerolinecolor": "white",
           "zerolinewidth": 2
          }
         }
        },
        "title": {
         "text": "Studerande per yrkesområde över tid"
        },
        "xaxis": {
         "anchor": "y",
         "domain": [
          0,
          1
         ],
         "dtick": 1,
         "tickmode": "linear",
         "title": {
          "text": "År"
         }
        },
        "yaxis": {
         "anchor": "x",
         "categoryarray": [
          "Kultur, media och design",
          "Lantbruk, djurvård, trädgård, skog och fiske",
          "Samhällsbyggnad och byggteknik",
          "Teknik och tillverkning",
          "Övrigt",
          "Totalt"
         ],
         "categoryorder": "array",
         "domain": [
          0,
          1
         ],
         "title": {
          "text": "Yrkesområde"
         }
        }
       }
      }
     },
     "metadata": {},
     "output_type": "display_data"
    }
   ],
   "source": [
    "import pandas as pd\n",
    "import plotly.express as px\n",
    "\n",
    "\n",
    "df_stud = pd.read_excel(\n",
    "    \"data/studerande-och-examinerade-inom-smala-yrkesomraden-2014-2024.xlsx\",\n",
    "    sheet_name=\"studerande\",\n",
    "    skiprows=3\n",
    ")\n",
    "\n",
    "\n",
    "df_stud = df_stud.rename(columns={df_stud.columns[0]: \"Yrkesområde\"})\n",
    "\n",
    "\n",
    "target_yrkesområden = [\n",
    "    \"Kultur, media och design\",\n",
    "    \"Lantbruk, djurvård, trädgård, skog och fiske\",\n",
    "    \"Samhällsbyggnad och byggteknik\",\n",
    "    \"Teknik och tillverkning\",\n",
    "    \"Övrigt\",\n",
    "    \"Totalt\"\n",
    "]\n",
    "\n",
    "years = list(range(2019, 2023))\n",
    "df_filtered = df_stud[df_stud[\"Yrkesområde\"].isin(target_yrkesområden)]\n",
    "df_filtered = df_filtered[[\"Yrkesområde\"] + years]\n",
    "\n",
    "df_long = df_filtered.melt(id_vars=\"Yrkesområde\", var_name=\"År\", value_name=\"Antal\")\n",
    "\n",
    "df_long[\"År\"] = df_long[\"År\"].astype(int)\n",
    "\n",
    "fig = px.scatter(\n",
    "    df_long,\n",
    "    x=\"År\",\n",
    "    y=\"Yrkesområde\",\n",
    "    size=\"Antal\",\n",
    "    color=\"Yrkesområde\",\n",
    "    hover_name=\"Yrkesområde\",\n",
    "    size_max=60,\n",
    "    title=\"Studerande per yrkesområde över tid\",\n",
    "    labels={\"Antal\": \"Antal studenter\", \"År\": \"År\"},\n",
    "    height=600\n",
    ")\n",
    "\n",
    "fig.update_layout(\n",
    "    plot_bgcolor=\"white\",\n",
    "    xaxis=dict(tickmode=\"linear\", dtick=1, title=\"År\"),\n",
    "    yaxis=dict(title=\"Yrkesområde\", categoryorder='array', categoryarray=target_yrkesområden)\n",
    ")\n",
    "\n",
    "fig.show()\n"
   ]
  },
  {
   "cell_type": "code",
   "execution_count": null,
   "id": "b1b07982",
   "metadata": {},
   "outputs": [
    {
     "data": {
      "application/vnd.plotly.v1+json": {
       "config": {
        "plotlyServerURL": "https://plot.ly"
       },
       "data": [
        {
         "marker": {
          "size": [
           40,
           60,
           80,
           100
          ]
         },
         "mode": "markers",
         "type": "scatter",
         "x": [
          2014,
          2015,
          2016,
          2017,
          2018,
          2019,
          2020,
          2021,
          2022,
          2023
         ],
         "y": [
          "Kultur, media och design",
          "Lantbruk, djurvård, trädgård, skog och fiske",
          "Samhällsbyggnad och byggteknik",
          "Teknik och tillverkning",
          "Övrigt",
          "Totalt"
         ]
        }
       ],
       "layout": {
        "template": {
         "data": {
          "bar": [
           {
            "error_x": {
             "color": "#2a3f5f"
            },
            "error_y": {
             "color": "#2a3f5f"
            },
            "marker": {
             "line": {
              "color": "#E5ECF6",
              "width": 0.5
             },
             "pattern": {
              "fillmode": "overlay",
              "size": 10,
              "solidity": 0.2
             }
            },
            "type": "bar"
           }
          ],
          "barpolar": [
           {
            "marker": {
             "line": {
              "color": "#E5ECF6",
              "width": 0.5
             },
             "pattern": {
              "fillmode": "overlay",
              "size": 10,
              "solidity": 0.2
             }
            },
            "type": "barpolar"
           }
          ],
          "carpet": [
           {
            "aaxis": {
             "endlinecolor": "#2a3f5f",
             "gridcolor": "white",
             "linecolor": "white",
             "minorgridcolor": "white",
             "startlinecolor": "#2a3f5f"
            },
            "baxis": {
             "endlinecolor": "#2a3f5f",
             "gridcolor": "white",
             "linecolor": "white",
             "minorgridcolor": "white",
             "startlinecolor": "#2a3f5f"
            },
            "type": "carpet"
           }
          ],
          "choropleth": [
           {
            "colorbar": {
             "outlinewidth": 0,
             "ticks": ""
            },
            "type": "choropleth"
           }
          ],
          "contour": [
           {
            "colorbar": {
             "outlinewidth": 0,
             "ticks": ""
            },
            "colorscale": [
             [
              0,
              "#0d0887"
             ],
             [
              0.1111111111111111,
              "#46039f"
             ],
             [
              0.2222222222222222,
              "#7201a8"
             ],
             [
              0.3333333333333333,
              "#9c179e"
             ],
             [
              0.4444444444444444,
              "#bd3786"
             ],
             [
              0.5555555555555556,
              "#d8576b"
             ],
             [
              0.6666666666666666,
              "#ed7953"
             ],
             [
              0.7777777777777778,
              "#fb9f3a"
             ],
             [
              0.8888888888888888,
              "#fdca26"
             ],
             [
              1,
              "#f0f921"
             ]
            ],
            "type": "contour"
           }
          ],
          "contourcarpet": [
           {
            "colorbar": {
             "outlinewidth": 0,
             "ticks": ""
            },
            "type": "contourcarpet"
           }
          ],
          "heatmap": [
           {
            "colorbar": {
             "outlinewidth": 0,
             "ticks": ""
            },
            "colorscale": [
             [
              0,
              "#0d0887"
             ],
             [
              0.1111111111111111,
              "#46039f"
             ],
             [
              0.2222222222222222,
              "#7201a8"
             ],
             [
              0.3333333333333333,
              "#9c179e"
             ],
             [
              0.4444444444444444,
              "#bd3786"
             ],
             [
              0.5555555555555556,
              "#d8576b"
             ],
             [
              0.6666666666666666,
              "#ed7953"
             ],
             [
              0.7777777777777778,
              "#fb9f3a"
             ],
             [
              0.8888888888888888,
              "#fdca26"
             ],
             [
              1,
              "#f0f921"
             ]
            ],
            "type": "heatmap"
           }
          ],
          "heatmapgl": [
           {
            "colorbar": {
             "outlinewidth": 0,
             "ticks": ""
            },
            "colorscale": [
             [
              0,
              "#0d0887"
             ],
             [
              0.1111111111111111,
              "#46039f"
             ],
             [
              0.2222222222222222,
              "#7201a8"
             ],
             [
              0.3333333333333333,
              "#9c179e"
             ],
             [
              0.4444444444444444,
              "#bd3786"
             ],
             [
              0.5555555555555556,
              "#d8576b"
             ],
             [
              0.6666666666666666,
              "#ed7953"
             ],
             [
              0.7777777777777778,
              "#fb9f3a"
             ],
             [
              0.8888888888888888,
              "#fdca26"
             ],
             [
              1,
              "#f0f921"
             ]
            ],
            "type": "heatmapgl"
           }
          ],
          "histogram": [
           {
            "marker": {
             "pattern": {
              "fillmode": "overlay",
              "size": 10,
              "solidity": 0.2
             }
            },
            "type": "histogram"
           }
          ],
          "histogram2d": [
           {
            "colorbar": {
             "outlinewidth": 0,
             "ticks": ""
            },
            "colorscale": [
             [
              0,
              "#0d0887"
             ],
             [
              0.1111111111111111,
              "#46039f"
             ],
             [
              0.2222222222222222,
              "#7201a8"
             ],
             [
              0.3333333333333333,
              "#9c179e"
             ],
             [
              0.4444444444444444,
              "#bd3786"
             ],
             [
              0.5555555555555556,
              "#d8576b"
             ],
             [
              0.6666666666666666,
              "#ed7953"
             ],
             [
              0.7777777777777778,
              "#fb9f3a"
             ],
             [
              0.8888888888888888,
              "#fdca26"
             ],
             [
              1,
              "#f0f921"
             ]
            ],
            "type": "histogram2d"
           }
          ],
          "histogram2dcontour": [
           {
            "colorbar": {
             "outlinewidth": 0,
             "ticks": ""
            },
            "colorscale": [
             [
              0,
              "#0d0887"
             ],
             [
              0.1111111111111111,
              "#46039f"
             ],
             [
              0.2222222222222222,
              "#7201a8"
             ],
             [
              0.3333333333333333,
              "#9c179e"
             ],
             [
              0.4444444444444444,
              "#bd3786"
             ],
             [
              0.5555555555555556,
              "#d8576b"
             ],
             [
              0.6666666666666666,
              "#ed7953"
             ],
             [
              0.7777777777777778,
              "#fb9f3a"
             ],
             [
              0.8888888888888888,
              "#fdca26"
             ],
             [
              1,
              "#f0f921"
             ]
            ],
            "type": "histogram2dcontour"
           }
          ],
          "mesh3d": [
           {
            "colorbar": {
             "outlinewidth": 0,
             "ticks": ""
            },
            "type": "mesh3d"
           }
          ],
          "parcoords": [
           {
            "line": {
             "colorbar": {
              "outlinewidth": 0,
              "ticks": ""
             }
            },
            "type": "parcoords"
           }
          ],
          "pie": [
           {
            "automargin": true,
            "type": "pie"
           }
          ],
          "scatter": [
           {
            "fillpattern": {
             "fillmode": "overlay",
             "size": 10,
             "solidity": 0.2
            },
            "type": "scatter"
           }
          ],
          "scatter3d": [
           {
            "line": {
             "colorbar": {
              "outlinewidth": 0,
              "ticks": ""
             }
            },
            "marker": {
             "colorbar": {
              "outlinewidth": 0,
              "ticks": ""
             }
            },
            "type": "scatter3d"
           }
          ],
          "scattercarpet": [
           {
            "marker": {
             "colorbar": {
              "outlinewidth": 0,
              "ticks": ""
             }
            },
            "type": "scattercarpet"
           }
          ],
          "scattergeo": [
           {
            "marker": {
             "colorbar": {
              "outlinewidth": 0,
              "ticks": ""
             }
            },
            "type": "scattergeo"
           }
          ],
          "scattergl": [
           {
            "marker": {
             "colorbar": {
              "outlinewidth": 0,
              "ticks": ""
             }
            },
            "type": "scattergl"
           }
          ],
          "scattermapbox": [
           {
            "marker": {
             "colorbar": {
              "outlinewidth": 0,
              "ticks": ""
             }
            },
            "type": "scattermapbox"
           }
          ],
          "scatterpolar": [
           {
            "marker": {
             "colorbar": {
              "outlinewidth": 0,
              "ticks": ""
             }
            },
            "type": "scatterpolar"
           }
          ],
          "scatterpolargl": [
           {
            "marker": {
             "colorbar": {
              "outlinewidth": 0,
              "ticks": ""
             }
            },
            "type": "scatterpolargl"
           }
          ],
          "scatterternary": [
           {
            "marker": {
             "colorbar": {
              "outlinewidth": 0,
              "ticks": ""
             }
            },
            "type": "scatterternary"
           }
          ],
          "surface": [
           {
            "colorbar": {
             "outlinewidth": 0,
             "ticks": ""
            },
            "colorscale": [
             [
              0,
              "#0d0887"
             ],
             [
              0.1111111111111111,
              "#46039f"
             ],
             [
              0.2222222222222222,
              "#7201a8"
             ],
             [
              0.3333333333333333,
              "#9c179e"
             ],
             [
              0.4444444444444444,
              "#bd3786"
             ],
             [
              0.5555555555555556,
              "#d8576b"
             ],
             [
              0.6666666666666666,
              "#ed7953"
             ],
             [
              0.7777777777777778,
              "#fb9f3a"
             ],
             [
              0.8888888888888888,
              "#fdca26"
             ],
             [
              1,
              "#f0f921"
             ]
            ],
            "type": "surface"
           }
          ],
          "table": [
           {
            "cells": {
             "fill": {
              "color": "#EBF0F8"
             },
             "line": {
              "color": "white"
             }
            },
            "header": {
             "fill": {
              "color": "#C8D4E3"
             },
             "line": {
              "color": "white"
             }
            },
            "type": "table"
           }
          ]
         },
         "layout": {
          "annotationdefaults": {
           "arrowcolor": "#2a3f5f",
           "arrowhead": 0,
           "arrowwidth": 1
          },
          "autotypenumbers": "strict",
          "coloraxis": {
           "colorbar": {
            "outlinewidth": 0,
            "ticks": ""
           }
          },
          "colorscale": {
           "diverging": [
            [
             0,
             "#8e0152"
            ],
            [
             0.1,
             "#c51b7d"
            ],
            [
             0.2,
             "#de77ae"
            ],
            [
             0.3,
             "#f1b6da"
            ],
            [
             0.4,
             "#fde0ef"
            ],
            [
             0.5,
             "#f7f7f7"
            ],
            [
             0.6,
             "#e6f5d0"
            ],
            [
             0.7,
             "#b8e186"
            ],
            [
             0.8,
             "#7fbc41"
            ],
            [
             0.9,
             "#4d9221"
            ],
            [
             1,
             "#276419"
            ]
           ],
           "sequential": [
            [
             0,
             "#0d0887"
            ],
            [
             0.1111111111111111,
             "#46039f"
            ],
            [
             0.2222222222222222,
             "#7201a8"
            ],
            [
             0.3333333333333333,
             "#9c179e"
            ],
            [
             0.4444444444444444,
             "#bd3786"
            ],
            [
             0.5555555555555556,
             "#d8576b"
            ],
            [
             0.6666666666666666,
             "#ed7953"
            ],
            [
             0.7777777777777778,
             "#fb9f3a"
            ],
            [
             0.8888888888888888,
             "#fdca26"
            ],
            [
             1,
             "#f0f921"
            ]
           ],
           "sequentialminus": [
            [
             0,
             "#0d0887"
            ],
            [
             0.1111111111111111,
             "#46039f"
            ],
            [
             0.2222222222222222,
             "#7201a8"
            ],
            [
             0.3333333333333333,
             "#9c179e"
            ],
            [
             0.4444444444444444,
             "#bd3786"
            ],
            [
             0.5555555555555556,
             "#d8576b"
            ],
            [
             0.6666666666666666,
             "#ed7953"
            ],
            [
             0.7777777777777778,
             "#fb9f3a"
            ],
            [
             0.8888888888888888,
             "#fdca26"
            ],
            [
             1,
             "#f0f921"
            ]
           ]
          },
          "colorway": [
           "#636efa",
           "#EF553B",
           "#00cc96",
           "#ab63fa",
           "#FFA15A",
           "#19d3f3",
           "#FF6692",
           "#B6E880",
           "#FF97FF",
           "#FECB52"
          ],
          "font": {
           "color": "#2a3f5f"
          },
          "geo": {
           "bgcolor": "white",
           "lakecolor": "white",
           "landcolor": "#E5ECF6",
           "showlakes": true,
           "showland": true,
           "subunitcolor": "white"
          },
          "hoverlabel": {
           "align": "left"
          },
          "hovermode": "closest",
          "mapbox": {
           "style": "light"
          },
          "paper_bgcolor": "white",
          "plot_bgcolor": "#E5ECF6",
          "polar": {
           "angularaxis": {
            "gridcolor": "white",
            "linecolor": "white",
            "ticks": ""
           },
           "bgcolor": "#E5ECF6",
           "radialaxis": {
            "gridcolor": "white",
            "linecolor": "white",
            "ticks": ""
           }
          },
          "scene": {
           "xaxis": {
            "backgroundcolor": "#E5ECF6",
            "gridcolor": "white",
            "gridwidth": 2,
            "linecolor": "white",
            "showbackground": true,
            "ticks": "",
            "zerolinecolor": "white"
           },
           "yaxis": {
            "backgroundcolor": "#E5ECF6",
            "gridcolor": "white",
            "gridwidth": 2,
            "linecolor": "white",
            "showbackground": true,
            "ticks": "",
            "zerolinecolor": "white"
           },
           "zaxis": {
            "backgroundcolor": "#E5ECF6",
            "gridcolor": "white",
            "gridwidth": 2,
            "linecolor": "white",
            "showbackground": true,
            "ticks": "",
            "zerolinecolor": "white"
           }
          },
          "shapedefaults": {
           "line": {
            "color": "#2a3f5f"
           }
          },
          "ternary": {
           "aaxis": {
            "gridcolor": "white",
            "linecolor": "white",
            "ticks": ""
           },
           "baxis": {
            "gridcolor": "white",
            "linecolor": "white",
            "ticks": ""
           },
           "bgcolor": "#E5ECF6",
           "caxis": {
            "gridcolor": "white",
            "linecolor": "white",
            "ticks": ""
           }
          },
          "title": {
           "x": 0.05
          },
          "xaxis": {
           "automargin": true,
           "gridcolor": "white",
           "linecolor": "white",
           "ticks": "",
           "title": {
            "standoff": 15
           },
           "zerolinecolor": "white",
           "zerolinewidth": 2
          },
          "yaxis": {
           "automargin": true,
           "gridcolor": "white",
           "linecolor": "white",
           "ticks": "",
           "title": {
            "standoff": 15
           },
           "zerolinecolor": "white",
           "zerolinewidth": 2
          }
         }
        }
       }
      }
     },
     "metadata": {},
     "output_type": "display_data"
    }
   ],
   "source": [
    "import plotly.graph_objects as go\n",
    "\n",
    "years = list(range(2014, 2024))\n",
    "\n",
    "target_yrkesområden = [\n",
    "    \"Kultur, media och design\",\n",
    "    \"Lantbruk, djurvård, trädgård, skog och fiske\",\n",
    "    \"Samhällsbyggnad och byggteknik\",\n",
    "    \"Teknik och tillverkning\",\n",
    "    \"Övrigt\",\n",
    "    \"Totalt\"\n",
    "]\n",
    "\n",
    "fig = go.Figure(data=[go.Scatter(\n",
    "    x=years, y=target_yrkesområden,\n",
    "    mode='markers',\n",
    "    size=\"Totalt\", color=\"Totalt\",\n",
    "    hover_name=\"country\", log_x=True, size_max=60)\n",
    "])\n",
    "\n",
    "fig.show()\n",
    "\n",
    "fig = px.scatter(df.query(\"year==2007\"), x=\"gdpPercap\", y=\"lifeExp\",\n",
    "\t         size=\"pop\", color=\"continent\",\n",
    "                 hover_name=\"country\", log_x=True, size_max=60)\n",
    "fig.show()"
   ]
  },
  {
   "cell_type": "code",
   "execution_count": null,
   "id": "36211a2f",
   "metadata": {},
   "outputs": [
    {
     "data": {
      "text/html": [
       "<div>\n",
       "<style scoped>\n",
       "    .dataframe tbody tr th:only-of-type {\n",
       "        vertical-align: middle;\n",
       "    }\n",
       "\n",
       "    .dataframe tbody tr th {\n",
       "        vertical-align: top;\n",
       "    }\n",
       "\n",
       "    .dataframe thead th {\n",
       "        text-align: right;\n",
       "    }\n",
       "</style>\n",
       "<table border=\"1\" class=\"dataframe\">\n",
       "  <thead>\n",
       "    <tr style=\"text-align: right;\">\n",
       "      <th></th>\n",
       "      <th>Yrkesområde</th>\n",
       "      <th>År</th>\n",
       "      <th>Antal</th>\n",
       "    </tr>\n",
       "  </thead>\n",
       "  <tbody>\n",
       "    <tr>\n",
       "      <th>1</th>\n",
       "      <td>Kultur, media och design</td>\n",
       "      <td>2014</td>\n",
       "      <td>68</td>\n",
       "    </tr>\n",
       "    <tr>\n",
       "      <th>2</th>\n",
       "      <td>Lantbruk, djurvård, trädgård, skog och fiske</td>\n",
       "      <td>2014</td>\n",
       "      <td>53</td>\n",
       "    </tr>\n",
       "    <tr>\n",
       "      <th>3</th>\n",
       "      <td>Samhällsbyggnad och byggteknik</td>\n",
       "      <td>2014</td>\n",
       "      <td>17</td>\n",
       "    </tr>\n",
       "    <tr>\n",
       "      <th>4</th>\n",
       "      <td>Teknik och tillverkning</td>\n",
       "      <td>2014</td>\n",
       "      <td>98</td>\n",
       "    </tr>\n",
       "    <tr>\n",
       "      <th>5</th>\n",
       "      <td>Övrigt</td>\n",
       "      <td>2014</td>\n",
       "      <td>248</td>\n",
       "    </tr>\n",
       "    <tr>\n",
       "      <th>7</th>\n",
       "      <td>Kultur, media och design</td>\n",
       "      <td>2015</td>\n",
       "      <td>100</td>\n",
       "    </tr>\n",
       "    <tr>\n",
       "      <th>8</th>\n",
       "      <td>Lantbruk, djurvård, trädgård, skog och fiske</td>\n",
       "      <td>2015</td>\n",
       "      <td>56</td>\n",
       "    </tr>\n",
       "    <tr>\n",
       "      <th>9</th>\n",
       "      <td>Samhällsbyggnad och byggteknik</td>\n",
       "      <td>2015</td>\n",
       "      <td>29</td>\n",
       "    </tr>\n",
       "    <tr>\n",
       "      <th>10</th>\n",
       "      <td>Teknik och tillverkning</td>\n",
       "      <td>2015</td>\n",
       "      <td>180</td>\n",
       "    </tr>\n",
       "    <tr>\n",
       "      <th>11</th>\n",
       "      <td>Övrigt</td>\n",
       "      <td>2015</td>\n",
       "      <td>247</td>\n",
       "    </tr>\n",
       "    <tr>\n",
       "      <th>13</th>\n",
       "      <td>Kultur, media och design</td>\n",
       "      <td>2016</td>\n",
       "      <td>124</td>\n",
       "    </tr>\n",
       "    <tr>\n",
       "      <th>14</th>\n",
       "      <td>Lantbruk, djurvård, trädgård, skog och fiske</td>\n",
       "      <td>2016</td>\n",
       "      <td>49</td>\n",
       "    </tr>\n",
       "    <tr>\n",
       "      <th>15</th>\n",
       "      <td>Samhällsbyggnad och byggteknik</td>\n",
       "      <td>2016</td>\n",
       "      <td>26</td>\n",
       "    </tr>\n",
       "    <tr>\n",
       "      <th>16</th>\n",
       "      <td>Teknik och tillverkning</td>\n",
       "      <td>2016</td>\n",
       "      <td>329</td>\n",
       "    </tr>\n",
       "    <tr>\n",
       "      <th>17</th>\n",
       "      <td>Övrigt</td>\n",
       "      <td>2016</td>\n",
       "      <td>277</td>\n",
       "    </tr>\n",
       "    <tr>\n",
       "      <th>19</th>\n",
       "      <td>Kultur, media och design</td>\n",
       "      <td>2017</td>\n",
       "      <td>123</td>\n",
       "    </tr>\n",
       "    <tr>\n",
       "      <th>20</th>\n",
       "      <td>Lantbruk, djurvård, trädgård, skog och fiske</td>\n",
       "      <td>2017</td>\n",
       "      <td>54</td>\n",
       "    </tr>\n",
       "    <tr>\n",
       "      <th>21</th>\n",
       "      <td>Samhällsbyggnad och byggteknik</td>\n",
       "      <td>2017</td>\n",
       "      <td>26</td>\n",
       "    </tr>\n",
       "    <tr>\n",
       "      <th>22</th>\n",
       "      <td>Teknik och tillverkning</td>\n",
       "      <td>2017</td>\n",
       "      <td>402</td>\n",
       "    </tr>\n",
       "    <tr>\n",
       "      <th>23</th>\n",
       "      <td>Övrigt</td>\n",
       "      <td>2017</td>\n",
       "      <td>248</td>\n",
       "    </tr>\n",
       "    <tr>\n",
       "      <th>25</th>\n",
       "      <td>Kultur, media och design</td>\n",
       "      <td>2018</td>\n",
       "      <td>85</td>\n",
       "    </tr>\n",
       "    <tr>\n",
       "      <th>26</th>\n",
       "      <td>Lantbruk, djurvård, trädgård, skog och fiske</td>\n",
       "      <td>2018</td>\n",
       "      <td>61</td>\n",
       "    </tr>\n",
       "    <tr>\n",
       "      <th>27</th>\n",
       "      <td>Samhällsbyggnad och byggteknik</td>\n",
       "      <td>2018</td>\n",
       "      <td>27</td>\n",
       "    </tr>\n",
       "    <tr>\n",
       "      <th>28</th>\n",
       "      <td>Teknik och tillverkning</td>\n",
       "      <td>2018</td>\n",
       "      <td>395</td>\n",
       "    </tr>\n",
       "    <tr>\n",
       "      <th>29</th>\n",
       "      <td>Övrigt</td>\n",
       "      <td>2018</td>\n",
       "      <td>227</td>\n",
       "    </tr>\n",
       "    <tr>\n",
       "      <th>31</th>\n",
       "      <td>Kultur, media och design</td>\n",
       "      <td>2019</td>\n",
       "      <td>93</td>\n",
       "    </tr>\n",
       "    <tr>\n",
       "      <th>32</th>\n",
       "      <td>Lantbruk, djurvård, trädgård, skog och fiske</td>\n",
       "      <td>2019</td>\n",
       "      <td>48</td>\n",
       "    </tr>\n",
       "    <tr>\n",
       "      <th>33</th>\n",
       "      <td>Samhällsbyggnad och byggteknik</td>\n",
       "      <td>2019</td>\n",
       "      <td>51</td>\n",
       "    </tr>\n",
       "    <tr>\n",
       "      <th>34</th>\n",
       "      <td>Teknik och tillverkning</td>\n",
       "      <td>2019</td>\n",
       "      <td>361</td>\n",
       "    </tr>\n",
       "    <tr>\n",
       "      <th>35</th>\n",
       "      <td>Övrigt</td>\n",
       "      <td>2019</td>\n",
       "      <td>250</td>\n",
       "    </tr>\n",
       "    <tr>\n",
       "      <th>37</th>\n",
       "      <td>Kultur, media och design</td>\n",
       "      <td>2020</td>\n",
       "      <td>108</td>\n",
       "    </tr>\n",
       "    <tr>\n",
       "      <th>38</th>\n",
       "      <td>Lantbruk, djurvård, trädgård, skog och fiske</td>\n",
       "      <td>2020</td>\n",
       "      <td>33</td>\n",
       "    </tr>\n",
       "    <tr>\n",
       "      <th>39</th>\n",
       "      <td>Samhällsbyggnad och byggteknik</td>\n",
       "      <td>2020</td>\n",
       "      <td>104</td>\n",
       "    </tr>\n",
       "    <tr>\n",
       "      <th>40</th>\n",
       "      <td>Teknik och tillverkning</td>\n",
       "      <td>2020</td>\n",
       "      <td>385</td>\n",
       "    </tr>\n",
       "    <tr>\n",
       "      <th>41</th>\n",
       "      <td>Övrigt</td>\n",
       "      <td>2020</td>\n",
       "      <td>305</td>\n",
       "    </tr>\n",
       "    <tr>\n",
       "      <th>43</th>\n",
       "      <td>Kultur, media och design</td>\n",
       "      <td>2021</td>\n",
       "      <td>121</td>\n",
       "    </tr>\n",
       "    <tr>\n",
       "      <th>44</th>\n",
       "      <td>Lantbruk, djurvård, trädgård, skog och fiske</td>\n",
       "      <td>2021</td>\n",
       "      <td>33</td>\n",
       "    </tr>\n",
       "    <tr>\n",
       "      <th>45</th>\n",
       "      <td>Samhällsbyggnad och byggteknik</td>\n",
       "      <td>2021</td>\n",
       "      <td>108</td>\n",
       "    </tr>\n",
       "    <tr>\n",
       "      <th>46</th>\n",
       "      <td>Teknik och tillverkning</td>\n",
       "      <td>2021</td>\n",
       "      <td>344</td>\n",
       "    </tr>\n",
       "    <tr>\n",
       "      <th>47</th>\n",
       "      <td>Övrigt</td>\n",
       "      <td>2021</td>\n",
       "      <td>327</td>\n",
       "    </tr>\n",
       "    <tr>\n",
       "      <th>49</th>\n",
       "      <td>Kultur, media och design</td>\n",
       "      <td>2022</td>\n",
       "      <td>140</td>\n",
       "    </tr>\n",
       "    <tr>\n",
       "      <th>50</th>\n",
       "      <td>Lantbruk, djurvård, trädgård, skog och fiske</td>\n",
       "      <td>2022</td>\n",
       "      <td>35</td>\n",
       "    </tr>\n",
       "    <tr>\n",
       "      <th>51</th>\n",
       "      <td>Samhällsbyggnad och byggteknik</td>\n",
       "      <td>2022</td>\n",
       "      <td>99</td>\n",
       "    </tr>\n",
       "    <tr>\n",
       "      <th>52</th>\n",
       "      <td>Teknik och tillverkning</td>\n",
       "      <td>2022</td>\n",
       "      <td>349</td>\n",
       "    </tr>\n",
       "    <tr>\n",
       "      <th>53</th>\n",
       "      <td>Övrigt</td>\n",
       "      <td>2022</td>\n",
       "      <td>349</td>\n",
       "    </tr>\n",
       "    <tr>\n",
       "      <th>55</th>\n",
       "      <td>Kultur, media och design</td>\n",
       "      <td>2023</td>\n",
       "      <td>130</td>\n",
       "    </tr>\n",
       "    <tr>\n",
       "      <th>56</th>\n",
       "      <td>Lantbruk, djurvård, trädgård, skog och fiske</td>\n",
       "      <td>2023</td>\n",
       "      <td>35</td>\n",
       "    </tr>\n",
       "    <tr>\n",
       "      <th>57</th>\n",
       "      <td>Samhällsbyggnad och byggteknik</td>\n",
       "      <td>2023</td>\n",
       "      <td>77</td>\n",
       "    </tr>\n",
       "    <tr>\n",
       "      <th>58</th>\n",
       "      <td>Teknik och tillverkning</td>\n",
       "      <td>2023</td>\n",
       "      <td>340</td>\n",
       "    </tr>\n",
       "    <tr>\n",
       "      <th>59</th>\n",
       "      <td>Övrigt</td>\n",
       "      <td>2023</td>\n",
       "      <td>363</td>\n",
       "    </tr>\n",
       "    <tr>\n",
       "      <th>61</th>\n",
       "      <td>Kultur, media och design</td>\n",
       "      <td>2024</td>\n",
       "      <td>119</td>\n",
       "    </tr>\n",
       "    <tr>\n",
       "      <th>62</th>\n",
       "      <td>Lantbruk, djurvård, trädgård, skog och fiske</td>\n",
       "      <td>2024</td>\n",
       "      <td>35</td>\n",
       "    </tr>\n",
       "    <tr>\n",
       "      <th>63</th>\n",
       "      <td>Samhällsbyggnad och byggteknik</td>\n",
       "      <td>2024</td>\n",
       "      <td>73</td>\n",
       "    </tr>\n",
       "    <tr>\n",
       "      <th>64</th>\n",
       "      <td>Teknik och tillverkning</td>\n",
       "      <td>2024</td>\n",
       "      <td>364</td>\n",
       "    </tr>\n",
       "    <tr>\n",
       "      <th>65</th>\n",
       "      <td>Övrigt</td>\n",
       "      <td>2024</td>\n",
       "      <td>371</td>\n",
       "    </tr>\n",
       "  </tbody>\n",
       "</table>\n",
       "</div>"
      ],
      "text/plain": [
       "                                     Yrkesområde    År  Antal\n",
       "1                       Kultur, media och design  2014     68\n",
       "2   Lantbruk, djurvård, trädgård, skog och fiske  2014     53\n",
       "3                 Samhällsbyggnad och byggteknik  2014     17\n",
       "4                        Teknik och tillverkning  2014     98\n",
       "5                                         Övrigt  2014    248\n",
       "7                       Kultur, media och design  2015    100\n",
       "8   Lantbruk, djurvård, trädgård, skog och fiske  2015     56\n",
       "9                 Samhällsbyggnad och byggteknik  2015     29\n",
       "10                       Teknik och tillverkning  2015    180\n",
       "11                                        Övrigt  2015    247\n",
       "13                      Kultur, media och design  2016    124\n",
       "14  Lantbruk, djurvård, trädgård, skog och fiske  2016     49\n",
       "15                Samhällsbyggnad och byggteknik  2016     26\n",
       "16                       Teknik och tillverkning  2016    329\n",
       "17                                        Övrigt  2016    277\n",
       "19                      Kultur, media och design  2017    123\n",
       "20  Lantbruk, djurvård, trädgård, skog och fiske  2017     54\n",
       "21                Samhällsbyggnad och byggteknik  2017     26\n",
       "22                       Teknik och tillverkning  2017    402\n",
       "23                                        Övrigt  2017    248\n",
       "25                      Kultur, media och design  2018     85\n",
       "26  Lantbruk, djurvård, trädgård, skog och fiske  2018     61\n",
       "27                Samhällsbyggnad och byggteknik  2018     27\n",
       "28                       Teknik och tillverkning  2018    395\n",
       "29                                        Övrigt  2018    227\n",
       "31                      Kultur, media och design  2019     93\n",
       "32  Lantbruk, djurvård, trädgård, skog och fiske  2019     48\n",
       "33                Samhällsbyggnad och byggteknik  2019     51\n",
       "34                       Teknik och tillverkning  2019    361\n",
       "35                                        Övrigt  2019    250\n",
       "37                      Kultur, media och design  2020    108\n",
       "38  Lantbruk, djurvård, trädgård, skog och fiske  2020     33\n",
       "39                Samhällsbyggnad och byggteknik  2020    104\n",
       "40                       Teknik och tillverkning  2020    385\n",
       "41                                        Övrigt  2020    305\n",
       "43                      Kultur, media och design  2021    121\n",
       "44  Lantbruk, djurvård, trädgård, skog och fiske  2021     33\n",
       "45                Samhällsbyggnad och byggteknik  2021    108\n",
       "46                       Teknik och tillverkning  2021    344\n",
       "47                                        Övrigt  2021    327\n",
       "49                      Kultur, media och design  2022    140\n",
       "50  Lantbruk, djurvård, trädgård, skog och fiske  2022     35\n",
       "51                Samhällsbyggnad och byggteknik  2022     99\n",
       "52                       Teknik och tillverkning  2022    349\n",
       "53                                        Övrigt  2022    349\n",
       "55                      Kultur, media och design  2023    130\n",
       "56  Lantbruk, djurvård, trädgård, skog och fiske  2023     35\n",
       "57                Samhällsbyggnad och byggteknik  2023     77\n",
       "58                       Teknik och tillverkning  2023    340\n",
       "59                                        Övrigt  2023    363\n",
       "61                      Kultur, media och design  2024    119\n",
       "62  Lantbruk, djurvård, trädgård, skog och fiske  2024     35\n",
       "63                Samhällsbyggnad och byggteknik  2024     73\n",
       "64                       Teknik och tillverkning  2024    364\n",
       "65                                        Övrigt  2024    371"
      ]
     },
     "execution_count": 48,
     "metadata": {},
     "output_type": "execute_result"
    }
   ],
   "source": [
    "category_column = df_stud.columns[0]\n",
    "year_columns = df_stud.columns[1:]\n",
    "\n",
    "df_melted = df_stud.melt(\n",
    "    id_vars=[category_column], \n",
    "    value_vars=year_columns,    \n",
    "    var_name='År',              \n",
    "    value_name='Antal'          \n",
    ")\n",
    "\n",
    "df_filtered = df_melted[df_melted[category_column] != 'Totalt']\n",
    "\n",
    "df_filtered"
   ]
  },
  {
   "cell_type": "code",
   "execution_count": null,
   "id": "3ceab637",
   "metadata": {},
   "outputs": [
    {
     "name": "stderr",
     "output_type": "stream",
     "text": [
      "/Users/ira/Documents/DE24/github/the-skool-group5/.venv/lib/python3.12/site-packages/plotly/express/_core.py:1979: FutureWarning:\n",
      "\n",
      "When grouping with a length-1 list-like, you will need to pass a length-1 tuple to get_group in a future version of pandas. Pass `(name,)` instead of `name` to silence this warning.\n",
      "\n"
     ]
    },
    {
     "data": {
      "application/vnd.plotly.v1+json": {
       "config": {
        "plotlyServerURL": "https://plot.ly"
       },
       "data": [
        {
         "hovertemplate": "<b>%{hovertext}</b><br><br>Utbildningsområde=Kultur, media och design<br>Год=%{x}<br>Antal=%{marker.size}<extra></extra>",
         "hovertext": [
          "Kultur, media och design",
          "Kultur, media och design",
          "Kultur, media och design",
          "Kultur, media och design",
          "Kultur, media och design",
          "Kultur, media och design",
          "Kultur, media och design",
          "Kultur, media och design",
          "Kultur, media och design",
          "Kultur, media och design",
          "Kultur, media och design"
         ],
         "legendgroup": "Kultur, media och design",
         "marker": {
          "color": "#636efa",
          "size": [
           68,
           100,
           124,
           123,
           85,
           93,
           108,
           121,
           140,
           130,
           119
          ],
          "sizemode": "area",
          "sizeref": 0.1608,
          "symbol": "circle"
         },
         "mode": "markers",
         "name": "Kultur, media och design",
         "orientation": "v",
         "showlegend": true,
         "type": "scatter",
         "x": [
          2014,
          2015,
          2016,
          2017,
          2018,
          2019,
          2020,
          2021,
          2022,
          2023,
          2024
         ],
         "xaxis": "x",
         "y": [
          68,
          100,
          124,
          123,
          85,
          93,
          108,
          121,
          140,
          130,
          119
         ],
         "yaxis": "y"
        },
        {
         "hovertemplate": "<b>%{hovertext}</b><br><br>Utbildningsområde=Lantbruk, djurvård, trädgård, skog och fiske<br>Год=%{x}<br>Antal=%{marker.size}<extra></extra>",
         "hovertext": [
          "Lantbruk, djurvård, trädgård, skog och fiske",
          "Lantbruk, djurvård, trädgård, skog och fiske",
          "Lantbruk, djurvård, trädgård, skog och fiske",
          "Lantbruk, djurvård, trädgård, skog och fiske",
          "Lantbruk, djurvård, trädgård, skog och fiske",
          "Lantbruk, djurvård, trädgård, skog och fiske",
          "Lantbruk, djurvård, trädgård, skog och fiske",
          "Lantbruk, djurvård, trädgård, skog och fiske",
          "Lantbruk, djurvård, trädgård, skog och fiske",
          "Lantbruk, djurvård, trädgård, skog och fiske",
          "Lantbruk, djurvård, trädgård, skog och fiske"
         ],
         "legendgroup": "Lantbruk, djurvård, trädgård, skog och fiske",
         "marker": {
          "color": "#EF553B",
          "size": [
           53,
           56,
           49,
           54,
           61,
           48,
           33,
           33,
           35,
           35,
           35
          ],
          "sizemode": "area",
          "sizeref": 0.1608,
          "symbol": "circle"
         },
         "mode": "markers",
         "name": "Lantbruk, djurvård, trädgård, skog och fiske",
         "orientation": "v",
         "showlegend": true,
         "type": "scatter",
         "x": [
          2014,
          2015,
          2016,
          2017,
          2018,
          2019,
          2020,
          2021,
          2022,
          2023,
          2024
         ],
         "xaxis": "x",
         "y": [
          53,
          56,
          49,
          54,
          61,
          48,
          33,
          33,
          35,
          35,
          35
         ],
         "yaxis": "y"
        },
        {
         "hovertemplate": "<b>%{hovertext}</b><br><br>Utbildningsområde=Samhällsbyggnad och byggteknik<br>Год=%{x}<br>Antal=%{marker.size}<extra></extra>",
         "hovertext": [
          "Samhällsbyggnad och byggteknik",
          "Samhällsbyggnad och byggteknik",
          "Samhällsbyggnad och byggteknik",
          "Samhällsbyggnad och byggteknik",
          "Samhällsbyggnad och byggteknik",
          "Samhällsbyggnad och byggteknik",
          "Samhällsbyggnad och byggteknik",
          "Samhällsbyggnad och byggteknik",
          "Samhällsbyggnad och byggteknik",
          "Samhällsbyggnad och byggteknik",
          "Samhällsbyggnad och byggteknik"
         ],
         "legendgroup": "Samhällsbyggnad och byggteknik",
         "marker": {
          "color": "#00cc96",
          "size": [
           17,
           29,
           26,
           26,
           27,
           51,
           104,
           108,
           99,
           77,
           73
          ],
          "sizemode": "area",
          "sizeref": 0.1608,
          "symbol": "circle"
         },
         "mode": "markers",
         "name": "Samhällsbyggnad och byggteknik",
         "orientation": "v",
         "showlegend": true,
         "type": "scatter",
         "x": [
          2014,
          2015,
          2016,
          2017,
          2018,
          2019,
          2020,
          2021,
          2022,
          2023,
          2024
         ],
         "xaxis": "x",
         "y": [
          17,
          29,
          26,
          26,
          27,
          51,
          104,
          108,
          99,
          77,
          73
         ],
         "yaxis": "y"
        },
        {
         "hovertemplate": "<b>%{hovertext}</b><br><br>Utbildningsområde=Teknik och tillverkning<br>Год=%{x}<br>Antal=%{marker.size}<extra></extra>",
         "hovertext": [
          "Teknik och tillverkning",
          "Teknik och tillverkning",
          "Teknik och tillverkning",
          "Teknik och tillverkning",
          "Teknik och tillverkning",
          "Teknik och tillverkning",
          "Teknik och tillverkning",
          "Teknik och tillverkning",
          "Teknik och tillverkning",
          "Teknik och tillverkning",
          "Teknik och tillverkning"
         ],
         "legendgroup": "Teknik och tillverkning",
         "marker": {
          "color": "#ab63fa",
          "size": [
           98,
           180,
           329,
           402,
           395,
           361,
           385,
           344,
           349,
           340,
           364
          ],
          "sizemode": "area",
          "sizeref": 0.1608,
          "symbol": "circle"
         },
         "mode": "markers",
         "name": "Teknik och tillverkning",
         "orientation": "v",
         "showlegend": true,
         "type": "scatter",
         "x": [
          2014,
          2015,
          2016,
          2017,
          2018,
          2019,
          2020,
          2021,
          2022,
          2023,
          2024
         ],
         "xaxis": "x",
         "y": [
          98,
          180,
          329,
          402,
          395,
          361,
          385,
          344,
          349,
          340,
          364
         ],
         "yaxis": "y"
        },
        {
         "hovertemplate": "<b>%{hovertext}</b><br><br>Utbildningsområde=Övrigt<br>Год=%{x}<br>Antal=%{marker.size}<extra></extra>",
         "hovertext": [
          "Övrigt",
          "Övrigt",
          "Övrigt",
          "Övrigt",
          "Övrigt",
          "Övrigt",
          "Övrigt",
          "Övrigt",
          "Övrigt",
          "Övrigt",
          "Övrigt"
         ],
         "legendgroup": "Övrigt",
         "marker": {
          "color": "#FFA15A",
          "size": [
           248,
           247,
           277,
           248,
           227,
           250,
           305,
           327,
           349,
           363,
           371
          ],
          "sizemode": "area",
          "sizeref": 0.1608,
          "symbol": "circle"
         },
         "mode": "markers",
         "name": "Övrigt",
         "orientation": "v",
         "showlegend": true,
         "type": "scatter",
         "x": [
          2014,
          2015,
          2016,
          2017,
          2018,
          2019,
          2020,
          2021,
          2022,
          2023,
          2024
         ],
         "xaxis": "x",
         "y": [
          248,
          247,
          277,
          248,
          227,
          250,
          305,
          327,
          349,
          363,
          371
         ],
         "yaxis": "y"
        }
       ],
       "layout": {
        "legend": {
         "itemsizing": "constant",
         "orientation": "v",
         "title": {
          "text": "Utbildningsområde"
         },
         "tracegroupgap": 0,
         "x": 1.05,
         "xanchor": "left",
         "y": 1,
         "yanchor": "top"
        },
        "margin": {
         "r": 150
        },
        "template": {
         "data": {
          "bar": [
           {
            "error_x": {
             "color": "#2a3f5f"
            },
            "error_y": {
             "color": "#2a3f5f"
            },
            "marker": {
             "line": {
              "color": "white",
              "width": 0.5
             },
             "pattern": {
              "fillmode": "overlay",
              "size": 10,
              "solidity": 0.2
             }
            },
            "type": "bar"
           }
          ],
          "barpolar": [
           {
            "marker": {
             "line": {
              "color": "white",
              "width": 0.5
             },
             "pattern": {
              "fillmode": "overlay",
              "size": 10,
              "solidity": 0.2
             }
            },
            "type": "barpolar"
           }
          ],
          "carpet": [
           {
            "aaxis": {
             "endlinecolor": "#2a3f5f",
             "gridcolor": "#C8D4E3",
             "linecolor": "#C8D4E3",
             "minorgridcolor": "#C8D4E3",
             "startlinecolor": "#2a3f5f"
            },
            "baxis": {
             "endlinecolor": "#2a3f5f",
             "gridcolor": "#C8D4E3",
             "linecolor": "#C8D4E3",
             "minorgridcolor": "#C8D4E3",
             "startlinecolor": "#2a3f5f"
            },
            "type": "carpet"
           }
          ],
          "choropleth": [
           {
            "colorbar": {
             "outlinewidth": 0,
             "ticks": ""
            },
            "type": "choropleth"
           }
          ],
          "contour": [
           {
            "colorbar": {
             "outlinewidth": 0,
             "ticks": ""
            },
            "colorscale": [
             [
              0,
              "#0d0887"
             ],
             [
              0.1111111111111111,
              "#46039f"
             ],
             [
              0.2222222222222222,
              "#7201a8"
             ],
             [
              0.3333333333333333,
              "#9c179e"
             ],
             [
              0.4444444444444444,
              "#bd3786"
             ],
             [
              0.5555555555555556,
              "#d8576b"
             ],
             [
              0.6666666666666666,
              "#ed7953"
             ],
             [
              0.7777777777777778,
              "#fb9f3a"
             ],
             [
              0.8888888888888888,
              "#fdca26"
             ],
             [
              1,
              "#f0f921"
             ]
            ],
            "type": "contour"
           }
          ],
          "contourcarpet": [
           {
            "colorbar": {
             "outlinewidth": 0,
             "ticks": ""
            },
            "type": "contourcarpet"
           }
          ],
          "heatmap": [
           {
            "colorbar": {
             "outlinewidth": 0,
             "ticks": ""
            },
            "colorscale": [
             [
              0,
              "#0d0887"
             ],
             [
              0.1111111111111111,
              "#46039f"
             ],
             [
              0.2222222222222222,
              "#7201a8"
             ],
             [
              0.3333333333333333,
              "#9c179e"
             ],
             [
              0.4444444444444444,
              "#bd3786"
             ],
             [
              0.5555555555555556,
              "#d8576b"
             ],
             [
              0.6666666666666666,
              "#ed7953"
             ],
             [
              0.7777777777777778,
              "#fb9f3a"
             ],
             [
              0.8888888888888888,
              "#fdca26"
             ],
             [
              1,
              "#f0f921"
             ]
            ],
            "type": "heatmap"
           }
          ],
          "heatmapgl": [
           {
            "colorbar": {
             "outlinewidth": 0,
             "ticks": ""
            },
            "colorscale": [
             [
              0,
              "#0d0887"
             ],
             [
              0.1111111111111111,
              "#46039f"
             ],
             [
              0.2222222222222222,
              "#7201a8"
             ],
             [
              0.3333333333333333,
              "#9c179e"
             ],
             [
              0.4444444444444444,
              "#bd3786"
             ],
             [
              0.5555555555555556,
              "#d8576b"
             ],
             [
              0.6666666666666666,
              "#ed7953"
             ],
             [
              0.7777777777777778,
              "#fb9f3a"
             ],
             [
              0.8888888888888888,
              "#fdca26"
             ],
             [
              1,
              "#f0f921"
             ]
            ],
            "type": "heatmapgl"
           }
          ],
          "histogram": [
           {
            "marker": {
             "pattern": {
              "fillmode": "overlay",
              "size": 10,
              "solidity": 0.2
             }
            },
            "type": "histogram"
           }
          ],
          "histogram2d": [
           {
            "colorbar": {
             "outlinewidth": 0,
             "ticks": ""
            },
            "colorscale": [
             [
              0,
              "#0d0887"
             ],
             [
              0.1111111111111111,
              "#46039f"
             ],
             [
              0.2222222222222222,
              "#7201a8"
             ],
             [
              0.3333333333333333,
              "#9c179e"
             ],
             [
              0.4444444444444444,
              "#bd3786"
             ],
             [
              0.5555555555555556,
              "#d8576b"
             ],
             [
              0.6666666666666666,
              "#ed7953"
             ],
             [
              0.7777777777777778,
              "#fb9f3a"
             ],
             [
              0.8888888888888888,
              "#fdca26"
             ],
             [
              1,
              "#f0f921"
             ]
            ],
            "type": "histogram2d"
           }
          ],
          "histogram2dcontour": [
           {
            "colorbar": {
             "outlinewidth": 0,
             "ticks": ""
            },
            "colorscale": [
             [
              0,
              "#0d0887"
             ],
             [
              0.1111111111111111,
              "#46039f"
             ],
             [
              0.2222222222222222,
              "#7201a8"
             ],
             [
              0.3333333333333333,
              "#9c179e"
             ],
             [
              0.4444444444444444,
              "#bd3786"
             ],
             [
              0.5555555555555556,
              "#d8576b"
             ],
             [
              0.6666666666666666,
              "#ed7953"
             ],
             [
              0.7777777777777778,
              "#fb9f3a"
             ],
             [
              0.8888888888888888,
              "#fdca26"
             ],
             [
              1,
              "#f0f921"
             ]
            ],
            "type": "histogram2dcontour"
           }
          ],
          "mesh3d": [
           {
            "colorbar": {
             "outlinewidth": 0,
             "ticks": ""
            },
            "type": "mesh3d"
           }
          ],
          "parcoords": [
           {
            "line": {
             "colorbar": {
              "outlinewidth": 0,
              "ticks": ""
             }
            },
            "type": "parcoords"
           }
          ],
          "pie": [
           {
            "automargin": true,
            "type": "pie"
           }
          ],
          "scatter": [
           {
            "fillpattern": {
             "fillmode": "overlay",
             "size": 10,
             "solidity": 0.2
            },
            "type": "scatter"
           }
          ],
          "scatter3d": [
           {
            "line": {
             "colorbar": {
              "outlinewidth": 0,
              "ticks": ""
             }
            },
            "marker": {
             "colorbar": {
              "outlinewidth": 0,
              "ticks": ""
             }
            },
            "type": "scatter3d"
           }
          ],
          "scattercarpet": [
           {
            "marker": {
             "colorbar": {
              "outlinewidth": 0,
              "ticks": ""
             }
            },
            "type": "scattercarpet"
           }
          ],
          "scattergeo": [
           {
            "marker": {
             "colorbar": {
              "outlinewidth": 0,
              "ticks": ""
             }
            },
            "type": "scattergeo"
           }
          ],
          "scattergl": [
           {
            "marker": {
             "colorbar": {
              "outlinewidth": 0,
              "ticks": ""
             }
            },
            "type": "scattergl"
           }
          ],
          "scattermapbox": [
           {
            "marker": {
             "colorbar": {
              "outlinewidth": 0,
              "ticks": ""
             }
            },
            "type": "scattermapbox"
           }
          ],
          "scatterpolar": [
           {
            "marker": {
             "colorbar": {
              "outlinewidth": 0,
              "ticks": ""
             }
            },
            "type": "scatterpolar"
           }
          ],
          "scatterpolargl": [
           {
            "marker": {
             "colorbar": {
              "outlinewidth": 0,
              "ticks": ""
             }
            },
            "type": "scatterpolargl"
           }
          ],
          "scatterternary": [
           {
            "marker": {
             "colorbar": {
              "outlinewidth": 0,
              "ticks": ""
             }
            },
            "type": "scatterternary"
           }
          ],
          "surface": [
           {
            "colorbar": {
             "outlinewidth": 0,
             "ticks": ""
            },
            "colorscale": [
             [
              0,
              "#0d0887"
             ],
             [
              0.1111111111111111,
              "#46039f"
             ],
             [
              0.2222222222222222,
              "#7201a8"
             ],
             [
              0.3333333333333333,
              "#9c179e"
             ],
             [
              0.4444444444444444,
              "#bd3786"
             ],
             [
              0.5555555555555556,
              "#d8576b"
             ],
             [
              0.6666666666666666,
              "#ed7953"
             ],
             [
              0.7777777777777778,
              "#fb9f3a"
             ],
             [
              0.8888888888888888,
              "#fdca26"
             ],
             [
              1,
              "#f0f921"
             ]
            ],
            "type": "surface"
           }
          ],
          "table": [
           {
            "cells": {
             "fill": {
              "color": "#EBF0F8"
             },
             "line": {
              "color": "white"
             }
            },
            "header": {
             "fill": {
              "color": "#C8D4E3"
             },
             "line": {
              "color": "white"
             }
            },
            "type": "table"
           }
          ]
         },
         "layout": {
          "annotationdefaults": {
           "arrowcolor": "#2a3f5f",
           "arrowhead": 0,
           "arrowwidth": 1
          },
          "autotypenumbers": "strict",
          "coloraxis": {
           "colorbar": {
            "outlinewidth": 0,
            "ticks": ""
           }
          },
          "colorscale": {
           "diverging": [
            [
             0,
             "#8e0152"
            ],
            [
             0.1,
             "#c51b7d"
            ],
            [
             0.2,
             "#de77ae"
            ],
            [
             0.3,
             "#f1b6da"
            ],
            [
             0.4,
             "#fde0ef"
            ],
            [
             0.5,
             "#f7f7f7"
            ],
            [
             0.6,
             "#e6f5d0"
            ],
            [
             0.7,
             "#b8e186"
            ],
            [
             0.8,
             "#7fbc41"
            ],
            [
             0.9,
             "#4d9221"
            ],
            [
             1,
             "#276419"
            ]
           ],
           "sequential": [
            [
             0,
             "#0d0887"
            ],
            [
             0.1111111111111111,
             "#46039f"
            ],
            [
             0.2222222222222222,
             "#7201a8"
            ],
            [
             0.3333333333333333,
             "#9c179e"
            ],
            [
             0.4444444444444444,
             "#bd3786"
            ],
            [
             0.5555555555555556,
             "#d8576b"
            ],
            [
             0.6666666666666666,
             "#ed7953"
            ],
            [
             0.7777777777777778,
             "#fb9f3a"
            ],
            [
             0.8888888888888888,
             "#fdca26"
            ],
            [
             1,
             "#f0f921"
            ]
           ],
           "sequentialminus": [
            [
             0,
             "#0d0887"
            ],
            [
             0.1111111111111111,
             "#46039f"
            ],
            [
             0.2222222222222222,
             "#7201a8"
            ],
            [
             0.3333333333333333,
             "#9c179e"
            ],
            [
             0.4444444444444444,
             "#bd3786"
            ],
            [
             0.5555555555555556,
             "#d8576b"
            ],
            [
             0.6666666666666666,
             "#ed7953"
            ],
            [
             0.7777777777777778,
             "#fb9f3a"
            ],
            [
             0.8888888888888888,
             "#fdca26"
            ],
            [
             1,
             "#f0f921"
            ]
           ]
          },
          "colorway": [
           "#636efa",
           "#EF553B",
           "#00cc96",
           "#ab63fa",
           "#FFA15A",
           "#19d3f3",
           "#FF6692",
           "#B6E880",
           "#FF97FF",
           "#FECB52"
          ],
          "font": {
           "color": "#2a3f5f"
          },
          "geo": {
           "bgcolor": "white",
           "lakecolor": "white",
           "landcolor": "white",
           "showlakes": true,
           "showland": true,
           "subunitcolor": "#C8D4E3"
          },
          "hoverlabel": {
           "align": "left"
          },
          "hovermode": "closest",
          "mapbox": {
           "style": "light"
          },
          "paper_bgcolor": "white",
          "plot_bgcolor": "white",
          "polar": {
           "angularaxis": {
            "gridcolor": "#EBF0F8",
            "linecolor": "#EBF0F8",
            "ticks": ""
           },
           "bgcolor": "white",
           "radialaxis": {
            "gridcolor": "#EBF0F8",
            "linecolor": "#EBF0F8",
            "ticks": ""
           }
          },
          "scene": {
           "xaxis": {
            "backgroundcolor": "white",
            "gridcolor": "#DFE8F3",
            "gridwidth": 2,
            "linecolor": "#EBF0F8",
            "showbackground": true,
            "ticks": "",
            "zerolinecolor": "#EBF0F8"
           },
           "yaxis": {
            "backgroundcolor": "white",
            "gridcolor": "#DFE8F3",
            "gridwidth": 2,
            "linecolor": "#EBF0F8",
            "showbackground": true,
            "ticks": "",
            "zerolinecolor": "#EBF0F8"
           },
           "zaxis": {
            "backgroundcolor": "white",
            "gridcolor": "#DFE8F3",
            "gridwidth": 2,
            "linecolor": "#EBF0F8",
            "showbackground": true,
            "ticks": "",
            "zerolinecolor": "#EBF0F8"
           }
          },
          "shapedefaults": {
           "line": {
            "color": "#2a3f5f"
           }
          },
          "ternary": {
           "aaxis": {
            "gridcolor": "#DFE8F3",
            "linecolor": "#A2B1C6",
            "ticks": ""
           },
           "baxis": {
            "gridcolor": "#DFE8F3",
            "linecolor": "#A2B1C6",
            "ticks": ""
           },
           "bgcolor": "white",
           "caxis": {
            "gridcolor": "#DFE8F3",
            "linecolor": "#A2B1C6",
            "ticks": ""
           }
          },
          "title": {
           "x": 0.05
          },
          "xaxis": {
           "automargin": true,
           "gridcolor": "#EBF0F8",
           "linecolor": "#EBF0F8",
           "ticks": "",
           "title": {
            "standoff": 15
           },
           "zerolinecolor": "#EBF0F8",
           "zerolinewidth": 2
          },
          "yaxis": {
           "automargin": true,
           "gridcolor": "#EBF0F8",
           "linecolor": "#EBF0F8",
           "ticks": "",
           "title": {
            "standoff": 15
           },
           "zerolinecolor": "#EBF0F8",
           "zerolinewidth": 2
          }
         }
        },
        "title": {
         "text": "Studerande i yrkeshögskolans smala yrkesområden  2014-2024, efter utbildningsområde"
        },
        "xaxis": {
         "anchor": "y",
         "domain": [
          0,
          1
         ],
         "dtick": 1,
         "tickmode": "linear",
         "title": {
          "text": "Год"
         }
        },
        "yaxis": {
         "anchor": "x",
         "domain": [
          0,
          1
         ],
         "title": {
          "text": "Antal"
         }
        }
       }
      }
     },
     "metadata": {},
     "output_type": "display_data"
    }
   ],
   "source": [
    "fig = px.scatter(\n",
    "    df_filtered,\n",
    "    x='År',                         \n",
    "    y='Antal',                       \n",
    "    size='Antal',                   \n",
    "    color=category_column,          \n",
    "    hover_name=category_column,      \n",
    "    size_max=50,                    \n",
    "    title='Studerande i yrkeshögskolans smala yrkesområden  2014-2024, efter utbildningsområde',\n",
    "    labels={'År': 'År', 'Antal': 'Antal', category_column: 'Utbildningsområde'},\n",
    "    template=\"plotly_white\"          \n",
    ")\n",
    "\n",
    "fig.update_layout(\n",
    "    xaxis=dict(\n",
    "        tickmode='linear',           \n",
    "        dtick=1                      \n",
    "    ),\n",
    "    legend=dict(\n",
    "        title='Utbildningsområde',\n",
    "        orientation='v',             \n",
    "        yanchor='top',               \n",
    "        y=1,                        \n",
    "        xanchor='left',              \n",
    "        x=1.05,                      \n",
    "    ),\n",
    "  \n",
    "    margin=dict(r=150)            \n",
    ")\n",
    "\n",
    "fig.show()"
   ]
  },
  {
   "cell_type": "code",
   "execution_count": 50,
   "id": "fb3f147f",
   "metadata": {},
   "outputs": [
    {
     "name": "stderr",
     "output_type": "stream",
     "text": [
      "/Users/ira/Documents/DE24/github/the-skool-group5/.venv/lib/python3.12/site-packages/plotly/express/_core.py:1979: FutureWarning:\n",
      "\n",
      "When grouping with a length-1 list-like, you will need to pass a length-1 tuple to get_group in a future version of pandas. Pass `(name,)` instead of `name` to silence this warning.\n",
      "\n"
     ]
    },
    {
     "data": {
      "application/vnd.plotly.v1+json": {
       "config": {
        "plotlyServerURL": "https://plot.ly"
       },
       "data": [
        {
         "hovertemplate": "Профессиональная область=Kultur, media och design<br>Год=%{x}<br>Количество=%{y}<extra></extra>",
         "legendgroup": "Kultur, media och design",
         "line": {
          "color": "#636efa",
          "dash": "solid"
         },
         "marker": {
          "symbol": "circle"
         },
         "mode": "lines+markers",
         "name": "Kultur, media och design",
         "orientation": "v",
         "showlegend": true,
         "type": "scatter",
         "x": [
          2014,
          2015,
          2016,
          2017,
          2018,
          2019,
          2020,
          2021,
          2022,
          2023,
          2024
         ],
         "xaxis": "x",
         "y": [
          68,
          100,
          124,
          123,
          85,
          93,
          108,
          121,
          140,
          130,
          119
         ],
         "yaxis": "y"
        },
        {
         "hovertemplate": "Профессиональная область=Lantbruk, djurvård, trädgård, skog och fiske<br>Год=%{x}<br>Количество=%{y}<extra></extra>",
         "legendgroup": "Lantbruk, djurvård, trädgård, skog och fiske",
         "line": {
          "color": "#EF553B",
          "dash": "solid"
         },
         "marker": {
          "symbol": "circle"
         },
         "mode": "lines+markers",
         "name": "Lantbruk, djurvård, trädgård, skog och fiske",
         "orientation": "v",
         "showlegend": true,
         "type": "scatter",
         "x": [
          2014,
          2015,
          2016,
          2017,
          2018,
          2019,
          2020,
          2021,
          2022,
          2023,
          2024
         ],
         "xaxis": "x",
         "y": [
          53,
          56,
          49,
          54,
          61,
          48,
          33,
          33,
          35,
          35,
          35
         ],
         "yaxis": "y"
        },
        {
         "hovertemplate": "Профессиональная область=Samhällsbyggnad och byggteknik<br>Год=%{x}<br>Количество=%{y}<extra></extra>",
         "legendgroup": "Samhällsbyggnad och byggteknik",
         "line": {
          "color": "#00cc96",
          "dash": "solid"
         },
         "marker": {
          "symbol": "circle"
         },
         "mode": "lines+markers",
         "name": "Samhällsbyggnad och byggteknik",
         "orientation": "v",
         "showlegend": true,
         "type": "scatter",
         "x": [
          2014,
          2015,
          2016,
          2017,
          2018,
          2019,
          2020,
          2021,
          2022,
          2023,
          2024
         ],
         "xaxis": "x",
         "y": [
          17,
          29,
          26,
          26,
          27,
          51,
          104,
          108,
          99,
          77,
          73
         ],
         "yaxis": "y"
        },
        {
         "hovertemplate": "Профессиональная область=Teknik och tillverkning<br>Год=%{x}<br>Количество=%{y}<extra></extra>",
         "legendgroup": "Teknik och tillverkning",
         "line": {
          "color": "#ab63fa",
          "dash": "solid"
         },
         "marker": {
          "symbol": "circle"
         },
         "mode": "lines+markers",
         "name": "Teknik och tillverkning",
         "orientation": "v",
         "showlegend": true,
         "type": "scatter",
         "x": [
          2014,
          2015,
          2016,
          2017,
          2018,
          2019,
          2020,
          2021,
          2022,
          2023,
          2024
         ],
         "xaxis": "x",
         "y": [
          98,
          180,
          329,
          402,
          395,
          361,
          385,
          344,
          349,
          340,
          364
         ],
         "yaxis": "y"
        },
        {
         "hovertemplate": "Профессиональная область=Övrigt<br>Год=%{x}<br>Количество=%{y}<extra></extra>",
         "legendgroup": "Övrigt",
         "line": {
          "color": "#FFA15A",
          "dash": "solid"
         },
         "marker": {
          "symbol": "circle"
         },
         "mode": "lines+markers",
         "name": "Övrigt",
         "orientation": "v",
         "showlegend": true,
         "type": "scatter",
         "x": [
          2014,
          2015,
          2016,
          2017,
          2018,
          2019,
          2020,
          2021,
          2022,
          2023,
          2024
         ],
         "xaxis": "x",
         "y": [
          248,
          247,
          277,
          248,
          227,
          250,
          305,
          327,
          349,
          363,
          371
         ],
         "yaxis": "y"
        }
       ],
       "layout": {
        "legend": {
         "orientation": "v",
         "title": {
          "text": "Профессиональная область"
         },
         "tracegroupgap": 0,
         "x": 1.1,
         "xanchor": "right",
         "y": 1,
         "yanchor": "top"
        },
        "template": {
         "data": {
          "bar": [
           {
            "error_x": {
             "color": "#2a3f5f"
            },
            "error_y": {
             "color": "#2a3f5f"
            },
            "marker": {
             "line": {
              "color": "white",
              "width": 0.5
             },
             "pattern": {
              "fillmode": "overlay",
              "size": 10,
              "solidity": 0.2
             }
            },
            "type": "bar"
           }
          ],
          "barpolar": [
           {
            "marker": {
             "line": {
              "color": "white",
              "width": 0.5
             },
             "pattern": {
              "fillmode": "overlay",
              "size": 10,
              "solidity": 0.2
             }
            },
            "type": "barpolar"
           }
          ],
          "carpet": [
           {
            "aaxis": {
             "endlinecolor": "#2a3f5f",
             "gridcolor": "#C8D4E3",
             "linecolor": "#C8D4E3",
             "minorgridcolor": "#C8D4E3",
             "startlinecolor": "#2a3f5f"
            },
            "baxis": {
             "endlinecolor": "#2a3f5f",
             "gridcolor": "#C8D4E3",
             "linecolor": "#C8D4E3",
             "minorgridcolor": "#C8D4E3",
             "startlinecolor": "#2a3f5f"
            },
            "type": "carpet"
           }
          ],
          "choropleth": [
           {
            "colorbar": {
             "outlinewidth": 0,
             "ticks": ""
            },
            "type": "choropleth"
           }
          ],
          "contour": [
           {
            "colorbar": {
             "outlinewidth": 0,
             "ticks": ""
            },
            "colorscale": [
             [
              0,
              "#0d0887"
             ],
             [
              0.1111111111111111,
              "#46039f"
             ],
             [
              0.2222222222222222,
              "#7201a8"
             ],
             [
              0.3333333333333333,
              "#9c179e"
             ],
             [
              0.4444444444444444,
              "#bd3786"
             ],
             [
              0.5555555555555556,
              "#d8576b"
             ],
             [
              0.6666666666666666,
              "#ed7953"
             ],
             [
              0.7777777777777778,
              "#fb9f3a"
             ],
             [
              0.8888888888888888,
              "#fdca26"
             ],
             [
              1,
              "#f0f921"
             ]
            ],
            "type": "contour"
           }
          ],
          "contourcarpet": [
           {
            "colorbar": {
             "outlinewidth": 0,
             "ticks": ""
            },
            "type": "contourcarpet"
           }
          ],
          "heatmap": [
           {
            "colorbar": {
             "outlinewidth": 0,
             "ticks": ""
            },
            "colorscale": [
             [
              0,
              "#0d0887"
             ],
             [
              0.1111111111111111,
              "#46039f"
             ],
             [
              0.2222222222222222,
              "#7201a8"
             ],
             [
              0.3333333333333333,
              "#9c179e"
             ],
             [
              0.4444444444444444,
              "#bd3786"
             ],
             [
              0.5555555555555556,
              "#d8576b"
             ],
             [
              0.6666666666666666,
              "#ed7953"
             ],
             [
              0.7777777777777778,
              "#fb9f3a"
             ],
             [
              0.8888888888888888,
              "#fdca26"
             ],
             [
              1,
              "#f0f921"
             ]
            ],
            "type": "heatmap"
           }
          ],
          "heatmapgl": [
           {
            "colorbar": {
             "outlinewidth": 0,
             "ticks": ""
            },
            "colorscale": [
             [
              0,
              "#0d0887"
             ],
             [
              0.1111111111111111,
              "#46039f"
             ],
             [
              0.2222222222222222,
              "#7201a8"
             ],
             [
              0.3333333333333333,
              "#9c179e"
             ],
             [
              0.4444444444444444,
              "#bd3786"
             ],
             [
              0.5555555555555556,
              "#d8576b"
             ],
             [
              0.6666666666666666,
              "#ed7953"
             ],
             [
              0.7777777777777778,
              "#fb9f3a"
             ],
             [
              0.8888888888888888,
              "#fdca26"
             ],
             [
              1,
              "#f0f921"
             ]
            ],
            "type": "heatmapgl"
           }
          ],
          "histogram": [
           {
            "marker": {
             "pattern": {
              "fillmode": "overlay",
              "size": 10,
              "solidity": 0.2
             }
            },
            "type": "histogram"
           }
          ],
          "histogram2d": [
           {
            "colorbar": {
             "outlinewidth": 0,
             "ticks": ""
            },
            "colorscale": [
             [
              0,
              "#0d0887"
             ],
             [
              0.1111111111111111,
              "#46039f"
             ],
             [
              0.2222222222222222,
              "#7201a8"
             ],
             [
              0.3333333333333333,
              "#9c179e"
             ],
             [
              0.4444444444444444,
              "#bd3786"
             ],
             [
              0.5555555555555556,
              "#d8576b"
             ],
             [
              0.6666666666666666,
              "#ed7953"
             ],
             [
              0.7777777777777778,
              "#fb9f3a"
             ],
             [
              0.8888888888888888,
              "#fdca26"
             ],
             [
              1,
              "#f0f921"
             ]
            ],
            "type": "histogram2d"
           }
          ],
          "histogram2dcontour": [
           {
            "colorbar": {
             "outlinewidth": 0,
             "ticks": ""
            },
            "colorscale": [
             [
              0,
              "#0d0887"
             ],
             [
              0.1111111111111111,
              "#46039f"
             ],
             [
              0.2222222222222222,
              "#7201a8"
             ],
             [
              0.3333333333333333,
              "#9c179e"
             ],
             [
              0.4444444444444444,
              "#bd3786"
             ],
             [
              0.5555555555555556,
              "#d8576b"
             ],
             [
              0.6666666666666666,
              "#ed7953"
             ],
             [
              0.7777777777777778,
              "#fb9f3a"
             ],
             [
              0.8888888888888888,
              "#fdca26"
             ],
             [
              1,
              "#f0f921"
             ]
            ],
            "type": "histogram2dcontour"
           }
          ],
          "mesh3d": [
           {
            "colorbar": {
             "outlinewidth": 0,
             "ticks": ""
            },
            "type": "mesh3d"
           }
          ],
          "parcoords": [
           {
            "line": {
             "colorbar": {
              "outlinewidth": 0,
              "ticks": ""
             }
            },
            "type": "parcoords"
           }
          ],
          "pie": [
           {
            "automargin": true,
            "type": "pie"
           }
          ],
          "scatter": [
           {
            "fillpattern": {
             "fillmode": "overlay",
             "size": 10,
             "solidity": 0.2
            },
            "type": "scatter"
           }
          ],
          "scatter3d": [
           {
            "line": {
             "colorbar": {
              "outlinewidth": 0,
              "ticks": ""
             }
            },
            "marker": {
             "colorbar": {
              "outlinewidth": 0,
              "ticks": ""
             }
            },
            "type": "scatter3d"
           }
          ],
          "scattercarpet": [
           {
            "marker": {
             "colorbar": {
              "outlinewidth": 0,
              "ticks": ""
             }
            },
            "type": "scattercarpet"
           }
          ],
          "scattergeo": [
           {
            "marker": {
             "colorbar": {
              "outlinewidth": 0,
              "ticks": ""
             }
            },
            "type": "scattergeo"
           }
          ],
          "scattergl": [
           {
            "marker": {
             "colorbar": {
              "outlinewidth": 0,
              "ticks": ""
             }
            },
            "type": "scattergl"
           }
          ],
          "scattermapbox": [
           {
            "marker": {
             "colorbar": {
              "outlinewidth": 0,
              "ticks": ""
             }
            },
            "type": "scattermapbox"
           }
          ],
          "scatterpolar": [
           {
            "marker": {
             "colorbar": {
              "outlinewidth": 0,
              "ticks": ""
             }
            },
            "type": "scatterpolar"
           }
          ],
          "scatterpolargl": [
           {
            "marker": {
             "colorbar": {
              "outlinewidth": 0,
              "ticks": ""
             }
            },
            "type": "scatterpolargl"
           }
          ],
          "scatterternary": [
           {
            "marker": {
             "colorbar": {
              "outlinewidth": 0,
              "ticks": ""
             }
            },
            "type": "scatterternary"
           }
          ],
          "surface": [
           {
            "colorbar": {
             "outlinewidth": 0,
             "ticks": ""
            },
            "colorscale": [
             [
              0,
              "#0d0887"
             ],
             [
              0.1111111111111111,
              "#46039f"
             ],
             [
              0.2222222222222222,
              "#7201a8"
             ],
             [
              0.3333333333333333,
              "#9c179e"
             ],
             [
              0.4444444444444444,
              "#bd3786"
             ],
             [
              0.5555555555555556,
              "#d8576b"
             ],
             [
              0.6666666666666666,
              "#ed7953"
             ],
             [
              0.7777777777777778,
              "#fb9f3a"
             ],
             [
              0.8888888888888888,
              "#fdca26"
             ],
             [
              1,
              "#f0f921"
             ]
            ],
            "type": "surface"
           }
          ],
          "table": [
           {
            "cells": {
             "fill": {
              "color": "#EBF0F8"
             },
             "line": {
              "color": "white"
             }
            },
            "header": {
             "fill": {
              "color": "#C8D4E3"
             },
             "line": {
              "color": "white"
             }
            },
            "type": "table"
           }
          ]
         },
         "layout": {
          "annotationdefaults": {
           "arrowcolor": "#2a3f5f",
           "arrowhead": 0,
           "arrowwidth": 1
          },
          "autotypenumbers": "strict",
          "coloraxis": {
           "colorbar": {
            "outlinewidth": 0,
            "ticks": ""
           }
          },
          "colorscale": {
           "diverging": [
            [
             0,
             "#8e0152"
            ],
            [
             0.1,
             "#c51b7d"
            ],
            [
             0.2,
             "#de77ae"
            ],
            [
             0.3,
             "#f1b6da"
            ],
            [
             0.4,
             "#fde0ef"
            ],
            [
             0.5,
             "#f7f7f7"
            ],
            [
             0.6,
             "#e6f5d0"
            ],
            [
             0.7,
             "#b8e186"
            ],
            [
             0.8,
             "#7fbc41"
            ],
            [
             0.9,
             "#4d9221"
            ],
            [
             1,
             "#276419"
            ]
           ],
           "sequential": [
            [
             0,
             "#0d0887"
            ],
            [
             0.1111111111111111,
             "#46039f"
            ],
            [
             0.2222222222222222,
             "#7201a8"
            ],
            [
             0.3333333333333333,
             "#9c179e"
            ],
            [
             0.4444444444444444,
             "#bd3786"
            ],
            [
             0.5555555555555556,
             "#d8576b"
            ],
            [
             0.6666666666666666,
             "#ed7953"
            ],
            [
             0.7777777777777778,
             "#fb9f3a"
            ],
            [
             0.8888888888888888,
             "#fdca26"
            ],
            [
             1,
             "#f0f921"
            ]
           ],
           "sequentialminus": [
            [
             0,
             "#0d0887"
            ],
            [
             0.1111111111111111,
             "#46039f"
            ],
            [
             0.2222222222222222,
             "#7201a8"
            ],
            [
             0.3333333333333333,
             "#9c179e"
            ],
            [
             0.4444444444444444,
             "#bd3786"
            ],
            [
             0.5555555555555556,
             "#d8576b"
            ],
            [
             0.6666666666666666,
             "#ed7953"
            ],
            [
             0.7777777777777778,
             "#fb9f3a"
            ],
            [
             0.8888888888888888,
             "#fdca26"
            ],
            [
             1,
             "#f0f921"
            ]
           ]
          },
          "colorway": [
           "#636efa",
           "#EF553B",
           "#00cc96",
           "#ab63fa",
           "#FFA15A",
           "#19d3f3",
           "#FF6692",
           "#B6E880",
           "#FF97FF",
           "#FECB52"
          ],
          "font": {
           "color": "#2a3f5f"
          },
          "geo": {
           "bgcolor": "white",
           "lakecolor": "white",
           "landcolor": "white",
           "showlakes": true,
           "showland": true,
           "subunitcolor": "#C8D4E3"
          },
          "hoverlabel": {
           "align": "left"
          },
          "hovermode": "closest",
          "mapbox": {
           "style": "light"
          },
          "paper_bgcolor": "white",
          "plot_bgcolor": "white",
          "polar": {
           "angularaxis": {
            "gridcolor": "#EBF0F8",
            "linecolor": "#EBF0F8",
            "ticks": ""
           },
           "bgcolor": "white",
           "radialaxis": {
            "gridcolor": "#EBF0F8",
            "linecolor": "#EBF0F8",
            "ticks": ""
           }
          },
          "scene": {
           "xaxis": {
            "backgroundcolor": "white",
            "gridcolor": "#DFE8F3",
            "gridwidth": 2,
            "linecolor": "#EBF0F8",
            "showbackground": true,
            "ticks": "",
            "zerolinecolor": "#EBF0F8"
           },
           "yaxis": {
            "backgroundcolor": "white",
            "gridcolor": "#DFE8F3",
            "gridwidth": 2,
            "linecolor": "#EBF0F8",
            "showbackground": true,
            "ticks": "",
            "zerolinecolor": "#EBF0F8"
           },
           "zaxis": {
            "backgroundcolor": "white",
            "gridcolor": "#DFE8F3",
            "gridwidth": 2,
            "linecolor": "#EBF0F8",
            "showbackground": true,
            "ticks": "",
            "zerolinecolor": "#EBF0F8"
           }
          },
          "shapedefaults": {
           "line": {
            "color": "#2a3f5f"
           }
          },
          "ternary": {
           "aaxis": {
            "gridcolor": "#DFE8F3",
            "linecolor": "#A2B1C6",
            "ticks": ""
           },
           "baxis": {
            "gridcolor": "#DFE8F3",
            "linecolor": "#A2B1C6",
            "ticks": ""
           },
           "bgcolor": "white",
           "caxis": {
            "gridcolor": "#DFE8F3",
            "linecolor": "#A2B1C6",
            "ticks": ""
           }
          },
          "title": {
           "x": 0.05
          },
          "xaxis": {
           "automargin": true,
           "gridcolor": "#EBF0F8",
           "linecolor": "#EBF0F8",
           "ticks": "",
           "title": {
            "standoff": 15
           },
           "zerolinecolor": "#EBF0F8",
           "zerolinewidth": 2
          },
          "yaxis": {
           "automargin": true,
           "gridcolor": "#EBF0F8",
           "linecolor": "#EBF0F8",
           "ticks": "",
           "title": {
            "standoff": 15
           },
           "zerolinecolor": "#EBF0F8",
           "zerolinewidth": 2
          }
         }
        },
        "title": {
         "text": "Тренды по профессиональным областям (2014-2024)"
        },
        "xaxis": {
         "anchor": "y",
         "domain": [
          0,
          1
         ],
         "dtick": 1,
         "tickmode": "linear",
         "title": {
          "text": "Год"
         }
        },
        "yaxis": {
         "anchor": "x",
         "domain": [
          0,
          1
         ],
         "title": {
          "text": "Количество"
         }
        }
       }
      }
     },
     "metadata": {},
     "output_type": "display_data"
    }
   ],
   "source": [
    "\n",
    "fig_line = px.line(\n",
    "    df_filtered, \n",
    "    x='År', \n",
    "    y='Antal', \n",
    "    color=category_column,\n",
    "    markers=True,\n",
    "    title='Тренды по профессиональным областям (2014-2024)',\n",
    "    labels={'År': 'Год', 'Antal': 'Количество', category_column: 'Профессиональная область'},\n",
    "    template=\"plotly_white\"\n",
    ")\n",
    "\n",
    "fig_line.update_layout(\n",
    "    xaxis=dict(\n",
    "        tickmode='linear',\n",
    "        dtick=1\n",
    "    ),\n",
    "    legend=dict(\n",
    "        title='Профессиональная область',\n",
    "        orientation='v',\n",
    "        yanchor='top',\n",
    "        y=1,\n",
    "        xanchor='right',\n",
    "        x=1.1\n",
    "    )\n",
    ")\n",
    "\n",
    "fig_line.show()"
   ]
  },
  {
   "cell_type": "code",
   "execution_count": null,
   "id": "69ca2a30",
   "metadata": {},
   "outputs": [
    {
     "data": {
      "application/vnd.plotly.v1+json": {
       "config": {
        "plotlyServerURL": "https://plot.ly"
       },
       "data": [
        {
         "hovertemplate": "Utbildningsområde=%{x}<br>År=2014<br>Antal=%{marker.size}<extra></extra>",
         "legendgroup": "Kultur, media och design",
         "marker": {
          "color": "#636efa",
          "size": [
           68
          ],
          "sizemode": "area",
          "sizeref": 0.1985185185185185,
          "symbol": "circle"
         },
         "mode": "markers",
         "name": "Kultur, media och design",
         "orientation": "v",
         "showlegend": true,
         "type": "scatter",
         "x": [
          "Kultur, media och design"
         ],
         "xaxis": "x",
         "y": [
          68
         ],
         "yaxis": "y"
        },
        {
         "hovertemplate": "Utbildningsområde=%{x}<br>År=2014<br>Antal=%{marker.size}<extra></extra>",
         "legendgroup": "Lantbruk, djurvård, trädgård, skog och fiske",
         "marker": {
          "color": "#EF553B",
          "size": [
           53
          ],
          "sizemode": "area",
          "sizeref": 0.1985185185185185,
          "symbol": "circle"
         },
         "mode": "markers",
         "name": "Lantbruk, djurvård, trädgård, skog och fiske",
         "orientation": "v",
         "showlegend": true,
         "type": "scatter",
         "x": [
          "Lantbruk, djurvård, trädgård, skog och fiske"
         ],
         "xaxis": "x",
         "y": [
          53
         ],
         "yaxis": "y"
        },
        {
         "hovertemplate": "Utbildningsområde=%{x}<br>År=2014<br>Antal=%{marker.size}<extra></extra>",
         "legendgroup": "Samhällsbyggnad och byggteknik",
         "marker": {
          "color": "#00cc96",
          "size": [
           17
          ],
          "sizemode": "area",
          "sizeref": 0.1985185185185185,
          "symbol": "circle"
         },
         "mode": "markers",
         "name": "Samhällsbyggnad och byggteknik",
         "orientation": "v",
         "showlegend": true,
         "type": "scatter",
         "x": [
          "Samhällsbyggnad och byggteknik"
         ],
         "xaxis": "x",
         "y": [
          17
         ],
         "yaxis": "y"
        },
        {
         "hovertemplate": "Utbildningsområde=%{x}<br>År=2014<br>Antal=%{marker.size}<extra></extra>",
         "legendgroup": "Teknik och tillverkning",
         "marker": {
          "color": "#ab63fa",
          "size": [
           98
          ],
          "sizemode": "area",
          "sizeref": 0.1985185185185185,
          "symbol": "circle"
         },
         "mode": "markers",
         "name": "Teknik och tillverkning",
         "orientation": "v",
         "showlegend": true,
         "type": "scatter",
         "x": [
          "Teknik och tillverkning"
         ],
         "xaxis": "x",
         "y": [
          98
         ],
         "yaxis": "y"
        },
        {
         "hovertemplate": "Utbildningsområde=%{x}<br>År=2014<br>Antal=%{marker.size}<extra></extra>",
         "legendgroup": "Övrigt",
         "marker": {
          "color": "#FFA15A",
          "size": [
           248
          ],
          "sizemode": "area",
          "sizeref": 0.1985185185185185,
          "symbol": "circle"
         },
         "mode": "markers",
         "name": "Övrigt",
         "orientation": "v",
         "showlegend": true,
         "type": "scatter",
         "x": [
          "Övrigt"
         ],
         "xaxis": "x",
         "y": [
          248
         ],
         "yaxis": "y"
        }
       ],
       "frames": [
        {
         "data": [
          {
           "hovertemplate": "Utbildningsområde=%{x}<br>År=2014<br>Antal=%{marker.size}<extra></extra>",
           "legendgroup": "Kultur, media och design",
           "marker": {
            "color": "#636efa",
            "size": [
             68
            ],
            "sizemode": "area",
            "sizeref": 0.1985185185185185,
            "symbol": "circle"
           },
           "mode": "markers",
           "name": "Kultur, media och design",
           "orientation": "v",
           "showlegend": true,
           "type": "scatter",
           "x": [
            "Kultur, media och design"
           ],
           "xaxis": "x",
           "y": [
            68
           ],
           "yaxis": "y"
          },
          {
           "hovertemplate": "Utbildningsområde=%{x}<br>År=2014<br>Antal=%{marker.size}<extra></extra>",
           "legendgroup": "Lantbruk, djurvård, trädgård, skog och fiske",
           "marker": {
            "color": "#EF553B",
            "size": [
             53
            ],
            "sizemode": "area",
            "sizeref": 0.1985185185185185,
            "symbol": "circle"
           },
           "mode": "markers",
           "name": "Lantbruk, djurvård, trädgård, skog och fiske",
           "orientation": "v",
           "showlegend": true,
           "type": "scatter",
           "x": [
            "Lantbruk, djurvård, trädgård, skog och fiske"
           ],
           "xaxis": "x",
           "y": [
            53
           ],
           "yaxis": "y"
          },
          {
           "hovertemplate": "Utbildningsområde=%{x}<br>År=2014<br>Antal=%{marker.size}<extra></extra>",
           "legendgroup": "Samhällsbyggnad och byggteknik",
           "marker": {
            "color": "#00cc96",
            "size": [
             17
            ],
            "sizemode": "area",
            "sizeref": 0.1985185185185185,
            "symbol": "circle"
           },
           "mode": "markers",
           "name": "Samhällsbyggnad och byggteknik",
           "orientation": "v",
           "showlegend": true,
           "type": "scatter",
           "x": [
            "Samhällsbyggnad och byggteknik"
           ],
           "xaxis": "x",
           "y": [
            17
           ],
           "yaxis": "y"
          },
          {
           "hovertemplate": "Utbildningsområde=%{x}<br>År=2014<br>Antal=%{marker.size}<extra></extra>",
           "legendgroup": "Teknik och tillverkning",
           "marker": {
            "color": "#ab63fa",
            "size": [
             98
            ],
            "sizemode": "area",
            "sizeref": 0.1985185185185185,
            "symbol": "circle"
           },
           "mode": "markers",
           "name": "Teknik och tillverkning",
           "orientation": "v",
           "showlegend": true,
           "type": "scatter",
           "x": [
            "Teknik och tillverkning"
           ],
           "xaxis": "x",
           "y": [
            98
           ],
           "yaxis": "y"
          },
          {
           "hovertemplate": "Utbildningsområde=%{x}<br>År=2014<br>Antal=%{marker.size}<extra></extra>",
           "legendgroup": "Övrigt",
           "marker": {
            "color": "#FFA15A",
            "size": [
             248
            ],
            "sizemode": "area",
            "sizeref": 0.1985185185185185,
            "symbol": "circle"
           },
           "mode": "markers",
           "name": "Övrigt",
           "orientation": "v",
           "showlegend": true,
           "type": "scatter",
           "x": [
            "Övrigt"
           ],
           "xaxis": "x",
           "y": [
            248
           ],
           "yaxis": "y"
          }
         ],
         "name": "2014"
        },
        {
         "data": [
          {
           "hovertemplate": "Utbildningsområde=%{x}<br>År=2015<br>Antal=%{marker.size}<extra></extra>",
           "legendgroup": "Kultur, media och design",
           "marker": {
            "color": "#636efa",
            "size": [
             100
            ],
            "sizemode": "area",
            "sizeref": 0.1985185185185185,
            "symbol": "circle"
           },
           "mode": "markers",
           "name": "Kultur, media och design",
           "orientation": "v",
           "showlegend": true,
           "type": "scatter",
           "x": [
            "Kultur, media och design"
           ],
           "xaxis": "x",
           "y": [
            100
           ],
           "yaxis": "y"
          },
          {
           "hovertemplate": "Utbildningsområde=%{x}<br>År=2015<br>Antal=%{marker.size}<extra></extra>",
           "legendgroup": "Lantbruk, djurvård, trädgård, skog och fiske",
           "marker": {
            "color": "#EF553B",
            "size": [
             56
            ],
            "sizemode": "area",
            "sizeref": 0.1985185185185185,
            "symbol": "circle"
           },
           "mode": "markers",
           "name": "Lantbruk, djurvård, trädgård, skog och fiske",
           "orientation": "v",
           "showlegend": true,
           "type": "scatter",
           "x": [
            "Lantbruk, djurvård, trädgård, skog och fiske"
           ],
           "xaxis": "x",
           "y": [
            56
           ],
           "yaxis": "y"
          },
          {
           "hovertemplate": "Utbildningsområde=%{x}<br>År=2015<br>Antal=%{marker.size}<extra></extra>",
           "legendgroup": "Samhällsbyggnad och byggteknik",
           "marker": {
            "color": "#00cc96",
            "size": [
             29
            ],
            "sizemode": "area",
            "sizeref": 0.1985185185185185,
            "symbol": "circle"
           },
           "mode": "markers",
           "name": "Samhällsbyggnad och byggteknik",
           "orientation": "v",
           "showlegend": true,
           "type": "scatter",
           "x": [
            "Samhällsbyggnad och byggteknik"
           ],
           "xaxis": "x",
           "y": [
            29
           ],
           "yaxis": "y"
          },
          {
           "hovertemplate": "Utbildningsområde=%{x}<br>År=2015<br>Antal=%{marker.size}<extra></extra>",
           "legendgroup": "Teknik och tillverkning",
           "marker": {
            "color": "#ab63fa",
            "size": [
             180
            ],
            "sizemode": "area",
            "sizeref": 0.1985185185185185,
            "symbol": "circle"
           },
           "mode": "markers",
           "name": "Teknik och tillverkning",
           "orientation": "v",
           "showlegend": true,
           "type": "scatter",
           "x": [
            "Teknik och tillverkning"
           ],
           "xaxis": "x",
           "y": [
            180
           ],
           "yaxis": "y"
          },
          {
           "hovertemplate": "Utbildningsområde=%{x}<br>År=2015<br>Antal=%{marker.size}<extra></extra>",
           "legendgroup": "Övrigt",
           "marker": {
            "color": "#FFA15A",
            "size": [
             247
            ],
            "sizemode": "area",
            "sizeref": 0.1985185185185185,
            "symbol": "circle"
           },
           "mode": "markers",
           "name": "Övrigt",
           "orientation": "v",
           "showlegend": true,
           "type": "scatter",
           "x": [
            "Övrigt"
           ],
           "xaxis": "x",
           "y": [
            247
           ],
           "yaxis": "y"
          }
         ],
         "name": "2015"
        },
        {
         "data": [
          {
           "hovertemplate": "Utbildningsområde=%{x}<br>År=2016<br>Antal=%{marker.size}<extra></extra>",
           "legendgroup": "Kultur, media och design",
           "marker": {
            "color": "#636efa",
            "size": [
             124
            ],
            "sizemode": "area",
            "sizeref": 0.1985185185185185,
            "symbol": "circle"
           },
           "mode": "markers",
           "name": "Kultur, media och design",
           "orientation": "v",
           "showlegend": true,
           "type": "scatter",
           "x": [
            "Kultur, media och design"
           ],
           "xaxis": "x",
           "y": [
            124
           ],
           "yaxis": "y"
          },
          {
           "hovertemplate": "Utbildningsområde=%{x}<br>År=2016<br>Antal=%{marker.size}<extra></extra>",
           "legendgroup": "Lantbruk, djurvård, trädgård, skog och fiske",
           "marker": {
            "color": "#EF553B",
            "size": [
             49
            ],
            "sizemode": "area",
            "sizeref": 0.1985185185185185,
            "symbol": "circle"
           },
           "mode": "markers",
           "name": "Lantbruk, djurvård, trädgård, skog och fiske",
           "orientation": "v",
           "showlegend": true,
           "type": "scatter",
           "x": [
            "Lantbruk, djurvård, trädgård, skog och fiske"
           ],
           "xaxis": "x",
           "y": [
            49
           ],
           "yaxis": "y"
          },
          {
           "hovertemplate": "Utbildningsområde=%{x}<br>År=2016<br>Antal=%{marker.size}<extra></extra>",
           "legendgroup": "Samhällsbyggnad och byggteknik",
           "marker": {
            "color": "#00cc96",
            "size": [
             26
            ],
            "sizemode": "area",
            "sizeref": 0.1985185185185185,
            "symbol": "circle"
           },
           "mode": "markers",
           "name": "Samhällsbyggnad och byggteknik",
           "orientation": "v",
           "showlegend": true,
           "type": "scatter",
           "x": [
            "Samhällsbyggnad och byggteknik"
           ],
           "xaxis": "x",
           "y": [
            26
           ],
           "yaxis": "y"
          },
          {
           "hovertemplate": "Utbildningsområde=%{x}<br>År=2016<br>Antal=%{marker.size}<extra></extra>",
           "legendgroup": "Teknik och tillverkning",
           "marker": {
            "color": "#ab63fa",
            "size": [
             329
            ],
            "sizemode": "area",
            "sizeref": 0.1985185185185185,
            "symbol": "circle"
           },
           "mode": "markers",
           "name": "Teknik och tillverkning",
           "orientation": "v",
           "showlegend": true,
           "type": "scatter",
           "x": [
            "Teknik och tillverkning"
           ],
           "xaxis": "x",
           "y": [
            329
           ],
           "yaxis": "y"
          },
          {
           "hovertemplate": "Utbildningsområde=%{x}<br>År=2016<br>Antal=%{marker.size}<extra></extra>",
           "legendgroup": "Övrigt",
           "marker": {
            "color": "#FFA15A",
            "size": [
             277
            ],
            "sizemode": "area",
            "sizeref": 0.1985185185185185,
            "symbol": "circle"
           },
           "mode": "markers",
           "name": "Övrigt",
           "orientation": "v",
           "showlegend": true,
           "type": "scatter",
           "x": [
            "Övrigt"
           ],
           "xaxis": "x",
           "y": [
            277
           ],
           "yaxis": "y"
          }
         ],
         "name": "2016"
        },
        {
         "data": [
          {
           "hovertemplate": "Utbildningsområde=%{x}<br>År=2017<br>Antal=%{marker.size}<extra></extra>",
           "legendgroup": "Kultur, media och design",
           "marker": {
            "color": "#636efa",
            "size": [
             123
            ],
            "sizemode": "area",
            "sizeref": 0.1985185185185185,
            "symbol": "circle"
           },
           "mode": "markers",
           "name": "Kultur, media och design",
           "orientation": "v",
           "showlegend": true,
           "type": "scatter",
           "x": [
            "Kultur, media och design"
           ],
           "xaxis": "x",
           "y": [
            123
           ],
           "yaxis": "y"
          },
          {
           "hovertemplate": "Utbildningsområde=%{x}<br>År=2017<br>Antal=%{marker.size}<extra></extra>",
           "legendgroup": "Lantbruk, djurvård, trädgård, skog och fiske",
           "marker": {
            "color": "#EF553B",
            "size": [
             54
            ],
            "sizemode": "area",
            "sizeref": 0.1985185185185185,
            "symbol": "circle"
           },
           "mode": "markers",
           "name": "Lantbruk, djurvård, trädgård, skog och fiske",
           "orientation": "v",
           "showlegend": true,
           "type": "scatter",
           "x": [
            "Lantbruk, djurvård, trädgård, skog och fiske"
           ],
           "xaxis": "x",
           "y": [
            54
           ],
           "yaxis": "y"
          },
          {
           "hovertemplate": "Utbildningsområde=%{x}<br>År=2017<br>Antal=%{marker.size}<extra></extra>",
           "legendgroup": "Samhällsbyggnad och byggteknik",
           "marker": {
            "color": "#00cc96",
            "size": [
             26
            ],
            "sizemode": "area",
            "sizeref": 0.1985185185185185,
            "symbol": "circle"
           },
           "mode": "markers",
           "name": "Samhällsbyggnad och byggteknik",
           "orientation": "v",
           "showlegend": true,
           "type": "scatter",
           "x": [
            "Samhällsbyggnad och byggteknik"
           ],
           "xaxis": "x",
           "y": [
            26
           ],
           "yaxis": "y"
          },
          {
           "hovertemplate": "Utbildningsområde=%{x}<br>År=2017<br>Antal=%{marker.size}<extra></extra>",
           "legendgroup": "Teknik och tillverkning",
           "marker": {
            "color": "#ab63fa",
            "size": [
             402
            ],
            "sizemode": "area",
            "sizeref": 0.1985185185185185,
            "symbol": "circle"
           },
           "mode": "markers",
           "name": "Teknik och tillverkning",
           "orientation": "v",
           "showlegend": true,
           "type": "scatter",
           "x": [
            "Teknik och tillverkning"
           ],
           "xaxis": "x",
           "y": [
            402
           ],
           "yaxis": "y"
          },
          {
           "hovertemplate": "Utbildningsområde=%{x}<br>År=2017<br>Antal=%{marker.size}<extra></extra>",
           "legendgroup": "Övrigt",
           "marker": {
            "color": "#FFA15A",
            "size": [
             248
            ],
            "sizemode": "area",
            "sizeref": 0.1985185185185185,
            "symbol": "circle"
           },
           "mode": "markers",
           "name": "Övrigt",
           "orientation": "v",
           "showlegend": true,
           "type": "scatter",
           "x": [
            "Övrigt"
           ],
           "xaxis": "x",
           "y": [
            248
           ],
           "yaxis": "y"
          }
         ],
         "name": "2017"
        },
        {
         "data": [
          {
           "hovertemplate": "Utbildningsområde=%{x}<br>År=2018<br>Antal=%{marker.size}<extra></extra>",
           "legendgroup": "Kultur, media och design",
           "marker": {
            "color": "#636efa",
            "size": [
             85
            ],
            "sizemode": "area",
            "sizeref": 0.1985185185185185,
            "symbol": "circle"
           },
           "mode": "markers",
           "name": "Kultur, media och design",
           "orientation": "v",
           "showlegend": true,
           "type": "scatter",
           "x": [
            "Kultur, media och design"
           ],
           "xaxis": "x",
           "y": [
            85
           ],
           "yaxis": "y"
          },
          {
           "hovertemplate": "Utbildningsområde=%{x}<br>År=2018<br>Antal=%{marker.size}<extra></extra>",
           "legendgroup": "Lantbruk, djurvård, trädgård, skog och fiske",
           "marker": {
            "color": "#EF553B",
            "size": [
             61
            ],
            "sizemode": "area",
            "sizeref": 0.1985185185185185,
            "symbol": "circle"
           },
           "mode": "markers",
           "name": "Lantbruk, djurvård, trädgård, skog och fiske",
           "orientation": "v",
           "showlegend": true,
           "type": "scatter",
           "x": [
            "Lantbruk, djurvård, trädgård, skog och fiske"
           ],
           "xaxis": "x",
           "y": [
            61
           ],
           "yaxis": "y"
          },
          {
           "hovertemplate": "Utbildningsområde=%{x}<br>År=2018<br>Antal=%{marker.size}<extra></extra>",
           "legendgroup": "Samhällsbyggnad och byggteknik",
           "marker": {
            "color": "#00cc96",
            "size": [
             27
            ],
            "sizemode": "area",
            "sizeref": 0.1985185185185185,
            "symbol": "circle"
           },
           "mode": "markers",
           "name": "Samhällsbyggnad och byggteknik",
           "orientation": "v",
           "showlegend": true,
           "type": "scatter",
           "x": [
            "Samhällsbyggnad och byggteknik"
           ],
           "xaxis": "x",
           "y": [
            27
           ],
           "yaxis": "y"
          },
          {
           "hovertemplate": "Utbildningsområde=%{x}<br>År=2018<br>Antal=%{marker.size}<extra></extra>",
           "legendgroup": "Teknik och tillverkning",
           "marker": {
            "color": "#ab63fa",
            "size": [
             395
            ],
            "sizemode": "area",
            "sizeref": 0.1985185185185185,
            "symbol": "circle"
           },
           "mode": "markers",
           "name": "Teknik och tillverkning",
           "orientation": "v",
           "showlegend": true,
           "type": "scatter",
           "x": [
            "Teknik och tillverkning"
           ],
           "xaxis": "x",
           "y": [
            395
           ],
           "yaxis": "y"
          },
          {
           "hovertemplate": "Utbildningsområde=%{x}<br>År=2018<br>Antal=%{marker.size}<extra></extra>",
           "legendgroup": "Övrigt",
           "marker": {
            "color": "#FFA15A",
            "size": [
             227
            ],
            "sizemode": "area",
            "sizeref": 0.1985185185185185,
            "symbol": "circle"
           },
           "mode": "markers",
           "name": "Övrigt",
           "orientation": "v",
           "showlegend": true,
           "type": "scatter",
           "x": [
            "Övrigt"
           ],
           "xaxis": "x",
           "y": [
            227
           ],
           "yaxis": "y"
          }
         ],
         "name": "2018"
        },
        {
         "data": [
          {
           "hovertemplate": "Utbildningsområde=%{x}<br>År=2019<br>Antal=%{marker.size}<extra></extra>",
           "legendgroup": "Kultur, media och design",
           "marker": {
            "color": "#636efa",
            "size": [
             93
            ],
            "sizemode": "area",
            "sizeref": 0.1985185185185185,
            "symbol": "circle"
           },
           "mode": "markers",
           "name": "Kultur, media och design",
           "orientation": "v",
           "showlegend": true,
           "type": "scatter",
           "x": [
            "Kultur, media och design"
           ],
           "xaxis": "x",
           "y": [
            93
           ],
           "yaxis": "y"
          },
          {
           "hovertemplate": "Utbildningsområde=%{x}<br>År=2019<br>Antal=%{marker.size}<extra></extra>",
           "legendgroup": "Lantbruk, djurvård, trädgård, skog och fiske",
           "marker": {
            "color": "#EF553B",
            "size": [
             48
            ],
            "sizemode": "area",
            "sizeref": 0.1985185185185185,
            "symbol": "circle"
           },
           "mode": "markers",
           "name": "Lantbruk, djurvård, trädgård, skog och fiske",
           "orientation": "v",
           "showlegend": true,
           "type": "scatter",
           "x": [
            "Lantbruk, djurvård, trädgård, skog och fiske"
           ],
           "xaxis": "x",
           "y": [
            48
           ],
           "yaxis": "y"
          },
          {
           "hovertemplate": "Utbildningsområde=%{x}<br>År=2019<br>Antal=%{marker.size}<extra></extra>",
           "legendgroup": "Samhällsbyggnad och byggteknik",
           "marker": {
            "color": "#00cc96",
            "size": [
             51
            ],
            "sizemode": "area",
            "sizeref": 0.1985185185185185,
            "symbol": "circle"
           },
           "mode": "markers",
           "name": "Samhällsbyggnad och byggteknik",
           "orientation": "v",
           "showlegend": true,
           "type": "scatter",
           "x": [
            "Samhällsbyggnad och byggteknik"
           ],
           "xaxis": "x",
           "y": [
            51
           ],
           "yaxis": "y"
          },
          {
           "hovertemplate": "Utbildningsområde=%{x}<br>År=2019<br>Antal=%{marker.size}<extra></extra>",
           "legendgroup": "Teknik och tillverkning",
           "marker": {
            "color": "#ab63fa",
            "size": [
             361
            ],
            "sizemode": "area",
            "sizeref": 0.1985185185185185,
            "symbol": "circle"
           },
           "mode": "markers",
           "name": "Teknik och tillverkning",
           "orientation": "v",
           "showlegend": true,
           "type": "scatter",
           "x": [
            "Teknik och tillverkning"
           ],
           "xaxis": "x",
           "y": [
            361
           ],
           "yaxis": "y"
          },
          {
           "hovertemplate": "Utbildningsområde=%{x}<br>År=2019<br>Antal=%{marker.size}<extra></extra>",
           "legendgroup": "Övrigt",
           "marker": {
            "color": "#FFA15A",
            "size": [
             250
            ],
            "sizemode": "area",
            "sizeref": 0.1985185185185185,
            "symbol": "circle"
           },
           "mode": "markers",
           "name": "Övrigt",
           "orientation": "v",
           "showlegend": true,
           "type": "scatter",
           "x": [
            "Övrigt"
           ],
           "xaxis": "x",
           "y": [
            250
           ],
           "yaxis": "y"
          }
         ],
         "name": "2019"
        },
        {
         "data": [
          {
           "hovertemplate": "Utbildningsområde=%{x}<br>År=2020<br>Antal=%{marker.size}<extra></extra>",
           "legendgroup": "Kultur, media och design",
           "marker": {
            "color": "#636efa",
            "size": [
             108
            ],
            "sizemode": "area",
            "sizeref": 0.1985185185185185,
            "symbol": "circle"
           },
           "mode": "markers",
           "name": "Kultur, media och design",
           "orientation": "v",
           "showlegend": true,
           "type": "scatter",
           "x": [
            "Kultur, media och design"
           ],
           "xaxis": "x",
           "y": [
            108
           ],
           "yaxis": "y"
          },
          {
           "hovertemplate": "Utbildningsområde=%{x}<br>År=2020<br>Antal=%{marker.size}<extra></extra>",
           "legendgroup": "Lantbruk, djurvård, trädgård, skog och fiske",
           "marker": {
            "color": "#EF553B",
            "size": [
             33
            ],
            "sizemode": "area",
            "sizeref": 0.1985185185185185,
            "symbol": "circle"
           },
           "mode": "markers",
           "name": "Lantbruk, djurvård, trädgård, skog och fiske",
           "orientation": "v",
           "showlegend": true,
           "type": "scatter",
           "x": [
            "Lantbruk, djurvård, trädgård, skog och fiske"
           ],
           "xaxis": "x",
           "y": [
            33
           ],
           "yaxis": "y"
          },
          {
           "hovertemplate": "Utbildningsområde=%{x}<br>År=2020<br>Antal=%{marker.size}<extra></extra>",
           "legendgroup": "Samhällsbyggnad och byggteknik",
           "marker": {
            "color": "#00cc96",
            "size": [
             104
            ],
            "sizemode": "area",
            "sizeref": 0.1985185185185185,
            "symbol": "circle"
           },
           "mode": "markers",
           "name": "Samhällsbyggnad och byggteknik",
           "orientation": "v",
           "showlegend": true,
           "type": "scatter",
           "x": [
            "Samhällsbyggnad och byggteknik"
           ],
           "xaxis": "x",
           "y": [
            104
           ],
           "yaxis": "y"
          },
          {
           "hovertemplate": "Utbildningsområde=%{x}<br>År=2020<br>Antal=%{marker.size}<extra></extra>",
           "legendgroup": "Teknik och tillverkning",
           "marker": {
            "color": "#ab63fa",
            "size": [
             385
            ],
            "sizemode": "area",
            "sizeref": 0.1985185185185185,
            "symbol": "circle"
           },
           "mode": "markers",
           "name": "Teknik och tillverkning",
           "orientation": "v",
           "showlegend": true,
           "type": "scatter",
           "x": [
            "Teknik och tillverkning"
           ],
           "xaxis": "x",
           "y": [
            385
           ],
           "yaxis": "y"
          },
          {
           "hovertemplate": "Utbildningsområde=%{x}<br>År=2020<br>Antal=%{marker.size}<extra></extra>",
           "legendgroup": "Övrigt",
           "marker": {
            "color": "#FFA15A",
            "size": [
             305
            ],
            "sizemode": "area",
            "sizeref": 0.1985185185185185,
            "symbol": "circle"
           },
           "mode": "markers",
           "name": "Övrigt",
           "orientation": "v",
           "showlegend": true,
           "type": "scatter",
           "x": [
            "Övrigt"
           ],
           "xaxis": "x",
           "y": [
            305
           ],
           "yaxis": "y"
          }
         ],
         "name": "2020"
        },
        {
         "data": [
          {
           "hovertemplate": "Utbildningsområde=%{x}<br>År=2021<br>Antal=%{marker.size}<extra></extra>",
           "legendgroup": "Kultur, media och design",
           "marker": {
            "color": "#636efa",
            "size": [
             121
            ],
            "sizemode": "area",
            "sizeref": 0.1985185185185185,
            "symbol": "circle"
           },
           "mode": "markers",
           "name": "Kultur, media och design",
           "orientation": "v",
           "showlegend": true,
           "type": "scatter",
           "x": [
            "Kultur, media och design"
           ],
           "xaxis": "x",
           "y": [
            121
           ],
           "yaxis": "y"
          },
          {
           "hovertemplate": "Utbildningsområde=%{x}<br>År=2021<br>Antal=%{marker.size}<extra></extra>",
           "legendgroup": "Lantbruk, djurvård, trädgård, skog och fiske",
           "marker": {
            "color": "#EF553B",
            "size": [
             33
            ],
            "sizemode": "area",
            "sizeref": 0.1985185185185185,
            "symbol": "circle"
           },
           "mode": "markers",
           "name": "Lantbruk, djurvård, trädgård, skog och fiske",
           "orientation": "v",
           "showlegend": true,
           "type": "scatter",
           "x": [
            "Lantbruk, djurvård, trädgård, skog och fiske"
           ],
           "xaxis": "x",
           "y": [
            33
           ],
           "yaxis": "y"
          },
          {
           "hovertemplate": "Utbildningsområde=%{x}<br>År=2021<br>Antal=%{marker.size}<extra></extra>",
           "legendgroup": "Samhällsbyggnad och byggteknik",
           "marker": {
            "color": "#00cc96",
            "size": [
             108
            ],
            "sizemode": "area",
            "sizeref": 0.1985185185185185,
            "symbol": "circle"
           },
           "mode": "markers",
           "name": "Samhällsbyggnad och byggteknik",
           "orientation": "v",
           "showlegend": true,
           "type": "scatter",
           "x": [
            "Samhällsbyggnad och byggteknik"
           ],
           "xaxis": "x",
           "y": [
            108
           ],
           "yaxis": "y"
          },
          {
           "hovertemplate": "Utbildningsområde=%{x}<br>År=2021<br>Antal=%{marker.size}<extra></extra>",
           "legendgroup": "Teknik och tillverkning",
           "marker": {
            "color": "#ab63fa",
            "size": [
             344
            ],
            "sizemode": "area",
            "sizeref": 0.1985185185185185,
            "symbol": "circle"
           },
           "mode": "markers",
           "name": "Teknik och tillverkning",
           "orientation": "v",
           "showlegend": true,
           "type": "scatter",
           "x": [
            "Teknik och tillverkning"
           ],
           "xaxis": "x",
           "y": [
            344
           ],
           "yaxis": "y"
          },
          {
           "hovertemplate": "Utbildningsområde=%{x}<br>År=2021<br>Antal=%{marker.size}<extra></extra>",
           "legendgroup": "Övrigt",
           "marker": {
            "color": "#FFA15A",
            "size": [
             327
            ],
            "sizemode": "area",
            "sizeref": 0.1985185185185185,
            "symbol": "circle"
           },
           "mode": "markers",
           "name": "Övrigt",
           "orientation": "v",
           "showlegend": true,
           "type": "scatter",
           "x": [
            "Övrigt"
           ],
           "xaxis": "x",
           "y": [
            327
           ],
           "yaxis": "y"
          }
         ],
         "name": "2021"
        },
        {
         "data": [
          {
           "hovertemplate": "Utbildningsområde=%{x}<br>År=2022<br>Antal=%{marker.size}<extra></extra>",
           "legendgroup": "Kultur, media och design",
           "marker": {
            "color": "#636efa",
            "size": [
             140
            ],
            "sizemode": "area",
            "sizeref": 0.1985185185185185,
            "symbol": "circle"
           },
           "mode": "markers",
           "name": "Kultur, media och design",
           "orientation": "v",
           "showlegend": true,
           "type": "scatter",
           "x": [
            "Kultur, media och design"
           ],
           "xaxis": "x",
           "y": [
            140
           ],
           "yaxis": "y"
          },
          {
           "hovertemplate": "Utbildningsområde=%{x}<br>År=2022<br>Antal=%{marker.size}<extra></extra>",
           "legendgroup": "Lantbruk, djurvård, trädgård, skog och fiske",
           "marker": {
            "color": "#EF553B",
            "size": [
             35
            ],
            "sizemode": "area",
            "sizeref": 0.1985185185185185,
            "symbol": "circle"
           },
           "mode": "markers",
           "name": "Lantbruk, djurvård, trädgård, skog och fiske",
           "orientation": "v",
           "showlegend": true,
           "type": "scatter",
           "x": [
            "Lantbruk, djurvård, trädgård, skog och fiske"
           ],
           "xaxis": "x",
           "y": [
            35
           ],
           "yaxis": "y"
          },
          {
           "hovertemplate": "Utbildningsområde=%{x}<br>År=2022<br>Antal=%{marker.size}<extra></extra>",
           "legendgroup": "Samhällsbyggnad och byggteknik",
           "marker": {
            "color": "#00cc96",
            "size": [
             99
            ],
            "sizemode": "area",
            "sizeref": 0.1985185185185185,
            "symbol": "circle"
           },
           "mode": "markers",
           "name": "Samhällsbyggnad och byggteknik",
           "orientation": "v",
           "showlegend": true,
           "type": "scatter",
           "x": [
            "Samhällsbyggnad och byggteknik"
           ],
           "xaxis": "x",
           "y": [
            99
           ],
           "yaxis": "y"
          },
          {
           "hovertemplate": "Utbildningsområde=%{x}<br>År=2022<br>Antal=%{marker.size}<extra></extra>",
           "legendgroup": "Teknik och tillverkning",
           "marker": {
            "color": "#ab63fa",
            "size": [
             349
            ],
            "sizemode": "area",
            "sizeref": 0.1985185185185185,
            "symbol": "circle"
           },
           "mode": "markers",
           "name": "Teknik och tillverkning",
           "orientation": "v",
           "showlegend": true,
           "type": "scatter",
           "x": [
            "Teknik och tillverkning"
           ],
           "xaxis": "x",
           "y": [
            349
           ],
           "yaxis": "y"
          },
          {
           "hovertemplate": "Utbildningsområde=%{x}<br>År=2022<br>Antal=%{marker.size}<extra></extra>",
           "legendgroup": "Övrigt",
           "marker": {
            "color": "#FFA15A",
            "size": [
             349
            ],
            "sizemode": "area",
            "sizeref": 0.1985185185185185,
            "symbol": "circle"
           },
           "mode": "markers",
           "name": "Övrigt",
           "orientation": "v",
           "showlegend": true,
           "type": "scatter",
           "x": [
            "Övrigt"
           ],
           "xaxis": "x",
           "y": [
            349
           ],
           "yaxis": "y"
          }
         ],
         "name": "2022"
        },
        {
         "data": [
          {
           "hovertemplate": "Utbildningsområde=%{x}<br>År=2023<br>Antal=%{marker.size}<extra></extra>",
           "legendgroup": "Kultur, media och design",
           "marker": {
            "color": "#636efa",
            "size": [
             130
            ],
            "sizemode": "area",
            "sizeref": 0.1985185185185185,
            "symbol": "circle"
           },
           "mode": "markers",
           "name": "Kultur, media och design",
           "orientation": "v",
           "showlegend": true,
           "type": "scatter",
           "x": [
            "Kultur, media och design"
           ],
           "xaxis": "x",
           "y": [
            130
           ],
           "yaxis": "y"
          },
          {
           "hovertemplate": "Utbildningsområde=%{x}<br>År=2023<br>Antal=%{marker.size}<extra></extra>",
           "legendgroup": "Lantbruk, djurvård, trädgård, skog och fiske",
           "marker": {
            "color": "#EF553B",
            "size": [
             35
            ],
            "sizemode": "area",
            "sizeref": 0.1985185185185185,
            "symbol": "circle"
           },
           "mode": "markers",
           "name": "Lantbruk, djurvård, trädgård, skog och fiske",
           "orientation": "v",
           "showlegend": true,
           "type": "scatter",
           "x": [
            "Lantbruk, djurvård, trädgård, skog och fiske"
           ],
           "xaxis": "x",
           "y": [
            35
           ],
           "yaxis": "y"
          },
          {
           "hovertemplate": "Utbildningsområde=%{x}<br>År=2023<br>Antal=%{marker.size}<extra></extra>",
           "legendgroup": "Samhällsbyggnad och byggteknik",
           "marker": {
            "color": "#00cc96",
            "size": [
             77
            ],
            "sizemode": "area",
            "sizeref": 0.1985185185185185,
            "symbol": "circle"
           },
           "mode": "markers",
           "name": "Samhällsbyggnad och byggteknik",
           "orientation": "v",
           "showlegend": true,
           "type": "scatter",
           "x": [
            "Samhällsbyggnad och byggteknik"
           ],
           "xaxis": "x",
           "y": [
            77
           ],
           "yaxis": "y"
          },
          {
           "hovertemplate": "Utbildningsområde=%{x}<br>År=2023<br>Antal=%{marker.size}<extra></extra>",
           "legendgroup": "Teknik och tillverkning",
           "marker": {
            "color": "#ab63fa",
            "size": [
             340
            ],
            "sizemode": "area",
            "sizeref": 0.1985185185185185,
            "symbol": "circle"
           },
           "mode": "markers",
           "name": "Teknik och tillverkning",
           "orientation": "v",
           "showlegend": true,
           "type": "scatter",
           "x": [
            "Teknik och tillverkning"
           ],
           "xaxis": "x",
           "y": [
            340
           ],
           "yaxis": "y"
          },
          {
           "hovertemplate": "Utbildningsområde=%{x}<br>År=2023<br>Antal=%{marker.size}<extra></extra>",
           "legendgroup": "Övrigt",
           "marker": {
            "color": "#FFA15A",
            "size": [
             363
            ],
            "sizemode": "area",
            "sizeref": 0.1985185185185185,
            "symbol": "circle"
           },
           "mode": "markers",
           "name": "Övrigt",
           "orientation": "v",
           "showlegend": true,
           "type": "scatter",
           "x": [
            "Övrigt"
           ],
           "xaxis": "x",
           "y": [
            363
           ],
           "yaxis": "y"
          }
         ],
         "name": "2023"
        },
        {
         "data": [
          {
           "hovertemplate": "Utbildningsområde=%{x}<br>År=2024<br>Antal=%{marker.size}<extra></extra>",
           "legendgroup": "Kultur, media och design",
           "marker": {
            "color": "#636efa",
            "size": [
             119
            ],
            "sizemode": "area",
            "sizeref": 0.1985185185185185,
            "symbol": "circle"
           },
           "mode": "markers",
           "name": "Kultur, media och design",
           "orientation": "v",
           "showlegend": true,
           "type": "scatter",
           "x": [
            "Kultur, media och design"
           ],
           "xaxis": "x",
           "y": [
            119
           ],
           "yaxis": "y"
          },
          {
           "hovertemplate": "Utbildningsområde=%{x}<br>År=2024<br>Antal=%{marker.size}<extra></extra>",
           "legendgroup": "Lantbruk, djurvård, trädgård, skog och fiske",
           "marker": {
            "color": "#EF553B",
            "size": [
             35
            ],
            "sizemode": "area",
            "sizeref": 0.1985185185185185,
            "symbol": "circle"
           },
           "mode": "markers",
           "name": "Lantbruk, djurvård, trädgård, skog och fiske",
           "orientation": "v",
           "showlegend": true,
           "type": "scatter",
           "x": [
            "Lantbruk, djurvård, trädgård, skog och fiske"
           ],
           "xaxis": "x",
           "y": [
            35
           ],
           "yaxis": "y"
          },
          {
           "hovertemplate": "Utbildningsområde=%{x}<br>År=2024<br>Antal=%{marker.size}<extra></extra>",
           "legendgroup": "Samhällsbyggnad och byggteknik",
           "marker": {
            "color": "#00cc96",
            "size": [
             73
            ],
            "sizemode": "area",
            "sizeref": 0.1985185185185185,
            "symbol": "circle"
           },
           "mode": "markers",
           "name": "Samhällsbyggnad och byggteknik",
           "orientation": "v",
           "showlegend": true,
           "type": "scatter",
           "x": [
            "Samhällsbyggnad och byggteknik"
           ],
           "xaxis": "x",
           "y": [
            73
           ],
           "yaxis": "y"
          },
          {
           "hovertemplate": "Utbildningsområde=%{x}<br>År=2024<br>Antal=%{marker.size}<extra></extra>",
           "legendgroup": "Teknik och tillverkning",
           "marker": {
            "color": "#ab63fa",
            "size": [
             364
            ],
            "sizemode": "area",
            "sizeref": 0.1985185185185185,
            "symbol": "circle"
           },
           "mode": "markers",
           "name": "Teknik och tillverkning",
           "orientation": "v",
           "showlegend": true,
           "type": "scatter",
           "x": [
            "Teknik och tillverkning"
           ],
           "xaxis": "x",
           "y": [
            364
           ],
           "yaxis": "y"
          },
          {
           "hovertemplate": "Utbildningsområde=%{x}<br>År=2024<br>Antal=%{marker.size}<extra></extra>",
           "legendgroup": "Övrigt",
           "marker": {
            "color": "#FFA15A",
            "size": [
             371
            ],
            "sizemode": "area",
            "sizeref": 0.1985185185185185,
            "symbol": "circle"
           },
           "mode": "markers",
           "name": "Övrigt",
           "orientation": "v",
           "showlegend": true,
           "type": "scatter",
           "x": [
            "Övrigt"
           ],
           "xaxis": "x",
           "y": [
            371
           ],
           "yaxis": "y"
          }
         ],
         "name": "2024"
        }
       ],
       "layout": {
        "legend": {
         "itemsizing": "constant",
         "orientation": "v",
         "title": {
          "text": "Utbildningsområde"
         },
         "tracegroupgap": 0,
         "x": 1.05,
         "xanchor": "left",
         "y": 1,
         "yanchor": "top"
        },
        "margin": {
         "r": 150,
         "t": 60
        },
        "sliders": [
         {
          "active": 0,
          "currentvalue": {
           "prefix": "År="
          },
          "len": 0.9,
          "pad": {
           "b": 10,
           "t": 60
          },
          "steps": [
           {
            "args": [
             [
              "2014"
             ],
             {
              "frame": {
               "duration": 0,
               "redraw": false
              },
              "fromcurrent": true,
              "mode": "immediate",
              "transition": {
               "duration": 0,
               "easing": "linear"
              }
             }
            ],
            "label": "2014",
            "method": "animate"
           },
           {
            "args": [
             [
              "2015"
             ],
             {
              "frame": {
               "duration": 0,
               "redraw": false
              },
              "fromcurrent": true,
              "mode": "immediate",
              "transition": {
               "duration": 0,
               "easing": "linear"
              }
             }
            ],
            "label": "2015",
            "method": "animate"
           },
           {
            "args": [
             [
              "2016"
             ],
             {
              "frame": {
               "duration": 0,
               "redraw": false
              },
              "fromcurrent": true,
              "mode": "immediate",
              "transition": {
               "duration": 0,
               "easing": "linear"
              }
             }
            ],
            "label": "2016",
            "method": "animate"
           },
           {
            "args": [
             [
              "2017"
             ],
             {
              "frame": {
               "duration": 0,
               "redraw": false
              },
              "fromcurrent": true,
              "mode": "immediate",
              "transition": {
               "duration": 0,
               "easing": "linear"
              }
             }
            ],
            "label": "2017",
            "method": "animate"
           },
           {
            "args": [
             [
              "2018"
             ],
             {
              "frame": {
               "duration": 0,
               "redraw": false
              },
              "fromcurrent": true,
              "mode": "immediate",
              "transition": {
               "duration": 0,
               "easing": "linear"
              }
             }
            ],
            "label": "2018",
            "method": "animate"
           },
           {
            "args": [
             [
              "2019"
             ],
             {
              "frame": {
               "duration": 0,
               "redraw": false
              },
              "fromcurrent": true,
              "mode": "immediate",
              "transition": {
               "duration": 0,
               "easing": "linear"
              }
             }
            ],
            "label": "2019",
            "method": "animate"
           },
           {
            "args": [
             [
              "2020"
             ],
             {
              "frame": {
               "duration": 0,
               "redraw": false
              },
              "fromcurrent": true,
              "mode": "immediate",
              "transition": {
               "duration": 0,
               "easing": "linear"
              }
             }
            ],
            "label": "2020",
            "method": "animate"
           },
           {
            "args": [
             [
              "2021"
             ],
             {
              "frame": {
               "duration": 0,
               "redraw": false
              },
              "fromcurrent": true,
              "mode": "immediate",
              "transition": {
               "duration": 0,
               "easing": "linear"
              }
             }
            ],
            "label": "2021",
            "method": "animate"
           },
           {
            "args": [
             [
              "2022"
             ],
             {
              "frame": {
               "duration": 0,
               "redraw": false
              },
              "fromcurrent": true,
              "mode": "immediate",
              "transition": {
               "duration": 0,
               "easing": "linear"
              }
             }
            ],
            "label": "2022",
            "method": "animate"
           },
           {
            "args": [
             [
              "2023"
             ],
             {
              "frame": {
               "duration": 0,
               "redraw": false
              },
              "fromcurrent": true,
              "mode": "immediate",
              "transition": {
               "duration": 0,
               "easing": "linear"
              }
             }
            ],
            "label": "2023",
            "method": "animate"
           },
           {
            "args": [
             [
              "2024"
             ],
             {
              "frame": {
               "duration": 0,
               "redraw": false
              },
              "fromcurrent": true,
              "mode": "immediate",
              "transition": {
               "duration": 0,
               "easing": "linear"
              }
             }
            ],
            "label": "2024",
            "method": "animate"
           }
          ],
          "x": 0.1,
          "xanchor": "left",
          "y": 0,
          "yanchor": "top"
         }
        ],
        "template": {
         "data": {
          "bar": [
           {
            "error_x": {
             "color": "#2a3f5f"
            },
            "error_y": {
             "color": "#2a3f5f"
            },
            "marker": {
             "line": {
              "color": "white",
              "width": 0.5
             },
             "pattern": {
              "fillmode": "overlay",
              "size": 10,
              "solidity": 0.2
             }
            },
            "type": "bar"
           }
          ],
          "barpolar": [
           {
            "marker": {
             "line": {
              "color": "white",
              "width": 0.5
             },
             "pattern": {
              "fillmode": "overlay",
              "size": 10,
              "solidity": 0.2
             }
            },
            "type": "barpolar"
           }
          ],
          "carpet": [
           {
            "aaxis": {
             "endlinecolor": "#2a3f5f",
             "gridcolor": "#C8D4E3",
             "linecolor": "#C8D4E3",
             "minorgridcolor": "#C8D4E3",
             "startlinecolor": "#2a3f5f"
            },
            "baxis": {
             "endlinecolor": "#2a3f5f",
             "gridcolor": "#C8D4E3",
             "linecolor": "#C8D4E3",
             "minorgridcolor": "#C8D4E3",
             "startlinecolor": "#2a3f5f"
            },
            "type": "carpet"
           }
          ],
          "choropleth": [
           {
            "colorbar": {
             "outlinewidth": 0,
             "ticks": ""
            },
            "type": "choropleth"
           }
          ],
          "contour": [
           {
            "colorbar": {
             "outlinewidth": 0,
             "ticks": ""
            },
            "colorscale": [
             [
              0,
              "#0d0887"
             ],
             [
              0.1111111111111111,
              "#46039f"
             ],
             [
              0.2222222222222222,
              "#7201a8"
             ],
             [
              0.3333333333333333,
              "#9c179e"
             ],
             [
              0.4444444444444444,
              "#bd3786"
             ],
             [
              0.5555555555555556,
              "#d8576b"
             ],
             [
              0.6666666666666666,
              "#ed7953"
             ],
             [
              0.7777777777777778,
              "#fb9f3a"
             ],
             [
              0.8888888888888888,
              "#fdca26"
             ],
             [
              1,
              "#f0f921"
             ]
            ],
            "type": "contour"
           }
          ],
          "contourcarpet": [
           {
            "colorbar": {
             "outlinewidth": 0,
             "ticks": ""
            },
            "type": "contourcarpet"
           }
          ],
          "heatmap": [
           {
            "colorbar": {
             "outlinewidth": 0,
             "ticks": ""
            },
            "colorscale": [
             [
              0,
              "#0d0887"
             ],
             [
              0.1111111111111111,
              "#46039f"
             ],
             [
              0.2222222222222222,
              "#7201a8"
             ],
             [
              0.3333333333333333,
              "#9c179e"
             ],
             [
              0.4444444444444444,
              "#bd3786"
             ],
             [
              0.5555555555555556,
              "#d8576b"
             ],
             [
              0.6666666666666666,
              "#ed7953"
             ],
             [
              0.7777777777777778,
              "#fb9f3a"
             ],
             [
              0.8888888888888888,
              "#fdca26"
             ],
             [
              1,
              "#f0f921"
             ]
            ],
            "type": "heatmap"
           }
          ],
          "heatmapgl": [
           {
            "colorbar": {
             "outlinewidth": 0,
             "ticks": ""
            },
            "colorscale": [
             [
              0,
              "#0d0887"
             ],
             [
              0.1111111111111111,
              "#46039f"
             ],
             [
              0.2222222222222222,
              "#7201a8"
             ],
             [
              0.3333333333333333,
              "#9c179e"
             ],
             [
              0.4444444444444444,
              "#bd3786"
             ],
             [
              0.5555555555555556,
              "#d8576b"
             ],
             [
              0.6666666666666666,
              "#ed7953"
             ],
             [
              0.7777777777777778,
              "#fb9f3a"
             ],
             [
              0.8888888888888888,
              "#fdca26"
             ],
             [
              1,
              "#f0f921"
             ]
            ],
            "type": "heatmapgl"
           }
          ],
          "histogram": [
           {
            "marker": {
             "pattern": {
              "fillmode": "overlay",
              "size": 10,
              "solidity": 0.2
             }
            },
            "type": "histogram"
           }
          ],
          "histogram2d": [
           {
            "colorbar": {
             "outlinewidth": 0,
             "ticks": ""
            },
            "colorscale": [
             [
              0,
              "#0d0887"
             ],
             [
              0.1111111111111111,
              "#46039f"
             ],
             [
              0.2222222222222222,
              "#7201a8"
             ],
             [
              0.3333333333333333,
              "#9c179e"
             ],
             [
              0.4444444444444444,
              "#bd3786"
             ],
             [
              0.5555555555555556,
              "#d8576b"
             ],
             [
              0.6666666666666666,
              "#ed7953"
             ],
             [
              0.7777777777777778,
              "#fb9f3a"
             ],
             [
              0.8888888888888888,
              "#fdca26"
             ],
             [
              1,
              "#f0f921"
             ]
            ],
            "type": "histogram2d"
           }
          ],
          "histogram2dcontour": [
           {
            "colorbar": {
             "outlinewidth": 0,
             "ticks": ""
            },
            "colorscale": [
             [
              0,
              "#0d0887"
             ],
             [
              0.1111111111111111,
              "#46039f"
             ],
             [
              0.2222222222222222,
              "#7201a8"
             ],
             [
              0.3333333333333333,
              "#9c179e"
             ],
             [
              0.4444444444444444,
              "#bd3786"
             ],
             [
              0.5555555555555556,
              "#d8576b"
             ],
             [
              0.6666666666666666,
              "#ed7953"
             ],
             [
              0.7777777777777778,
              "#fb9f3a"
             ],
             [
              0.8888888888888888,
              "#fdca26"
             ],
             [
              1,
              "#f0f921"
             ]
            ],
            "type": "histogram2dcontour"
           }
          ],
          "mesh3d": [
           {
            "colorbar": {
             "outlinewidth": 0,
             "ticks": ""
            },
            "type": "mesh3d"
           }
          ],
          "parcoords": [
           {
            "line": {
             "colorbar": {
              "outlinewidth": 0,
              "ticks": ""
             }
            },
            "type": "parcoords"
           }
          ],
          "pie": [
           {
            "automargin": true,
            "type": "pie"
           }
          ],
          "scatter": [
           {
            "fillpattern": {
             "fillmode": "overlay",
             "size": 10,
             "solidity": 0.2
            },
            "type": "scatter"
           }
          ],
          "scatter3d": [
           {
            "line": {
             "colorbar": {
              "outlinewidth": 0,
              "ticks": ""
             }
            },
            "marker": {
             "colorbar": {
              "outlinewidth": 0,
              "ticks": ""
             }
            },
            "type": "scatter3d"
           }
          ],
          "scattercarpet": [
           {
            "marker": {
             "colorbar": {
              "outlinewidth": 0,
              "ticks": ""
             }
            },
            "type": "scattercarpet"
           }
          ],
          "scattergeo": [
           {
            "marker": {
             "colorbar": {
              "outlinewidth": 0,
              "ticks": ""
             }
            },
            "type": "scattergeo"
           }
          ],
          "scattergl": [
           {
            "marker": {
             "colorbar": {
              "outlinewidth": 0,
              "ticks": ""
             }
            },
            "type": "scattergl"
           }
          ],
          "scattermapbox": [
           {
            "marker": {
             "colorbar": {
              "outlinewidth": 0,
              "ticks": ""
             }
            },
            "type": "scattermapbox"
           }
          ],
          "scatterpolar": [
           {
            "marker": {
             "colorbar": {
              "outlinewidth": 0,
              "ticks": ""
             }
            },
            "type": "scatterpolar"
           }
          ],
          "scatterpolargl": [
           {
            "marker": {
             "colorbar": {
              "outlinewidth": 0,
              "ticks": ""
             }
            },
            "type": "scatterpolargl"
           }
          ],
          "scatterternary": [
           {
            "marker": {
             "colorbar": {
              "outlinewidth": 0,
              "ticks": ""
             }
            },
            "type": "scatterternary"
           }
          ],
          "surface": [
           {
            "colorbar": {
             "outlinewidth": 0,
             "ticks": ""
            },
            "colorscale": [
             [
              0,
              "#0d0887"
             ],
             [
              0.1111111111111111,
              "#46039f"
             ],
             [
              0.2222222222222222,
              "#7201a8"
             ],
             [
              0.3333333333333333,
              "#9c179e"
             ],
             [
              0.4444444444444444,
              "#bd3786"
             ],
             [
              0.5555555555555556,
              "#d8576b"
             ],
             [
              0.6666666666666666,
              "#ed7953"
             ],
             [
              0.7777777777777778,
              "#fb9f3a"
             ],
             [
              0.8888888888888888,
              "#fdca26"
             ],
             [
              1,
              "#f0f921"
             ]
            ],
            "type": "surface"
           }
          ],
          "table": [
           {
            "cells": {
             "fill": {
              "color": "#EBF0F8"
             },
             "line": {
              "color": "white"
             }
            },
            "header": {
             "fill": {
              "color": "#C8D4E3"
             },
             "line": {
              "color": "white"
             }
            },
            "type": "table"
           }
          ]
         },
         "layout": {
          "annotationdefaults": {
           "arrowcolor": "#2a3f5f",
           "arrowhead": 0,
           "arrowwidth": 1
          },
          "autotypenumbers": "strict",
          "coloraxis": {
           "colorbar": {
            "outlinewidth": 0,
            "ticks": ""
           }
          },
          "colorscale": {
           "diverging": [
            [
             0,
             "#8e0152"
            ],
            [
             0.1,
             "#c51b7d"
            ],
            [
             0.2,
             "#de77ae"
            ],
            [
             0.3,
             "#f1b6da"
            ],
            [
             0.4,
             "#fde0ef"
            ],
            [
             0.5,
             "#f7f7f7"
            ],
            [
             0.6,
             "#e6f5d0"
            ],
            [
             0.7,
             "#b8e186"
            ],
            [
             0.8,
             "#7fbc41"
            ],
            [
             0.9,
             "#4d9221"
            ],
            [
             1,
             "#276419"
            ]
           ],
           "sequential": [
            [
             0,
             "#0d0887"
            ],
            [
             0.1111111111111111,
             "#46039f"
            ],
            [
             0.2222222222222222,
             "#7201a8"
            ],
            [
             0.3333333333333333,
             "#9c179e"
            ],
            [
             0.4444444444444444,
             "#bd3786"
            ],
            [
             0.5555555555555556,
             "#d8576b"
            ],
            [
             0.6666666666666666,
             "#ed7953"
            ],
            [
             0.7777777777777778,
             "#fb9f3a"
            ],
            [
             0.8888888888888888,
             "#fdca26"
            ],
            [
             1,
             "#f0f921"
            ]
           ],
           "sequentialminus": [
            [
             0,
             "#0d0887"
            ],
            [
             0.1111111111111111,
             "#46039f"
            ],
            [
             0.2222222222222222,
             "#7201a8"
            ],
            [
             0.3333333333333333,
             "#9c179e"
            ],
            [
             0.4444444444444444,
             "#bd3786"
            ],
            [
             0.5555555555555556,
             "#d8576b"
            ],
            [
             0.6666666666666666,
             "#ed7953"
            ],
            [
             0.7777777777777778,
             "#fb9f3a"
            ],
            [
             0.8888888888888888,
             "#fdca26"
            ],
            [
             1,
             "#f0f921"
            ]
           ]
          },
          "colorway": [
           "#636efa",
           "#EF553B",
           "#00cc96",
           "#ab63fa",
           "#FFA15A",
           "#19d3f3",
           "#FF6692",
           "#B6E880",
           "#FF97FF",
           "#FECB52"
          ],
          "font": {
           "color": "#2a3f5f"
          },
          "geo": {
           "bgcolor": "white",
           "lakecolor": "white",
           "landcolor": "white",
           "showlakes": true,
           "showland": true,
           "subunitcolor": "#C8D4E3"
          },
          "hoverlabel": {
           "align": "left"
          },
          "hovermode": "closest",
          "mapbox": {
           "style": "light"
          },
          "paper_bgcolor": "white",
          "plot_bgcolor": "white",
          "polar": {
           "angularaxis": {
            "gridcolor": "#EBF0F8",
            "linecolor": "#EBF0F8",
            "ticks": ""
           },
           "bgcolor": "white",
           "radialaxis": {
            "gridcolor": "#EBF0F8",
            "linecolor": "#EBF0F8",
            "ticks": ""
           }
          },
          "scene": {
           "xaxis": {
            "backgroundcolor": "white",
            "gridcolor": "#DFE8F3",
            "gridwidth": 2,
            "linecolor": "#EBF0F8",
            "showbackground": true,
            "ticks": "",
            "zerolinecolor": "#EBF0F8"
           },
           "yaxis": {
            "backgroundcolor": "white",
            "gridcolor": "#DFE8F3",
            "gridwidth": 2,
            "linecolor": "#EBF0F8",
            "showbackground": true,
            "ticks": "",
            "zerolinecolor": "#EBF0F8"
           },
           "zaxis": {
            "backgroundcolor": "white",
            "gridcolor": "#DFE8F3",
            "gridwidth": 2,
            "linecolor": "#EBF0F8",
            "showbackground": true,
            "ticks": "",
            "zerolinecolor": "#EBF0F8"
           }
          },
          "shapedefaults": {
           "line": {
            "color": "#2a3f5f"
           }
          },
          "ternary": {
           "aaxis": {
            "gridcolor": "#DFE8F3",
            "linecolor": "#A2B1C6",
            "ticks": ""
           },
           "baxis": {
            "gridcolor": "#DFE8F3",
            "linecolor": "#A2B1C6",
            "ticks": ""
           },
           "bgcolor": "white",
           "caxis": {
            "gridcolor": "#DFE8F3",
            "linecolor": "#A2B1C6",
            "ticks": ""
           }
          },
          "title": {
           "x": 0.05
          },
          "xaxis": {
           "automargin": true,
           "gridcolor": "#EBF0F8",
           "linecolor": "#EBF0F8",
           "ticks": "",
           "title": {
            "standoff": 15
           },
           "zerolinecolor": "#EBF0F8",
           "zerolinewidth": 2
          },
          "yaxis": {
           "automargin": true,
           "gridcolor": "#EBF0F8",
           "linecolor": "#EBF0F8",
           "ticks": "",
           "title": {
            "standoff": 15
           },
           "zerolinecolor": "#EBF0F8",
           "zerolinewidth": 2
          }
         }
        },
        "title": {
         "text": "Antal studerande per utbildningsområde (2014-2024)"
        },
        "updatemenus": [
         {
          "buttons": [
           {
            "args": [
             null,
             {
              "frame": {
               "duration": 500,
               "redraw": false
              },
              "fromcurrent": true,
              "mode": "immediate",
              "transition": {
               "duration": 500,
               "easing": "linear"
              }
             }
            ],
            "label": "&#9654;",
            "method": "animate"
           },
           {
            "args": [
             [
              null
             ],
             {
              "frame": {
               "duration": 0,
               "redraw": false
              },
              "fromcurrent": true,
              "mode": "immediate",
              "transition": {
               "duration": 0,
               "easing": "linear"
              }
             }
            ],
            "label": "&#9724;",
            "method": "animate"
           }
          ],
          "direction": "left",
          "pad": {
           "r": 10,
           "t": 70
          },
          "showactive": false,
          "type": "buttons",
          "x": 0.1,
          "xanchor": "right",
          "y": 0,
          "yanchor": "top"
         }
        ],
        "xaxis": {
         "anchor": "y",
         "categoryarray": [
          "Kultur, media och design",
          "Lantbruk, djurvård, trädgård, skog och fiske",
          "Samhällsbyggnad och byggteknik",
          "Teknik och tillverkning",
          "Övrigt"
         ],
         "categoryorder": "array",
         "domain": [
          0,
          1
         ],
         "showticklabels": false,
         "title": {}
        },
        "yaxis": {
         "anchor": "x",
         "domain": [
          0,
          1
         ],
         "range": [
          0,
          522.6
         ],
         "title": {
          "text": "Antal"
         }
        }
       }
      }
     },
     "metadata": {},
     "output_type": "display_data"
    }
   ],
   "source": [
    "\n",
    "fig_animation = px.scatter(\n",
    "    df_filtered, \n",
    "    x=category_column,            \n",
    "    y='Antal',                     \n",
    "    size='Antal',                  \n",
    "    color=category_column,         \n",
    "    animation_frame='År',          \n",
    "    size_max=45,                   \n",
    "    labels={category_column: 'Utbildningsområde', 'Antal': 'Antal', 'År': 'År'},\n",
    "    template=\"plotly_white\"\n",
    ")\n",
    "\n",
    "max_value = df_filtered['Antal'].max()\n",
    "y_max = max_value * 1.3\n",
    "\n",
    "fig_animation.update_layout(\n",
    "    title='Antal studerande per utbildningsområde (2014-2024)',\n",
    "    xaxis=dict(\n",
    "        showticklabels=False,      \n",
    "        title=None                \n",
    "    ),\n",
    "    yaxis=dict(\n",
    "        title='Antal',\n",
    "        range=[0, y_max]         \n",
    "    ),\n",
    "    legend=dict(\n",
    "        title='Utbildningsområde',\n",
    "        orientation='v',           \n",
    "        yanchor='top',            \n",
    "        y=1,                       \n",
    "        xanchor='left',            \n",
    "        x=1.05            \n",
    "    ),\n",
    "\n",
    "    margin=dict(r=150)          \n",
    ")\n",
    "\n",
    "fig_animation.show()"
   ]
  },
  {
   "cell_type": "code",
   "execution_count": 63,
   "id": "b2aee2b3",
   "metadata": {},
   "outputs": [
    {
     "name": "stdout",
     "output_type": "stream",
     "text": [
      "Taipy version: 3.1.1\n",
      "Plotly version: 5.11.0\n"
     ]
    },
    {
     "name": "stderr",
     "output_type": "stream",
     "text": [
      "/var/folders/6n/k55z_kf10m5811bglwczkqg80000gp/T/ipykernel_27575/845508048.py:1: DeprecationWarning:\n",
      "\n",
      "pkg_resources is deprecated as an API. See https://setuptools.pypa.io/en/latest/pkg_resources.html\n",
      "\n"
     ]
    }
   ],
   "source": [
    "import pkg_resources\n",
    "\n",
    "taipy_version = pkg_resources.get_distribution(\"taipy\").version\n",
    "plotly_version = pkg_resources.get_distribution(\"plotly\").version\n",
    "\n",
    "print(f\"Taipy version: {taipy_version}\")\n",
    "print(f\"Plotly version: {plotly_version}\")"
   ]
  },
  {
   "cell_type": "code",
   "execution_count": 64,
   "id": "55d1e022",
   "metadata": {},
   "outputs": [
    {
     "name": "stdout",
     "output_type": "stream",
     "text": [
      "Unique years in df_melted: [2014, 2015, 2016, 2017, 2018, 2019, 2020, 2021, 2022, 2023, 2024]\n",
      "Type of year values: <class 'int'>\n"
     ]
    }
   ],
   "source": [
    "print(\"Unique years in df_melted:\", sorted(df_melted['År'].unique()))\n",
    "print(\"Type of year values:\", type(df_melted['År'].iloc[0]))"
   ]
  },
  {
   "cell_type": "code",
   "execution_count": 1,
   "id": "3684efee",
   "metadata": {},
   "outputs": [
    {
     "data": {
      "text/html": [
       "<div>\n",
       "<style scoped>\n",
       "    .dataframe tbody tr th:only-of-type {\n",
       "        vertical-align: middle;\n",
       "    }\n",
       "\n",
       "    .dataframe tbody tr th {\n",
       "        vertical-align: top;\n",
       "    }\n",
       "\n",
       "    .dataframe thead th {\n",
       "        text-align: right;\n",
       "    }\n",
       "</style>\n",
       "<table border=\"1\" class=\"dataframe\">\n",
       "  <thead>\n",
       "    <tr style=\"text-align: right;\">\n",
       "      <th></th>\n",
       "      <th>Utbildningsområde</th>\n",
       "      <th>SUN5 inriktning</th>\n",
       "      <th>SUN5 inriktning namn</th>\n",
       "      <th>Utbildningsnamn</th>\n",
       "      <th>Beslut</th>\n",
       "      <th>Diarienummer</th>\n",
       "      <th>Flera kommuner</th>\n",
       "      <th>Antal kommuner</th>\n",
       "      <th>Län</th>\n",
       "      <th>Kommun</th>\n",
       "      <th>...</th>\n",
       "      <th>Beviljade utbildningsomgångar</th>\n",
       "      <th>Sökta platser per utbildningsomgång</th>\n",
       "      <th>Sökta platser totalt</th>\n",
       "      <th>Beviljade platser utbildningsomgång 1</th>\n",
       "      <th>Beviljade platser utbildningsomgång 2</th>\n",
       "      <th>Beviljade platser utbildningsomgång 3</th>\n",
       "      <th>Beviljade platser utbildningsomgång 4</th>\n",
       "      <th>Beviljade platser utbildningsomgång 5</th>\n",
       "      <th>Beviljade platser totalt</th>\n",
       "      <th>År</th>\n",
       "    </tr>\n",
       "  </thead>\n",
       "  <tbody>\n",
       "    <tr>\n",
       "      <th>0</th>\n",
       "      <td>Data/IT</td>\n",
       "      <td>481ab</td>\n",
       "      <td>Utbildningar till programmerare, spel</td>\n",
       "      <td>AI Programmer</td>\n",
       "      <td>Avslag</td>\n",
       "      <td>MYH 2024/3742</td>\n",
       "      <td>Nej</td>\n",
       "      <td>1</td>\n",
       "      <td>Västerbotten</td>\n",
       "      <td>Umeå</td>\n",
       "      <td>...</td>\n",
       "      <td>0</td>\n",
       "      <td>30.0</td>\n",
       "      <td>90.0</td>\n",
       "      <td>0.0</td>\n",
       "      <td>0.0</td>\n",
       "      <td>0.0</td>\n",
       "      <td>0.0</td>\n",
       "      <td>0.0</td>\n",
       "      <td>0.0</td>\n",
       "      <td>2024</td>\n",
       "    </tr>\n",
       "    <tr>\n",
       "      <th>1</th>\n",
       "      <td>Data/IT</td>\n",
       "      <td>481ab</td>\n",
       "      <td>Utbildningar till programmerare, spel</td>\n",
       "      <td>Forsbergs, Spelutvecklare – Game Programming</td>\n",
       "      <td>Avslag</td>\n",
       "      <td>MYH 2024/4174</td>\n",
       "      <td>Nej</td>\n",
       "      <td>1</td>\n",
       "      <td>Stockholm</td>\n",
       "      <td>Stockholm</td>\n",
       "      <td>...</td>\n",
       "      <td>0</td>\n",
       "      <td>20.0</td>\n",
       "      <td>60.0</td>\n",
       "      <td>0.0</td>\n",
       "      <td>0.0</td>\n",
       "      <td>0.0</td>\n",
       "      <td>0.0</td>\n",
       "      <td>0.0</td>\n",
       "      <td>0.0</td>\n",
       "      <td>2024</td>\n",
       "    </tr>\n",
       "    <tr>\n",
       "      <th>2</th>\n",
       "      <td>Data/IT</td>\n",
       "      <td>481ab</td>\n",
       "      <td>Utbildningar till programmerare, spel</td>\n",
       "      <td>Futuregames Game Programmer Specialization</td>\n",
       "      <td>Avslag</td>\n",
       "      <td>MYH 2024/3029</td>\n",
       "      <td>Ja</td>\n",
       "      <td>2</td>\n",
       "      <td>Flera kommuner</td>\n",
       "      <td>Flera kommuner</td>\n",
       "      <td>...</td>\n",
       "      <td>0</td>\n",
       "      <td>30.0</td>\n",
       "      <td>90.0</td>\n",
       "      <td>0.0</td>\n",
       "      <td>0.0</td>\n",
       "      <td>0.0</td>\n",
       "      <td>0.0</td>\n",
       "      <td>0.0</td>\n",
       "      <td>0.0</td>\n",
       "      <td>2024</td>\n",
       "    </tr>\n",
       "    <tr>\n",
       "      <th>3</th>\n",
       "      <td>Data/IT</td>\n",
       "      <td>481ab</td>\n",
       "      <td>Utbildningar till programmerare, spel</td>\n",
       "      <td>Game Programmer</td>\n",
       "      <td>Avslag</td>\n",
       "      <td>MYH 2024/3425</td>\n",
       "      <td>Nej</td>\n",
       "      <td>1</td>\n",
       "      <td>Blekinge</td>\n",
       "      <td>Karlshamn</td>\n",
       "      <td>...</td>\n",
       "      <td>0</td>\n",
       "      <td>25.0</td>\n",
       "      <td>75.0</td>\n",
       "      <td>0.0</td>\n",
       "      <td>0.0</td>\n",
       "      <td>0.0</td>\n",
       "      <td>0.0</td>\n",
       "      <td>0.0</td>\n",
       "      <td>0.0</td>\n",
       "      <td>2024</td>\n",
       "    </tr>\n",
       "    <tr>\n",
       "      <th>4</th>\n",
       "      <td>Data/IT</td>\n",
       "      <td>481ab</td>\n",
       "      <td>Utbildningar till programmerare, spel</td>\n",
       "      <td>Spelprogrammerare</td>\n",
       "      <td>Beviljad</td>\n",
       "      <td>MYH 2024/3852</td>\n",
       "      <td>Nej</td>\n",
       "      <td>1</td>\n",
       "      <td>Skåne</td>\n",
       "      <td>Malmö</td>\n",
       "      <td>...</td>\n",
       "      <td>3</td>\n",
       "      <td>35.0</td>\n",
       "      <td>140.0</td>\n",
       "      <td>35.0</td>\n",
       "      <td>35.0</td>\n",
       "      <td>35.0</td>\n",
       "      <td>0.0</td>\n",
       "      <td>0.0</td>\n",
       "      <td>105.0</td>\n",
       "      <td>2024</td>\n",
       "    </tr>\n",
       "    <tr>\n",
       "      <th>5</th>\n",
       "      <td>Data/IT</td>\n",
       "      <td>481ab</td>\n",
       "      <td>Utbildningar till programmerare, spel</td>\n",
       "      <td>Spelprogrammerare</td>\n",
       "      <td>Avslag</td>\n",
       "      <td>MYH 2024/3824</td>\n",
       "      <td>Nej</td>\n",
       "      <td>1</td>\n",
       "      <td>Värmland</td>\n",
       "      <td>Karlstad</td>\n",
       "      <td>...</td>\n",
       "      <td>0</td>\n",
       "      <td>35.0</td>\n",
       "      <td>105.0</td>\n",
       "      <td>0.0</td>\n",
       "      <td>0.0</td>\n",
       "      <td>0.0</td>\n",
       "      <td>0.0</td>\n",
       "      <td>0.0</td>\n",
       "      <td>0.0</td>\n",
       "      <td>2024</td>\n",
       "    </tr>\n",
       "    <tr>\n",
       "      <th>6</th>\n",
       "      <td>Data/IT</td>\n",
       "      <td>481ac</td>\n",
       "      <td>Utbildningar inom systemhantering och programm...</td>\n",
       "      <td>.NET Developer</td>\n",
       "      <td>Avslag</td>\n",
       "      <td>MYH 2024/3558</td>\n",
       "      <td>Nej</td>\n",
       "      <td>1</td>\n",
       "      <td>Stockholm</td>\n",
       "      <td>Stockholm</td>\n",
       "      <td>...</td>\n",
       "      <td>0</td>\n",
       "      <td>35.0</td>\n",
       "      <td>175.0</td>\n",
       "      <td>0.0</td>\n",
       "      <td>0.0</td>\n",
       "      <td>0.0</td>\n",
       "      <td>0.0</td>\n",
       "      <td>0.0</td>\n",
       "      <td>0.0</td>\n",
       "      <td>2024</td>\n",
       "    </tr>\n",
       "    <tr>\n",
       "      <th>7</th>\n",
       "      <td>Data/IT</td>\n",
       "      <td>481ac</td>\n",
       "      <td>Utbildningar inom systemhantering och programm...</td>\n",
       "      <td>.NET Developer</td>\n",
       "      <td>Avslag</td>\n",
       "      <td>MYH 2024/3646</td>\n",
       "      <td>Nej</td>\n",
       "      <td>1</td>\n",
       "      <td>Västra Götaland</td>\n",
       "      <td>Göteborg</td>\n",
       "      <td>...</td>\n",
       "      <td>0</td>\n",
       "      <td>35.0</td>\n",
       "      <td>175.0</td>\n",
       "      <td>0.0</td>\n",
       "      <td>0.0</td>\n",
       "      <td>0.0</td>\n",
       "      <td>0.0</td>\n",
       "      <td>0.0</td>\n",
       "      <td>0.0</td>\n",
       "      <td>2024</td>\n",
       "    </tr>\n",
       "    <tr>\n",
       "      <th>8</th>\n",
       "      <td>Data/IT</td>\n",
       "      <td>481ac</td>\n",
       "      <td>Utbildningar inom systemhantering och programm...</td>\n",
       "      <td>.NET Developer</td>\n",
       "      <td>Avslag</td>\n",
       "      <td>MYH 2024/3657</td>\n",
       "      <td>Nej</td>\n",
       "      <td>1</td>\n",
       "      <td>Skåne</td>\n",
       "      <td>Malmö</td>\n",
       "      <td>...</td>\n",
       "      <td>0</td>\n",
       "      <td>35.0</td>\n",
       "      <td>175.0</td>\n",
       "      <td>0.0</td>\n",
       "      <td>0.0</td>\n",
       "      <td>0.0</td>\n",
       "      <td>0.0</td>\n",
       "      <td>0.0</td>\n",
       "      <td>0.0</td>\n",
       "      <td>2024</td>\n",
       "    </tr>\n",
       "    <tr>\n",
       "      <th>9</th>\n",
       "      <td>Data/IT</td>\n",
       "      <td>481ac</td>\n",
       "      <td>Utbildningar inom systemhantering och programm...</td>\n",
       "      <td>.NET Utvecklare</td>\n",
       "      <td>Avslag</td>\n",
       "      <td>MYH 2024/3943</td>\n",
       "      <td>Nej</td>\n",
       "      <td>1</td>\n",
       "      <td>Västra Götaland</td>\n",
       "      <td>Göteborg</td>\n",
       "      <td>...</td>\n",
       "      <td>0</td>\n",
       "      <td>30.0</td>\n",
       "      <td>150.0</td>\n",
       "      <td>0.0</td>\n",
       "      <td>0.0</td>\n",
       "      <td>0.0</td>\n",
       "      <td>0.0</td>\n",
       "      <td>0.0</td>\n",
       "      <td>0.0</td>\n",
       "      <td>2024</td>\n",
       "    </tr>\n",
       "    <tr>\n",
       "      <th>10</th>\n",
       "      <td>Data/IT</td>\n",
       "      <td>481ac</td>\n",
       "      <td>Utbildningar inom systemhantering och programm...</td>\n",
       "      <td>.NET-Cloud developer</td>\n",
       "      <td>Avslag</td>\n",
       "      <td>MYH 2024/4278</td>\n",
       "      <td>Nej</td>\n",
       "      <td>1</td>\n",
       "      <td>Stockholm</td>\n",
       "      <td>Stockholm</td>\n",
       "      <td>...</td>\n",
       "      <td>0</td>\n",
       "      <td>35.0</td>\n",
       "      <td>105.0</td>\n",
       "      <td>0.0</td>\n",
       "      <td>0.0</td>\n",
       "      <td>0.0</td>\n",
       "      <td>0.0</td>\n",
       "      <td>0.0</td>\n",
       "      <td>0.0</td>\n",
       "      <td>2024</td>\n",
       "    </tr>\n",
       "    <tr>\n",
       "      <th>11</th>\n",
       "      <td>Data/IT</td>\n",
       "      <td>481ac</td>\n",
       "      <td>Utbildningar inom systemhantering och programm...</td>\n",
       "      <td>.NET-utvecklare</td>\n",
       "      <td>Avslag</td>\n",
       "      <td>MYH 2024/3963</td>\n",
       "      <td>Nej</td>\n",
       "      <td>1</td>\n",
       "      <td>Västra Götaland</td>\n",
       "      <td>Göteborg</td>\n",
       "      <td>...</td>\n",
       "      <td>0</td>\n",
       "      <td>35.0</td>\n",
       "      <td>105.0</td>\n",
       "      <td>0.0</td>\n",
       "      <td>0.0</td>\n",
       "      <td>0.0</td>\n",
       "      <td>0.0</td>\n",
       "      <td>0.0</td>\n",
       "      <td>0.0</td>\n",
       "      <td>2024</td>\n",
       "    </tr>\n",
       "    <tr>\n",
       "      <th>12</th>\n",
       "      <td>Data/IT</td>\n",
       "      <td>481ac</td>\n",
       "      <td>Utbildningar inom systemhantering och programm...</td>\n",
       "      <td>.NET-utvecklare</td>\n",
       "      <td>Avslag</td>\n",
       "      <td>MYH 2024/3974</td>\n",
       "      <td>Nej</td>\n",
       "      <td>1</td>\n",
       "      <td>Stockholm</td>\n",
       "      <td>Stockholm</td>\n",
       "      <td>...</td>\n",
       "      <td>0</td>\n",
       "      <td>35.0</td>\n",
       "      <td>105.0</td>\n",
       "      <td>0.0</td>\n",
       "      <td>0.0</td>\n",
       "      <td>0.0</td>\n",
       "      <td>0.0</td>\n",
       "      <td>0.0</td>\n",
       "      <td>0.0</td>\n",
       "      <td>2024</td>\n",
       "    </tr>\n",
       "    <tr>\n",
       "      <th>13</th>\n",
       "      <td>Data/IT</td>\n",
       "      <td>481ac</td>\n",
       "      <td>Utbildningar inom systemhantering och programm...</td>\n",
       "      <td>.NET-utvecklare</td>\n",
       "      <td>Avslag</td>\n",
       "      <td>MYH 2024/3988</td>\n",
       "      <td>Nej</td>\n",
       "      <td>1</td>\n",
       "      <td>Stockholm</td>\n",
       "      <td>Stockholm</td>\n",
       "      <td>...</td>\n",
       "      <td>0</td>\n",
       "      <td>35.0</td>\n",
       "      <td>105.0</td>\n",
       "      <td>0.0</td>\n",
       "      <td>0.0</td>\n",
       "      <td>0.0</td>\n",
       "      <td>0.0</td>\n",
       "      <td>0.0</td>\n",
       "      <td>0.0</td>\n",
       "      <td>2024</td>\n",
       "    </tr>\n",
       "    <tr>\n",
       "      <th>14</th>\n",
       "      <td>Data/IT</td>\n",
       "      <td>481ac</td>\n",
       "      <td>Utbildningar inom systemhantering och programm...</td>\n",
       "      <td>.NET-utvecklare med molninriktning</td>\n",
       "      <td>Beviljad</td>\n",
       "      <td>MYH 2024/3043</td>\n",
       "      <td>Nej</td>\n",
       "      <td>1</td>\n",
       "      <td>Stockholm</td>\n",
       "      <td>Stockholm</td>\n",
       "      <td>...</td>\n",
       "      <td>3</td>\n",
       "      <td>32.0</td>\n",
       "      <td>96.0</td>\n",
       "      <td>32.0</td>\n",
       "      <td>32.0</td>\n",
       "      <td>32.0</td>\n",
       "      <td>0.0</td>\n",
       "      <td>0.0</td>\n",
       "      <td>96.0</td>\n",
       "      <td>2024</td>\n",
       "    </tr>\n",
       "    <tr>\n",
       "      <th>15</th>\n",
       "      <td>Data/IT</td>\n",
       "      <td>481ac</td>\n",
       "      <td>Utbildningar inom systemhantering och programm...</td>\n",
       "      <td>AI Developer</td>\n",
       "      <td>Beviljad</td>\n",
       "      <td>MYH 2024/3048</td>\n",
       "      <td>Nej</td>\n",
       "      <td>1</td>\n",
       "      <td>Stockholm</td>\n",
       "      <td>Stockholm</td>\n",
       "      <td>...</td>\n",
       "      <td>3</td>\n",
       "      <td>32.0</td>\n",
       "      <td>96.0</td>\n",
       "      <td>32.0</td>\n",
       "      <td>32.0</td>\n",
       "      <td>32.0</td>\n",
       "      <td>0.0</td>\n",
       "      <td>0.0</td>\n",
       "      <td>96.0</td>\n",
       "      <td>2024</td>\n",
       "    </tr>\n",
       "    <tr>\n",
       "      <th>16</th>\n",
       "      <td>Data/IT</td>\n",
       "      <td>481ac</td>\n",
       "      <td>Utbildningar inom systemhantering och programm...</td>\n",
       "      <td>AI developer</td>\n",
       "      <td>Avslag</td>\n",
       "      <td>MYH 2024/3045</td>\n",
       "      <td>Nej</td>\n",
       "      <td>1</td>\n",
       "      <td>Västernorrland</td>\n",
       "      <td>Sundsvall</td>\n",
       "      <td>...</td>\n",
       "      <td>0</td>\n",
       "      <td>32.0</td>\n",
       "      <td>96.0</td>\n",
       "      <td>0.0</td>\n",
       "      <td>0.0</td>\n",
       "      <td>0.0</td>\n",
       "      <td>0.0</td>\n",
       "      <td>0.0</td>\n",
       "      <td>0.0</td>\n",
       "      <td>2024</td>\n",
       "    </tr>\n",
       "    <tr>\n",
       "      <th>17</th>\n",
       "      <td>Data/IT</td>\n",
       "      <td>481ac</td>\n",
       "      <td>Utbildningar inom systemhantering och programm...</td>\n",
       "      <td>AI developer</td>\n",
       "      <td>Avslag</td>\n",
       "      <td>MYH 2024/3046</td>\n",
       "      <td>Nej</td>\n",
       "      <td>1</td>\n",
       "      <td>Västra Götaland</td>\n",
       "      <td>Göteborg</td>\n",
       "      <td>...</td>\n",
       "      <td>0</td>\n",
       "      <td>35.0</td>\n",
       "      <td>105.0</td>\n",
       "      <td>0.0</td>\n",
       "      <td>0.0</td>\n",
       "      <td>0.0</td>\n",
       "      <td>0.0</td>\n",
       "      <td>0.0</td>\n",
       "      <td>0.0</td>\n",
       "      <td>2024</td>\n",
       "    </tr>\n",
       "    <tr>\n",
       "      <th>18</th>\n",
       "      <td>Data/IT</td>\n",
       "      <td>481ac</td>\n",
       "      <td>Utbildningar inom systemhantering och programm...</td>\n",
       "      <td>AI developer</td>\n",
       "      <td>Avslag</td>\n",
       "      <td>MYH 2024/3047</td>\n",
       "      <td>Nej</td>\n",
       "      <td>1</td>\n",
       "      <td>Skåne</td>\n",
       "      <td>Malmö</td>\n",
       "      <td>...</td>\n",
       "      <td>0</td>\n",
       "      <td>32.0</td>\n",
       "      <td>96.0</td>\n",
       "      <td>0.0</td>\n",
       "      <td>0.0</td>\n",
       "      <td>0.0</td>\n",
       "      <td>0.0</td>\n",
       "      <td>0.0</td>\n",
       "      <td>0.0</td>\n",
       "      <td>2024</td>\n",
       "    </tr>\n",
       "    <tr>\n",
       "      <th>19</th>\n",
       "      <td>Data/IT</td>\n",
       "      <td>481ac</td>\n",
       "      <td>Utbildningar inom systemhantering och programm...</td>\n",
       "      <td>AI Developer</td>\n",
       "      <td>Avslag</td>\n",
       "      <td>MYH 2024/3389</td>\n",
       "      <td>Nej</td>\n",
       "      <td>1</td>\n",
       "      <td>Örebro</td>\n",
       "      <td>Örebro</td>\n",
       "      <td>...</td>\n",
       "      <td>0</td>\n",
       "      <td>34.0</td>\n",
       "      <td>102.0</td>\n",
       "      <td>0.0</td>\n",
       "      <td>0.0</td>\n",
       "      <td>0.0</td>\n",
       "      <td>0.0</td>\n",
       "      <td>0.0</td>\n",
       "      <td>0.0</td>\n",
       "      <td>2024</td>\n",
       "    </tr>\n",
       "    <tr>\n",
       "      <th>20</th>\n",
       "      <td>Data/IT</td>\n",
       "      <td>481ac</td>\n",
       "      <td>Utbildningar inom systemhantering och programm...</td>\n",
       "      <td>AI Developer</td>\n",
       "      <td>Avslag</td>\n",
       "      <td>MYH 2024/4209</td>\n",
       "      <td>Ja</td>\n",
       "      <td>4</td>\n",
       "      <td>Flera kommuner</td>\n",
       "      <td>Flera kommuner</td>\n",
       "      <td>...</td>\n",
       "      <td>0</td>\n",
       "      <td>35.0</td>\n",
       "      <td>105.0</td>\n",
       "      <td>0.0</td>\n",
       "      <td>0.0</td>\n",
       "      <td>0.0</td>\n",
       "      <td>0.0</td>\n",
       "      <td>0.0</td>\n",
       "      <td>0.0</td>\n",
       "      <td>2024</td>\n",
       "    </tr>\n",
       "    <tr>\n",
       "      <th>21</th>\n",
       "      <td>Data/IT</td>\n",
       "      <td>481ac</td>\n",
       "      <td>Utbildningar inom systemhantering och programm...</td>\n",
       "      <td>AI Developer</td>\n",
       "      <td>Avslag</td>\n",
       "      <td>MYH 2024/4254</td>\n",
       "      <td>Nej</td>\n",
       "      <td>1</td>\n",
       "      <td>Stockholm</td>\n",
       "      <td>Stockholm</td>\n",
       "      <td>...</td>\n",
       "      <td>0</td>\n",
       "      <td>35.0</td>\n",
       "      <td>105.0</td>\n",
       "      <td>0.0</td>\n",
       "      <td>0.0</td>\n",
       "      <td>0.0</td>\n",
       "      <td>0.0</td>\n",
       "      <td>0.0</td>\n",
       "      <td>0.0</td>\n",
       "      <td>2024</td>\n",
       "    </tr>\n",
       "    <tr>\n",
       "      <th>22</th>\n",
       "      <td>Data/IT</td>\n",
       "      <td>481ac</td>\n",
       "      <td>Utbildningar inom systemhantering och programm...</td>\n",
       "      <td>Backend Developer inriktning Cloud</td>\n",
       "      <td>Beviljad</td>\n",
       "      <td>MYH 2024/3436</td>\n",
       "      <td>Nej</td>\n",
       "      <td>1</td>\n",
       "      <td>Västra Götaland</td>\n",
       "      <td>Göteborg</td>\n",
       "      <td>...</td>\n",
       "      <td>3</td>\n",
       "      <td>35.0</td>\n",
       "      <td>105.0</td>\n",
       "      <td>35.0</td>\n",
       "      <td>35.0</td>\n",
       "      <td>35.0</td>\n",
       "      <td>0.0</td>\n",
       "      <td>0.0</td>\n",
       "      <td>105.0</td>\n",
       "      <td>2024</td>\n",
       "    </tr>\n",
       "    <tr>\n",
       "      <th>23</th>\n",
       "      <td>Data/IT</td>\n",
       "      <td>481ac</td>\n",
       "      <td>Utbildningar inom systemhantering och programm...</td>\n",
       "      <td>Backend Developer inriktning Cloud</td>\n",
       "      <td>Avslag</td>\n",
       "      <td>MYH 2024/3517</td>\n",
       "      <td>Nej</td>\n",
       "      <td>1</td>\n",
       "      <td>Skåne</td>\n",
       "      <td>Malmö</td>\n",
       "      <td>...</td>\n",
       "      <td>0</td>\n",
       "      <td>35.0</td>\n",
       "      <td>105.0</td>\n",
       "      <td>0.0</td>\n",
       "      <td>0.0</td>\n",
       "      <td>0.0</td>\n",
       "      <td>0.0</td>\n",
       "      <td>0.0</td>\n",
       "      <td>0.0</td>\n",
       "      <td>2024</td>\n",
       "    </tr>\n",
       "    <tr>\n",
       "      <th>24</th>\n",
       "      <td>Data/IT</td>\n",
       "      <td>481ac</td>\n",
       "      <td>Utbildningar inom systemhantering och programm...</td>\n",
       "      <td>Backend- och Cloudutvecklare med AI-kompetens</td>\n",
       "      <td>Avslag</td>\n",
       "      <td>MYH 2024/4119</td>\n",
       "      <td>Nej</td>\n",
       "      <td>1</td>\n",
       "      <td>Stockholm</td>\n",
       "      <td>Stockholm</td>\n",
       "      <td>...</td>\n",
       "      <td>0</td>\n",
       "      <td>35.0</td>\n",
       "      <td>105.0</td>\n",
       "      <td>0.0</td>\n",
       "      <td>0.0</td>\n",
       "      <td>0.0</td>\n",
       "      <td>0.0</td>\n",
       "      <td>0.0</td>\n",
       "      <td>0.0</td>\n",
       "      <td>2024</td>\n",
       "    </tr>\n",
       "    <tr>\n",
       "      <th>25</th>\n",
       "      <td>Data/IT</td>\n",
       "      <td>481ac</td>\n",
       "      <td>Utbildningar inom systemhantering och programm...</td>\n",
       "      <td>Cloud Developer</td>\n",
       "      <td>Beviljad</td>\n",
       "      <td>MYH 2024/4178</td>\n",
       "      <td>Nej</td>\n",
       "      <td>1</td>\n",
       "      <td>Västra Götaland</td>\n",
       "      <td>Mölndal</td>\n",
       "      <td>...</td>\n",
       "      <td>3</td>\n",
       "      <td>20.0</td>\n",
       "      <td>60.0</td>\n",
       "      <td>20.0</td>\n",
       "      <td>20.0</td>\n",
       "      <td>20.0</td>\n",
       "      <td>0.0</td>\n",
       "      <td>0.0</td>\n",
       "      <td>60.0</td>\n",
       "      <td>2024</td>\n",
       "    </tr>\n",
       "    <tr>\n",
       "      <th>26</th>\n",
       "      <td>Data/IT</td>\n",
       "      <td>481ac</td>\n",
       "      <td>Utbildningar inom systemhantering och programm...</td>\n",
       "      <td>Cloud Developer</td>\n",
       "      <td>Avslag</td>\n",
       "      <td>MYH 2024/3854</td>\n",
       "      <td>Nej</td>\n",
       "      <td>1</td>\n",
       "      <td>Stockholm</td>\n",
       "      <td>Solna</td>\n",
       "      <td>...</td>\n",
       "      <td>0</td>\n",
       "      <td>35.0</td>\n",
       "      <td>105.0</td>\n",
       "      <td>0.0</td>\n",
       "      <td>0.0</td>\n",
       "      <td>0.0</td>\n",
       "      <td>0.0</td>\n",
       "      <td>0.0</td>\n",
       "      <td>0.0</td>\n",
       "      <td>2024</td>\n",
       "    </tr>\n",
       "    <tr>\n",
       "      <th>27</th>\n",
       "      <td>Data/IT</td>\n",
       "      <td>481ac</td>\n",
       "      <td>Utbildningar inom systemhantering och programm...</td>\n",
       "      <td>DevSecOps Engineer</td>\n",
       "      <td>Avslag</td>\n",
       "      <td>MYH 2024/3061</td>\n",
       "      <td>Nej</td>\n",
       "      <td>1</td>\n",
       "      <td>Västra Götaland</td>\n",
       "      <td>Göteborg</td>\n",
       "      <td>...</td>\n",
       "      <td>0</td>\n",
       "      <td>32.0</td>\n",
       "      <td>96.0</td>\n",
       "      <td>0.0</td>\n",
       "      <td>0.0</td>\n",
       "      <td>0.0</td>\n",
       "      <td>0.0</td>\n",
       "      <td>0.0</td>\n",
       "      <td>0.0</td>\n",
       "      <td>2024</td>\n",
       "    </tr>\n",
       "    <tr>\n",
       "      <th>28</th>\n",
       "      <td>Data/IT</td>\n",
       "      <td>481ac</td>\n",
       "      <td>Utbildningar inom systemhantering och programm...</td>\n",
       "      <td>DevSecOps Engineer</td>\n",
       "      <td>Avslag</td>\n",
       "      <td>MYH 2024/3062</td>\n",
       "      <td>Nej</td>\n",
       "      <td>1</td>\n",
       "      <td>Skåne</td>\n",
       "      <td>Malmö</td>\n",
       "      <td>...</td>\n",
       "      <td>0</td>\n",
       "      <td>32.0</td>\n",
       "      <td>96.0</td>\n",
       "      <td>0.0</td>\n",
       "      <td>0.0</td>\n",
       "      <td>0.0</td>\n",
       "      <td>0.0</td>\n",
       "      <td>0.0</td>\n",
       "      <td>0.0</td>\n",
       "      <td>2024</td>\n",
       "    </tr>\n",
       "    <tr>\n",
       "      <th>29</th>\n",
       "      <td>Data/IT</td>\n",
       "      <td>481ac</td>\n",
       "      <td>Utbildningar inom systemhantering och programm...</td>\n",
       "      <td>DevSecOps Engineer</td>\n",
       "      <td>Avslag</td>\n",
       "      <td>MYH 2024/3063</td>\n",
       "      <td>Nej</td>\n",
       "      <td>1</td>\n",
       "      <td>Stockholm</td>\n",
       "      <td>Stockholm</td>\n",
       "      <td>...</td>\n",
       "      <td>0</td>\n",
       "      <td>35.0</td>\n",
       "      <td>105.0</td>\n",
       "      <td>0.0</td>\n",
       "      <td>0.0</td>\n",
       "      <td>0.0</td>\n",
       "      <td>0.0</td>\n",
       "      <td>0.0</td>\n",
       "      <td>0.0</td>\n",
       "      <td>2024</td>\n",
       "    </tr>\n",
       "  </tbody>\n",
       "</table>\n",
       "<p>30 rows × 29 columns</p>\n",
       "</div>"
      ],
      "text/plain": [
       "   Utbildningsområde SUN5 inriktning  \\\n",
       "0            Data/IT           481ab   \n",
       "1            Data/IT           481ab   \n",
       "2            Data/IT           481ab   \n",
       "3            Data/IT           481ab   \n",
       "4            Data/IT           481ab   \n",
       "5            Data/IT           481ab   \n",
       "6            Data/IT           481ac   \n",
       "7            Data/IT           481ac   \n",
       "8            Data/IT           481ac   \n",
       "9            Data/IT           481ac   \n",
       "10           Data/IT           481ac   \n",
       "11           Data/IT           481ac   \n",
       "12           Data/IT           481ac   \n",
       "13           Data/IT           481ac   \n",
       "14           Data/IT           481ac   \n",
       "15           Data/IT           481ac   \n",
       "16           Data/IT           481ac   \n",
       "17           Data/IT           481ac   \n",
       "18           Data/IT           481ac   \n",
       "19           Data/IT           481ac   \n",
       "20           Data/IT           481ac   \n",
       "21           Data/IT           481ac   \n",
       "22           Data/IT           481ac   \n",
       "23           Data/IT           481ac   \n",
       "24           Data/IT           481ac   \n",
       "25           Data/IT           481ac   \n",
       "26           Data/IT           481ac   \n",
       "27           Data/IT           481ac   \n",
       "28           Data/IT           481ac   \n",
       "29           Data/IT           481ac   \n",
       "\n",
       "                                 SUN5 inriktning namn  \\\n",
       "0               Utbildningar till programmerare, spel   \n",
       "1               Utbildningar till programmerare, spel   \n",
       "2               Utbildningar till programmerare, spel   \n",
       "3               Utbildningar till programmerare, spel   \n",
       "4               Utbildningar till programmerare, spel   \n",
       "5               Utbildningar till programmerare, spel   \n",
       "6   Utbildningar inom systemhantering och programm...   \n",
       "7   Utbildningar inom systemhantering och programm...   \n",
       "8   Utbildningar inom systemhantering och programm...   \n",
       "9   Utbildningar inom systemhantering och programm...   \n",
       "10  Utbildningar inom systemhantering och programm...   \n",
       "11  Utbildningar inom systemhantering och programm...   \n",
       "12  Utbildningar inom systemhantering och programm...   \n",
       "13  Utbildningar inom systemhantering och programm...   \n",
       "14  Utbildningar inom systemhantering och programm...   \n",
       "15  Utbildningar inom systemhantering och programm...   \n",
       "16  Utbildningar inom systemhantering och programm...   \n",
       "17  Utbildningar inom systemhantering och programm...   \n",
       "18  Utbildningar inom systemhantering och programm...   \n",
       "19  Utbildningar inom systemhantering och programm...   \n",
       "20  Utbildningar inom systemhantering och programm...   \n",
       "21  Utbildningar inom systemhantering och programm...   \n",
       "22  Utbildningar inom systemhantering och programm...   \n",
       "23  Utbildningar inom systemhantering och programm...   \n",
       "24  Utbildningar inom systemhantering och programm...   \n",
       "25  Utbildningar inom systemhantering och programm...   \n",
       "26  Utbildningar inom systemhantering och programm...   \n",
       "27  Utbildningar inom systemhantering och programm...   \n",
       "28  Utbildningar inom systemhantering och programm...   \n",
       "29  Utbildningar inom systemhantering och programm...   \n",
       "\n",
       "                                  Utbildningsnamn    Beslut   Diarienummer  \\\n",
       "0                                   AI Programmer    Avslag  MYH 2024/3742   \n",
       "1    Forsbergs, Spelutvecklare – Game Programming    Avslag  MYH 2024/4174   \n",
       "2      Futuregames Game Programmer Specialization    Avslag  MYH 2024/3029   \n",
       "3                                 Game Programmer    Avslag  MYH 2024/3425   \n",
       "4                               Spelprogrammerare  Beviljad  MYH 2024/3852   \n",
       "5                               Spelprogrammerare    Avslag  MYH 2024/3824   \n",
       "6                                  .NET Developer    Avslag  MYH 2024/3558   \n",
       "7                                  .NET Developer    Avslag  MYH 2024/3646   \n",
       "8                                  .NET Developer    Avslag  MYH 2024/3657   \n",
       "9                                 .NET Utvecklare    Avslag  MYH 2024/3943   \n",
       "10                           .NET-Cloud developer    Avslag  MYH 2024/4278   \n",
       "11                                .NET-utvecklare    Avslag  MYH 2024/3963   \n",
       "12                                .NET-utvecklare    Avslag  MYH 2024/3974   \n",
       "13                                .NET-utvecklare    Avslag  MYH 2024/3988   \n",
       "14             .NET-utvecklare med molninriktning  Beviljad  MYH 2024/3043   \n",
       "15                                   AI Developer  Beviljad  MYH 2024/3048   \n",
       "16                                   AI developer    Avslag  MYH 2024/3045   \n",
       "17                                   AI developer    Avslag  MYH 2024/3046   \n",
       "18                                   AI developer    Avslag  MYH 2024/3047   \n",
       "19                                   AI Developer    Avslag  MYH 2024/3389   \n",
       "20                                   AI Developer    Avslag  MYH 2024/4209   \n",
       "21                                   AI Developer    Avslag  MYH 2024/4254   \n",
       "22             Backend Developer inriktning Cloud  Beviljad  MYH 2024/3436   \n",
       "23             Backend Developer inriktning Cloud    Avslag  MYH 2024/3517   \n",
       "24  Backend- och Cloudutvecklare med AI-kompetens    Avslag  MYH 2024/4119   \n",
       "25                                Cloud Developer  Beviljad  MYH 2024/4178   \n",
       "26                                Cloud Developer    Avslag  MYH 2024/3854   \n",
       "27                             DevSecOps Engineer    Avslag  MYH 2024/3061   \n",
       "28                             DevSecOps Engineer    Avslag  MYH 2024/3062   \n",
       "29                             DevSecOps Engineer    Avslag  MYH 2024/3063   \n",
       "\n",
       "   Flera kommuner  Antal kommuner              Län          Kommun  ...  \\\n",
       "0             Nej               1     Västerbotten            Umeå  ...   \n",
       "1             Nej               1        Stockholm       Stockholm  ...   \n",
       "2              Ja               2   Flera kommuner  Flera kommuner  ...   \n",
       "3             Nej               1         Blekinge       Karlshamn  ...   \n",
       "4             Nej               1            Skåne           Malmö  ...   \n",
       "5             Nej               1         Värmland        Karlstad  ...   \n",
       "6             Nej               1        Stockholm       Stockholm  ...   \n",
       "7             Nej               1  Västra Götaland        Göteborg  ...   \n",
       "8             Nej               1            Skåne           Malmö  ...   \n",
       "9             Nej               1  Västra Götaland        Göteborg  ...   \n",
       "10            Nej               1        Stockholm       Stockholm  ...   \n",
       "11            Nej               1  Västra Götaland        Göteborg  ...   \n",
       "12            Nej               1        Stockholm       Stockholm  ...   \n",
       "13            Nej               1        Stockholm       Stockholm  ...   \n",
       "14            Nej               1        Stockholm       Stockholm  ...   \n",
       "15            Nej               1        Stockholm       Stockholm  ...   \n",
       "16            Nej               1   Västernorrland       Sundsvall  ...   \n",
       "17            Nej               1  Västra Götaland        Göteborg  ...   \n",
       "18            Nej               1            Skåne           Malmö  ...   \n",
       "19            Nej               1           Örebro          Örebro  ...   \n",
       "20             Ja               4   Flera kommuner  Flera kommuner  ...   \n",
       "21            Nej               1        Stockholm       Stockholm  ...   \n",
       "22            Nej               1  Västra Götaland        Göteborg  ...   \n",
       "23            Nej               1            Skåne           Malmö  ...   \n",
       "24            Nej               1        Stockholm       Stockholm  ...   \n",
       "25            Nej               1  Västra Götaland         Mölndal  ...   \n",
       "26            Nej               1        Stockholm           Solna  ...   \n",
       "27            Nej               1  Västra Götaland        Göteborg  ...   \n",
       "28            Nej               1            Skåne           Malmö  ...   \n",
       "29            Nej               1        Stockholm       Stockholm  ...   \n",
       "\n",
       "    Beviljade utbildningsomgångar Sökta platser per utbildningsomgång  \\\n",
       "0                               0                                30.0   \n",
       "1                               0                                20.0   \n",
       "2                               0                                30.0   \n",
       "3                               0                                25.0   \n",
       "4                               3                                35.0   \n",
       "5                               0                                35.0   \n",
       "6                               0                                35.0   \n",
       "7                               0                                35.0   \n",
       "8                               0                                35.0   \n",
       "9                               0                                30.0   \n",
       "10                              0                                35.0   \n",
       "11                              0                                35.0   \n",
       "12                              0                                35.0   \n",
       "13                              0                                35.0   \n",
       "14                              3                                32.0   \n",
       "15                              3                                32.0   \n",
       "16                              0                                32.0   \n",
       "17                              0                                35.0   \n",
       "18                              0                                32.0   \n",
       "19                              0                                34.0   \n",
       "20                              0                                35.0   \n",
       "21                              0                                35.0   \n",
       "22                              3                                35.0   \n",
       "23                              0                                35.0   \n",
       "24                              0                                35.0   \n",
       "25                              3                                20.0   \n",
       "26                              0                                35.0   \n",
       "27                              0                                32.0   \n",
       "28                              0                                32.0   \n",
       "29                              0                                35.0   \n",
       "\n",
       "    Sökta platser totalt Beviljade platser utbildningsomgång 1  \\\n",
       "0                   90.0                                   0.0   \n",
       "1                   60.0                                   0.0   \n",
       "2                   90.0                                   0.0   \n",
       "3                   75.0                                   0.0   \n",
       "4                  140.0                                  35.0   \n",
       "5                  105.0                                   0.0   \n",
       "6                  175.0                                   0.0   \n",
       "7                  175.0                                   0.0   \n",
       "8                  175.0                                   0.0   \n",
       "9                  150.0                                   0.0   \n",
       "10                 105.0                                   0.0   \n",
       "11                 105.0                                   0.0   \n",
       "12                 105.0                                   0.0   \n",
       "13                 105.0                                   0.0   \n",
       "14                  96.0                                  32.0   \n",
       "15                  96.0                                  32.0   \n",
       "16                  96.0                                   0.0   \n",
       "17                 105.0                                   0.0   \n",
       "18                  96.0                                   0.0   \n",
       "19                 102.0                                   0.0   \n",
       "20                 105.0                                   0.0   \n",
       "21                 105.0                                   0.0   \n",
       "22                 105.0                                  35.0   \n",
       "23                 105.0                                   0.0   \n",
       "24                 105.0                                   0.0   \n",
       "25                  60.0                                  20.0   \n",
       "26                 105.0                                   0.0   \n",
       "27                  96.0                                   0.0   \n",
       "28                  96.0                                   0.0   \n",
       "29                 105.0                                   0.0   \n",
       "\n",
       "    Beviljade platser utbildningsomgång 2  \\\n",
       "0                                     0.0   \n",
       "1                                     0.0   \n",
       "2                                     0.0   \n",
       "3                                     0.0   \n",
       "4                                    35.0   \n",
       "5                                     0.0   \n",
       "6                                     0.0   \n",
       "7                                     0.0   \n",
       "8                                     0.0   \n",
       "9                                     0.0   \n",
       "10                                    0.0   \n",
       "11                                    0.0   \n",
       "12                                    0.0   \n",
       "13                                    0.0   \n",
       "14                                   32.0   \n",
       "15                                   32.0   \n",
       "16                                    0.0   \n",
       "17                                    0.0   \n",
       "18                                    0.0   \n",
       "19                                    0.0   \n",
       "20                                    0.0   \n",
       "21                                    0.0   \n",
       "22                                   35.0   \n",
       "23                                    0.0   \n",
       "24                                    0.0   \n",
       "25                                   20.0   \n",
       "26                                    0.0   \n",
       "27                                    0.0   \n",
       "28                                    0.0   \n",
       "29                                    0.0   \n",
       "\n",
       "   Beviljade platser utbildningsomgång 3  \\\n",
       "0                                    0.0   \n",
       "1                                    0.0   \n",
       "2                                    0.0   \n",
       "3                                    0.0   \n",
       "4                                   35.0   \n",
       "5                                    0.0   \n",
       "6                                    0.0   \n",
       "7                                    0.0   \n",
       "8                                    0.0   \n",
       "9                                    0.0   \n",
       "10                                   0.0   \n",
       "11                                   0.0   \n",
       "12                                   0.0   \n",
       "13                                   0.0   \n",
       "14                                  32.0   \n",
       "15                                  32.0   \n",
       "16                                   0.0   \n",
       "17                                   0.0   \n",
       "18                                   0.0   \n",
       "19                                   0.0   \n",
       "20                                   0.0   \n",
       "21                                   0.0   \n",
       "22                                  35.0   \n",
       "23                                   0.0   \n",
       "24                                   0.0   \n",
       "25                                  20.0   \n",
       "26                                   0.0   \n",
       "27                                   0.0   \n",
       "28                                   0.0   \n",
       "29                                   0.0   \n",
       "\n",
       "   Beviljade platser utbildningsomgång 4  \\\n",
       "0                                    0.0   \n",
       "1                                    0.0   \n",
       "2                                    0.0   \n",
       "3                                    0.0   \n",
       "4                                    0.0   \n",
       "5                                    0.0   \n",
       "6                                    0.0   \n",
       "7                                    0.0   \n",
       "8                                    0.0   \n",
       "9                                    0.0   \n",
       "10                                   0.0   \n",
       "11                                   0.0   \n",
       "12                                   0.0   \n",
       "13                                   0.0   \n",
       "14                                   0.0   \n",
       "15                                   0.0   \n",
       "16                                   0.0   \n",
       "17                                   0.0   \n",
       "18                                   0.0   \n",
       "19                                   0.0   \n",
       "20                                   0.0   \n",
       "21                                   0.0   \n",
       "22                                   0.0   \n",
       "23                                   0.0   \n",
       "24                                   0.0   \n",
       "25                                   0.0   \n",
       "26                                   0.0   \n",
       "27                                   0.0   \n",
       "28                                   0.0   \n",
       "29                                   0.0   \n",
       "\n",
       "   Beviljade platser utbildningsomgång 5  Beviljade platser totalt    År  \n",
       "0                                    0.0                       0.0  2024  \n",
       "1                                    0.0                       0.0  2024  \n",
       "2                                    0.0                       0.0  2024  \n",
       "3                                    0.0                       0.0  2024  \n",
       "4                                    0.0                     105.0  2024  \n",
       "5                                    0.0                       0.0  2024  \n",
       "6                                    0.0                       0.0  2024  \n",
       "7                                    0.0                       0.0  2024  \n",
       "8                                    0.0                       0.0  2024  \n",
       "9                                    0.0                       0.0  2024  \n",
       "10                                   0.0                       0.0  2024  \n",
       "11                                   0.0                       0.0  2024  \n",
       "12                                   0.0                       0.0  2024  \n",
       "13                                   0.0                       0.0  2024  \n",
       "14                                   0.0                      96.0  2024  \n",
       "15                                   0.0                      96.0  2024  \n",
       "16                                   0.0                       0.0  2024  \n",
       "17                                   0.0                       0.0  2024  \n",
       "18                                   0.0                       0.0  2024  \n",
       "19                                   0.0                       0.0  2024  \n",
       "20                                   0.0                       0.0  2024  \n",
       "21                                   0.0                       0.0  2024  \n",
       "22                                   0.0                     105.0  2024  \n",
       "23                                   0.0                       0.0  2024  \n",
       "24                                   0.0                       0.0  2024  \n",
       "25                                   0.0                      60.0  2024  \n",
       "26                                   0.0                       0.0  2024  \n",
       "27                                   0.0                       0.0  2024  \n",
       "28                                   0.0                       0.0  2024  \n",
       "29                                   0.0                       0.0  2024  \n",
       "\n",
       "[30 rows x 29 columns]"
      ]
     },
     "execution_count": 1,
     "metadata": {},
     "output_type": "execute_result"
    }
   ],
   "source": [
    "import pandas as pd\n",
    "\n",
    "df = pd.read_excel(\"data/2022-2024.xlsx\")\n",
    "df.head(30)\n"
   ]
  },
  {
   "cell_type": "code",
   "execution_count": null,
   "id": "cb957d99",
   "metadata": {},
   "outputs": [],
   "source": []
  }
 ],
 "metadata": {
  "kernelspec": {
   "display_name": ".venv",
   "language": "python",
   "name": "python3"
  },
  "language_info": {
   "codemirror_mode": {
    "name": "ipython",
    "version": 3
   },
   "file_extension": ".py",
   "mimetype": "text/x-python",
   "name": "python",
   "nbconvert_exporter": "python",
   "pygments_lexer": "ipython3",
   "version": "3.12.1"
  }
 },
 "nbformat": 4,
 "nbformat_minor": 5
}
